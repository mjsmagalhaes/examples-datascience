{
 "cells": [
  {
   "cell_type": "code",
   "execution_count": 1,
   "metadata": {},
   "outputs": [],
   "source": [
    "\n",
    "# %% Setup\n",
    "\n",
    "from ibm_watson import SpeechToTextV1\n",
    "from ibm_watson import LanguageTranslatorV3\n",
    "from ibm_cloud_sdk_core.authenticators import IAMAuthenticator\n",
    "\n",
    "from keys import speech_to_text as sp2txtCredential, language_translator as translatorCredential"
   ]
  },
  {
   "cell_type": "code",
   "execution_count": 2,
   "metadata": {},
   "outputs": [],
   "source": [
    "# %% Speech to Text\n",
    "\n",
    "speech_auth = IAMAuthenticator(sp2txtCredential['apikey'])\n",
    "\n",
    "speech_to_text = SpeechToTextV1(\n",
    "    authenticator=speech_auth\n",
    ")\n",
    "\n",
    "speech_to_text.set_service_url(sp2txtCredential['url'])\n",
    "\n",
    "with open(\"PolynomialRegressionandPipelines.mp3\", \"rb\") as audio:\n",
    "    response = speech_to_text.recognize(audio=audio, content_type='audio/mp3')\n"
   ]
  },
  {
   "cell_type": "code",
   "execution_count": 3,
   "metadata": {},
   "outputs": [
    {
     "name": "stdout",
     "output_type": "stream",
     "text": [
      "0: in this video we will cover polynomial regression and pipelines \n",
      "----\n",
      "1: what do we do when a linear model is not the best fit for our data let's look into another type of regression model the polynomial regression we transform our data into a polynomial then use linear regression to fit the parameters that we will discuss pipelines pipelines are way to simplify your code \n",
      "----\n",
      "2: polynomial regression is a special case of the general linear regression this method is beneficial for describing curvilinear relationships what is a curvilinear relationship it's what you get by squaring or setting higher order terms of the predictor variables in the model transforming the data the model can be quadratic which means the predictor variable in the model is squared we use a bracket to indicated as an exponent this is the second order polynomial regression with a figure representing the function \n",
      "----\n",
      "3: the model can be cubic which means the predictor variable is cute this is the third order polynomial regression we see by examining the figure that the function has more variation \n",
      "----\n",
      "4: there also exists higher order polynomial regressions when a good fit hasn't been achieved by second or third order we can see in figures how much the graphs change when we change the order of the polynomial regression the degree of the regression makes a big difference and can result in a better fit if you pick the right value in all cases the relationship between the variable in the parameter is always linear \n",
      "----\n",
      "5: let's look at an example from our data we generate a polynomial regression model \n",
      "----\n",
      "6: in python we do this by using the poly fit function in this example we develop a third order polynomial regression model base we can print out the model symbolic form for the model is given by the following expression \n",
      "----\n",
      "7: negative one point five five seven X. one cute plus two hundred four point eight X. one squared plus eight thousand nine hundred sixty five X. one plus one point three seven times ten to the power of five we can also have multi dimensional polynomial linear regression the expression can get complicated here are just some of the terms for two dimensional second order polynomial none pies poly fit function cannot perform this type of regression we use the preprocessing librarian scikit learn to create a polynomial feature object the constructor takes the degree of the polynomial as a parameter then we transform the features into a polynomial feature with the fit underscore transform method let's do a more intuitive example \n",
      "----\n",
      "8: consider the feature shown here applying the method we transform the data we now have a new set of features that are transformed version of our original features as that I mention of the data gets larger we may want to normalize multiple features as scikit learn instead we can use the preprocessing module to simplify many tasks for example we can standardize each feature simultaneously we import standard scaler we train the object fit the scale object then transform the data into a new data frame on a rate X. underscore scale there are more normalization methods available in the pre processing library as well as other transformations we can simplify our code by using a pipeline library there are many steps to getting a prediction for example normalization polynomial transform and linear regression we simplify the process using a pipeline \n",
      "----\n",
      "9: pipeline sequentially perform a series of transformations the last step carries out a prediction first we import all the modules we need then we import the library pipeline we create a list of topples the first element in the topple contains the name of the estimator model the second element contains model constructor we input the list in the pipeline constructor we now have a pipeline object we can train the pipeline by applying the train method to the pipeline object we can also produce a prediction as well \n",
      "----\n",
      "10: the method normalizes the data performs a polynomial transform then outputs a prediction \n",
      "----\n"
     ]
    }
   ],
   "source": [
    "# %% Save English Text\n",
    "\n",
    "lines = response.result['results']\n",
    "text = []\n",
    "for i, line in enumerate(lines):\n",
    "    text_line = line['alternatives'][0]['transcript']\n",
    "    text.append(text_line)\n",
    "\n",
    "    print('{:d}: {:s}'.format(i, text_line))\n",
    "    print('----')\n",
    "\n",
    "with open(\"audio_en.txt\", \"w\") as txt:\n",
    "    txt.writelines(map(lambda t: t + '\\n', text))\n"
   ]
  },
  {
   "cell_type": "code",
   "execution_count": 4,
   "metadata": {},
   "outputs": [],
   "source": [
    "# List Available Languages\n",
    "# from pandas import json_normalize\n",
    "# lang = json_normalize(language_translator.list_identifiable_languages().get_result(), \"languages\")\n"
   ]
  },
  {
   "cell_type": "code",
   "execution_count": 5,
   "metadata": {},
   "outputs": [],
   "source": [
    "# Translate Text: English > Portuguese\n",
    "\n",
    "translator_auth = IAMAuthenticator(translatorCredential['apikey'])\n",
    "\n",
    "version_lt = '2018-05-01'\n",
    "\n",
    "language_translator = LanguageTranslatorV3(\n",
    "    version=version_lt,\n",
    "    authenticator=translator_auth\n",
    ")\n",
    "\n",
    "language_translator.set_service_url(translatorCredential['url'])\n",
    "\n",
    "translation_response = language_translator.translate(\n",
    "    text=text, model_id='en-pt').get_result()\n"
   ]
  },
  {
   "cell_type": "code",
   "execution_count": 6,
   "metadata": {},
   "outputs": [
    {
     "name": "stdout",
     "output_type": "stream",
     "text": [
      "0: neste vídeo vamos cobrir regressão polinomial e dutos \n",
      "----\n",
      "1: o que fazemos quando um modelo linear não é o melhor apto para nossos dados vamos analisar outro tipo de modelo de regressão a regressão polinomial transformamos nossos dados em um polinômio então use regressão linear para ajustar os parâmetros que discutiremos dutos oleodutos são maneira de simplificar seu código \n",
      "----\n",
      "2: regressão polinomial é um caso especial da regressão linear geral este método é benéfico para descrever relações curvilinear o que é um relacionamento curvilinear é o que você consegue ao squaring ou configurar termos de ordem superior das variáveis do preditor no modelo transformando os dados o modelo pode ser quadrático o que significa que a variável de preditor no modelo é quadrado usamos um suporte para indicado como expoente esta é a regressão polinomial de segunda ordem com uma figura representando a função \n",
      "----\n",
      "3: o modelo pode ser cúbico o que significa que a variável preditadora é fofa esta é a terceira regressão polinomial de ordem que vemos examinando a figura que a função tem mais variação \n",
      "----\n",
      "4: também existe regressões polinomiais de ordem mais alta quando um bom encaixe não foi alcançado por segunda ou terceira ordem podemos ver em números o quanto os gráficos mudam quando alteramos a ordem da regressão polinomial o grau da regressão faz uma grande diferença e pode resultar em um melhor ajuste se você escolher o valor certo em todos os casos a relação entre a variável no parâmetro é sempre linear \n",
      "----\n",
      "5: vejamos um exemplo a partir de nossos dados geramos um modelo de regressão polinomial \n",
      "----\n",
      "6: em python fazemos isso usando a função poly fit neste exemplo desenvolvemos uma base de modelo de regressão polinomial de terceira ordem podemos imprimir o formulário simbólico do modelo para o modelo é dado pela expressão a seguir \n",
      "----\n",
      "7: negativo um ponto cinco cinco sete X. um fofo mais duzentos quatro ponto oito X. um quadrado mais oito mil novecentos sessenta cinco X. um mais um ponto três vezes dez a potência de cinco podemos também ter a regressão linear multi-dimensional a expressão pode ficar complicada aqui são apenas alguns dos termos para duas dimensões dimensional polinomial Nenhuma função pies poly fit função não pode executar este tipo de regressão usamos o pré-processamento bibliotecário scikit aprender a criar um objeto de recurso polinomial o construtor leva o grau do polinomial como parâmetro então nós transformar os recursos em um recurso polinomial com o método de transformação de underscore fit let's do um exemplo mais intuitivo \n",
      "----\n",
      "8: considerar o recurso mostrado aqui aplicando o método nós transformamos os dados temos agora um novo conjunto de recursos que são transformados versão de nossos recursos originais como que eu menciono dos dados fica maior podemos querer normalizar diversos recursos como scikit aprender em vez disso podemos padronizar muitas tarefas por exemplo podemos padronizar cada recurso simultaneamente nós importamos escaler padrão nós treinamos o objeto fit o objeto de escala então transforme os dados em um novo quadro de dados em uma taxa X. Escala de pontuação há mais métodos de normalização disponíveis na biblioteca de pré-processamento também como outras transformações podemos simplificar nosso código usando uma biblioteca de pipeline há muitas etapas para obter uma previsão por exemplo normalização polinomial transformação e regressão linear nós simplificamos o processo usando um pipeline \n",
      "----\n",
      "9: pipeline sequencialmente realizar uma série de transformações a última etapa realiza uma previsão primeiro importamos todos os módulos que precisamos então importamos o pipeline da biblioteca criamos uma lista de topples o primeiro elemento no topo contém o nome do estimador modelo o segundo elemento contém construtora modelo nós entramos a lista na construtora pipeline nós agora temos um objeto pipeline podemos treinar o pipeline aplicando o método do trem para o objeto pipeline podemos também produzir uma predição também \n",
      "----\n",
      "10: o método normaliza os dados realiza uma transformação polinomial então supera uma predição \n",
      "----\n"
     ]
    }
   ],
   "source": [
    "# Save Translation\n",
    "\n",
    "translated_lines = translation_response['translations']\n",
    "translated_text = []\n",
    "for i, line in enumerate(translated_lines):\n",
    "    text_line = line['translation']\n",
    "    translated_text.append(text_line)\n",
    "\n",
    "    print('{:d}: {:s}'.format(i, text_line))\n",
    "    print('----')\n",
    "\n",
    "with open(\"audio_pt.txt\", \"w\") as txt:\n",
    "    txt.writelines(map(lambda t: t + '\\n', translated_text))\n"
   ]
  }
 ],
 "metadata": {
  "interpreter": {
   "hash": "ac59ebe37160ed0dfa835113d9b8498d9f09ceb179beaac4002f036b9467c963"
  },
  "kernelspec": {
   "display_name": "Python 3.9.9 64-bit",
   "language": "python",
   "name": "python3"
  },
  "language_info": {
   "codemirror_mode": {
    "name": "ipython",
    "version": 3
   },
   "file_extension": ".py",
   "mimetype": "text/x-python",
   "name": "python",
   "nbconvert_exporter": "python",
   "pygments_lexer": "ipython3",
   "version": "3.9.9"
  },
  "orig_nbformat": 4
 },
 "nbformat": 4,
 "nbformat_minor": 2
}
