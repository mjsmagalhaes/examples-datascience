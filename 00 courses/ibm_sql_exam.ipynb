{
 "cells": [
  {
   "cell_type": "code",
   "execution_count": null,
   "metadata": {},
   "outputs": [],
   "source": [
    "import pandas as pd\n",
    "\n",
    "from keys import db2"
   ]
  },
  {
   "cell_type": "code",
   "execution_count": null,
   "metadata": {},
   "outputs": [],
   "source": [
    "%load_ext sql\n",
    "%config SqlMagic.displaycon = False\n",
    "\n",
    "conn_string = 'ibm_db_sa://{username}:{password}@{hostname}:{port}/{database}?security=SSL'.format(\n",
    "    **db2\n",
    ")\n",
    "\n",
    "%sql {conn_string}"
   ]
  },
  {
   "cell_type": "markdown",
   "metadata": {},
   "source": [
    "# Base Course"
   ]
  },
  {
   "cell_type": "markdown",
   "metadata": {},
   "source": [
    "## Problem 1: Find the total number of crimes recorded in the CRIME table."
   ]
  },
  {
   "cell_type": "code",
   "execution_count": null,
   "metadata": {},
   "outputs": [],
   "source": [
    "%%sql \n",
    "\n",
    "select count(*) as Crimes from chicago_crime_data"
   ]
  },
  {
   "cell_type": "markdown",
   "metadata": {},
   "source": [
    "## Problem 2: List community areas with per capita income less than 11000."
   ]
  },
  {
   "cell_type": "code",
   "execution_count": null,
   "metadata": {},
   "outputs": [],
   "source": [
    "%%sql \n",
    "\n",
    "select community_area_name, per_capita_income \n",
    "from census_data \n",
    "where per_capita_income < 11000\n"
   ]
  },
  {
   "cell_type": "markdown",
   "metadata": {},
   "source": [
    "## Problem 3: List all case numbers for crimes involving minors?"
   ]
  },
  {
   "cell_type": "code",
   "execution_count": null,
   "metadata": {},
   "outputs": [],
   "source": [
    "%%sql\n",
    "\n",
    "select case_number, primary_type, description from chicago_crime_data where description like '%MINOR%'"
   ]
  },
  {
   "cell_type": "markdown",
   "metadata": {},
   "source": [
    "## Problem 4: List all kidnapping crimes involving a child?(children are not considered minors for the purposes of crime analysis)"
   ]
  },
  {
   "cell_type": "code",
   "execution_count": null,
   "metadata": {},
   "outputs": [],
   "source": [
    "%%sql \n",
    "\n",
    "select case_number, date, primary_type, description\n",
    "from chicago_crime_data \n",
    "where primary_type = 'KIDNAPPING' and description like '%CHILD%'\n"
   ]
  },
  {
   "cell_type": "markdown",
   "metadata": {},
   "source": [
    "## Problem 5: What kind of crimes were recorded at schools?"
   ]
  },
  {
   "cell_type": "code",
   "execution_count": null,
   "metadata": {},
   "outputs": [],
   "source": [
    "%%sql\n",
    "\n",
    "select distinct primary_type, description from chicago_crime_data where location_description like '%SCHOOL%'"
   ]
  },
  {
   "cell_type": "markdown",
   "metadata": {},
   "source": [
    "## Problem 6: List the average safety score for all types of schools."
   ]
  },
  {
   "cell_type": "code",
   "execution_count": null,
   "metadata": {},
   "outputs": [],
   "source": [
    "%%sql\n",
    "select \"Elementary, Middle, or High School\", avg(safety_score) as \"Avg Safety Score\" \n",
    "from chicago_public_school \n",
    "group by \"Elementary, Middle, or High School\""
   ]
  },
  {
   "cell_type": "markdown",
   "metadata": {},
   "source": [
    "## Problem 7: List 5 community areas with highest % of households below poverty line."
   ]
  },
  {
   "cell_type": "code",
   "execution_count": null,
   "metadata": {},
   "outputs": [],
   "source": [
    "%%sql \n",
    "\n",
    "select community_area_name, percent_households_below_poverty \n",
    "from census_data \n",
    "order by percent_households_below_poverty\tdesc \n",
    "limit 5"
   ]
  },
  {
   "cell_type": "markdown",
   "metadata": {},
   "source": [
    "## Problem 8: Which community area(number) is most crime prone?"
   ]
  },
  {
   "cell_type": "code",
   "execution_count": null,
   "metadata": {},
   "outputs": [],
   "source": [
    "%%sql\n",
    "\n",
    "select community_area_number, count(*) as crime_count \n",
    "from chicago_crime_data \n",
    "group by community_area_number \n",
    "order by crime_count desc \n",
    "limit 1\n"
   ]
  },
  {
   "cell_type": "markdown",
   "metadata": {},
   "source": [
    "## Problem 9: Use a sub-query to find the name of the community area with highest hardship index."
   ]
  },
  {
   "cell_type": "code",
   "execution_count": null,
   "metadata": {},
   "outputs": [],
   "source": [
    "%%sql\n",
    "\n",
    "select community_area_number, community_area_name, hardship_index \n",
    "from census_data \n",
    "where hardship_index = (select max(hardship_index) from census_data)\n"
   ]
  },
  {
   "cell_type": "markdown",
   "metadata": {},
   "source": [
    "## Problem 10: Use a sub-query to determine the Community Area Name with most number of crimes?"
   ]
  },
  {
   "cell_type": "code",
   "execution_count": null,
   "metadata": {},
   "outputs": [],
   "source": [
    "%%sql\n",
    "\n",
    "select cd.community_area_number, community_area_name, crime_count\n",
    "from census_data cd, (\n",
    "  select community_area_number, count(*) as crime_count \n",
    "  from chicago_crime_data \n",
    "  group by community_area_number \n",
    "  order by crime_count desc \n",
    "  limit 1\n",
    ") top_crime\n",
    "where cd.community_area_number = top_crime.community_area_number\n"
   ]
  },
  {
   "cell_type": "markdown",
   "metadata": {},
   "source": [
    "# Honours"
   ]
  },
  {
   "cell_type": "markdown",
   "metadata": {},
   "source": [
    "## Exercise 1: Using Joins"
   ]
  },
  {
   "cell_type": "markdown",
   "metadata": {},
   "source": [
    "### Question 1\n",
    "Write and execute a SQL query to list the school names, community names and average attendance for communities with a hardship index of 98."
   ]
  },
  {
   "cell_type": "code",
   "execution_count": 38,
   "metadata": {},
   "outputs": [
    {
     "name": "stdout",
     "output_type": "stream",
     "text": [
      "Done.\n"
     ]
    },
    {
     "data": {
      "text/html": [
       "<table>\n",
       "    <tr>\n",
       "        <th>name_of_school</th>\n",
       "        <th>community_area_name</th>\n",
       "        <th>average_student_attendance</th>\n",
       "        <th>hardship_index</th>\n",
       "    </tr>\n",
       "    <tr>\n",
       "        <td>George Washington Carver Military Academy High School</td>\n",
       "        <td>RIVERDALE</td>\n",
       "        <td>91.60%</td>\n",
       "        <td>98</td>\n",
       "    </tr>\n",
       "    <tr>\n",
       "        <td>George Washington Carver Primary School</td>\n",
       "        <td>RIVERDALE</td>\n",
       "        <td>90.90%</td>\n",
       "        <td>98</td>\n",
       "    </tr>\n",
       "    <tr>\n",
       "        <td>Ira F Aldridge Elementary School</td>\n",
       "        <td>RIVERDALE</td>\n",
       "        <td>92.90%</td>\n",
       "        <td>98</td>\n",
       "    </tr>\n",
       "    <tr>\n",
       "        <td>William E B Dubois Elementary School</td>\n",
       "        <td>RIVERDALE</td>\n",
       "        <td>93.30%</td>\n",
       "        <td>98</td>\n",
       "    </tr>\n",
       "</table>"
      ],
      "text/plain": [
       "[('George Washington Carver Military Academy High School', 'RIVERDALE', '91.60%', 98),\n",
       " ('George Washington Carver Primary School', 'RIVERDALE', '90.90%', 98),\n",
       " ('Ira F Aldridge Elementary School', 'RIVERDALE', '92.90%', 98),\n",
       " ('William E B Dubois Elementary School', 'RIVERDALE', '93.30%', 98)]"
      ]
     },
     "execution_count": 38,
     "metadata": {},
     "output_type": "execute_result"
    }
   ],
   "source": [
    "%%sql\n",
    "\n",
    "select name_of_school, ps.community_area_name, average_student_attendance, hardship_index\n",
    "from chicago_public_school ps\n",
    "left join census_data census on ps.community_area_number = census.community_area_number\n",
    "where hardship_index = 98;"
   ]
  },
  {
   "cell_type": "markdown",
   "metadata": {},
   "source": [
    "### Question 2"
   ]
  },
  {
   "cell_type": "code",
   "execution_count": 39,
   "metadata": {},
   "outputs": [
    {
     "name": "stdout",
     "output_type": "stream",
     "text": [
      "Done.\n"
     ]
    },
    {
     "data": {
      "text/html": [
       "<table>\n",
       "    <tr>\n",
       "        <th>case_number</th>\n",
       "        <th>primary_type</th>\n",
       "        <th>community_area_name</th>\n",
       "    </tr>\n",
       "    <tr>\n",
       "        <td>HK577020</td>\n",
       "        <td>NARCOTICS</td>\n",
       "        <td>Rogers Park</td>\n",
       "    </tr>\n",
       "    <tr>\n",
       "        <td>HL725506</td>\n",
       "        <td>BATTERY</td>\n",
       "        <td>Lincoln Square</td>\n",
       "    </tr>\n",
       "    <tr>\n",
       "        <td>HH639427</td>\n",
       "        <td>BATTERY</td>\n",
       "        <td>Austin</td>\n",
       "    </tr>\n",
       "    <tr>\n",
       "        <td>HS200939</td>\n",
       "        <td>CRIMINAL DAMAGE</td>\n",
       "        <td>Austin</td>\n",
       "    </tr>\n",
       "    <tr>\n",
       "        <td>HT315369</td>\n",
       "        <td>ASSAULT</td>\n",
       "        <td>East Garfield Park</td>\n",
       "    </tr>\n",
       "    <tr>\n",
       "        <td>HP716225</td>\n",
       "        <td>BATTERY</td>\n",
       "        <td>Douglas</td>\n",
       "    </tr>\n",
       "    <tr>\n",
       "        <td>HL353697</td>\n",
       "        <td>BATTERY</td>\n",
       "        <td>South Shore</td>\n",
       "    </tr>\n",
       "    <tr>\n",
       "        <td>HS305355</td>\n",
       "        <td>NARCOTICS</td>\n",
       "        <td>Brighton Park</td>\n",
       "    </tr>\n",
       "    <tr>\n",
       "        <td>JA460432</td>\n",
       "        <td>BATTERY</td>\n",
       "        <td>Ashburn</td>\n",
       "    </tr>\n",
       "    <tr>\n",
       "        <td>HR585012</td>\n",
       "        <td>CRIMINAL TRESPA</td>\n",
       "        <td>Ashburn</td>\n",
       "    </tr>\n",
       "    <tr>\n",
       "        <td>HH292682</td>\n",
       "        <td>PUBLIC PEACE VI</td>\n",
       "        <td>None</td>\n",
       "    </tr>\n",
       "    <tr>\n",
       "        <td>G635735</td>\n",
       "        <td>PUBLIC PEACE VI</td>\n",
       "        <td>None</td>\n",
       "    </tr>\n",
       "</table>"
      ],
      "text/plain": [
       "[('HK577020', 'NARCOTICS', 'Rogers Park'),\n",
       " ('HL725506', 'BATTERY', 'Lincoln Square'),\n",
       " ('HH639427', 'BATTERY', 'Austin'),\n",
       " ('HS200939', 'CRIMINAL DAMAGE', 'Austin'),\n",
       " ('HT315369', 'ASSAULT', 'East Garfield Park'),\n",
       " ('HP716225', 'BATTERY', 'Douglas'),\n",
       " ('HL353697', 'BATTERY', 'South Shore'),\n",
       " ('HS305355', 'NARCOTICS', 'Brighton Park'),\n",
       " ('JA460432', 'BATTERY', 'Ashburn'),\n",
       " ('HR585012', 'CRIMINAL TRESPA', 'Ashburn'),\n",
       " ('HH292682', 'PUBLIC PEACE VI', None),\n",
       " ('G635735', 'PUBLIC PEACE VI', None)]"
      ]
     },
     "execution_count": 39,
     "metadata": {},
     "output_type": "execute_result"
    }
   ],
   "source": [
    "%%sql\n",
    "\n",
    "select case_number, primary_type, community_area_name\n",
    "from chicago_crime_data crm\n",
    "left join census_data cns on crm.community_area_number = cns.community_area_number\n",
    "where location_description like '%SCHOOL%'"
   ]
  },
  {
   "cell_type": "markdown",
   "metadata": {},
   "source": [
    "## Exercise 2: Creating a View"
   ]
  },
  {
   "cell_type": "markdown",
   "metadata": {},
   "source": [
    "### Question 1\n",
    "Write and execute a SQL statement to create a view showing the columns listed in the following table, with new column names as shown in the second column.\n",
    "\n",
    "Write and execute a SQL statement that returns just the school name and leaders rating from the view."
   ]
  },
  {
   "cell_type": "code",
   "execution_count": 32,
   "metadata": {},
   "outputs": [
    {
     "name": "stdout",
     "output_type": "stream",
     "text": [
      "Done.\n",
      "Done.\n"
     ]
    },
    {
     "data": {
      "text/html": [
       "<table>\n",
       "    <tr>\n",
       "        <th>school_id</th>\n",
       "        <th>school_name</th>\n",
       "        <th>leaders_rating</th>\n",
       "    </tr>\n",
       "    <tr>\n",
       "        <td>610038</td>\n",
       "        <td>Abraham Lincoln Elementary School</td>\n",
       "        <td>Weak</td>\n",
       "    </tr>\n",
       "    <tr>\n",
       "        <td>610281</td>\n",
       "        <td>Adam Clayton Powell Paideia Community Academy Elementary School</td>\n",
       "        <td>Weak</td>\n",
       "    </tr>\n",
       "    <tr>\n",
       "        <td>610185</td>\n",
       "        <td>Adlai E Stevenson Elementary School</td>\n",
       "        <td>Weak</td>\n",
       "    </tr>\n",
       "    <tr>\n",
       "        <td>609993</td>\n",
       "        <td>Agustin Lara Elementary Academy</td>\n",
       "        <td>Weak</td>\n",
       "    </tr>\n",
       "    <tr>\n",
       "        <td>610513</td>\n",
       "        <td>Air Force Academy High School</td>\n",
       "        <td>Weak</td>\n",
       "    </tr>\n",
       "</table>"
      ],
      "text/plain": [
       "[(610038, 'Abraham Lincoln Elementary School', 'Weak'),\n",
       " (610281, 'Adam Clayton Powell Paideia Community Academy Elementary School', 'Weak'),\n",
       " (610185, 'Adlai E Stevenson Elementary School', 'Weak'),\n",
       " (609993, 'Agustin Lara Elementary Academy', 'Weak'),\n",
       " (610513, 'Air Force Academy High School', 'Weak')]"
      ]
     },
     "execution_count": 32,
     "metadata": {},
     "output_type": "execute_result"
    }
   ],
   "source": [
    "%%sql\n",
    "\n",
    "create or replace view NewCrimeView(\n",
    "  school_id, School_Name, Safety_Rating, Family_Rating, Environment_Rating, Instruction_Rating, Leaders_Rating,Teachers_Rating\n",
    ") as\n",
    "select school_id, NAME_OF_SCHOOL, Safety_Icon, Family_Involvement_Icon, Environment_Icon, Instruction_Icon, Leaders_Icon, Teachers_Icon\n",
    "from chicago_public_school;\n",
    "\n",
    "select school_id, school_name, leaders_rating from NewCrimeView limit 5\n",
    "-- select distinct leaders_rating from NewCrimeView"
   ]
  },
  {
   "cell_type": "markdown",
   "metadata": {},
   "source": [
    "## Exercise 3: Creating a Stored Procedure"
   ]
  },
  {
   "cell_type": "markdown",
   "metadata": {},
   "source": [
    "### Question 1\n",
    "Write the structure of a query to create or replace a stored procedure called UPDATE_LEADERS_SCORE that takes a in_School_ID parameter as an integer and a in_Leader_Score parameter as an integer. Don't forget to use the #SET TERMINATOR statement to use the @ for the CREATE statement terminator."
   ]
  },
  {
   "cell_type": "code",
   "execution_count": null,
   "metadata": {},
   "outputs": [],
   "source": [
    "%%sql\n",
    "\n",
    "-- #SET TERMINATOR @\n",
    "@\n",
    "create or replace procedure UPDATE_LEADERS_SCORE(in in_school_id int, in in_leader_score int)\n",
    "begin\n",
    "\n",
    "end @"
   ]
  },
  {
   "cell_type": "markdown",
   "metadata": {},
   "source": [
    "### Question 2\n",
    "Inside your stored procedure, write a SQL statement to update the Leaders_Score field in the CHICAGO_PUBLIC_SCHOOLS table for the school identified by in_School_ID to the value in the in_Leader_Score parameter."
   ]
  },
  {
   "cell_type": "code",
   "execution_count": null,
   "metadata": {},
   "outputs": [],
   "source": [
    "%%sql\n",
    "\n",
    "-- #SET TERMINATOR @\n",
    "@\n",
    "create or replace procedure UPDATE_LEADERS_SCORE(in in_school_id int, in in_leader_score int)\n",
    "begin\n",
    "\tupdate chicago_public_school\n",
    "\tset Leaders_Icon = in_leader_score \n",
    "\twhere school_id = in_school_id;\n",
    "end @"
   ]
  },
  {
   "cell_type": "markdown",
   "metadata": {},
   "source": [
    "### Question 3\n",
    "Inside your stored procedure, write a SQL IF statement to update the Leaders_Icon field in the CHICAGO_PUBLIC_SCHOOLS table for the school identified by in_School_ID using the following information."
   ]
  },
  {
   "cell_type": "code",
   "execution_count": null,
   "metadata": {},
   "outputs": [],
   "source": [
    "%%sql\n",
    "\n",
    "-- #SET TERMINATOR @\n",
    "create or replace procedure UPDATE_LEADERS_SCORE(in in_school_id int, in in_leader_score int)\n",
    "begin\n",
    "\tdeclare score varchar(30) default '';\n",
    "\t\n",
    "\tif in_leader_score > 80 then\n",
    "\t\tset score  = 'Very strong';\n",
    "\telseif in_leader_score > 60 then\n",
    "\t\tset score = 'Strong';\n",
    "\telseif in_leader_score > 40 then\n",
    "\t\tset score = 'Average';\n",
    "\telseif in_leader_score > 20 then\n",
    "\t\tset score = 'Weak';\n",
    "\telse\n",
    "\t\tset score = 'Very weak';\n",
    "\tend if;\n",
    "\t\n",
    "\tupdate chicago_public_school\n",
    "\tset Leaders_Icon = score \n",
    "\twhere school_id = in_school_id;\n",
    "end;\n",
    "@ --\n"
   ]
  },
  {
   "cell_type": "markdown",
   "metadata": {},
   "source": [
    "### Question 4\n",
    "Run your code to create the stored procedure."
   ]
  },
  {
   "cell_type": "markdown",
   "metadata": {},
   "source": [
    "Write a query to call the stored procedure, passing a valid school ID and a leader score of 50, to check that the procedure works as expected."
   ]
  },
  {
   "cell_type": "code",
   "execution_count": 33,
   "metadata": {},
   "outputs": [
    {
     "name": "stdout",
     "output_type": "stream",
     "text": [
      "Done.\n",
      "Done.\n",
      "Done.\n"
     ]
    },
    {
     "data": {
      "text/html": [
       "<table>\n",
       "    <tr>\n",
       "        <th>school_id</th>\n",
       "        <th>school_name</th>\n",
       "        <th>leaders_rating</th>\n",
       "    </tr>\n",
       "    <tr>\n",
       "        <td>610038</td>\n",
       "        <td>Abraham Lincoln Elementary School</td>\n",
       "        <td>Average</td>\n",
       "    </tr>\n",
       "</table>"
      ],
      "text/plain": [
       "[(610038, 'Abraham Lincoln Elementary School', 'Average')]"
      ]
     },
     "execution_count": 33,
     "metadata": {},
     "output_type": "execute_result"
    }
   ],
   "source": [
    "%%sql\n",
    "\n",
    "select school_id, school_name, leaders_rating from NewCrimeView where school_id=610038;\n",
    "\n",
    "call UPDATE_LEADERS_SCORE(610038, 50);\n",
    "\n",
    "select school_id, school_name, leaders_rating from NewCrimeView where school_id=610038;\n"
   ]
  },
  {
   "cell_type": "markdown",
   "metadata": {},
   "source": [
    "## Exercise 4: Using Transactions"
   ]
  },
  {
   "cell_type": "markdown",
   "metadata": {},
   "source": [
    "### Question 1\n",
    "Update your stored procedure definition. Add a generic ELSE clause to the IF statement that rolls back the current work if the score did not fit any of the preceding categories."
   ]
  },
  {
   "cell_type": "code",
   "execution_count": null,
   "metadata": {},
   "outputs": [],
   "source": [
    "%%sql\n",
    "\n",
    "-- #SET TERMINATOR @\n",
    "@\n",
    "create or replace procedure UPDATE_LEADERS_SCORE(in in_school_id int, in in_leader_score int)\n",
    "MODIFIES SQL DATA\n",
    "begin\n",
    "\tdeclare score varchar(30) default '----';\n",
    "\t\n",
    "\tif in_leader_score > 80 then\n",
    "\t\tset score  = 'Very strong';\n",
    "\telseif in_leader_score > 60 then\n",
    "\t\tset score = 'Strong';\n",
    "\telseif in_leader_score > 40 then\n",
    "\t\tset score = 'Average';\n",
    "\telseif in_leader_score > 20 then\n",
    "\t\tset score = 'Weak';\n",
    "\telseif in_leader_score > 0 then\n",
    "\t\tset score = 'Very weak';\n",
    "\tend if;\n",
    "\t\n",
    "\tupdate chicago_public_school set Leaders_Icon = score  where school_id = in_school_id;\n",
    "\t\n",
    "\tif not in_leader_score between 0 and 100 then\n",
    "\t\trollback;\n",
    "\tend if;\n",
    "end @"
   ]
  },
  {
   "cell_type": "markdown",
   "metadata": {},
   "source": [
    "### Question 2\n",
    "Update your stored procedure definition again. Add a statement to commit the current unit of work at the end of the procedure."
   ]
  },
  {
   "cell_type": "code",
   "execution_count": 37,
   "metadata": {},
   "outputs": [
    {
     "name": "stdout",
     "output_type": "stream",
     "text": [
      "Done.\n"
     ]
    },
    {
     "data": {
      "text/plain": [
       "[]"
      ]
     },
     "execution_count": 37,
     "metadata": {},
     "output_type": "execute_result"
    }
   ],
   "source": [
    "%%sql\n",
    "\n",
    "-- #SET TERMINATOR @\n",
    "@\n",
    "create or replace procedure UPDATE_LEADERS_SCORE(in in_school_id int, in in_leader_score int)\n",
    "MODIFIES SQL DATA\n",
    "begin\n",
    "\tdeclare score varchar(30) default '----';\n",
    "\t\n",
    "\tif in_leader_score > 80 then\n",
    "\t\tset score  = 'Very strong';\n",
    "\telseif in_leader_score > 60 then\n",
    "\t\tset score = 'Strong';\n",
    "\telseif in_leader_score > 40 then\n",
    "\t\tset score = 'Average';\n",
    "\telseif in_leader_score > 20 then\n",
    "\t\tset score = 'Weak';\n",
    "\telseif in_leader_score > 0 then\n",
    "\t\tset score = 'Very weak';\n",
    "\tend if;\n",
    "\t\n",
    "\tupdate chicago_public_school set Leaders_Icon = score where school_id = in_school_id;\n",
    "\t\n",
    "\tif not in_leader_score between 0 and 100 then\n",
    "\t\trollback;\n",
    "\telse\n",
    "\t\tcommit;\n",
    "\tend if;\n",
    "end @"
   ]
  },
  {
   "cell_type": "markdown",
   "metadata": {},
   "source": [
    "Run your code to replace the stored procedure.\n",
    "\n",
    "Write and run one query to check that the updated stored procedure works as expected when you use a valid score of 38.\n",
    "\n",
    "Write and run another query to check that the updated stored procedure works as expected when you use an invalid score of 101."
   ]
  },
  {
   "cell_type": "code",
   "execution_count": 44,
   "metadata": {},
   "outputs": [
    {
     "name": "stdout",
     "output_type": "stream",
     "text": [
      "Done.\n"
     ]
    },
    {
     "data": {
      "text/html": [
       "<table>\n",
       "    <tr>\n",
       "        <th>school_id</th>\n",
       "        <th>school_name</th>\n",
       "        <th>leaders_rating</th>\n",
       "    </tr>\n",
       "    <tr>\n",
       "        <td>610038</td>\n",
       "        <td>Abraham Lincoln Elementary School</td>\n",
       "        <td>Average</td>\n",
       "    </tr>\n",
       "</table>"
      ],
      "text/plain": [
       "[(610038, 'Abraham Lincoln Elementary School', 'Average')]"
      ]
     },
     "execution_count": 44,
     "metadata": {},
     "output_type": "execute_result"
    }
   ],
   "source": [
    "%%sql\n",
    "select school_id, school_name, leaders_rating from NewCrimeView where school_id=610038;"
   ]
  },
  {
   "cell_type": "code",
   "execution_count": 47,
   "metadata": {},
   "outputs": [
    {
     "name": "stdout",
     "output_type": "stream",
     "text": [
      "Done.\n",
      "Done.\n"
     ]
    },
    {
     "data": {
      "text/html": [
       "<table>\n",
       "    <tr>\n",
       "        <th>school_id</th>\n",
       "        <th>school_name</th>\n",
       "        <th>leaders_rating</th>\n",
       "    </tr>\n",
       "    <tr>\n",
       "        <td>610038</td>\n",
       "        <td>Abraham Lincoln Elementary School</td>\n",
       "        <td>Weak</td>\n",
       "    </tr>\n",
       "</table>"
      ],
      "text/plain": [
       "[(610038, 'Abraham Lincoln Elementary School', 'Weak')]"
      ]
     },
     "execution_count": 47,
     "metadata": {},
     "output_type": "execute_result"
    }
   ],
   "source": [
    "%%sql\n",
    "call UPDATE_LEADERS_SCORE(610038, 38);\n",
    "select school_id, school_name, leaders_rating from NewCrimeView where school_id=610038;"
   ]
  },
  {
   "cell_type": "code",
   "execution_count": 48,
   "metadata": {},
   "outputs": [
    {
     "name": "stdout",
     "output_type": "stream",
     "text": [
      "Done.\n",
      "Done.\n"
     ]
    },
    {
     "data": {
      "text/html": [
       "<table>\n",
       "    <tr>\n",
       "        <th>school_id</th>\n",
       "        <th>school_name</th>\n",
       "        <th>leaders_rating</th>\n",
       "    </tr>\n",
       "    <tr>\n",
       "        <td>610038</td>\n",
       "        <td>Abraham Lincoln Elementary School</td>\n",
       "        <td>Weak</td>\n",
       "    </tr>\n",
       "</table>"
      ],
      "text/plain": [
       "[(610038, 'Abraham Lincoln Elementary School', 'Weak')]"
      ]
     },
     "execution_count": 48,
     "metadata": {},
     "output_type": "execute_result"
    }
   ],
   "source": [
    "%%sql\n",
    "call UPDATE_LEADERS_SCORE(610038, 101);\n",
    "select school_id, school_name, leaders_rating from NewCrimeView where school_id=610038;"
   ]
  }
 ],
 "metadata": {
  "interpreter": {
   "hash": "ac59ebe37160ed0dfa835113d9b8498d9f09ceb179beaac4002f036b9467c963"
  },
  "kernelspec": {
   "display_name": "Python 3.9.9 64-bit",
   "language": "python",
   "name": "python3"
  },
  "language_info": {
   "codemirror_mode": {
    "name": "ipython",
    "version": 3
   },
   "file_extension": ".py",
   "mimetype": "text/x-python",
   "name": "python",
   "nbconvert_exporter": "python",
   "pygments_lexer": "ipython3",
   "version": "3.9.9"
  },
  "orig_nbformat": 4
 },
 "nbformat": 4,
 "nbformat_minor": 2
}
