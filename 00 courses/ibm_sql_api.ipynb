{
 "cells": [
  {
   "cell_type": "code",
   "execution_count": null,
   "metadata": {},
   "outputs": [],
   "source": [
    "import ibm_db\n",
    "from keys import db2\n",
    "\n",
    "dsn = (\n",
    "    \"DRIVER={0};\"\n",
    "    \"DATABASE={database};\"\n",
    "    \"HOSTNAME={hostname};\"\n",
    "    \"PORT={port};\"\n",
    "    \"PROTOCOL={1};\"\n",
    "    \"UID={username};\"\n",
    "    \"PWD={password};\"\n",
    "    \"SECURITY={2};\").format(\"{IBM DB2 ODBC DRIVER}\", \"TCPIP\", 'SSL', **db2)\n",
    "\n",
    "try:\n",
    "  conn = ibm_db.connect(dsn, \"\", \"\")\n",
    "  print(\"Connected to database: {database} as user: {username} on host: {hostname}\".format(**db2))\n",
    "except:\n",
    "  print(\"Unable to connect: \", ibm_db.conn_errormsg())\n",
    "  raise Exception('BOOM.')\n"
   ]
  },
  {
   "cell_type": "code",
   "execution_count": 5,
   "metadata": {},
   "outputs": [
    {
     "name": "stdout",
     "output_type": "stream",
     "text": [
      "There wasnt a table INSTRUCTOR.\n"
     ]
    }
   ],
   "source": [
    "# Create Table\n",
    "name = 'INSTRUCTOR'\n",
    "\n",
    "dropQuery = f\"drop table {name};\"\n",
    "\n",
    "try:\n",
    "  ibm_db.exec_immediate(conn, dropQuery)\n",
    "except:\n",
    "  print(f'There wasnt a table {name}.')\n",
    "finally:\n",
    "  createQuery = (\n",
    "      f\"create table {name}(\"\n",
    "      \"id INTEGER PRIMARY KEY NOT NULL,\"\n",
    "      \"fname VARCHAR(20),\"\n",
    "      \"lname VARCHAR(20),\"\n",
    "      \"city VARCHAR(20),\"\n",
    "      \"ccode CHAR(2)\"\n",
    "      \")\"\n",
    "  )\n",
    "\n",
    "  # Now fill in the name of the method and execute the statement\n",
    "  createStmt = ibm_db.exec_immediate(\n",
    "      conn,\n",
    "      createQuery\n",
    "  )\n",
    "\n",
    "  print(f'Table {name} has been created.')\n"
   ]
  },
  {
   "cell_type": "code",
   "execution_count": 6,
   "metadata": {},
   "outputs": [],
   "source": [
    "insertQuery2 = \"insert into INSTRUCTOR values (2, 'Raul', 'Chong', 'Markham', 'CA'), (3, 'Hima', 'Vasudevan', 'Chicago', 'US')\"\n",
    "insertStmt2 = ibm_db.exec_immediate(conn, insertQuery2)\n"
   ]
  },
  {
   "cell_type": "code",
   "execution_count": 7,
   "metadata": {},
   "outputs": [
    {
     "name": "stdout",
     "output_type": "stream",
     "text": [
      " ID: 3  FNAME: Hima\n"
     ]
    }
   ],
   "source": [
    "selectQuery = \"select * from INSTRUCTOR;\"\n",
    "# Execute the statement\n",
    "selectStmt = ibm_db.exec_immediate(conn, selectQuery)\n",
    "\n",
    "# Fetch the Dictionary (for the first row only)\n",
    "ibm_db.fetch_both(selectStmt)\n",
    "\n",
    "# Fetch the rest of the rows and print the ID and FNAME for those rows\n",
    "while ibm_db.fetch_row(selectStmt) != False:\n",
    "    print(\n",
    "        \" ID:\",  ibm_db.result(selectStmt, 0),\n",
    "        \" FNAME:\",  ibm_db.result(selectStmt, \"FNAME\")\n",
    "    a)\n"
   ]
  },
  {
   "cell_type": "code",
   "execution_count": 12,
   "metadata": {},
   "outputs": [],
   "source": [
    "# updateQuery = \"update INSTRUCTOR set CITY='MOOSETOWN' where FNAME='Rav'\"\n",
    "# updateStmt = ibm_db.exec_immediate(conn, updateQuery)"
   ]
  },
  {
   "cell_type": "markdown",
   "metadata": {},
   "source": [
    "# Pandas"
   ]
  },
  {
   "cell_type": "code",
   "execution_count": 8,
   "metadata": {},
   "outputs": [],
   "source": [
    "import pandas\n",
    "import ibm_db_dbi\n",
    "\n",
    "#connection for pandas\n",
    "pconn = ibm_db_dbi.Connection(conn)"
   ]
  },
  {
   "cell_type": "code",
   "execution_count": 13,
   "metadata": {},
   "outputs": [
    {
     "data": {
      "text/html": [
       "<div>\n",
       "<style scoped>\n",
       "    .dataframe tbody tr th:only-of-type {\n",
       "        vertical-align: middle;\n",
       "    }\n",
       "\n",
       "    .dataframe tbody tr th {\n",
       "        vertical-align: top;\n",
       "    }\n",
       "\n",
       "    .dataframe thead th {\n",
       "        text-align: right;\n",
       "    }\n",
       "</style>\n",
       "<table border=\"1\" class=\"dataframe\">\n",
       "  <thead>\n",
       "    <tr style=\"text-align: right;\">\n",
       "      <th></th>\n",
       "      <th>ID</th>\n",
       "      <th>FNAME</th>\n",
       "      <th>LNAME</th>\n",
       "      <th>CITY</th>\n",
       "      <th>CCODE</th>\n",
       "    </tr>\n",
       "  </thead>\n",
       "  <tbody>\n",
       "    <tr>\n",
       "      <th>0</th>\n",
       "      <td>2</td>\n",
       "      <td>Raul</td>\n",
       "      <td>Chong</td>\n",
       "      <td>Markham</td>\n",
       "      <td>CA</td>\n",
       "    </tr>\n",
       "    <tr>\n",
       "      <th>1</th>\n",
       "      <td>3</td>\n",
       "      <td>Hima</td>\n",
       "      <td>Vasudevan</td>\n",
       "      <td>Chicago</td>\n",
       "      <td>US</td>\n",
       "    </tr>\n",
       "  </tbody>\n",
       "</table>\n",
       "</div>"
      ],
      "text/plain": [
       "   ID FNAME      LNAME     CITY CCODE\n",
       "0   2  Raul      Chong  Markham    CA\n",
       "1   3  Hima  Vasudevan  Chicago    US"
      ]
     },
     "execution_count": 13,
     "metadata": {},
     "output_type": "execute_result"
    }
   ],
   "source": [
    "#query statement to retrieve all rows in INSTRUCTOR table\n",
    "selectQuery = \"select * from INSTRUCTOR\"\n",
    "\n",
    "#retrieve the query results into a pandas dataframe\n",
    "pdf = pandas.read_sql(selectQuery, pconn)\n",
    "\n",
    "#print just the LNAME for first row in the pandas data frame\n",
    "# pdf.LNAME[0]\n",
    "\n",
    "pdf\n"
   ]
  },
  {
   "cell_type": "code",
   "execution_count": 14,
   "metadata": {},
   "outputs": [
    {
     "data": {
      "text/plain": [
       "True"
      ]
     },
     "execution_count": 14,
     "metadata": {},
     "output_type": "execute_result"
    }
   ],
   "source": [
    "ibm_db.close(conn)"
   ]
  }
 ],
 "metadata": {
  "interpreter": {
   "hash": "ac59ebe37160ed0dfa835113d9b8498d9f09ceb179beaac4002f036b9467c963"
  },
  "kernelspec": {
   "display_name": "Python 3.9.9 64-bit",
   "language": "python",
   "name": "python3"
  },
  "language_info": {
   "codemirror_mode": {
    "name": "ipython",
    "version": 3
   },
   "file_extension": ".py",
   "mimetype": "text/x-python",
   "name": "python",
   "nbconvert_exporter": "python",
   "pygments_lexer": "ipython3",
   "version": "3.9.9"
  },
  "orig_nbformat": 4
 },
 "nbformat": 4,
 "nbformat_minor": 2
}
