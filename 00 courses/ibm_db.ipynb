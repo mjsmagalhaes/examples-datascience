{
 "cells": [
  {
   "cell_type": "code",
   "execution_count": 8,
   "metadata": {},
   "outputs": [
    {
     "name": "stdout",
     "output_type": "stream",
     "text": [
      "Connected to database: bludb as user: dsb84911 on host: 54a2f15b-5c0f-46df-8954-7e38e612c2bd.c1ogj3sd0tgtu0lqde00.databases.appdomain.cloud\n"
     ]
    }
   ],
   "source": [
    "import ibm_db\n",
    "from keys import db2\n",
    "\n",
    "dsn = (\n",
    "    \"DRIVER={0};\"\n",
    "    \"DATABASE={database};\"\n",
    "    \"HOSTNAME={hostname};\"\n",
    "    \"PORT={port};\"\n",
    "    \"PROTOCOL={1};\"\n",
    "    \"UID={username};\"\n",
    "    \"PWD={password};\"\n",
    "    \"SECURITY={2};\").format(\"{IBM DB2 ODBC DRIVER}\", \"TCPIP\", 'SSL', **db2)\n",
    "\n",
    "try:\n",
    "  conn = ibm_db.connect(dsn, \"\", \"\")\n",
    "  print(\"Connected to database: {database} as user: {username} on host: {hostname}\".format(**db2))\n",
    "except:\n",
    "  print(\"Unable to connect: \", ibm_db.conn_errormsg())\n",
    "  raise Exception('BOOM.')\n"
   ]
  },
  {
   "cell_type": "code",
   "execution_count": 9,
   "metadata": {},
   "outputs": [
    {
     "data": {
      "text/plain": [
       "True"
      ]
     },
     "execution_count": 9,
     "metadata": {},
     "output_type": "execute_result"
    }
   ],
   "source": [
    "ibm_db.close(conn)"
   ]
  },
  {
   "cell_type": "code",
   "execution_count": null,
   "metadata": {},
   "outputs": [],
   "source": []
  }
 ],
 "metadata": {
  "interpreter": {
   "hash": "ac59ebe37160ed0dfa835113d9b8498d9f09ceb179beaac4002f036b9467c963"
  },
  "kernelspec": {
   "display_name": "Python 3.9.9 64-bit",
   "language": "python",
   "name": "python3"
  },
  "language_info": {
   "codemirror_mode": {
    "name": "ipython",
    "version": 3
   },
   "file_extension": ".py",
   "mimetype": "text/x-python",
   "name": "python",
   "nbconvert_exporter": "python",
   "pygments_lexer": "ipython3",
   "version": "3.9.9"
  },
  "orig_nbformat": 4
 },
 "nbformat": 4,
 "nbformat_minor": 2
}
