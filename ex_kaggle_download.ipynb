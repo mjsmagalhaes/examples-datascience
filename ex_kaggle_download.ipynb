{
 "cells": [
  {
   "cell_type": "code",
   "execution_count": 34,
   "id": "93096123-9c3d-4a41-b2a8-b229083932d2",
   "metadata": {},
   "outputs": [],
   "source": [
    "import os\n",
    "\n",
    "from functools import partial\n",
    "from kaggle import KaggleApi\n",
    "from zipfile import ZipFile\n",
    "from ipywidgets import Button"
   ]
  },
  {
   "cell_type": "markdown",
   "id": "d73a456d-0b1e-4751-9821-97a0fc4aa124",
   "metadata": {
    "jp-MarkdownHeadingCollapsed": true,
    "tags": []
   },
   "source": [
    "# Kaggle: Download Dataset"
   ]
  },
  {
   "cell_type": "code",
   "execution_count": 35,
   "id": "2f361a72-2f33-4f7e-be77-bc37023088d9",
   "metadata": {},
   "outputs": [],
   "source": [
    "def proto_download(kaggleDB, kaggleCSV, kaggleDir, btn):\n",
    "    kaggleZip = kaggleCSV + '.zip'\n",
    "    kaggleCSVPath = os.path.join(kaggleDB, kaggleCSV)\n",
    "    \n",
    "    if not os.path.exists(kaggleCSVPath):\n",
    "        print('Downloading ...')\n",
    "        kaggleApi = KaggleApi()\n",
    "        kaggleApi.authenticate()\n",
    "        kaggleApi.dataset_download_file(kaggleDB, kaggleCSV)\n",
    "        \n",
    "        print('Done. Extracting ...')\n",
    "\n",
    "        zf = ZipFile(kaggleZip)\n",
    "        zf.extractall(kaggleDB) #save files in selected folder\n",
    "        zf.close()\n",
    "        \n",
    "        print('Done.')\n",
    "    else:\n",
    "        print('File Already Exists.')\n",
    "    \n",
    "    btn.disabled = True"
   ]
  },
  {
   "cell_type": "code",
   "execution_count": 33,
   "id": "1664829f-ee9c-4337-8000-a570d15a00af",
   "metadata": {},
   "outputs": [
    {
     "data": {
      "application/vnd.jupyter.widget-view+json": {
       "model_id": "d909b1ce0c7d44e88db2e0cbfb5c5b9d",
       "version_major": 2,
       "version_minor": 0
      },
      "text/plain": [
       "Button(button_style='info', description='Download Set', icon='download', style=ButtonStyle(), tooltip='Click t…"
      ]
     },
     "metadata": {},
     "output_type": "display_data"
    }
   ],
   "source": [
    "btnDownload = Button(\n",
    "    description='Download Set',\n",
    "    disabled=False,\n",
    "    button_style='info', # 'success', 'info', 'warning', 'danger' or ''\n",
    "    tooltip='Click to download the set from Kaggle.',\n",
    "    icon='download' # (FontAwesome names without the `fa-` prefix)\n",
    ")\n",
    "\n",
    "download = partial(\n",
    "    proto_download, \n",
    "    'imdevskp/corona-virus-report', \n",
    "    'covid_19_clean_complete.csv', \n",
    "    '../data'\n",
    ")\n",
    "\n",
    "btnDownload.on_click(download)\n",
    "display(btnDownload)"
   ]
  },
  {
   "cell_type": "code",
   "execution_count": null,
   "id": "474bfc61-6a5b-40ba-911d-c9b142183e63",
   "metadata": {},
   "outputs": [],
   "source": []
  },
  {
   "cell_type": "code",
   "execution_count": 18,
   "id": "ef273408-9b4b-4434-afba-eec93260db75",
   "metadata": {},
   "outputs": [
    {
     "data": {
      "text/plain": [
       "'C:\\\\Users\\\\PICHAU\\\\Desktop\\\\Arquivos\\\\examples-datascience'"
      ]
     },
     "execution_count": 18,
     "metadata": {},
     "output_type": "execute_result"
    }
   ],
   "source": []
  },
  {
   "cell_type": "code",
   "execution_count": 30,
   "id": "215b6d18-1906-43b2-8aad-125597964d18",
   "metadata": {},
   "outputs": [
    {
     "data": {
      "text/plain": [
       "False"
      ]
     },
     "execution_count": 30,
     "metadata": {},
     "output_type": "execute_result"
    }
   ],
   "source": []
  },
  {
   "cell_type": "code",
   "execution_count": null,
   "id": "78b464ad-f6b2-4d4e-8cf7-2f001f09f7b5",
   "metadata": {},
   "outputs": [],
   "source": []
  }
 ],
 "metadata": {
  "kernelspec": {
   "display_name": "Python 3 (ipykernel)",
   "language": "python",
   "name": "python3"
  },
  "language_info": {
   "codemirror_mode": {
    "name": "ipython",
    "version": 3
   },
   "file_extension": ".py",
   "mimetype": "text/x-python",
   "name": "python",
   "nbconvert_exporter": "python",
   "pygments_lexer": "ipython3",
   "version": "3.9.9"
  }
 },
 "nbformat": 4,
 "nbformat_minor": 5
}
