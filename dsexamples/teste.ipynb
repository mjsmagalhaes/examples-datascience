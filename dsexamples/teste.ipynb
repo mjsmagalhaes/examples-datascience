{
 "cells": [
  {
   "cell_type": "code",
   "execution_count": 1,
   "metadata": {},
   "outputs": [],
   "source": [
    "import datatable as dt\n",
    "\n",
    "from datatable import f\n",
    "from dslib.imports import datatable_from_csv"
   ]
  },
  {
   "cell_type": "code",
   "execution_count": 2,
   "metadata": {},
   "outputs": [
    {
     "data": {
      "text/html": [
       "<div class='datatable'>\n",
       "  <table class='frame'>\n",
       "  <thead>\n",
       "    <tr class='colnames'><td class='row_index'></td><th>Province/State</th><th>Country/Region</th><th>Lat</th><th>Long</th><th>Date</th><th>Confirmed</th><th>Deaths</th><th>Recovered</th><th>Active</th><th>WHO Region</th></tr>\n",
       "    <tr class='coltypes'><td class='row_index'></td><td class='str' title='str32'>&#x25AA;&#x25AA;&#x25AA;&#x25AA;</td><td class='str' title='str32'>&#x25AA;&#x25AA;&#x25AA;&#x25AA;</td><td class='float' title='float64'>&#x25AA;&#x25AA;&#x25AA;&#x25AA;&#x25AA;&#x25AA;&#x25AA;&#x25AA;</td><td class='float' title='float64'>&#x25AA;&#x25AA;&#x25AA;&#x25AA;&#x25AA;&#x25AA;&#x25AA;&#x25AA;</td><td class='time' title='date32'>&#x25AA;&#x25AA;&#x25AA;&#x25AA;</td><td class='int' title='int32'>&#x25AA;&#x25AA;&#x25AA;&#x25AA;</td><td class='int' title='int32'>&#x25AA;&#x25AA;&#x25AA;&#x25AA;</td><td class='int' title='int32'>&#x25AA;&#x25AA;&#x25AA;&#x25AA;</td><td class='int' title='int32'>&#x25AA;&#x25AA;&#x25AA;&#x25AA;</td><td class='str' title='str32'>&#x25AA;&#x25AA;&#x25AA;&#x25AA;</td></tr>\n",
       "  </thead>\n",
       "  <tbody>\n",
       "    <tr><td class='row_index'>0</td><td></td><td>Afghanistan</td><td>33.9391</td><td>67.71</td><td>2020-01-22</td><td>0</td><td>0</td><td>0</td><td>0</td><td>Eastern Mediterranean</td></tr>\n",
       "    <tr><td class='row_index'>1</td><td></td><td>Albania</td><td>41.1533</td><td>20.1683</td><td>2020-01-22</td><td>0</td><td>0</td><td>0</td><td>0</td><td>Europe</td></tr>\n",
       "    <tr><td class='row_index'>2</td><td></td><td>Algeria</td><td>28.0339</td><td>1.6596</td><td>2020-01-22</td><td>0</td><td>0</td><td>0</td><td>0</td><td>Africa</td></tr>\n",
       "    <tr><td class='row_index'>3</td><td></td><td>Andorra</td><td>42.5063</td><td>1.5218</td><td>2020-01-22</td><td>0</td><td>0</td><td>0</td><td>0</td><td>Europe</td></tr>\n",
       "    <tr><td class='row_index'>4</td><td></td><td>Angola</td><td>&minus;11.2027</td><td>17.8739</td><td>2020-01-22</td><td>0</td><td>0</td><td>0</td><td>0</td><td>Africa</td></tr>\n",
       "    <tr><td class='row_index'>5</td><td></td><td>Antigua and Barbuda</td><td>17.0608</td><td>&minus;61.7964</td><td>2020-01-22</td><td>0</td><td>0</td><td>0</td><td>0</td><td>Americas</td></tr>\n",
       "    <tr><td class='row_index'>6</td><td></td><td>Argentina</td><td>&minus;38.4161</td><td>&minus;63.6167</td><td>2020-01-22</td><td>0</td><td>0</td><td>0</td><td>0</td><td>Americas</td></tr>\n",
       "    <tr><td class='row_index'>7</td><td></td><td>Armenia</td><td>40.0691</td><td>45.0382</td><td>2020-01-22</td><td>0</td><td>0</td><td>0</td><td>0</td><td>Europe</td></tr>\n",
       "    <tr><td class='row_index'>8</td><td>Australian Capital Territory</td><td>Australia</td><td>&minus;35.4735</td><td>149.012</td><td>2020-01-22</td><td>0</td><td>0</td><td>0</td><td>0</td><td>Western Pacific</td></tr>\n",
       "    <tr><td class='row_index'>9</td><td>New South Wales</td><td>Australia</td><td>&minus;33.8688</td><td>151.209</td><td>2020-01-22</td><td>0</td><td>0</td><td>0</td><td>0</td><td>Western Pacific</td></tr>\n",
       "    <tr><td class='row_index'>10</td><td>Northern Territory</td><td>Australia</td><td>&minus;12.4634</td><td>130.846</td><td>2020-01-22</td><td>0</td><td>0</td><td>0</td><td>0</td><td>Western Pacific</td></tr>\n",
       "    <tr><td class='row_index'>11</td><td>Queensland</td><td>Australia</td><td>&minus;27.4698</td><td>153.025</td><td>2020-01-22</td><td>0</td><td>0</td><td>0</td><td>0</td><td>Western Pacific</td></tr>\n",
       "    <tr><td class='row_index'>12</td><td>South Australia</td><td>Australia</td><td>&minus;34.9285</td><td>138.601</td><td>2020-01-22</td><td>0</td><td>0</td><td>0</td><td>0</td><td>Western Pacific</td></tr>\n",
       "    <tr><td class='row_index'>13</td><td>Tasmania</td><td>Australia</td><td>&minus;42.8821</td><td>147.327</td><td>2020-01-22</td><td>0</td><td>0</td><td>0</td><td>0</td><td>Western Pacific</td></tr>\n",
       "    <tr><td class='row_index'>14</td><td>Victoria</td><td>Australia</td><td>&minus;37.8136</td><td>144.963</td><td>2020-01-22</td><td>0</td><td>0</td><td>0</td><td>0</td><td>Western Pacific</td></tr>\n",
       "    <tr><td class='row_index'>&#x22EE;</td><td class='hellipsis'>&#x22EE;</td><td class='hellipsis'>&#x22EE;</td><td class='hellipsis'>&#x22EE;</td><td class='hellipsis'>&#x22EE;</td><td class='hellipsis'>&#x22EE;</td><td class='hellipsis'>&#x22EE;</td><td class='hellipsis'>&#x22EE;</td><td class='hellipsis'>&#x22EE;</td><td class='hellipsis'>&#x22EE;</td><td class='hellipsis'>&#x22EE;</td></tr>\n",
       "    <tr><td class='row_index'>49,063</td><td></td><td>Sao Tome and Principe</td><td>0.1864</td><td>6.6131</td><td>2020-07-27</td><td>865</td><td>14</td><td>734</td><td>117</td><td>Africa</td></tr>\n",
       "    <tr><td class='row_index'>49,064</td><td></td><td>Yemen</td><td>15.5527</td><td>48.5164</td><td>2020-07-27</td><td>1691</td><td>483</td><td>833</td><td>375</td><td>Eastern Mediterranean</td></tr>\n",
       "    <tr><td class='row_index'>49,065</td><td></td><td>Comoros</td><td>&minus;11.6455</td><td>43.3333</td><td>2020-07-27</td><td>354</td><td>7</td><td>328</td><td>19</td><td>Africa</td></tr>\n",
       "    <tr><td class='row_index'>49,066</td><td></td><td>Tajikistan</td><td>38.861</td><td>71.2761</td><td>2020-07-27</td><td>7235</td><td>60</td><td>6028</td><td>1147</td><td>Europe</td></tr>\n",
       "    <tr><td class='row_index'>49,067</td><td></td><td>Lesotho</td><td>&minus;29.61</td><td>28.2336</td><td>2020-07-27</td><td>505</td><td>12</td><td>128</td><td>365</td><td>Africa</td></tr>\n",
       "  </tbody>\n",
       "  </table>\n",
       "  <div class='footer'>\n",
       "    <div class='frame_dimensions'>49,068 rows &times; 10 columns</div>\n",
       "  </div>\n",
       "</div>\n"
      ],
      "text/plain": [
       "<Frame#168a694b990 49068x10>"
      ]
     },
     "execution_count": 2,
     "metadata": {},
     "output_type": "execute_result"
    }
   ],
   "source": [
    "raw = datatable_from_csv('data/covid_19_clean_complete.csv')\n",
    "raw\n"
   ]
  },
  {
   "cell_type": "code",
   "execution_count": 13,
   "metadata": {},
   "outputs": [
    {
     "data": {
      "text/plain": [
       "<AxesSubplot:>"
      ]
     },
     "execution_count": 13,
     "metadata": {},
     "output_type": "execute_result"
    },
    {
     "data": {
      "image/png": "[encoded data removed]",
      "text/plain": [
       "<Figure size 432x288 with 1 Axes>"
      ]
     },
     "metadata": {
      "needs_background": "light"
     },
     "output_type": "display_data"
    }
   ],
   "source": [
    "d = raw[f['Country/Region']=='Albania',:].to_pandas()\n",
    "d['Deaths'].plot.line()"
   ]
  },
  {
   "cell_type": "code",
   "execution_count": null,
   "metadata": {},
   "outputs": [],
   "source": []
  }
 ],
 "metadata": {
  "interpreter": {
   "hash": "ac59ebe37160ed0dfa835113d9b8498d9f09ceb179beaac4002f036b9467c963"
  },
  "kernelspec": {
   "display_name": "Python 3.9.9 64-bit",
   "language": "python",
   "name": "python3"
  },
  "language_info": {
   "codemirror_mode": {
    "name": "ipython",
    "version": 3
   },
   "file_extension": ".py",
   "mimetype": "text/x-python",
   "name": "python",
   "nbconvert_exporter": "python",
   "pygments_lexer": "ipython3",
   "version": "3.9.9"
  },
  "orig_nbformat": 4
 },
 "nbformat": 4,
 "nbformat_minor": 2
}
