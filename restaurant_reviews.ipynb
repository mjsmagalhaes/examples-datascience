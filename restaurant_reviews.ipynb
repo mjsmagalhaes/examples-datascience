{
 "cells": [
  {
   "cell_type": "markdown",
   "metadata": {
    "colab_type": "text",
    "id": "view-in-github"
   },
   "source": [
    "<a href=\"https://colab.research.google.com/github/mjsmagalhaes/examples-datascience/blob/main/restaurant_reviews.ipynb\" target=\"_parent\"><img src=\"https://colab.research.google.com/assets/colab-badge.svg\" alt=\"Open In Colab\"/></a>"
   ]
  },
  {
   "cell_type": "markdown",
   "metadata": {
    "id": "SOyDV2jLDg10"
   },
   "source": [
    "# Restaurant Review Analysis"
   ]
  },
  {
   "cell_type": "markdown",
   "metadata": {},
   "source": [
    "A notebook investigating a restaurant review dataset from kaggle (https://www.kaggle.com/bulentsiyah/restaurant-reviews).\n",
    "\n",
    "The solution here uses a Neural Network (NN) as a scoring system and a Decision Tree (DT, which is just making the solution worse :) -- but it is a fun little test casding classifiers) to \"decide\" if a score means a good review or a bad one.\n",
    "\n",
    "Neither de NN or the DT is doing a good job :).\n",
    "\n",
    "**This is a work in progress.**"
   ]
  },
  {
   "cell_type": "markdown",
   "metadata": {
    "id": "KIRBmQTRDoPp"
   },
   "source": [
    "## Setup\n",
    "\n",
    "\n"
   ]
  },
  {
   "cell_type": "code",
   "execution_count": 1,
   "metadata": {},
   "outputs": [],
   "source": [
    "%load_ext autoreload\n",
    "%autoreload 2"
   ]
  },
  {
   "cell_type": "markdown",
   "metadata": {
    "id": "XJVm71G-D9J7"
   },
   "source": [
    "Initial tasks to prepare the data\n",
    "\n",
    "### Importing Libraries"
   ]
  },
  {
   "cell_type": "code",
   "execution_count": 2,
   "metadata": {
    "id": "tPfSFWfC-lMg"
   },
   "outputs": [],
   "source": [
    "import graphviz as graph\n",
    "import pandas as pd\n",
    "import seaborn as sns\n",
    "import matplotlib.pyplot as plt\n",
    "import altair as alt\n",
    "import tensorflow as tf\n",
    "\n",
    "from sklearn.model_selection import train_test_split\n",
    "from sklearn.tree import DecisionTreeClassifier, plot_tree, export_graphviz, export_text\n",
    "from sklearn.neural_network import MLPClassifier, MLPRegressor\n",
    "\n",
    "from tensorflow.keras.optimizers import SGD\n",
    "from keras.models import Sequential\n",
    "from keras.layers import Dense\n",
    "\n",
    "from dslib.analysis import Analysis"
   ]
  },
  {
   "cell_type": "markdown",
   "metadata": {
    "id": "DC-XBjhYDtOZ"
   },
   "source": [
    "### Loading Dataset"
   ]
  },
  {
   "cell_type": "code",
   "execution_count": 3,
   "metadata": {
    "id": "7bZH4eh3_KUj"
   },
   "outputs": [],
   "source": [
    "a = Analysis.from_csv('data/Restaurant_Reviews.csv')\n",
    "corpus = a.columns('Review').to_list()"
   ]
  },
  {
   "cell_type": "markdown",
   "metadata": {
    "id": "BiyFapl4EQR7"
   },
   "source": [
    "## Create Sets: Train, Validation and TestCreate Sets: Train, Validation and Test"
   ]
  },
  {
   "cell_type": "code",
   "execution_count": 4,
   "metadata": {
    "id": "CUzClQLCAZmy"
   },
   "outputs": [],
   "source": [
    "# Train: 60%; Valid: 20%; Test: 20%\n",
    "xTV, testCorpus, yTV, testTarget = train_test_split(\n",
    "    a.columns('Review'), \n",
    "    a.columns('Liked'), \n",
    "    test_size=0.2, random_state=0\n",
    ")\n",
    "\n",
    "trainCorpus, validCorpus, trainTarget, validTarget = train_test_split(\n",
    "    xTV, yTV, \n",
    "    test_size=0.25, random_state=0\n",
    ")"
   ]
  },
  {
   "cell_type": "markdown",
   "metadata": {
    "tags": []
   },
   "source": [
    "## Extract Corpus"
   ]
  },
  {
   "cell_type": "markdown",
   "metadata": {},
   "source": [
    "### Create Vocabulary"
   ]
  },
  {
   "cell_type": "code",
   "execution_count": 5,
   "metadata": {},
   "outputs": [],
   "source": [
    "# Find \"meaningful\" words in the corpus\n",
    "vocabs = a.nlp.extract_vocab(trainCorpus)"
   ]
  },
  {
   "cell_type": "markdown",
   "metadata": {},
   "source": [
    "### Extract Corpus"
   ]
  },
  {
   "cell_type": "code",
   "execution_count": 6,
   "metadata": {},
   "outputs": [],
   "source": [
    "# Transform corpus sentences into one-hot vectors\n",
    "trainX = pd.DataFrame(a.nlp.vectorize(trainCorpus, vocabs), columns=vocabs)\n",
    "validX = pd.DataFrame(a.nlp.vectorize(validCorpus, vocabs), columns=vocabs)\n",
    "testX = pd.DataFrame(a.nlp.vectorize(testCorpus, vocabs), columns=vocabs)"
   ]
  },
  {
   "cell_type": "code",
   "execution_count": 7,
   "metadata": {},
   "outputs": [
    {
     "name": "stdout",
     "output_type": "stream",
     "text": [
      "(600, 1090) (600,) 1090\n"
     ]
    }
   ],
   "source": [
    "print(trainX.shape, trainTarget.shape, len(vocabs))"
   ]
  },
  {
   "cell_type": "markdown",
   "metadata": {
    "id": "IL87Jp2dEZtc"
   },
   "source": [
    "## Building Model"
   ]
  },
  {
   "cell_type": "code",
   "execution_count": 8,
   "metadata": {
    "id": "g_JRAOViB0gI"
   },
   "outputs": [],
   "source": [
    "n_dim = len(vocabs)\n",
    "\n",
    "# Neural Network Model\n",
    "model = Sequential([\n",
    "    Dense(units=700,activation='relu',input_shape=(n_dim,)),\n",
    "    Dense(units=1,activation='relu')\n",
    "])\n",
    "\n",
    "model.compile(\n",
    "    optimizer=SGD(momentum=0.2,learning_rate=0.2),\n",
    "    loss=\"mean_squared_error\"\n",
    ")"
   ]
  },
  {
   "cell_type": "code",
   "execution_count": 9,
   "metadata": {
    "colab": {
     "base_uri": "https://localhost:8080/",
     "height": 265
    },
    "id": "KK4VTSUkCNQo",
    "outputId": "102074dd-1ff1-4086-e075-6f6e54a205e9"
   },
   "outputs": [
    {
     "data": {
      "image/png": "[encoded data removed]",
      "text/plain": [
       "<Figure size 432x288 with 1 Axes>"
      ]
     },
     "metadata": {
      "needs_background": "light"
     },
     "output_type": "display_data"
    }
   ],
   "source": [
    "th = model.fit(\n",
    "    trainX,\n",
    "    trainTarget,\n",
    "    epochs=20,\n",
    "    # steps_per_epoch=1,\n",
    "    # validation_split=None, \n",
    "    verbose=0\n",
    ")\n",
    "\n",
    "pd.DataFrame(th.history.get('loss'), columns=['loss']).plot.line()\n",
    "validPred = model.predict(validX)"
   ]
  },
  {
   "cell_type": "code",
   "execution_count": 10,
   "metadata": {
    "id": "Y-uQAFigCWwn"
   },
   "outputs": [
    {
     "data": {
      "image/svg+xml": [
       "<?xml version=\"1.0\" encoding=\"UTF-8\" standalone=\"no\"?>\n",
       "<!DOCTYPE svg PUBLIC \"-//W3C//DTD SVG 1.1//EN\"\n",
       " \"http://www.w3.org/Graphics/SVG/1.1/DTD/svg11.dtd\">\n",
       "<!-- Generated by graphviz version 2.47.0 (20210316.0004)\n",
       " -->\n",
       "<!-- Title: Tree Pages: 1 -->\n",
       "<svg width=\"787pt\" height=\"477pt\"\n",
       " viewBox=\"0.00 0.00 787.00 477.00\" xmlns=\"http://www.w3.org/2000/svg\" xmlns:xlink=\"http://www.w3.org/1999/xlink\">\n",
       "<g id=\"graph0\" class=\"graph\" transform=\"scale(1 1) rotate(0) translate(4 473)\">\n",
       "<title>Tree</title>\n",
       "<polygon fill=\"white\" stroke=\"transparent\" points=\"-4,4 -4,-473 783,-473 783,4 -4,4\"/>\n",
       "<!-- 0 -->\n",
       "<g id=\"node1\" class=\"node\">\n",
       "<title>0</title>\n",
       "<polygon fill=\"none\" stroke=\"black\" points=\"600.5,-469 478.5,-469 478.5,-401 600.5,-401 600.5,-469\"/>\n",
       "<text text-anchor=\"middle\" x=\"539.5\" y=\"-453.8\" font-family=\"Helvetica,sans-Serif\" font-size=\"14.00\">X[0] &lt;= 0.65</text>\n",
       "<text text-anchor=\"middle\" x=\"539.5\" y=\"-438.8\" font-family=\"Helvetica,sans-Serif\" font-size=\"14.00\">gini = 0.5</text>\n",
       "<text text-anchor=\"middle\" x=\"539.5\" y=\"-423.8\" font-family=\"Helvetica,sans-Serif\" font-size=\"14.00\">samples = 200</text>\n",
       "<text text-anchor=\"middle\" x=\"539.5\" y=\"-408.8\" font-family=\"Helvetica,sans-Serif\" font-size=\"14.00\">value = [101, 99]</text>\n",
       "</g>\n",
       "<!-- 1 -->\n",
       "<g id=\"node2\" class=\"node\">\n",
       "<title>1</title>\n",
       "<polygon fill=\"none\" stroke=\"black\" points=\"475,-365 362,-365 362,-297 475,-297 475,-365\"/>\n",
       "<text text-anchor=\"middle\" x=\"418.5\" y=\"-349.8\" font-family=\"Helvetica,sans-Serif\" font-size=\"14.00\">X[0] &lt;= 0.176</text>\n",
       "<text text-anchor=\"middle\" x=\"418.5\" y=\"-334.8\" font-family=\"Helvetica,sans-Serif\" font-size=\"14.00\">gini = 0.416</text>\n",
       "<text text-anchor=\"middle\" x=\"418.5\" y=\"-319.8\" font-family=\"Helvetica,sans-Serif\" font-size=\"14.00\">samples = 139</text>\n",
       "<text text-anchor=\"middle\" x=\"418.5\" y=\"-304.8\" font-family=\"Helvetica,sans-Serif\" font-size=\"14.00\">value = [98, 41]</text>\n",
       "</g>\n",
       "<!-- 0&#45;&gt;1 -->\n",
       "<g id=\"edge1\" class=\"edge\">\n",
       "<title>0&#45;&gt;1</title>\n",
       "<path fill=\"none\" stroke=\"black\" d=\"M500.21,-400.88C489.23,-391.62 477.17,-381.45 465.77,-371.85\"/>\n",
       "<polygon fill=\"black\" stroke=\"black\" points=\"467.9,-369.07 458,-365.3 463.39,-374.42 467.9,-369.07\"/>\n",
       "<text text-anchor=\"middle\" x=\"460.12\" y=\"-386.51\" font-family=\"Helvetica,sans-Serif\" font-size=\"14.00\">True</text>\n",
       "</g>\n",
       "<!-- 12 -->\n",
       "<g id=\"node13\" class=\"node\">\n",
       "<title>12</title>\n",
       "<polygon fill=\"none\" stroke=\"black\" points=\"656,-365 551,-365 551,-297 656,-297 656,-365\"/>\n",
       "<text text-anchor=\"middle\" x=\"603.5\" y=\"-349.8\" font-family=\"Helvetica,sans-Serif\" font-size=\"14.00\">X[0] &lt;= 0.77</text>\n",
       "<text text-anchor=\"middle\" x=\"603.5\" y=\"-334.8\" font-family=\"Helvetica,sans-Serif\" font-size=\"14.00\">gini = 0.094</text>\n",
       "<text text-anchor=\"middle\" x=\"603.5\" y=\"-319.8\" font-family=\"Helvetica,sans-Serif\" font-size=\"14.00\">samples = 61</text>\n",
       "<text text-anchor=\"middle\" x=\"603.5\" y=\"-304.8\" font-family=\"Helvetica,sans-Serif\" font-size=\"14.00\">value = [3, 58]</text>\n",
       "</g>\n",
       "<!-- 0&#45;&gt;12 -->\n",
       "<g id=\"edge12\" class=\"edge\">\n",
       "<title>0&#45;&gt;12</title>\n",
       "<path fill=\"none\" stroke=\"black\" d=\"M560.28,-400.88C565.7,-392.24 571.61,-382.82 577.28,-373.79\"/>\n",
       "<polygon fill=\"black\" stroke=\"black\" points=\"580.26,-375.63 582.61,-365.3 574.33,-371.91 580.26,-375.63\"/>\n",
       "<text text-anchor=\"middle\" x=\"588.18\" y=\"-385.97\" font-family=\"Helvetica,sans-Serif\" font-size=\"14.00\">False</text>\n",
       "</g>\n",
       "<!-- 2 -->\n",
       "<g id=\"node3\" class=\"node\">\n",
       "<title>2</title>\n",
       "<polygon fill=\"none\" stroke=\"black\" points=\"287,-261 182,-261 182,-193 287,-193 287,-261\"/>\n",
       "<text text-anchor=\"middle\" x=\"234.5\" y=\"-245.8\" font-family=\"Helvetica,sans-Serif\" font-size=\"14.00\">X[0] &lt;= 0.068</text>\n",
       "<text text-anchor=\"middle\" x=\"234.5\" y=\"-230.8\" font-family=\"Helvetica,sans-Serif\" font-size=\"14.00\">gini = 0.085</text>\n",
       "<text text-anchor=\"middle\" x=\"234.5\" y=\"-215.8\" font-family=\"Helvetica,sans-Serif\" font-size=\"14.00\">samples = 45</text>\n",
       "<text text-anchor=\"middle\" x=\"234.5\" y=\"-200.8\" font-family=\"Helvetica,sans-Serif\" font-size=\"14.00\">value = [43, 2]</text>\n",
       "</g>\n",
       "<!-- 1&#45;&gt;2 -->\n",
       "<g id=\"edge2\" class=\"edge\">\n",
       "<title>1&#45;&gt;2</title>\n",
       "<path fill=\"none\" stroke=\"black\" d=\"M361.79,-298.56C341,-287.04 317.38,-273.95 296.18,-262.19\"/>\n",
       "<polygon fill=\"black\" stroke=\"black\" points=\"297.7,-259.03 287.25,-257.24 294.3,-265.15 297.7,-259.03\"/>\n",
       "</g>\n",
       "<!-- 7 -->\n",
       "<g id=\"node8\" class=\"node\">\n",
       "<title>7</title>\n",
       "<polygon fill=\"none\" stroke=\"black\" points=\"475,-261 362,-261 362,-193 475,-193 475,-261\"/>\n",
       "<text text-anchor=\"middle\" x=\"418.5\" y=\"-245.8\" font-family=\"Helvetica,sans-Serif\" font-size=\"14.00\">X[0] &lt;= 0.185</text>\n",
       "<text text-anchor=\"middle\" x=\"418.5\" y=\"-230.8\" font-family=\"Helvetica,sans-Serif\" font-size=\"14.00\">gini = 0.486</text>\n",
       "<text text-anchor=\"middle\" x=\"418.5\" y=\"-215.8\" font-family=\"Helvetica,sans-Serif\" font-size=\"14.00\">samples = 94</text>\n",
       "<text text-anchor=\"middle\" x=\"418.5\" y=\"-200.8\" font-family=\"Helvetica,sans-Serif\" font-size=\"14.00\">value = [55, 39]</text>\n",
       "</g>\n",
       "<!-- 1&#45;&gt;7 -->\n",
       "<g id=\"edge7\" class=\"edge\">\n",
       "<title>1&#45;&gt;7</title>\n",
       "<path fill=\"none\" stroke=\"black\" d=\"M418.5,-296.88C418.5,-288.78 418.5,-279.98 418.5,-271.47\"/>\n",
       "<polygon fill=\"black\" stroke=\"black\" points=\"422,-271.3 418.5,-261.3 415,-271.3 422,-271.3\"/>\n",
       "</g>\n",
       "<!-- 3 -->\n",
       "<g id=\"node4\" class=\"node\">\n",
       "<title>3</title>\n",
       "<polygon fill=\"none\" stroke=\"black\" points=\"164,-157 59,-157 59,-89 164,-89 164,-157\"/>\n",
       "<text text-anchor=\"middle\" x=\"111.5\" y=\"-141.8\" font-family=\"Helvetica,sans-Serif\" font-size=\"14.00\">X[0] &lt;= 0.048</text>\n",
       "<text text-anchor=\"middle\" x=\"111.5\" y=\"-126.8\" font-family=\"Helvetica,sans-Serif\" font-size=\"14.00\">gini = 0.137</text>\n",
       "<text text-anchor=\"middle\" x=\"111.5\" y=\"-111.8\" font-family=\"Helvetica,sans-Serif\" font-size=\"14.00\">samples = 27</text>\n",
       "<text text-anchor=\"middle\" x=\"111.5\" y=\"-96.8\" font-family=\"Helvetica,sans-Serif\" font-size=\"14.00\">value = [25, 2]</text>\n",
       "</g>\n",
       "<!-- 2&#45;&gt;3 -->\n",
       "<g id=\"edge3\" class=\"edge\">\n",
       "<title>2&#45;&gt;3</title>\n",
       "<path fill=\"none\" stroke=\"black\" d=\"M194.57,-192.88C183.39,-183.62 171.14,-173.45 159.55,-163.85\"/>\n",
       "<polygon fill=\"black\" stroke=\"black\" points=\"161.59,-160.99 151.66,-157.3 157.12,-166.38 161.59,-160.99\"/>\n",
       "</g>\n",
       "<!-- 6 -->\n",
       "<g id=\"node7\" class=\"node\">\n",
       "<title>6</title>\n",
       "<polygon fill=\"none\" stroke=\"black\" points=\"287,-149.5 182,-149.5 182,-96.5 287,-96.5 287,-149.5\"/>\n",
       "<text text-anchor=\"middle\" x=\"234.5\" y=\"-134.3\" font-family=\"Helvetica,sans-Serif\" font-size=\"14.00\">gini = 0.0</text>\n",
       "<text text-anchor=\"middle\" x=\"234.5\" y=\"-119.3\" font-family=\"Helvetica,sans-Serif\" font-size=\"14.00\">samples = 18</text>\n",
       "<text text-anchor=\"middle\" x=\"234.5\" y=\"-104.3\" font-family=\"Helvetica,sans-Serif\" font-size=\"14.00\">value = [18, 0]</text>\n",
       "</g>\n",
       "<!-- 2&#45;&gt;6 -->\n",
       "<g id=\"edge6\" class=\"edge\">\n",
       "<title>2&#45;&gt;6</title>\n",
       "<path fill=\"none\" stroke=\"black\" d=\"M234.5,-192.88C234.5,-182.33 234.5,-170.6 234.5,-159.85\"/>\n",
       "<polygon fill=\"black\" stroke=\"black\" points=\"238,-159.52 234.5,-149.52 231,-159.52 238,-159.52\"/>\n",
       "</g>\n",
       "<!-- 4 -->\n",
       "<g id=\"node5\" class=\"node\">\n",
       "<title>4</title>\n",
       "<polygon fill=\"none\" stroke=\"black\" points=\"105,-53 0,-53 0,0 105,0 105,-53\"/>\n",
       "<text text-anchor=\"middle\" x=\"52.5\" y=\"-37.8\" font-family=\"Helvetica,sans-Serif\" font-size=\"14.00\">gini = 0.074</text>\n",
       "<text text-anchor=\"middle\" x=\"52.5\" y=\"-22.8\" font-family=\"Helvetica,sans-Serif\" font-size=\"14.00\">samples = 26</text>\n",
       "<text text-anchor=\"middle\" x=\"52.5\" y=\"-7.8\" font-family=\"Helvetica,sans-Serif\" font-size=\"14.00\">value = [25, 1]</text>\n",
       "</g>\n",
       "<!-- 3&#45;&gt;4 -->\n",
       "<g id=\"edge4\" class=\"edge\">\n",
       "<title>3&#45;&gt;4</title>\n",
       "<path fill=\"none\" stroke=\"black\" d=\"M90.86,-88.95C85.38,-80.17 79.45,-70.66 73.92,-61.82\"/>\n",
       "<polygon fill=\"black\" stroke=\"black\" points=\"76.83,-59.87 68.57,-53.24 70.9,-63.57 76.83,-59.87\"/>\n",
       "</g>\n",
       "<!-- 5 -->\n",
       "<g id=\"node6\" class=\"node\">\n",
       "<title>5</title>\n",
       "<polygon fill=\"none\" stroke=\"black\" points=\"220,-53 123,-53 123,0 220,0 220,-53\"/>\n",
       "<text text-anchor=\"middle\" x=\"171.5\" y=\"-37.8\" font-family=\"Helvetica,sans-Serif\" font-size=\"14.00\">gini = 0.0</text>\n",
       "<text text-anchor=\"middle\" x=\"171.5\" y=\"-22.8\" font-family=\"Helvetica,sans-Serif\" font-size=\"14.00\">samples = 1</text>\n",
       "<text text-anchor=\"middle\" x=\"171.5\" y=\"-7.8\" font-family=\"Helvetica,sans-Serif\" font-size=\"14.00\">value = [0, 1]</text>\n",
       "</g>\n",
       "<!-- 3&#45;&gt;5 -->\n",
       "<g id=\"edge5\" class=\"edge\">\n",
       "<title>3&#45;&gt;5</title>\n",
       "<path fill=\"none\" stroke=\"black\" d=\"M132.49,-88.95C138.06,-80.17 144.09,-70.66 149.71,-61.82\"/>\n",
       "<polygon fill=\"black\" stroke=\"black\" points=\"152.75,-63.55 155.16,-53.24 146.84,-59.8 152.75,-63.55\"/>\n",
       "</g>\n",
       "<!-- 8 -->\n",
       "<g id=\"node9\" class=\"node\">\n",
       "<title>8</title>\n",
       "<polygon fill=\"none\" stroke=\"black\" points=\"402,-149.5 305,-149.5 305,-96.5 402,-96.5 402,-149.5\"/>\n",
       "<text text-anchor=\"middle\" x=\"353.5\" y=\"-134.3\" font-family=\"Helvetica,sans-Serif\" font-size=\"14.00\">gini = 0.0</text>\n",
       "<text text-anchor=\"middle\" x=\"353.5\" y=\"-119.3\" font-family=\"Helvetica,sans-Serif\" font-size=\"14.00\">samples = 2</text>\n",
       "<text text-anchor=\"middle\" x=\"353.5\" y=\"-104.3\" font-family=\"Helvetica,sans-Serif\" font-size=\"14.00\">value = [0, 2]</text>\n",
       "</g>\n",
       "<!-- 7&#45;&gt;8 -->\n",
       "<g id=\"edge8\" class=\"edge\">\n",
       "<title>7&#45;&gt;8</title>\n",
       "<path fill=\"none\" stroke=\"black\" d=\"M397.4,-192.88C390.32,-181.78 382.41,-169.37 375.28,-158.18\"/>\n",
       "<polygon fill=\"black\" stroke=\"black\" points=\"378.09,-156.07 369.76,-149.52 372.19,-159.83 378.09,-156.07\"/>\n",
       "</g>\n",
       "<!-- 9 -->\n",
       "<g id=\"node10\" class=\"node\">\n",
       "<title>9</title>\n",
       "<polygon fill=\"none\" stroke=\"black\" points=\"533,-157 420,-157 420,-89 533,-89 533,-157\"/>\n",
       "<text text-anchor=\"middle\" x=\"476.5\" y=\"-141.8\" font-family=\"Helvetica,sans-Serif\" font-size=\"14.00\">X[0] &lt;= 0.388</text>\n",
       "<text text-anchor=\"middle\" x=\"476.5\" y=\"-126.8\" font-family=\"Helvetica,sans-Serif\" font-size=\"14.00\">gini = 0.481</text>\n",
       "<text text-anchor=\"middle\" x=\"476.5\" y=\"-111.8\" font-family=\"Helvetica,sans-Serif\" font-size=\"14.00\">samples = 92</text>\n",
       "<text text-anchor=\"middle\" x=\"476.5\" y=\"-96.8\" font-family=\"Helvetica,sans-Serif\" font-size=\"14.00\">value = [55, 37]</text>\n",
       "</g>\n",
       "<!-- 7&#45;&gt;9 -->\n",
       "<g id=\"edge9\" class=\"edge\">\n",
       "<title>7&#45;&gt;9</title>\n",
       "<path fill=\"none\" stroke=\"black\" d=\"M437.33,-192.88C442.19,-184.33 447.49,-175.01 452.58,-166.07\"/>\n",
       "<polygon fill=\"black\" stroke=\"black\" points=\"455.66,-167.72 457.57,-157.3 449.58,-164.26 455.66,-167.72\"/>\n",
       "</g>\n",
       "<!-- 10 -->\n",
       "<g id=\"node11\" class=\"node\">\n",
       "<title>10</title>\n",
       "<polygon fill=\"none\" stroke=\"black\" points=\"404,-53 299,-53 299,0 404,0 404,-53\"/>\n",
       "<text text-anchor=\"middle\" x=\"351.5\" y=\"-37.8\" font-family=\"Helvetica,sans-Serif\" font-size=\"14.00\">gini = 0.391</text>\n",
       "<text text-anchor=\"middle\" x=\"351.5\" y=\"-22.8\" font-family=\"Helvetica,sans-Serif\" font-size=\"14.00\">samples = 30</text>\n",
       "<text text-anchor=\"middle\" x=\"351.5\" y=\"-7.8\" font-family=\"Helvetica,sans-Serif\" font-size=\"14.00\">value = [22, 8]</text>\n",
       "</g>\n",
       "<!-- 9&#45;&gt;10 -->\n",
       "<g id=\"edge10\" class=\"edge\">\n",
       "<title>9&#45;&gt;10</title>\n",
       "<path fill=\"none\" stroke=\"black\" d=\"M432.78,-88.95C420.08,-79.34 406.23,-68.87 393.62,-59.34\"/>\n",
       "<polygon fill=\"black\" stroke=\"black\" points=\"395.63,-56.48 385.54,-53.24 391.41,-62.06 395.63,-56.48\"/>\n",
       "</g>\n",
       "<!-- 11 -->\n",
       "<g id=\"node12\" class=\"node\">\n",
       "<title>11</title>\n",
       "<polygon fill=\"none\" stroke=\"black\" points=\"535,-53 422,-53 422,0 535,0 535,-53\"/>\n",
       "<text text-anchor=\"middle\" x=\"478.5\" y=\"-37.8\" font-family=\"Helvetica,sans-Serif\" font-size=\"14.00\">gini = 0.498</text>\n",
       "<text text-anchor=\"middle\" x=\"478.5\" y=\"-22.8\" font-family=\"Helvetica,sans-Serif\" font-size=\"14.00\">samples = 62</text>\n",
       "<text text-anchor=\"middle\" x=\"478.5\" y=\"-7.8\" font-family=\"Helvetica,sans-Serif\" font-size=\"14.00\">value = [33, 29]</text>\n",
       "</g>\n",
       "<!-- 9&#45;&gt;11 -->\n",
       "<g id=\"edge11\" class=\"edge\">\n",
       "<title>9&#45;&gt;11</title>\n",
       "<path fill=\"none\" stroke=\"black\" d=\"M477.2,-88.95C477.37,-80.72 477.56,-71.85 477.74,-63.48\"/>\n",
       "<polygon fill=\"black\" stroke=\"black\" points=\"481.24,-63.31 477.96,-53.24 474.24,-63.16 481.24,-63.31\"/>\n",
       "</g>\n",
       "<!-- 13 -->\n",
       "<g id=\"node14\" class=\"node\">\n",
       "<title>13</title>\n",
       "<polygon fill=\"none\" stroke=\"black\" points=\"656,-261 551,-261 551,-193 656,-193 656,-261\"/>\n",
       "<text text-anchor=\"middle\" x=\"603.5\" y=\"-245.8\" font-family=\"Helvetica,sans-Serif\" font-size=\"14.00\">X[0] &lt;= 0.765</text>\n",
       "<text text-anchor=\"middle\" x=\"603.5\" y=\"-230.8\" font-family=\"Helvetica,sans-Serif\" font-size=\"14.00\">gini = 0.305</text>\n",
       "<text text-anchor=\"middle\" x=\"603.5\" y=\"-215.8\" font-family=\"Helvetica,sans-Serif\" font-size=\"14.00\">samples = 16</text>\n",
       "<text text-anchor=\"middle\" x=\"603.5\" y=\"-200.8\" font-family=\"Helvetica,sans-Serif\" font-size=\"14.00\">value = [3, 13]</text>\n",
       "</g>\n",
       "<!-- 12&#45;&gt;13 -->\n",
       "<g id=\"edge13\" class=\"edge\">\n",
       "<title>12&#45;&gt;13</title>\n",
       "<path fill=\"none\" stroke=\"black\" d=\"M603.5,-296.88C603.5,-288.78 603.5,-279.98 603.5,-271.47\"/>\n",
       "<polygon fill=\"black\" stroke=\"black\" points=\"607,-271.3 603.5,-261.3 600,-271.3 607,-271.3\"/>\n",
       "</g>\n",
       "<!-- 18 -->\n",
       "<g id=\"node19\" class=\"node\">\n",
       "<title>18</title>\n",
       "<polygon fill=\"none\" stroke=\"black\" points=\"779,-253.5 674,-253.5 674,-200.5 779,-200.5 779,-253.5\"/>\n",
       "<text text-anchor=\"middle\" x=\"726.5\" y=\"-238.3\" font-family=\"Helvetica,sans-Serif\" font-size=\"14.00\">gini = 0.0</text>\n",
       "<text text-anchor=\"middle\" x=\"726.5\" y=\"-223.3\" font-family=\"Helvetica,sans-Serif\" font-size=\"14.00\">samples = 45</text>\n",
       "<text text-anchor=\"middle\" x=\"726.5\" y=\"-208.3\" font-family=\"Helvetica,sans-Serif\" font-size=\"14.00\">value = [0, 45]</text>\n",
       "</g>\n",
       "<!-- 12&#45;&gt;18 -->\n",
       "<g id=\"edge18\" class=\"edge\">\n",
       "<title>12&#45;&gt;18</title>\n",
       "<path fill=\"none\" stroke=\"black\" d=\"M643.43,-296.88C657.63,-285.12 673.57,-271.89 687.67,-260.2\"/>\n",
       "<polygon fill=\"black\" stroke=\"black\" points=\"690.26,-262.6 695.73,-253.52 685.79,-257.21 690.26,-262.6\"/>\n",
       "</g>\n",
       "<!-- 14 -->\n",
       "<g id=\"node15\" class=\"node\">\n",
       "<title>14</title>\n",
       "<polygon fill=\"none\" stroke=\"black\" points=\"656,-157 551,-157 551,-89 656,-89 656,-157\"/>\n",
       "<text text-anchor=\"middle\" x=\"603.5\" y=\"-141.8\" font-family=\"Helvetica,sans-Serif\" font-size=\"14.00\">X[0] &lt;= 0.695</text>\n",
       "<text text-anchor=\"middle\" x=\"603.5\" y=\"-126.8\" font-family=\"Helvetica,sans-Serif\" font-size=\"14.00\">gini = 0.231</text>\n",
       "<text text-anchor=\"middle\" x=\"603.5\" y=\"-111.8\" font-family=\"Helvetica,sans-Serif\" font-size=\"14.00\">samples = 15</text>\n",
       "<text text-anchor=\"middle\" x=\"603.5\" y=\"-96.8\" font-family=\"Helvetica,sans-Serif\" font-size=\"14.00\">value = [2, 13]</text>\n",
       "</g>\n",
       "<!-- 13&#45;&gt;14 -->\n",
       "<g id=\"edge14\" class=\"edge\">\n",
       "<title>13&#45;&gt;14</title>\n",
       "<path fill=\"none\" stroke=\"black\" d=\"M603.5,-192.88C603.5,-184.78 603.5,-175.98 603.5,-167.47\"/>\n",
       "<polygon fill=\"black\" stroke=\"black\" points=\"607,-167.3 603.5,-157.3 600,-167.3 607,-167.3\"/>\n",
       "</g>\n",
       "<!-- 17 -->\n",
       "<g id=\"node18\" class=\"node\">\n",
       "<title>17</title>\n",
       "<polygon fill=\"none\" stroke=\"black\" points=\"771,-149.5 674,-149.5 674,-96.5 771,-96.5 771,-149.5\"/>\n",
       "<text text-anchor=\"middle\" x=\"722.5\" y=\"-134.3\" font-family=\"Helvetica,sans-Serif\" font-size=\"14.00\">gini = 0.0</text>\n",
       "<text text-anchor=\"middle\" x=\"722.5\" y=\"-119.3\" font-family=\"Helvetica,sans-Serif\" font-size=\"14.00\">samples = 1</text>\n",
       "<text text-anchor=\"middle\" x=\"722.5\" y=\"-104.3\" font-family=\"Helvetica,sans-Serif\" font-size=\"14.00\">value = [1, 0]</text>\n",
       "</g>\n",
       "<!-- 13&#45;&gt;17 -->\n",
       "<g id=\"edge17\" class=\"edge\">\n",
       "<title>13&#45;&gt;17</title>\n",
       "<path fill=\"none\" stroke=\"black\" d=\"M642.14,-192.88C655.86,-181.12 671.29,-167.89 684.93,-156.2\"/>\n",
       "<polygon fill=\"black\" stroke=\"black\" points=\"687.41,-158.69 692.73,-149.52 682.86,-153.37 687.41,-158.69\"/>\n",
       "</g>\n",
       "<!-- 15 -->\n",
       "<g id=\"node16\" class=\"node\">\n",
       "<title>15</title>\n",
       "<polygon fill=\"none\" stroke=\"black\" points=\"651,-53 554,-53 554,0 651,0 651,-53\"/>\n",
       "<text text-anchor=\"middle\" x=\"602.5\" y=\"-37.8\" font-family=\"Helvetica,sans-Serif\" font-size=\"14.00\">gini = 0.0</text>\n",
       "<text text-anchor=\"middle\" x=\"602.5\" y=\"-22.8\" font-family=\"Helvetica,sans-Serif\" font-size=\"14.00\">samples = 6</text>\n",
       "<text text-anchor=\"middle\" x=\"602.5\" y=\"-7.8\" font-family=\"Helvetica,sans-Serif\" font-size=\"14.00\">value = [0, 6]</text>\n",
       "</g>\n",
       "<!-- 14&#45;&gt;15 -->\n",
       "<g id=\"edge15\" class=\"edge\">\n",
       "<title>14&#45;&gt;15</title>\n",
       "<path fill=\"none\" stroke=\"black\" d=\"M603.15,-88.95C603.06,-80.72 602.97,-71.85 602.88,-63.48\"/>\n",
       "<polygon fill=\"black\" stroke=\"black\" points=\"606.38,-63.2 602.77,-53.24 599.38,-63.27 606.38,-63.2\"/>\n",
       "</g>\n",
       "<!-- 16 -->\n",
       "<g id=\"node17\" class=\"node\">\n",
       "<title>16</title>\n",
       "<polygon fill=\"none\" stroke=\"black\" points=\"766,-53 669,-53 669,0 766,0 766,-53\"/>\n",
       "<text text-anchor=\"middle\" x=\"717.5\" y=\"-37.8\" font-family=\"Helvetica,sans-Serif\" font-size=\"14.00\">gini = 0.346</text>\n",
       "<text text-anchor=\"middle\" x=\"717.5\" y=\"-22.8\" font-family=\"Helvetica,sans-Serif\" font-size=\"14.00\">samples = 9</text>\n",
       "<text text-anchor=\"middle\" x=\"717.5\" y=\"-7.8\" font-family=\"Helvetica,sans-Serif\" font-size=\"14.00\">value = [2, 7]</text>\n",
       "</g>\n",
       "<!-- 14&#45;&gt;16 -->\n",
       "<g id=\"edge16\" class=\"edge\">\n",
       "<title>14&#45;&gt;16</title>\n",
       "<path fill=\"none\" stroke=\"black\" d=\"M643.37,-88.95C654.74,-79.53 667.11,-69.27 678.43,-59.89\"/>\n",
       "<polygon fill=\"black\" stroke=\"black\" points=\"680.99,-62.31 686.45,-53.24 676.52,-56.92 680.99,-62.31\"/>\n",
       "</g>\n",
       "</g>\n",
       "</svg>\n"
      ],
      "text/plain": [
       "<graphviz.sources.Source at 0x23e110e0f70>"
      ]
     },
     "execution_count": 10,
     "metadata": {},
     "output_type": "execute_result"
    }
   ],
   "source": [
    "tree = DecisionTreeClassifier(max_depth=4).fit(validPred, validTarget)\n",
    "# Save Tree\n",
    "g = graph.Source(export_graphviz(tree))\n",
    "g\n",
    "# g.render(filename='tree')"
   ]
  },
  {
   "cell_type": "markdown",
   "metadata": {
    "id": "SCzbRinUFGO-"
   },
   "source": [
    "## Evaluating Models"
   ]
  },
  {
   "cell_type": "code",
   "execution_count": 11,
   "metadata": {
    "colab": {
     "base_uri": "https://localhost:8080/",
     "height": 386
    },
    "id": "OdDpmvAMCwTA",
    "outputId": "4ea802d5-9acd-4648-a04c-e021b8b523ba"
   },
   "outputs": [
    {
     "data": {
      "text/plain": [
       "<seaborn.axisgrid.FacetGrid at 0x23e1179e1f0>"
      ]
     },
     "execution_count": 11,
     "metadata": {},
     "output_type": "execute_result"
    },
    {
     "data": {
      "image/png": "[encoded data removed]",
      "text/plain": [
       "<Figure size 402.375x360 with 1 Axes>"
      ]
     },
     "metadata": {
      "needs_background": "light"
     },
     "output_type": "display_data"
    }
   ],
   "source": [
    "# Neural Network Score\n",
    "testPred = model.predict(testX)\n",
    "\n",
    "# Plot Neural Network Score Distribution\n",
    "z = pd.DataFrame(testPred, columns=['Score'])\n",
    "z = z.join(testTarget.reset_index())\n",
    "sns.displot(z, x='Score', hue='Liked', kind='kde')\n",
    "\n"
   ]
  },
  {
   "cell_type": "code",
   "execution_count": 49,
   "metadata": {},
   "outputs": [
    {
     "data": {
      "text/html": [
       "\n",
       "<div id=\"altair-viz-72f155e01da54c5287f6840470ef0730\"></div>\n",
       "<script type=\"text/javascript\">\n",
       "  var VEGA_DEBUG = (typeof VEGA_DEBUG == \"undefined\") ? {} : VEGA_DEBUG;\n",
       "  (function(spec, embedOpt){\n",
       "    let outputDiv = document.currentScript.previousElementSibling;\n",
       "    if (outputDiv.id !== \"altair-viz-72f155e01da54c5287f6840470ef0730\") {\n",
       "      outputDiv = document.getElementById(\"altair-viz-72f155e01da54c5287f6840470ef0730\");\n",
       "    }\n",
       "    const paths = {\n",
       "      \"vega\": \"https://cdn.jsdelivr.net/npm//vega@5?noext\",\n",
       "      \"vega-lib\": \"https://cdn.jsdelivr.net/npm//vega-lib?noext\",\n",
       "      \"vega-lite\": \"https://cdn.jsdelivr.net/npm//vega-lite@4.17.0?noext\",\n",
       "      \"vega-embed\": \"https://cdn.jsdelivr.net/npm//vega-embed@6?noext\",\n",
       "    };\n",
       "\n",
       "    function maybeLoadScript(lib, version) {\n",
       "      var key = `${lib.replace(\"-\", \"\")}_version`;\n",
       "      return (VEGA_DEBUG[key] == version) ?\n",
       "        Promise.resolve(paths[lib]) :\n",
       "        new Promise(function(resolve, reject) {\n",
       "          var s = document.createElement('script');\n",
       "          document.getElementsByTagName(\"head\")[0].appendChild(s);\n",
       "          s.async = true;\n",
       "          s.onload = () => {\n",
       "            VEGA_DEBUG[key] = version;\n",
       "            return resolve(paths[lib]);\n",
       "          };\n",
       "          s.onerror = () => reject(`Error loading script: ${paths[lib]}`);\n",
       "          s.src = paths[lib];\n",
       "        });\n",
       "    }\n",
       "\n",
       "    function showError(err) {\n",
       "      outputDiv.innerHTML = `<div class=\"error\" style=\"color:red;\">${err}</div>`;\n",
       "      throw err;\n",
       "    }\n",
       "\n",
       "    function displayChart(vegaEmbed) {\n",
       "      vegaEmbed(outputDiv, spec, embedOpt)\n",
       "        .catch(err => showError(`Javascript Error: ${err.message}<br>This usually means there's a typo in your chart specification. See the javascript console for the full traceback.`));\n",
       "    }\n",
       "\n",
       "    if(typeof define === \"function\" && define.amd) {\n",
       "      requirejs.config({paths});\n",
       "      require([\"vega-embed\"], displayChart, err => showError(`Error loading script: ${err.message}`));\n",
       "    } else {\n",
       "      maybeLoadScript(\"vega\", \"5\")\n",
       "        .then(() => maybeLoadScript(\"vega-lite\", \"4.17.0\"))\n",
       "        .then(() => maybeLoadScript(\"vega-embed\", \"6\"))\n",
       "        .catch(showError)\n",
       "        .then(() => displayChart(vegaEmbed));\n",
       "    }\n",
       "  })({\"config\": {\"view\": {\"continuousWidth\": 400, \"continuousHeight\": 300}}, \"hconcat\": [{\"mark\": {\"type\": \"area\", \"line\": true, \"opacity\": 0.6}, \"encoding\": {\"color\": {\"field\": \"Liked\", \"type\": \"nominal\"}, \"x\": {\"field\": \"Score\", \"type\": \"quantitative\"}, \"y\": {\"field\": \"Density\", \"stack\": null, \"type\": \"quantitative\"}}, \"selection\": {\"selector045\": {\"type\": \"interval\", \"bind\": \"scales\", \"encodings\": [\"x\", \"y\"]}}, \"transform\": [{\"density\": \"Score\", \"counts\": true, \"extent\": [-0.5, 2], \"groupby\": [\"Liked\"], \"steps\": 200, \"as\": [\"Score\", \"Density\"]}]}, {\"mark\": \"bar\", \"encoding\": {\"color\": {\"field\": \"Liked\", \"type\": \"nominal\"}, \"tooltip\": {\"aggregate\": \"count\", \"type\": \"quantitative\"}, \"x\": {\"bin\": {\"extent\": [-0.5, 2.0], \"step\": 0.05}, \"field\": \"Score\", \"type\": \"quantitative\"}, \"y\": {\"aggregate\": \"count\", \"stack\": \"normalize\", \"type\": \"quantitative\"}}, \"selection\": {\"selector046\": {\"type\": \"interval\", \"bind\": \"scales\", \"encodings\": [\"x\", \"y\"]}}}], \"data\": {\"name\": \"data-a7e0da34d47da341e2d948c0e5d7f064\"}, \"$schema\": \"https://vega.github.io/schema/vega-lite/v4.17.0.json\", \"datasets\": {\"data-a7e0da34d47da341e2d948c0e5d7f064\": [{\"Score\": 0.12429540604352951, \"index\": 993, \"Liked\": 0}, {\"Score\": 0.2256929576396942, \"index\": 859, \"Liked\": 0}, {\"Score\": 0.732752799987793, \"index\": 298, \"Liked\": 0}, {\"Score\": 0.15259309113025665, \"index\": 553, \"Liked\": 0}, {\"Score\": 0.0, \"index\": 672, \"Liked\": 0}, {\"Score\": 0.7268452048301697, \"index\": 971, \"Liked\": 0}, {\"Score\": 1.0811338424682617, \"index\": 27, \"Liked\": 1}, {\"Score\": 0.09468115866184235, \"index\": 231, \"Liked\": 0}, {\"Score\": 0.486882746219635, \"index\": 306, \"Liked\": 0}, {\"Score\": 0.9508609175682068, \"index\": 706, \"Liked\": 1}, {\"Score\": 0.8904989361763, \"index\": 496, \"Liked\": 1}, {\"Score\": 0.9631472229957581, \"index\": 558, \"Liked\": 1}, {\"Score\": 0.46289151906967163, \"index\": 784, \"Liked\": 0}, {\"Score\": 0.7261759042739868, \"index\": 239, \"Liked\": 1}, {\"Score\": 0.8520417213439941, \"index\": 578, \"Liked\": 1}, {\"Score\": 1.575953722000122, \"index\": 55, \"Liked\": 1}, {\"Score\": 0.17894840240478516, \"index\": 906, \"Liked\": 0}, {\"Score\": 0.3301661014556885, \"index\": 175, \"Liked\": 0}, {\"Score\": 0.02460561692714691, \"index\": 14, \"Liked\": 0}, {\"Score\": 0.595511794090271, \"index\": 77, \"Liked\": 1}, {\"Score\": 0.16654303669929504, \"index\": 31, \"Liked\": 0}, {\"Score\": 0.31645888090133667, \"index\": 481, \"Liked\": 1}, {\"Score\": 0.840478777885437, \"index\": 310, \"Liked\": 1}, {\"Score\": 0.486882746219635, \"index\": 311, \"Liked\": 0}, {\"Score\": 0.13894791901111603, \"index\": 883, \"Liked\": 0}, {\"Score\": 0.7901726365089417, \"index\": 788, \"Liked\": 1}, {\"Score\": 0.08246345072984695, \"index\": 45, \"Liked\": 1}, {\"Score\": 0.7535723447799683, \"index\": 103, \"Liked\": 1}, {\"Score\": 1.3559935092926025, \"index\": 760, \"Liked\": 1}, {\"Score\": 0.7326642274856567, \"index\": 1, \"Liked\": 0}, {\"Score\": 0.4453369081020355, \"index\": 823, \"Liked\": 1}, {\"Score\": 0.5044732689857483, \"index\": 710, \"Liked\": 1}, {\"Score\": 0.597571611404419, \"index\": 614, \"Liked\": 1}, {\"Score\": 0.0, \"index\": 790, \"Liked\": 1}, {\"Score\": 0.8776612877845764, \"index\": 408, \"Liked\": 1}, {\"Score\": 0.12501130998134613, \"index\": 736, \"Liked\": 0}, {\"Score\": 0.0, \"index\": 957, \"Liked\": 0}, {\"Score\": 0.1428012251853943, \"index\": 366, \"Liked\": 0}, {\"Score\": 0.4393728971481323, \"index\": 918, \"Liked\": 0}, {\"Score\": 1.1920747756958008, \"index\": 267, \"Liked\": 1}, {\"Score\": 0.7707264423370361, \"index\": 230, \"Liked\": 1}, {\"Score\": 0.486882746219635, \"index\": 996, \"Liked\": 0}, {\"Score\": 0.486882746219635, \"index\": 635, \"Liked\": 1}, {\"Score\": 0.42163601517677307, \"index\": 698, \"Liked\": 0}, {\"Score\": 0.486882746219635, \"index\": 251, \"Liked\": 0}, {\"Score\": 0.0, \"index\": 783, \"Liked\": 0}, {\"Score\": 0.5731903314590454, \"index\": 819, \"Liked\": 0}, {\"Score\": 0.0, \"index\": 141, \"Liked\": 0}, {\"Score\": 0.5235816240310669, \"index\": 316, \"Liked\": 0}, {\"Score\": 0.485858678817749, \"index\": 587, \"Liked\": 0}, {\"Score\": 1.0084179639816284, \"index\": 331, \"Liked\": 1}, {\"Score\": 0.7814908623695374, \"index\": 295, \"Liked\": 1}, {\"Score\": 0.7525434494018555, \"index\": 262, \"Liked\": 1}, {\"Score\": 0.9900116324424744, \"index\": 432, \"Liked\": 1}, {\"Score\": 0.09188631176948547, \"index\": 862, \"Liked\": 0}, {\"Score\": 0.1923947036266327, \"index\": 582, \"Liked\": 0}, {\"Score\": 0.32530102133750916, \"index\": 272, \"Liked\": 1}, {\"Score\": 0.41448158025741577, \"index\": 270, \"Liked\": 1}, {\"Score\": 0.0011997520923614502, \"index\": 987, \"Liked\": 0}, {\"Score\": 0.6421689987182617, \"index\": 319, \"Liked\": 1}, {\"Score\": 0.4299177825450897, \"index\": 569, \"Liked\": 0}, {\"Score\": 0.04127921164035797, \"index\": 643, \"Liked\": 0}, {\"Score\": 0.36097684502601624, \"index\": 142, \"Liked\": 0}, {\"Score\": 0.32977741956710815, \"index\": 202, \"Liked\": 0}, {\"Score\": 0.5888398885726929, \"index\": 413, \"Liked\": 1}, {\"Score\": 0.3781699538230896, \"index\": 196, \"Liked\": 0}, {\"Score\": 0.33227479457855225, \"index\": 264, \"Liked\": 1}, {\"Score\": 0.1146220937371254, \"index\": 531, \"Liked\": 1}, {\"Score\": 0.7282756567001343, \"index\": 252, \"Liked\": 1}, {\"Score\": 0.36452925205230713, \"index\": 576, \"Liked\": 0}, {\"Score\": 0.9961305260658264, \"index\": 738, \"Liked\": 1}, {\"Score\": 0.9487959742546082, \"index\": 299, \"Liked\": 1}, {\"Score\": 0.9673161506652832, \"index\": 740, \"Liked\": 1}, {\"Score\": 0.4071040749549866, \"index\": 247, \"Liked\": 1}, {\"Score\": 0.11998052895069122, \"index\": 926, \"Liked\": 0}, {\"Score\": 0.3050123453140259, \"index\": 412, \"Liked\": 0}, {\"Score\": 0.47340530157089233, \"index\": 389, \"Liked\": 1}, {\"Score\": 0.6808056831359863, \"index\": 796, \"Liked\": 1}, {\"Score\": 0.5906742811203003, \"index\": 601, \"Liked\": 0}, {\"Score\": 0.486882746219635, \"index\": 654, \"Liked\": 1}, {\"Score\": 0.619128406047821, \"index\": 261, \"Liked\": 0}, {\"Score\": 0.4034879207611084, \"index\": 456, \"Liked\": 1}, {\"Score\": 0.6282876133918762, \"index\": 386, \"Liked\": 1}, {\"Score\": 0.07135938107967377, \"index\": 982, \"Liked\": 0}, {\"Score\": 1.0425283908843994, \"index\": 909, \"Liked\": 1}, {\"Score\": 0.8823373913764954, \"index\": 693, \"Liked\": 1}, {\"Score\": 0.5285026431083679, \"index\": 236, \"Liked\": 0}, {\"Score\": 0.3270910978317261, \"index\": 501, \"Liked\": 0}, {\"Score\": 0.8630799651145935, \"index\": 497, \"Liked\": 1}, {\"Score\": 0.486882746219635, \"index\": 874, \"Liked\": 0}, {\"Score\": 0.0, \"index\": 452, \"Liked\": 0}, {\"Score\": 0.5463681221008301, \"index\": 494, \"Liked\": 1}, {\"Score\": 0.06784605979919434, \"index\": 923, \"Liked\": 0}, {\"Score\": 0.23476149141788483, \"index\": 279, \"Liked\": 0}, {\"Score\": 0.1876271367073059, \"index\": 638, \"Liked\": 0}, {\"Score\": 0.4268937110900879, \"index\": 485, \"Liked\": 1}, {\"Score\": 0.4711441695690155, \"index\": 568, \"Liked\": 0}, {\"Score\": 0.29837116599082947, \"index\": 108, \"Liked\": 1}, {\"Score\": 0.327576607465744, \"index\": 367, \"Liked\": 1}, {\"Score\": 0.39045870304107666, \"index\": 644, \"Liked\": 0}, {\"Score\": 0.46565619111061096, \"index\": 785, \"Liked\": 1}, {\"Score\": 0.0, \"index\": 873, \"Liked\": 1}, {\"Score\": 0.8616083264350891, \"index\": 65, \"Liked\": 1}, {\"Score\": 0.8081379532814026, \"index\": 902, \"Liked\": 0}, {\"Score\": 0.4368131756782532, \"index\": 317, \"Liked\": 1}, {\"Score\": 0.4094996452331543, \"index\": 636, \"Liked\": 0}, {\"Score\": 0.5766608715057373, \"index\": 666, \"Liked\": 1}, {\"Score\": 1.2860033512115479, \"index\": 789, \"Liked\": 1}, {\"Score\": 0.0, \"index\": 958, \"Liked\": 0}, {\"Score\": 0.4475404620170593, \"index\": 214, \"Liked\": 1}, {\"Score\": 0.03686055541038513, \"index\": 97, \"Liked\": 1}, {\"Score\": 0.486882746219635, \"index\": 583, \"Liked\": 1}, {\"Score\": 0.0, \"index\": 466, \"Liked\": 0}, {\"Score\": 0.4327579438686371, \"index\": 523, \"Liked\": 0}, {\"Score\": 0.49069279432296753, \"index\": 255, \"Liked\": 1}, {\"Score\": 0.0, \"index\": 385, \"Liked\": 0}, {\"Score\": 0.8506625890731812, \"index\": 545, \"Liked\": 1}, {\"Score\": 0.4076235294342041, \"index\": 382, \"Liked\": 1}, {\"Score\": 0.9739154577255249, \"index\": 489, \"Liked\": 1}, {\"Score\": 0.6119747757911682, \"index\": 513, \"Liked\": 1}, {\"Score\": 0.511534571647644, \"index\": 780, \"Liked\": 1}, {\"Score\": 0.486882746219635, \"index\": 904, \"Liked\": 0}, {\"Score\": 0.6212384700775146, \"index\": 122, \"Liked\": 1}, {\"Score\": 0.15044647455215454, \"index\": 946, \"Liked\": 0}, {\"Score\": 0.2844528257846832, \"index\": 60, \"Liked\": 0}, {\"Score\": 0.0, \"index\": 844, \"Liked\": 0}, {\"Score\": 0.6038230657577515, \"index\": 372, \"Liked\": 1}, {\"Score\": 0.7388507723808289, \"index\": 283, \"Liked\": 0}, {\"Score\": 0.44735366106033325, \"index\": 939, \"Liked\": 0}, {\"Score\": 0.0, \"index\": 608, \"Liked\": 1}, {\"Score\": 0.486882746219635, \"index\": 495, \"Liked\": 0}, {\"Score\": 0.555155873298645, \"index\": 630, \"Liked\": 1}, {\"Score\": 0.21232008934020996, \"index\": 596, \"Liked\": 0}, {\"Score\": 0.01857556402683258, \"index\": 713, \"Liked\": 0}, {\"Score\": 0.531303882598877, \"index\": 753, \"Liked\": 1}, {\"Score\": 1.2474262714385986, \"index\": 624, \"Liked\": 1}, {\"Score\": 0.7928661704063416, \"index\": 312, \"Liked\": 1}, {\"Score\": 0.9593861103057861, \"index\": 8, \"Liked\": 1}, {\"Score\": 0.8471240997314453, \"index\": 529, \"Liked\": 1}, {\"Score\": 0.1739913821220398, \"index\": 876, \"Liked\": 0}, {\"Score\": 0.06187881529331207, \"index\": 101, \"Liked\": 1}, {\"Score\": 0.9805888533592224, \"index\": 615, \"Liked\": 1}, {\"Score\": 0.379973828792572, \"index\": 520, \"Liked\": 1}, {\"Score\": 0.0, \"index\": 249, \"Liked\": 0}, {\"Score\": 0.20073513686656952, \"index\": 278, \"Liked\": 0}, {\"Score\": 0.10700180381536484, \"index\": 424, \"Liked\": 0}, {\"Score\": 0.4117978513240814, \"index\": 384, \"Liked\": 0}, {\"Score\": 0.4812490940093994, \"index\": 395, \"Liked\": 1}, {\"Score\": 0.34459251165390015, \"index\": 54, \"Liked\": 1}, {\"Score\": 0.18914549052715302, \"index\": 34, \"Liked\": 1}, {\"Score\": 0.6587244272232056, \"index\": 271, \"Liked\": 1}, {\"Score\": 0.0, \"index\": 30, \"Liked\": 1}, {\"Score\": 0.708565890789032, \"index\": 403, \"Liked\": 1}, {\"Score\": 0.8035619854927063, \"index\": 757, \"Liked\": 1}, {\"Score\": 0.64349365234375, \"index\": 975, \"Liked\": 0}, {\"Score\": 0.07307741045951843, \"index\": 990, \"Liked\": 0}, {\"Score\": 0.6671991944313049, \"index\": 457, \"Liked\": 1}, {\"Score\": 0.64349365234375, \"index\": 362, \"Liked\": 1}, {\"Score\": 1.4307572841644287, \"index\": 860, \"Liked\": 1}, {\"Score\": 0.6226919293403625, \"index\": 483, \"Liked\": 0}, {\"Score\": 0.11246989667415619, \"index\": 580, \"Liked\": 0}, {\"Score\": 0.0, \"index\": 986, \"Liked\": 0}, {\"Score\": 0.7545090913772583, \"index\": 688, \"Liked\": 1}, {\"Score\": 0.486882746219635, \"index\": 864, \"Liked\": 1}, {\"Score\": 0.6667640805244446, \"index\": 927, \"Liked\": 0}, {\"Score\": 0.0, \"index\": 378, \"Liked\": 0}, {\"Score\": 0.3050123453140259, \"index\": 320, \"Liked\": 0}, {\"Score\": 0.19723282754421234, \"index\": 942, \"Liked\": 0}, {\"Score\": 0.0, \"index\": 351, \"Liked\": 0}, {\"Score\": 0.0, \"index\": 418, \"Liked\": 1}, {\"Score\": 0.20273393392562866, \"index\": 945, \"Liked\": 0}, {\"Score\": 0.2166057676076889, \"index\": 795, \"Liked\": 1}, {\"Score\": 0.5734930038452148, \"index\": 145, \"Liked\": 1}, {\"Score\": 0.21077793836593628, \"index\": 826, \"Liked\": 0}, {\"Score\": 0.10570584237575531, \"index\": 492, \"Liked\": 0}, {\"Score\": 0.19572117924690247, \"index\": 751, \"Liked\": 1}, {\"Score\": 0.0, \"index\": 240, \"Liked\": 0}, {\"Score\": 0.8541961908340454, \"index\": 648, \"Liked\": 1}, {\"Score\": 0.0, \"index\": 886, \"Liked\": 0}, {\"Score\": 0.3102516829967499, \"index\": 144, \"Liked\": 1}, {\"Score\": 0.9805888533592224, \"index\": 767, \"Liked\": 1}, {\"Score\": 0.8011855483055115, \"index\": 999, \"Liked\": 0}, {\"Score\": 0.5563911199569702, \"index\": 467, \"Liked\": 0}, {\"Score\": 0.20118139684200287, \"index\": 315, \"Liked\": 0}, {\"Score\": 0.25545358657836914, \"index\": 989, \"Liked\": 0}, {\"Score\": 0.1238403469324112, \"index\": 922, \"Liked\": 1}, {\"Score\": 0.33155837655067444, \"index\": 717, \"Liked\": 0}, {\"Score\": 0.486882746219635, \"index\": 458, \"Liked\": 1}, {\"Score\": 0.06750071048736572, \"index\": 773, \"Liked\": 0}, {\"Score\": 0.7277021408081055, \"index\": 204, \"Liked\": 1}, {\"Score\": 0.6512041091918945, \"index\": 834, \"Liked\": 1}, {\"Score\": 0.07574178278446198, \"index\": 832, \"Liked\": 0}, {\"Score\": 0.39639195799827576, \"index\": 435, \"Liked\": 0}, {\"Score\": 0.4899532198905945, \"index\": 5, \"Liked\": 0}, {\"Score\": 0.12079904973506927, \"index\": 769, \"Liked\": 1}, {\"Score\": 0.34189289808273315, \"index\": 679, \"Liked\": 0}, {\"Score\": 1.018559217453003, \"index\": 722, \"Liked\": 1}, {\"Score\": 0.5974918603897095, \"index\": 215, \"Liked\": 1}, {\"Score\": 0.2072727233171463, \"index\": 653, \"Liked\": 0}, {\"Score\": 0.447420597076416, \"index\": 150, \"Liked\": 1}]}}, {\"mode\": \"vega-lite\"});\n",
       "</script>"
      ],
      "text/plain": [
       "alt.HConcatChart(...)"
      ]
     },
     "execution_count": 49,
     "metadata": {},
     "output_type": "execute_result"
    }
   ],
   "source": [
    "chart_1 = alt.Chart(z).transform_density(\n",
    "    density='Score',\n",
    "    # bandwidth=0.2,\n",
    "    groupby=['Liked'],\n",
    "    extent= [-0.5, 2],\n",
    "    counts = True,\n",
    "    steps=200,\n",
    "    as_ = [\"Score\", \"Density\"]\n",
    ").mark_area(line=True, opacity=0.6).encode(\n",
    "    alt.X('Score:Q'),\n",
    "    alt.Y('Density:Q', stack=None),\n",
    "    alt.Color('Liked:N')\n",
    ").interactive()\n",
    "\n",
    "chart_2 = alt.Chart(z).mark_bar().encode(\n",
    "    alt.X('Score', bin=alt.BinParams(step=0.05, extent=[-0.5, 2.0])),\n",
    "    alt.Y('count()', stack='normalize'),\n",
    "    color='Liked:N',\n",
    "    tooltip='count()'\n",
    ").interactive()\n",
    "\n",
    "chart_1 | chart_2"
   ]
  },
  {
   "cell_type": "code",
   "execution_count": 12,
   "metadata": {},
   "outputs": [],
   "source": [
    "# Neural Networking \"Post-Processing\"\n",
    "testPred_Tree = tree.predict(testPred)\n",
    "testPred_NN = list(map(lambda y: 0 if y < 0.468 else 1, testPred))"
   ]
  },
  {
   "cell_type": "code",
   "execution_count": 14,
   "metadata": {
    "id": "oEDkR4amE6El"
   },
   "outputs": [
    {
     "data": {
      "image/png": "[encoded data removed]",
      "text/plain": [
       "<Figure size 432x288 with 2 Axes>"
      ]
     },
     "metadata": {
      "needs_background": "light"
     },
     "output_type": "display_data"
    },
    {
     "name": "stdout",
     "output_type": "stream",
     "text": [
      "              precision    recall  f1-score   support\n",
      "\n",
      "           0       0.69      0.74      0.72        97\n",
      "           1       0.74      0.69      0.71       103\n",
      "\n",
      "    accuracy                           0.71       200\n",
      "   macro avg       0.72      0.72      0.71       200\n",
      "weighted avg       0.72      0.71      0.71       200\n",
      "\n"
     ]
    },
    {
     "data": {
      "text/plain": [
       "array([[72, 25],\n",
       "       [32, 71]], dtype=int64)"
      ]
     },
     "execution_count": 14,
     "metadata": {},
     "output_type": "execute_result"
    }
   ],
   "source": [
    "a.evaluate(testTarget, testPred_NN, title='Neural Network')"
   ]
  },
  {
   "cell_type": "code",
   "execution_count": 15,
   "metadata": {},
   "outputs": [
    {
     "data": {
      "image/png": "[encoded data removed]",
      "text/plain": [
       "<Figure size 432x288 with 2 Axes>"
      ]
     },
     "metadata": {
      "needs_background": "light"
     },
     "output_type": "display_data"
    },
    {
     "name": "stdout",
     "output_type": "stream",
     "text": [
      "              precision    recall  f1-score   support\n",
      "\n",
      "           0       0.61      0.90      0.73        97\n",
      "           1       0.82      0.46      0.59       103\n",
      "\n",
      "    accuracy                           0.67       200\n",
      "   macro avg       0.72      0.68      0.66       200\n",
      "weighted avg       0.72      0.67      0.65       200\n",
      "\n"
     ]
    },
    {
     "data": {
      "text/plain": [
       "array([[87, 10],\n",
       "       [56, 47]], dtype=int64)"
      ]
     },
     "execution_count": 15,
     "metadata": {},
     "output_type": "execute_result"
    }
   ],
   "source": [
    "a.evaluate(testTarget, testPred_Tree, title='NN > Decision Tree')"
   ]
  },
  {
   "cell_type": "code",
   "execution_count": null,
   "metadata": {},
   "outputs": [],
   "source": []
  },
  {
   "cell_type": "code",
   "execution_count": null,
   "metadata": {},
   "outputs": [],
   "source": []
  }
 ],
 "metadata": {
  "colab": {
   "authorship_tag": "ABX9TyNDgmxV6Q7+iorgRycH7sDu",
   "collapsed_sections": [],
   "include_colab_link": true,
   "name": "restaurant_reviews.ipynb",
   "provenance": []
  },
  "kernelspec": {
   "display_name": "Python 3 (ipykernel)",
   "language": "python",
   "name": "python3"
  },
  "language_info": {
   "codemirror_mode": {
    "name": "ipython",
    "version": 3
   },
   "file_extension": ".py",
   "mimetype": "text/x-python",
   "name": "python",
   "nbconvert_exporter": "python",
   "pygments_lexer": "ipython3",
   "version": "3.9.9"
  }
 },
 "nbformat": 4,
 "nbformat_minor": 4
}
