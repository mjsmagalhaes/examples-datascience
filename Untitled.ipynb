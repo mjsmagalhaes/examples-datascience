{
 "cells": [
  {
   "cell_type": "code",
   "execution_count": 1,
   "id": "1b1e7986-af9f-456e-8d90-c84cb0a42a4d",
   "metadata": {},
   "outputs": [],
   "source": [
    "from dslib.analysis import Analysis\n",
    "from dslib.nlp import nlp\n",
    "\n",
    "a = Analysis.from_csv('data/Restaurant_Reviews.csv')\n",
    "corpus = a.columns('Review').to_list()"
   ]
  },
  {
   "cell_type": "code",
   "execution_count": 3,
   "id": "9f079f21-5699-4499-81f0-4d5cd7cf3ab5",
   "metadata": {},
   "outputs": [],
   "source": [
    "n = nlp()\n",
    "v = n.extract_vocab(corpus)"
   ]
  },
  {
   "cell_type": "code",
   "execution_count": 5,
   "id": "2028c8f6-e3b7-4f53-8e8e-6ba45dfc215a",
   "metadata": {},
   "outputs": [
    {
     "data": {
      "text/plain": [
       "1517"
      ]
     },
     "execution_count": 5,
     "metadata": {},
     "output_type": "execute_result"
    }
   ],
   "source": [
    "len(v)"
   ]
  },
  {
   "cell_type": "code",
   "execution_count": null,
   "id": "1451f73d-d7d8-406b-ae9f-1d9b39e0092d",
   "metadata": {},
   "outputs": [],
   "source": []
  }
 ],
 "metadata": {
  "kernelspec": {
   "display_name": "Python 3 (ipykernel)",
   "language": "python",
   "name": "python3"
  },
  "language_info": {
   "codemirror_mode": {
    "name": "ipython",
    "version": 3
   },
   "file_extension": ".py",
   "mimetype": "text/x-python",
   "name": "python",
   "nbconvert_exporter": "python",
   "pygments_lexer": "ipython3",
   "version": "3.9.9"
  }
 },
 "nbformat": 4,
 "nbformat_minor": 5
}
