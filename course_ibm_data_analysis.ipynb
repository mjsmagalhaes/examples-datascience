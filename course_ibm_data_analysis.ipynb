{
 "cells": [
  {
   "cell_type": "markdown",
   "metadata": {},
   "source": [
    "# Data Analysis with Python\n",
    "\n",
    "[![Open In Colab](https://colab.research.google.com/assets/colab-badge.svg)](https://colab.research.google.com/github/mjsmagalhaes/examples-datascience/blob/main/course_ibm_data_analysis.ipynb)\n",
    "\n",
    "Created as part of the corse *Data Analysis with Python* from IBM @ Coursera."
   ]
  },
  {
   "cell_type": "code",
   "execution_count": 1,
   "metadata": {},
   "outputs": [],
   "source": [
    "%load_ext autoreload\n",
    "%autoreload 2"
   ]
  },
  {
   "cell_type": "code",
   "execution_count": 2,
   "metadata": {},
   "outputs": [
    {
     "data": {
      "text/html": [
       "<style type='text/css'>\n",
       ".datatable table.frame { margin-bottom: 0; }\n",
       ".datatable table.frame thead { border-bottom: none; }\n",
       ".datatable table.frame tr.coltypes td {  color: #FFFFFF;  line-height: 6px;  padding: 0 0.5em;}\n",
       ".datatable .bool    { background: #DDDD99; }\n",
       ".datatable .object  { background: #565656; }\n",
       ".datatable .int     { background: #5D9E5D; }\n",
       ".datatable .float   { background: #4040CC; }\n",
       ".datatable .str     { background: #CC4040; }\n",
       ".datatable .time    { background: #40CC40; }\n",
       ".datatable .row_index {  background: var(--jp-border-color3);  border-right: 1px solid var(--jp-border-color0);  color: var(--jp-ui-font-color3);  font-size: 9px;}\n",
       ".datatable .frame tbody td { text-align: left; }\n",
       ".datatable .frame tr.coltypes .row_index {  background: var(--jp-border-color0);}\n",
       ".datatable th:nth-child(2) { padding-left: 12px; }\n",
       ".datatable .hellipsis {  color: var(--jp-cell-editor-border-color);}\n",
       ".datatable .vellipsis {  background: var(--jp-layout-color0);  color: var(--jp-cell-editor-border-color);}\n",
       ".datatable .na {  color: var(--jp-cell-editor-border-color);  font-size: 80%;}\n",
       ".datatable .sp {  opacity: 0.25;}\n",
       ".datatable .footer { font-size: 9px; }\n",
       ".datatable .frame_dimensions {  background: var(--jp-border-color3);  border-top: 1px solid var(--jp-border-color0);  color: var(--jp-ui-font-color3);  display: inline-block;  opacity: 0.6;  padding: 1px 10px 1px 5px;}\n",
       "</style>\n"
      ],
      "text/plain": [
       "<IPython.core.display.HTML object>"
      ]
     },
     "metadata": {},
     "output_type": "display_data"
    }
   ],
   "source": [
    "import pandas as pd\n",
    "import numpy as np\n",
    "import seaborn as sns\n",
    "import matplotlib.pyplot as plt \n",
    "\n",
    "from icecream import ic\n",
    "from scipy import stats\n",
    "from click import style\n",
    "\n",
    "from dslib import pandas_from_csv\n",
    "from dslib.helpers import replace_csv_header\n",
    "from dslib.missing import list_missing_values\n",
    "from dslib.plots import plot\n"
   ]
  },
  {
   "cell_type": "markdown",
   "metadata": {},
   "source": [
    "## Importing Data"
   ]
  },
  {
   "cell_type": "markdown",
   "metadata": {},
   "source": [
    "This database comes with 2 files: imports-85.data and imports-85.names. The former contains the data itself while the latter the description of data. From that description I've created imports-85.headers with column names to create the csv file with the usual header."
   ]
  },
  {
   "cell_type": "code",
   "execution_count": 3,
   "metadata": {},
   "outputs": [],
   "source": [
    "# Create CSV file with header from file\n",
    "replace_csv_header('data/imports-85.data', 'data/imports-85.header')"
   ]
  },
  {
   "cell_type": "markdown",
   "metadata": {},
   "source": [
    "Loading the csv file created above"
   ]
  },
  {
   "cell_type": "code",
   "execution_count": 4,
   "metadata": {},
   "outputs": [],
   "source": [
    "df = pandas_from_csv('data/imports-85.csv')"
   ]
  },
  {
   "cell_type": "code",
   "execution_count": 5,
   "metadata": {},
   "outputs": [
    {
     "name": "stderr",
     "output_type": "stream",
     "text": [
      "PandasGUI INFO — pandasgui.gui — Opening PandasGUI\n"
     ]
    },
    {
     "data": {
      "text/plain": [
       "<pandasgui.gui.PandasGui at 0x2754aaf5550>"
      ]
     },
     "execution_count": 5,
     "metadata": {},
     "output_type": "execute_result"
    }
   ],
   "source": [
    "import pandasgui as pdg\n",
    "pdg.show(df)"
   ]
  },
  {
   "cell_type": "code",
   "execution_count": 6,
   "metadata": {},
   "outputs": [],
   "source": [
    "# remove first column (a duplicated index)\n",
    "df.drop(\n",
    "  columns=df.columns[0],\n",
    "  axis='columns',\n",
    "  inplace=True\n",
    ")"
   ]
  },
  {
   "cell_type": "markdown",
   "metadata": {},
   "source": [
    "### Missing Values"
   ]
  },
  {
   "cell_type": "code",
   "execution_count": 7,
   "metadata": {},
   "outputs": [
    {
     "name": "stdout",
     "output_type": "stream",
     "text": [
      "normalized-losses: 41 missing values of type object\n",
      "num-of-doors: 2 missing values of type object\n",
      "bore: 4 missing values of type object\n",
      "stroke: 4 missing values of type object\n",
      "horsepower: 2 missing values of type object\n",
      "peak-rpm: 2 missing values of type object\n",
      "price: 4 missing values of type object\n"
     ]
    }
   ],
   "source": [
    "list_missing_values(df)"
   ]
  },
  {
   "cell_type": "markdown",
   "metadata": {},
   "source": [
    "#### Replace Missing Data with the Average"
   ]
  },
  {
   "cell_type": "code",
   "execution_count": 8,
   "metadata": {},
   "outputs": [
    {
     "name": "stdout",
     "output_type": "stream",
     "text": [
      "Average of normalized-losses: 122.0\n",
      "Average of stroke: 3.255422885572139\n",
      "Average of bore: 3.3297512437810943\n",
      "Average of horsepower: 104.25615763546799\n",
      "Average of peak-rpm: 5125.369458128079\n"
     ]
    }
   ],
   "source": [
    "def replace_nan_by_mean(column):\n",
    "  \"\"\"\n",
    "  Replace NAs with the mean of the column over the entire dataset.\n",
    "  \"\"\"\n",
    "  avg_col = column.astype(\"float\").mean(axis=0)\n",
    "  print(\"Average of {0}:\".format(column.name), avg_col)\n",
    "  return column.replace(np.nan, avg_col, inplace=True)\n",
    "\n",
    "\n",
    "replace_nan_by_mean(df[\"normalized-losses\"])\n",
    "replace_nan_by_mean(df[\"stroke\"])\n",
    "replace_nan_by_mean(df[\"bore\"])\n",
    "replace_nan_by_mean(df[\"horsepower\"])\n",
    "replace_nan_by_mean(df[\"peak-rpm\"])\n"
   ]
  },
  {
   "cell_type": "markdown",
   "metadata": {},
   "source": [
    "#### Replace Missing Data with the Most Frequent\n"
   ]
  },
  {
   "cell_type": "code",
   "execution_count": 9,
   "metadata": {},
   "outputs": [
    {
     "name": "stdout",
     "output_type": "stream",
     "text": [
      "Most Frequent Value of num-of-doors: four\n"
     ]
    }
   ],
   "source": [
    "def replace_nan_by_frequency(column):\n",
    "  \"\"\"\n",
    "  Replace NAs with the mean of the column over the entire dataset.\n",
    "  \"\"\"\n",
    "  mode_col = column.value_counts().idxmax()\n",
    "  print(\"Most Frequent Value of {0}:\".format(column.name), mode_col)\n",
    "\n",
    "  column.replace(np.nan, mode_col, inplace=True)\n",
    "  return column\n",
    "\n",
    "replace_nan_by_frequency(df['num-of-doors']);\n"
   ]
  },
  {
   "cell_type": "markdown",
   "metadata": {},
   "source": [
    "#### \"Handling\" Missing Values by Droping the line\n"
   ]
  },
  {
   "cell_type": "code",
   "execution_count": 10,
   "metadata": {},
   "outputs": [],
   "source": [
    "df.dropna(subset=['price'], axis=0, inplace=True)"
   ]
  },
  {
   "cell_type": "markdown",
   "metadata": {},
   "source": [
    "### Convert Types and Format"
   ]
  },
  {
   "cell_type": "code",
   "execution_count": 11,
   "metadata": {},
   "outputs": [
    {
     "name": "stdout",
     "output_type": "stream",
     "text": [
      "<class 'pandas.core.frame.DataFrame'>\n",
      "Int64Index: 201 entries, 0 to 204\n",
      "Data columns (total 26 columns):\n",
      " #   Column             Non-Null Count  Dtype  \n",
      "---  ------             --------------  -----  \n",
      " 0   symboling          201 non-null    int32  \n",
      " 1   normalized-losses  201 non-null    int32  \n",
      " 2   make               201 non-null    object \n",
      " 3   fuel-type          201 non-null    object \n",
      " 4   aspiration         201 non-null    object \n",
      " 5   num-of-doors       201 non-null    object \n",
      " 6   body-style         201 non-null    object \n",
      " 7   drive-wheels       201 non-null    object \n",
      " 8   engine-location    201 non-null    object \n",
      " 9   wheel-base         201 non-null    float64\n",
      " 10  length             201 non-null    float64\n",
      " 11  width              201 non-null    float64\n",
      " 12  height             201 non-null    float64\n",
      " 13  curb-weight        201 non-null    int32  \n",
      " 14  engine-type        201 non-null    object \n",
      " 15  num-of-cylinders   201 non-null    object \n",
      " 16  engine-size        201 non-null    int32  \n",
      " 17  fuel-system        201 non-null    object \n",
      " 18  bore               201 non-null    float64\n",
      " 19  stroke             201 non-null    float64\n",
      " 20  compression-ratio  201 non-null    float64\n",
      " 21  horsepower         201 non-null    int32  \n",
      " 22  peak-rpm           201 non-null    float64\n",
      " 23  city-mpg           201 non-null    int32  \n",
      " 24  highway-mpg        201 non-null    int32  \n",
      " 25  price              201 non-null    float64\n",
      "dtypes: float64(9), int32(7), object(10)\n",
      "memory usage: 36.9+ KB\n"
     ]
    }
   ],
   "source": [
    "to_float = [\"bore\", \"stroke\", \"price\", \"peak-rpm\"]\n",
    "df[to_float] = df[to_float].astype(\"float\")\n",
    "\n",
    "to_int = [\"normalized-losses\", 'horsepower']\n",
    "df[to_int] = df[to_int].astype(\"int\")\n",
    "df.info();\n"
   ]
  },
  {
   "cell_type": "code",
   "execution_count": 12,
   "metadata": {},
   "outputs": [
    {
     "data": {
      "text/html": [
       "<div>\n",
       "<style scoped>\n",
       "    .dataframe tbody tr th:only-of-type {\n",
       "        vertical-align: middle;\n",
       "    }\n",
       "\n",
       "    .dataframe tbody tr th {\n",
       "        vertical-align: top;\n",
       "    }\n",
       "\n",
       "    .dataframe thead th {\n",
       "        text-align: right;\n",
       "    }\n",
       "</style>\n",
       "<table border=\"1\" class=\"dataframe\">\n",
       "  <thead>\n",
       "    <tr style=\"text-align: right;\">\n",
       "      <th></th>\n",
       "      <th>symboling</th>\n",
       "      <th>normalized-losses</th>\n",
       "      <th>make</th>\n",
       "      <th>aspiration</th>\n",
       "      <th>num-of-doors</th>\n",
       "      <th>body-style</th>\n",
       "      <th>drive-wheels</th>\n",
       "      <th>engine-location</th>\n",
       "      <th>wheel-base</th>\n",
       "      <th>length</th>\n",
       "      <th>...</th>\n",
       "      <th>bore</th>\n",
       "      <th>stroke</th>\n",
       "      <th>compression-ratio</th>\n",
       "      <th>horsepower</th>\n",
       "      <th>peak-rpm</th>\n",
       "      <th>city-mpg</th>\n",
       "      <th>highway-mpg</th>\n",
       "      <th>price</th>\n",
       "      <th>fuel-type-diesel</th>\n",
       "      <th>fuel-type-gas</th>\n",
       "    </tr>\n",
       "  </thead>\n",
       "  <tbody>\n",
       "    <tr>\n",
       "      <th>0</th>\n",
       "      <td>3</td>\n",
       "      <td>122</td>\n",
       "      <td>alfa-romero</td>\n",
       "      <td>std</td>\n",
       "      <td>two</td>\n",
       "      <td>convertible</td>\n",
       "      <td>rwd</td>\n",
       "      <td>front</td>\n",
       "      <td>88.6</td>\n",
       "      <td>168.8</td>\n",
       "      <td>...</td>\n",
       "      <td>3.47</td>\n",
       "      <td>2.68</td>\n",
       "      <td>9.0</td>\n",
       "      <td>111</td>\n",
       "      <td>5000.0</td>\n",
       "      <td>21</td>\n",
       "      <td>27</td>\n",
       "      <td>13495.0</td>\n",
       "      <td>0</td>\n",
       "      <td>1</td>\n",
       "    </tr>\n",
       "    <tr>\n",
       "      <th>1</th>\n",
       "      <td>3</td>\n",
       "      <td>122</td>\n",
       "      <td>alfa-romero</td>\n",
       "      <td>std</td>\n",
       "      <td>two</td>\n",
       "      <td>convertible</td>\n",
       "      <td>rwd</td>\n",
       "      <td>front</td>\n",
       "      <td>88.6</td>\n",
       "      <td>168.8</td>\n",
       "      <td>...</td>\n",
       "      <td>3.47</td>\n",
       "      <td>2.68</td>\n",
       "      <td>9.0</td>\n",
       "      <td>111</td>\n",
       "      <td>5000.0</td>\n",
       "      <td>21</td>\n",
       "      <td>27</td>\n",
       "      <td>16500.0</td>\n",
       "      <td>0</td>\n",
       "      <td>1</td>\n",
       "    </tr>\n",
       "    <tr>\n",
       "      <th>2</th>\n",
       "      <td>1</td>\n",
       "      <td>122</td>\n",
       "      <td>alfa-romero</td>\n",
       "      <td>std</td>\n",
       "      <td>two</td>\n",
       "      <td>hatchback</td>\n",
       "      <td>rwd</td>\n",
       "      <td>front</td>\n",
       "      <td>94.5</td>\n",
       "      <td>171.2</td>\n",
       "      <td>...</td>\n",
       "      <td>2.68</td>\n",
       "      <td>3.47</td>\n",
       "      <td>9.0</td>\n",
       "      <td>154</td>\n",
       "      <td>5000.0</td>\n",
       "      <td>19</td>\n",
       "      <td>26</td>\n",
       "      <td>16500.0</td>\n",
       "      <td>0</td>\n",
       "      <td>1</td>\n",
       "    </tr>\n",
       "    <tr>\n",
       "      <th>3</th>\n",
       "      <td>2</td>\n",
       "      <td>164</td>\n",
       "      <td>audi</td>\n",
       "      <td>std</td>\n",
       "      <td>four</td>\n",
       "      <td>sedan</td>\n",
       "      <td>fwd</td>\n",
       "      <td>front</td>\n",
       "      <td>99.8</td>\n",
       "      <td>176.6</td>\n",
       "      <td>...</td>\n",
       "      <td>3.19</td>\n",
       "      <td>3.40</td>\n",
       "      <td>10.0</td>\n",
       "      <td>102</td>\n",
       "      <td>5500.0</td>\n",
       "      <td>24</td>\n",
       "      <td>30</td>\n",
       "      <td>13950.0</td>\n",
       "      <td>0</td>\n",
       "      <td>1</td>\n",
       "    </tr>\n",
       "    <tr>\n",
       "      <th>4</th>\n",
       "      <td>2</td>\n",
       "      <td>164</td>\n",
       "      <td>audi</td>\n",
       "      <td>std</td>\n",
       "      <td>four</td>\n",
       "      <td>sedan</td>\n",
       "      <td>4wd</td>\n",
       "      <td>front</td>\n",
       "      <td>99.4</td>\n",
       "      <td>176.6</td>\n",
       "      <td>...</td>\n",
       "      <td>3.19</td>\n",
       "      <td>3.40</td>\n",
       "      <td>8.0</td>\n",
       "      <td>115</td>\n",
       "      <td>5500.0</td>\n",
       "      <td>18</td>\n",
       "      <td>22</td>\n",
       "      <td>17450.0</td>\n",
       "      <td>0</td>\n",
       "      <td>1</td>\n",
       "    </tr>\n",
       "    <tr>\n",
       "      <th>...</th>\n",
       "      <td>...</td>\n",
       "      <td>...</td>\n",
       "      <td>...</td>\n",
       "      <td>...</td>\n",
       "      <td>...</td>\n",
       "      <td>...</td>\n",
       "      <td>...</td>\n",
       "      <td>...</td>\n",
       "      <td>...</td>\n",
       "      <td>...</td>\n",
       "      <td>...</td>\n",
       "      <td>...</td>\n",
       "      <td>...</td>\n",
       "      <td>...</td>\n",
       "      <td>...</td>\n",
       "      <td>...</td>\n",
       "      <td>...</td>\n",
       "      <td>...</td>\n",
       "      <td>...</td>\n",
       "      <td>...</td>\n",
       "      <td>...</td>\n",
       "    </tr>\n",
       "    <tr>\n",
       "      <th>200</th>\n",
       "      <td>-1</td>\n",
       "      <td>95</td>\n",
       "      <td>volvo</td>\n",
       "      <td>std</td>\n",
       "      <td>four</td>\n",
       "      <td>sedan</td>\n",
       "      <td>rwd</td>\n",
       "      <td>front</td>\n",
       "      <td>109.1</td>\n",
       "      <td>188.8</td>\n",
       "      <td>...</td>\n",
       "      <td>3.78</td>\n",
       "      <td>3.15</td>\n",
       "      <td>9.5</td>\n",
       "      <td>114</td>\n",
       "      <td>5400.0</td>\n",
       "      <td>23</td>\n",
       "      <td>28</td>\n",
       "      <td>16845.0</td>\n",
       "      <td>0</td>\n",
       "      <td>1</td>\n",
       "    </tr>\n",
       "    <tr>\n",
       "      <th>201</th>\n",
       "      <td>-1</td>\n",
       "      <td>95</td>\n",
       "      <td>volvo</td>\n",
       "      <td>turbo</td>\n",
       "      <td>four</td>\n",
       "      <td>sedan</td>\n",
       "      <td>rwd</td>\n",
       "      <td>front</td>\n",
       "      <td>109.1</td>\n",
       "      <td>188.8</td>\n",
       "      <td>...</td>\n",
       "      <td>3.78</td>\n",
       "      <td>3.15</td>\n",
       "      <td>8.7</td>\n",
       "      <td>160</td>\n",
       "      <td>5300.0</td>\n",
       "      <td>19</td>\n",
       "      <td>25</td>\n",
       "      <td>19045.0</td>\n",
       "      <td>0</td>\n",
       "      <td>1</td>\n",
       "    </tr>\n",
       "    <tr>\n",
       "      <th>202</th>\n",
       "      <td>-1</td>\n",
       "      <td>95</td>\n",
       "      <td>volvo</td>\n",
       "      <td>std</td>\n",
       "      <td>four</td>\n",
       "      <td>sedan</td>\n",
       "      <td>rwd</td>\n",
       "      <td>front</td>\n",
       "      <td>109.1</td>\n",
       "      <td>188.8</td>\n",
       "      <td>...</td>\n",
       "      <td>3.58</td>\n",
       "      <td>2.87</td>\n",
       "      <td>8.8</td>\n",
       "      <td>134</td>\n",
       "      <td>5500.0</td>\n",
       "      <td>18</td>\n",
       "      <td>23</td>\n",
       "      <td>21485.0</td>\n",
       "      <td>0</td>\n",
       "      <td>1</td>\n",
       "    </tr>\n",
       "    <tr>\n",
       "      <th>203</th>\n",
       "      <td>-1</td>\n",
       "      <td>95</td>\n",
       "      <td>volvo</td>\n",
       "      <td>turbo</td>\n",
       "      <td>four</td>\n",
       "      <td>sedan</td>\n",
       "      <td>rwd</td>\n",
       "      <td>front</td>\n",
       "      <td>109.1</td>\n",
       "      <td>188.8</td>\n",
       "      <td>...</td>\n",
       "      <td>3.01</td>\n",
       "      <td>3.40</td>\n",
       "      <td>23.0</td>\n",
       "      <td>106</td>\n",
       "      <td>4800.0</td>\n",
       "      <td>26</td>\n",
       "      <td>27</td>\n",
       "      <td>22470.0</td>\n",
       "      <td>1</td>\n",
       "      <td>0</td>\n",
       "    </tr>\n",
       "    <tr>\n",
       "      <th>204</th>\n",
       "      <td>-1</td>\n",
       "      <td>95</td>\n",
       "      <td>volvo</td>\n",
       "      <td>turbo</td>\n",
       "      <td>four</td>\n",
       "      <td>sedan</td>\n",
       "      <td>rwd</td>\n",
       "      <td>front</td>\n",
       "      <td>109.1</td>\n",
       "      <td>188.8</td>\n",
       "      <td>...</td>\n",
       "      <td>3.78</td>\n",
       "      <td>3.15</td>\n",
       "      <td>9.5</td>\n",
       "      <td>114</td>\n",
       "      <td>5400.0</td>\n",
       "      <td>19</td>\n",
       "      <td>25</td>\n",
       "      <td>22625.0</td>\n",
       "      <td>0</td>\n",
       "      <td>1</td>\n",
       "    </tr>\n",
       "  </tbody>\n",
       "</table>\n",
       "<p>201 rows × 27 columns</p>\n",
       "</div>"
      ],
      "text/plain": [
       "     symboling  normalized-losses         make aspiration num-of-doors  \\\n",
       "0            3                122  alfa-romero        std          two   \n",
       "1            3                122  alfa-romero        std          two   \n",
       "2            1                122  alfa-romero        std          two   \n",
       "3            2                164         audi        std         four   \n",
       "4            2                164         audi        std         four   \n",
       "..         ...                ...          ...        ...          ...   \n",
       "200         -1                 95        volvo        std         four   \n",
       "201         -1                 95        volvo      turbo         four   \n",
       "202         -1                 95        volvo        std         four   \n",
       "203         -1                 95        volvo      turbo         four   \n",
       "204         -1                 95        volvo      turbo         four   \n",
       "\n",
       "      body-style drive-wheels engine-location  wheel-base  length  ...  bore  \\\n",
       "0    convertible          rwd           front        88.6   168.8  ...  3.47   \n",
       "1    convertible          rwd           front        88.6   168.8  ...  3.47   \n",
       "2      hatchback          rwd           front        94.5   171.2  ...  2.68   \n",
       "3          sedan          fwd           front        99.8   176.6  ...  3.19   \n",
       "4          sedan          4wd           front        99.4   176.6  ...  3.19   \n",
       "..           ...          ...             ...         ...     ...  ...   ...   \n",
       "200        sedan          rwd           front       109.1   188.8  ...  3.78   \n",
       "201        sedan          rwd           front       109.1   188.8  ...  3.78   \n",
       "202        sedan          rwd           front       109.1   188.8  ...  3.58   \n",
       "203        sedan          rwd           front       109.1   188.8  ...  3.01   \n",
       "204        sedan          rwd           front       109.1   188.8  ...  3.78   \n",
       "\n",
       "     stroke  compression-ratio horsepower peak-rpm  city-mpg highway-mpg  \\\n",
       "0      2.68                9.0        111   5000.0        21          27   \n",
       "1      2.68                9.0        111   5000.0        21          27   \n",
       "2      3.47                9.0        154   5000.0        19          26   \n",
       "3      3.40               10.0        102   5500.0        24          30   \n",
       "4      3.40                8.0        115   5500.0        18          22   \n",
       "..      ...                ...        ...      ...       ...         ...   \n",
       "200    3.15                9.5        114   5400.0        23          28   \n",
       "201    3.15                8.7        160   5300.0        19          25   \n",
       "202    2.87                8.8        134   5500.0        18          23   \n",
       "203    3.40               23.0        106   4800.0        26          27   \n",
       "204    3.15                9.5        114   5400.0        19          25   \n",
       "\n",
       "       price  fuel-type-diesel  fuel-type-gas  \n",
       "0    13495.0                 0              1  \n",
       "1    16500.0                 0              1  \n",
       "2    16500.0                 0              1  \n",
       "3    13950.0                 0              1  \n",
       "4    17450.0                 0              1  \n",
       "..       ...               ...            ...  \n",
       "200  16845.0                 0              1  \n",
       "201  19045.0                 0              1  \n",
       "202  21485.0                 0              1  \n",
       "203  22470.0                 1              0  \n",
       "204  22625.0                 0              1  \n",
       "\n",
       "[201 rows x 27 columns]"
      ]
     },
     "execution_count": 12,
     "metadata": {},
     "output_type": "execute_result"
    }
   ],
   "source": [
    "df['fuel-type'].value_counts()\n",
    "d = pd.get_dummies(df['fuel-type'])\n",
    "\n",
    "d.rename(\n",
    "    columns={'gas': 'fuel-type-gas', 'diesel': 'fuel-type-diesel'}, \n",
    "    inplace=True\n",
    ")\n",
    "\n",
    "# merge the new dataframe to the original dataframe\n",
    "pd.concat([df, d], axis=1).drop('fuel-type', axis=1)"
   ]
  },
  {
   "cell_type": "code",
   "execution_count": 13,
   "metadata": {},
   "outputs": [
    {
     "data": {
      "text/plain": [
       "<AxesSubplot:xlabel='num-of-doors', ylabel='price'>"
      ]
     },
     "execution_count": 13,
     "metadata": {},
     "output_type": "execute_result"
    },
    {
     "data": {
      "image/png": "[encoded data removed]",
      "text/plain": [
       "<Figure size 432x288 with 1 Axes>"
      ]
     },
     "metadata": {
      "needs_background": "light"
     },
     "output_type": "display_data"
    }
   ],
   "source": [
    "sns.boxplot(y=\"price\", x='num-of-doors', data=df)"
   ]
  },
  {
   "cell_type": "code",
   "execution_count": 14,
   "metadata": {},
   "outputs": [
    {
     "data": {
      "text/plain": [
       "<seaborn.axisgrid.JointGrid at 0x275576aa700>"
      ]
     },
     "execution_count": 14,
     "metadata": {},
     "output_type": "execute_result"
    },
    {
     "data": {
      "image/png": "[encoded data removed]",
      "text/plain": [
       "<Figure size 432x432 with 3 Axes>"
      ]
     },
     "metadata": {
      "needs_background": "light"
     },
     "output_type": "display_data"
    }
   ],
   "source": [
    "sns.jointplot(x='engine-size', y='price', data=df)\n"
   ]
  },
  {
   "cell_type": "code",
   "execution_count": 15,
   "metadata": {},
   "outputs": [
    {
     "data": {
      "text/html": [
       "<div>\n",
       "<style scoped>\n",
       "    .dataframe tbody tr th:only-of-type {\n",
       "        vertical-align: middle;\n",
       "    }\n",
       "\n",
       "    .dataframe tbody tr th {\n",
       "        vertical-align: top;\n",
       "    }\n",
       "\n",
       "    .dataframe thead tr th {\n",
       "        text-align: left;\n",
       "    }\n",
       "\n",
       "    .dataframe thead tr:last-of-type th {\n",
       "        text-align: right;\n",
       "    }\n",
       "</style>\n",
       "<table border=\"1\" class=\"dataframe\">\n",
       "  <thead>\n",
       "    <tr>\n",
       "      <th></th>\n",
       "      <th colspan=\"5\" halign=\"left\">price</th>\n",
       "    </tr>\n",
       "    <tr>\n",
       "      <th>body-style</th>\n",
       "      <th>convertible</th>\n",
       "      <th>hardtop</th>\n",
       "      <th>hatchback</th>\n",
       "      <th>sedan</th>\n",
       "      <th>wagon</th>\n",
       "    </tr>\n",
       "    <tr>\n",
       "      <th>drive-wheels</th>\n",
       "      <th></th>\n",
       "      <th></th>\n",
       "      <th></th>\n",
       "      <th></th>\n",
       "      <th></th>\n",
       "    </tr>\n",
       "  </thead>\n",
       "  <tbody>\n",
       "    <tr>\n",
       "      <th>4wd</th>\n",
       "      <td>NaN</td>\n",
       "      <td>NaN</td>\n",
       "      <td>7603.000000</td>\n",
       "      <td>12647.333333</td>\n",
       "      <td>9095.750000</td>\n",
       "    </tr>\n",
       "    <tr>\n",
       "      <th>fwd</th>\n",
       "      <td>11595.0</td>\n",
       "      <td>8249.000000</td>\n",
       "      <td>8396.387755</td>\n",
       "      <td>9811.800000</td>\n",
       "      <td>9997.333333</td>\n",
       "    </tr>\n",
       "    <tr>\n",
       "      <th>rwd</th>\n",
       "      <td>23949.6</td>\n",
       "      <td>24202.714286</td>\n",
       "      <td>14337.777778</td>\n",
       "      <td>21711.833333</td>\n",
       "      <td>16994.222222</td>\n",
       "    </tr>\n",
       "  </tbody>\n",
       "</table>\n",
       "</div>"
      ],
      "text/plain": [
       "                   price                                            \\\n",
       "body-style   convertible       hardtop     hatchback         sedan   \n",
       "drive-wheels                                                         \n",
       "4wd                  NaN           NaN   7603.000000  12647.333333   \n",
       "fwd              11595.0   8249.000000   8396.387755   9811.800000   \n",
       "rwd              23949.6  24202.714286  14337.777778  21711.833333   \n",
       "\n",
       "                            \n",
       "body-style           wagon  \n",
       "drive-wheels                \n",
       "4wd            9095.750000  \n",
       "fwd            9997.333333  \n",
       "rwd           16994.222222  "
      ]
     },
     "execution_count": 15,
     "metadata": {},
     "output_type": "execute_result"
    }
   ],
   "source": [
    "df[['price', 'drive-wheels', 'body-style']].groupby(['drive-wheels', 'body-style'], as_index=False).mean().pivot(\n",
    "    index='drive-wheels',\n",
    "    columns='body-style'\n",
    ")\n"
   ]
  },
  {
   "cell_type": "code",
   "execution_count": 21,
   "metadata": {},
   "outputs": [
    {
     "data": {
      "text/html": [
       "\n",
       "<div id=\"altair-viz-6a035ceac8b84b52b1bb6e89008e2ff0\"></div>\n",
       "<script type=\"text/javascript\">\n",
       "  var VEGA_DEBUG = (typeof VEGA_DEBUG == \"undefined\") ? {} : VEGA_DEBUG;\n",
       "  (function(spec, embedOpt){\n",
       "    let outputDiv = document.currentScript.previousElementSibling;\n",
       "    if (outputDiv.id !== \"altair-viz-6a035ceac8b84b52b1bb6e89008e2ff0\") {\n",
       "      outputDiv = document.getElementById(\"altair-viz-6a035ceac8b84b52b1bb6e89008e2ff0\");\n",
       "    }\n",
       "    const paths = {\n",
       "      \"vega\": \"https://cdn.jsdelivr.net/npm//vega@5?noext\",\n",
       "      \"vega-lib\": \"https://cdn.jsdelivr.net/npm//vega-lib?noext\",\n",
       "      \"vega-lite\": \"https://cdn.jsdelivr.net/npm//vega-lite@4.17.0?noext\",\n",
       "      \"vega-embed\": \"https://cdn.jsdelivr.net/npm//vega-embed@6?noext\",\n",
       "    };\n",
       "\n",
       "    function maybeLoadScript(lib, version) {\n",
       "      var key = `${lib.replace(\"-\", \"\")}_version`;\n",
       "      return (VEGA_DEBUG[key] == version) ?\n",
       "        Promise.resolve(paths[lib]) :\n",
       "        new Promise(function(resolve, reject) {\n",
       "          var s = document.createElement('script');\n",
       "          document.getElementsByTagName(\"head\")[0].appendChild(s);\n",
       "          s.async = true;\n",
       "          s.onload = () => {\n",
       "            VEGA_DEBUG[key] = version;\n",
       "            return resolve(paths[lib]);\n",
       "          };\n",
       "          s.onerror = () => reject(`Error loading script: ${paths[lib]}`);\n",
       "          s.src = paths[lib];\n",
       "        });\n",
       "    }\n",
       "\n",
       "    function showError(err) {\n",
       "      outputDiv.innerHTML = `<div class=\"error\" style=\"color:red;\">${err}</div>`;\n",
       "      throw err;\n",
       "    }\n",
       "\n",
       "    function displayChart(vegaEmbed) {\n",
       "      vegaEmbed(outputDiv, spec, embedOpt)\n",
       "        .catch(err => showError(`Javascript Error: ${err.message}<br>This usually means there's a typo in your chart specification. See the javascript console for the full traceback.`));\n",
       "    }\n",
       "\n",
       "    if(typeof define === \"function\" && define.amd) {\n",
       "      requirejs.config({paths});\n",
       "      require([\"vega-embed\"], displayChart, err => showError(`Error loading script: ${err.message}`));\n",
       "    } else {\n",
       "      maybeLoadScript(\"vega\", \"5\")\n",
       "        .then(() => maybeLoadScript(\"vega-lite\", \"4.17.0\"))\n",
       "        .then(() => maybeLoadScript(\"vega-embed\", \"6\"))\n",
       "        .catch(showError)\n",
       "        .then(() => displayChart(vegaEmbed));\n",
       "    }\n",
       "  })({\"config\": {\"view\": {\"continuousWidth\": 400, \"continuousHeight\": 300}}, \"layer\": [{\"mark\": \"rect\", \"encoding\": {\"color\": {\"field\": \"correlation\", \"legend\": null, \"type\": \"quantitative\"}, \"x\": {\"field\": \"var1\", \"title\": null, \"type\": \"nominal\"}, \"y\": {\"field\": \"var2\", \"title\": null, \"type\": \"nominal\"}}, \"height\": {\"step\": 40}, \"width\": 800}, {\"mark\": {\"type\": \"text\", \"size\": 18}, \"encoding\": {\"color\": {\"condition\": {\"value\": \"white\", \"test\": \"datum.correlation > 0.5\"}, \"value\": \"black\"}, \"text\": {\"field\": \"correlation\", \"format\": \".2f\", \"type\": \"quantitative\"}, \"x\": {\"field\": \"var1\", \"title\": null, \"type\": \"nominal\"}, \"y\": {\"field\": \"var2\", \"title\": null, \"type\": \"nominal\"}}, \"height\": {\"step\": 40}, \"width\": 800}], \"data\": {\"name\": \"data-84c8689a19c5a16df68e240f5f067bd9\"}, \"transform\": [{\"filter\": \"datum.var1 <= datum.var2\"}], \"$schema\": \"https://vega.github.io/schema/vega-lite/v4.17.0.json\", \"datasets\": {\"data-84c8689a19c5a16df68e240f5f067bd9\": [{\"var1\": \"symboling\", \"var2\": \"symboling\", \"correlation\": 1.0}, {\"var1\": \"normalized-losses\", \"var2\": \"symboling\", \"correlation\": 0.46626375799151326}, {\"var1\": \"wheel-base\", \"var2\": \"symboling\", \"correlation\": -0.5359868030343232}, {\"var1\": \"length\", \"var2\": \"symboling\", \"correlation\": -0.36540436279075583}, {\"var1\": \"width\", \"var2\": \"symboling\", \"correlation\": -0.24242260389164516}, {\"var1\": \"height\", \"var2\": \"symboling\", \"correlation\": -0.5501598641343743}, {\"var1\": \"curb-weight\", \"var2\": \"symboling\", \"correlation\": -0.2331184853695864}, {\"var1\": \"engine-size\", \"var2\": \"symboling\", \"correlation\": -0.11058055620198273}, {\"var1\": \"bore\", \"var2\": \"symboling\", \"correlation\": -0.14001936989098884}, {\"var1\": \"stroke\", \"var2\": \"symboling\", \"correlation\": -0.00815284245574621}, {\"var1\": \"compression-ratio\", \"var2\": \"symboling\", \"correlation\": -0.1821961579761049}, {\"var1\": \"horsepower\", \"var2\": \"symboling\", \"correlation\": 0.07581028630244302}, {\"var1\": \"peak-rpm\", \"var2\": \"symboling\", \"correlation\": 0.27973965896374103}, {\"var1\": \"city-mpg\", \"var2\": \"symboling\", \"correlation\": -0.035527043332382144}, {\"var1\": \"highway-mpg\", \"var2\": \"symboling\", \"correlation\": 0.03623281072144124}, {\"var1\": \"price\", \"var2\": \"symboling\", \"correlation\": -0.08239118716962376}, {\"var1\": \"symboling\", \"var2\": \"normalized-losses\", \"correlation\": 0.46626375799151326}, {\"var1\": \"normalized-losses\", \"var2\": \"normalized-losses\", \"correlation\": 1.0}, {\"var1\": \"wheel-base\", \"var2\": \"normalized-losses\", \"correlation\": -0.05666123807633178}, {\"var1\": \"length\", \"var2\": \"normalized-losses\", \"correlation\": 0.01942356341893398}, {\"var1\": \"width\", \"var2\": \"normalized-losses\", \"correlation\": 0.08680206312317187}, {\"var1\": \"height\", \"var2\": \"normalized-losses\", \"correlation\": -0.37373695023527376}, {\"var1\": \"curb-weight\", \"var2\": \"normalized-losses\", \"correlation\": 0.09940425372349927}, {\"var1\": \"engine-size\", \"var2\": \"normalized-losses\", \"correlation\": 0.11236002451309968}, {\"var1\": \"bore\", \"var2\": \"normalized-losses\", \"correlation\": -0.02986248349532485}, {\"var1\": \"stroke\", \"var2\": \"normalized-losses\", \"correlation\": 0.0550453101321482}, {\"var1\": \"compression-ratio\", \"var2\": \"normalized-losses\", \"correlation\": -0.11471324597332148}, {\"var1\": \"horsepower\", \"var2\": \"normalized-losses\", \"correlation\": 0.21729972155682573}, {\"var1\": \"peak-rpm\", \"var2\": \"normalized-losses\", \"correlation\": 0.23954348516348947}, {\"var1\": \"city-mpg\", \"var2\": \"normalized-losses\", \"correlation\": -0.22501572863445693}, {\"var1\": \"highway-mpg\", \"var2\": \"normalized-losses\", \"correlation\": -0.18187718191761093}, {\"var1\": \"price\", \"var2\": \"normalized-losses\", \"correlation\": 0.13399873429274337}, {\"var1\": \"symboling\", \"var2\": \"wheel-base\", \"correlation\": -0.5359868030343232}, {\"var1\": \"normalized-losses\", \"var2\": \"wheel-base\", \"correlation\": -0.05666123807633178}, {\"var1\": \"wheel-base\", \"var2\": \"wheel-base\", \"correlation\": 1.0}, {\"var1\": \"length\", \"var2\": \"wheel-base\", \"correlation\": 0.8760238919618004}, {\"var1\": \"width\", \"var2\": \"wheel-base\", \"correlation\": 0.8145066522681037}, {\"var1\": \"height\", \"var2\": \"wheel-base\", \"correlation\": 0.5907416748215093}, {\"var1\": \"curb-weight\", \"var2\": \"wheel-base\", \"correlation\": 0.7820972444156639}, {\"var1\": \"engine-size\", \"var2\": \"wheel-base\", \"correlation\": 0.5720266928058411}, {\"var1\": \"bore\", \"var2\": \"wheel-base\", \"correlation\": 0.49324418602960196}, {\"var1\": \"stroke\", \"var2\": \"wheel-base\", \"correlation\": 0.1580176693211852}, {\"var1\": \"compression-ratio\", \"var2\": \"wheel-base\", \"correlation\": 0.25031308802836133}, {\"var1\": \"horsepower\", \"var2\": \"wheel-base\", \"correlation\": 0.37117765385823975}, {\"var1\": \"peak-rpm\", \"var2\": \"wheel-base\", \"correlation\": -0.36030452791694473}, {\"var1\": \"city-mpg\", \"var2\": \"wheel-base\", \"correlation\": -0.4706064088423563}, {\"var1\": \"highway-mpg\", \"var2\": \"wheel-base\", \"correlation\": -0.5433044680377367}, {\"var1\": \"price\", \"var2\": \"wheel-base\", \"correlation\": 0.5846418222655075}, {\"var1\": \"symboling\", \"var2\": \"length\", \"correlation\": -0.36540436279075583}, {\"var1\": \"normalized-losses\", \"var2\": \"length\", \"correlation\": 0.01942356341893398}, {\"var1\": \"wheel-base\", \"var2\": \"length\", \"correlation\": 0.8760238919618004}, {\"var1\": \"length\", \"var2\": \"length\", \"correlation\": 1.0}, {\"var1\": \"width\", \"var2\": \"length\", \"correlation\": 0.8571703218912989}, {\"var1\": \"height\", \"var2\": \"length\", \"correlation\": 0.49206254941560257}, {\"var1\": \"curb-weight\", \"var2\": \"length\", \"correlation\": 0.8806647862654409}, {\"var1\": \"engine-size\", \"var2\": \"length\", \"correlation\": 0.685024762075339}, {\"var1\": \"bore\", \"var2\": \"length\", \"correlation\": 0.6089709700250044}, {\"var1\": \"stroke\", \"var2\": \"length\", \"correlation\": 0.12395230948227912}, {\"var1\": \"compression-ratio\", \"var2\": \"length\", \"correlation\": 0.15973310888732745}, {\"var1\": \"horsepower\", \"var2\": \"length\", \"correlation\": 0.579794691161872}, {\"var1\": \"peak-rpm\", \"var2\": \"length\", \"correlation\": -0.2859695997007066}, {\"var1\": \"city-mpg\", \"var2\": \"length\", \"correlation\": -0.6651923947142148}, {\"var1\": \"highway-mpg\", \"var2\": \"length\", \"correlation\": -0.6981418469786206}, {\"var1\": \"price\", \"var2\": \"length\", \"correlation\": 0.6906283804483633}, {\"var1\": \"symboling\", \"var2\": \"width\", \"correlation\": -0.24242260389164516}, {\"var1\": \"normalized-losses\", \"var2\": \"width\", \"correlation\": 0.08680206312317187}, {\"var1\": \"wheel-base\", \"var2\": \"width\", \"correlation\": 0.8145066522681037}, {\"var1\": \"length\", \"var2\": \"width\", \"correlation\": 0.8571703218912989}, {\"var1\": \"width\", \"var2\": \"width\", \"correlation\": 1.0}, {\"var1\": \"height\", \"var2\": \"width\", \"correlation\": 0.3060021617034445}, {\"var1\": \"curb-weight\", \"var2\": \"width\", \"correlation\": 0.8662010980938427}, {\"var1\": \"engine-size\", \"var2\": \"width\", \"correlation\": 0.7294356383711995}, {\"var1\": \"bore\", \"var2\": \"width\", \"correlation\": 0.5448854634757385}, {\"var1\": \"stroke\", \"var2\": \"width\", \"correlation\": 0.18882198121701527}, {\"var1\": \"compression-ratio\", \"var2\": \"width\", \"correlation\": 0.18986711802230002}, {\"var1\": \"horsepower\", \"var2\": \"width\", \"correlation\": 0.6150559937086876}, {\"var1\": \"peak-rpm\", \"var2\": \"width\", \"correlation\": -0.24580014375355708}, {\"var1\": \"city-mpg\", \"var2\": \"width\", \"correlation\": -0.633530639341753}, {\"var1\": \"highway-mpg\", \"var2\": \"width\", \"correlation\": -0.6806352140910521}, {\"var1\": \"price\", \"var2\": \"width\", \"correlation\": 0.7512653440522687}, {\"var1\": \"symboling\", \"var2\": \"height\", \"correlation\": -0.5501598641343743}, {\"var1\": \"normalized-losses\", \"var2\": \"height\", \"correlation\": -0.37373695023527376}, {\"var1\": \"wheel-base\", \"var2\": \"height\", \"correlation\": 0.5907416748215093}, {\"var1\": \"length\", \"var2\": \"height\", \"correlation\": 0.49206254941560257}, {\"var1\": \"width\", \"var2\": \"height\", \"correlation\": 0.3060021617034445}, {\"var1\": \"height\", \"var2\": \"height\", \"correlation\": 1.0}, {\"var1\": \"curb-weight\", \"var2\": \"height\", \"correlation\": 0.3075808197262225}, {\"var1\": \"engine-size\", \"var2\": \"height\", \"correlation\": 0.07469408505792993}, {\"var1\": \"bore\", \"var2\": \"height\", \"correlation\": 0.1804487421829173}, {\"var1\": \"stroke\", \"var2\": \"height\", \"correlation\": -0.06066251216234089}, {\"var1\": \"compression-ratio\", \"var2\": \"height\", \"correlation\": 0.25973714113734303}, {\"var1\": \"horsepower\", \"var2\": \"height\", \"correlation\": -0.087001000071556}, {\"var1\": \"peak-rpm\", \"var2\": \"height\", \"correlation\": -0.30997400245174733}, {\"var1\": \"city-mpg\", \"var2\": \"height\", \"correlation\": -0.0497999688181282}, {\"var1\": \"highway-mpg\", \"var2\": \"height\", \"correlation\": -0.1048118434126013}, {\"var1\": \"price\", \"var2\": \"height\", \"correlation\": 0.13548630756806035}, {\"var1\": \"symboling\", \"var2\": \"curb-weight\", \"correlation\": -0.2331184853695864}, {\"var1\": \"normalized-losses\", \"var2\": \"curb-weight\", \"correlation\": 0.09940425372349927}, {\"var1\": \"wheel-base\", \"var2\": \"curb-weight\", \"correlation\": 0.7820972444156639}, {\"var1\": \"length\", \"var2\": \"curb-weight\", \"correlation\": 0.8806647862654409}, {\"var1\": \"width\", \"var2\": \"curb-weight\", \"correlation\": 0.8662010980938427}, {\"var1\": \"height\", \"var2\": \"curb-weight\", \"correlation\": 0.3075808197262225}, {\"var1\": \"curb-weight\", \"var2\": \"curb-weight\", \"correlation\": 1.0}, {\"var1\": \"engine-size\", \"var2\": \"curb-weight\", \"correlation\": 0.8490716606415313}, {\"var1\": \"bore\", \"var2\": \"curb-weight\", \"correlation\": 0.6440604789083981}, {\"var1\": \"stroke\", \"var2\": \"curb-weight\", \"correlation\": 0.1674379877417921}, {\"var1\": \"compression-ratio\", \"var2\": \"curb-weight\", \"correlation\": 0.15643261336521122}, {\"var1\": \"horsepower\", \"var2\": \"curb-weight\", \"correlation\": 0.7579814112361546}, {\"var1\": \"peak-rpm\", \"var2\": \"curb-weight\", \"correlation\": -0.27936061978835147}, {\"var1\": \"city-mpg\", \"var2\": \"curb-weight\", \"correlation\": -0.7495430863216357}, {\"var1\": \"highway-mpg\", \"var2\": \"curb-weight\", \"correlation\": -0.7948889423035673}, {\"var1\": \"price\", \"var2\": \"curb-weight\", \"correlation\": 0.834414525770285}, {\"var1\": \"symboling\", \"var2\": \"engine-size\", \"correlation\": -0.11058055620198273}, {\"var1\": \"normalized-losses\", \"var2\": \"engine-size\", \"correlation\": 0.11236002451309968}, {\"var1\": \"wheel-base\", \"var2\": \"engine-size\", \"correlation\": 0.5720266928058411}, {\"var1\": \"length\", \"var2\": \"engine-size\", \"correlation\": 0.685024762075339}, {\"var1\": \"width\", \"var2\": \"engine-size\", \"correlation\": 0.7294356383711995}, {\"var1\": \"height\", \"var2\": \"engine-size\", \"correlation\": 0.07469408505792993}, {\"var1\": \"curb-weight\", \"var2\": \"engine-size\", \"correlation\": 0.8490716606415313}, {\"var1\": \"engine-size\", \"var2\": \"engine-size\", \"correlation\": 1.0}, {\"var1\": \"bore\", \"var2\": \"engine-size\", \"correlation\": 0.5726093256553538}, {\"var1\": \"stroke\", \"var2\": \"engine-size\", \"correlation\": 0.20592826076246007}, {\"var1\": \"compression-ratio\", \"var2\": \"engine-size\", \"correlation\": 0.028888633449933074}, {\"var1\": \"horsepower\", \"var2\": \"engine-size\", \"correlation\": 0.8226682831048986}, {\"var1\": \"peak-rpm\", \"var2\": \"engine-size\", \"correlation\": -0.2567329744707591}, {\"var1\": \"city-mpg\", \"var2\": \"engine-size\", \"correlation\": -0.6505459759740386}, {\"var1\": \"highway-mpg\", \"var2\": \"engine-size\", \"correlation\": -0.6795712591220742}, {\"var1\": \"price\", \"var2\": \"engine-size\", \"correlation\": 0.8723351674455182}, {\"var1\": \"symboling\", \"var2\": \"bore\", \"correlation\": -0.14001936989098884}, {\"var1\": \"normalized-losses\", \"var2\": \"bore\", \"correlation\": -0.02986248349532485}, {\"var1\": \"wheel-base\", \"var2\": \"bore\", \"correlation\": 0.49324418602960196}, {\"var1\": \"length\", \"var2\": \"bore\", \"correlation\": 0.6089709700250044}, {\"var1\": \"width\", \"var2\": \"bore\", \"correlation\": 0.5448854634757385}, {\"var1\": \"height\", \"var2\": \"bore\", \"correlation\": 0.1804487421829173}, {\"var1\": \"curb-weight\", \"var2\": \"bore\", \"correlation\": 0.6440604789083981}, {\"var1\": \"engine-size\", \"var2\": \"bore\", \"correlation\": 0.5726093256553538}, {\"var1\": \"bore\", \"var2\": \"bore\", \"correlation\": 1.0}, {\"var1\": \"stroke\", \"var2\": \"bore\", \"correlation\": -0.0553896634531372}, {\"var1\": \"compression-ratio\", \"var2\": \"bore\", \"correlation\": 0.0012633047110311249}, {\"var1\": \"horsepower\", \"var2\": \"bore\", \"correlation\": 0.5669032109801654}, {\"var1\": \"peak-rpm\", \"var2\": \"bore\", \"correlation\": -0.2673915985169954}, {\"var1\": \"city-mpg\", \"var2\": \"bore\", \"correlation\": -0.582027049953631}, {\"var1\": \"highway-mpg\", \"var2\": \"bore\", \"correlation\": -0.5913092391650798}, {\"var1\": \"price\", \"var2\": \"bore\", \"correlation\": 0.5431553832626604}, {\"var1\": \"symboling\", \"var2\": \"stroke\", \"correlation\": -0.00815284245574621}, {\"var1\": \"normalized-losses\", \"var2\": \"stroke\", \"correlation\": 0.0550453101321482}, {\"var1\": \"wheel-base\", \"var2\": \"stroke\", \"correlation\": 0.1580176693211852}, {\"var1\": \"length\", \"var2\": \"stroke\", \"correlation\": 0.12395230948227912}, {\"var1\": \"width\", \"var2\": \"stroke\", \"correlation\": 0.18882198121701527}, {\"var1\": \"height\", \"var2\": \"stroke\", \"correlation\": -0.06066251216234089}, {\"var1\": \"curb-weight\", \"var2\": \"stroke\", \"correlation\": 0.1674379877417921}, {\"var1\": \"engine-size\", \"var2\": \"stroke\", \"correlation\": 0.20592826076246007}, {\"var1\": \"bore\", \"var2\": \"stroke\", \"correlation\": -0.0553896634531372}, {\"var1\": \"stroke\", \"var2\": \"stroke\", \"correlation\": 1.0}, {\"var1\": \"compression-ratio\", \"var2\": \"stroke\", \"correlation\": 0.18787135632740032}, {\"var1\": \"horsepower\", \"var2\": \"stroke\", \"correlation\": 0.09812762318628421}, {\"var1\": \"peak-rpm\", \"var2\": \"stroke\", \"correlation\": -0.06356121255128636}, {\"var1\": \"city-mpg\", \"var2\": \"stroke\", \"correlation\": -0.03395597688437518}, {\"var1\": \"highway-mpg\", \"var2\": \"stroke\", \"correlation\": -0.03463573572119051}, {\"var1\": \"price\", \"var2\": \"stroke\", \"correlation\": 0.08226928855325767}, {\"var1\": \"symboling\", \"var2\": \"compression-ratio\", \"correlation\": -0.1821961579761049}, {\"var1\": \"normalized-losses\", \"var2\": \"compression-ratio\", \"correlation\": -0.11471324597332148}, {\"var1\": \"wheel-base\", \"var2\": \"compression-ratio\", \"correlation\": 0.25031308802836133}, {\"var1\": \"length\", \"var2\": \"compression-ratio\", \"correlation\": 0.15973310888732745}, {\"var1\": \"width\", \"var2\": \"compression-ratio\", \"correlation\": 0.18986711802230002}, {\"var1\": \"height\", \"var2\": \"compression-ratio\", \"correlation\": 0.25973714113734303}, {\"var1\": \"curb-weight\", \"var2\": \"compression-ratio\", \"correlation\": 0.15643261336521122}, {\"var1\": \"engine-size\", \"var2\": \"compression-ratio\", \"correlation\": 0.028888633449933074}, {\"var1\": \"bore\", \"var2\": \"compression-ratio\", \"correlation\": 0.0012633047110311249}, {\"var1\": \"stroke\", \"var2\": \"compression-ratio\", \"correlation\": 0.18787135632740032}, {\"var1\": \"compression-ratio\", \"var2\": \"compression-ratio\", \"correlation\": 1.0}, {\"var1\": \"horsepower\", \"var2\": \"compression-ratio\", \"correlation\": -0.21448935601616712}, {\"var1\": \"peak-rpm\", \"var2\": \"compression-ratio\", \"correlation\": -0.435779763301587}, {\"var1\": \"city-mpg\", \"var2\": \"compression-ratio\", \"correlation\": 0.331424838842436}, {\"var1\": \"highway-mpg\", \"var2\": \"compression-ratio\", \"correlation\": 0.2684648475460542}, {\"var1\": \"price\", \"var2\": \"compression-ratio\", \"correlation\": 0.07110732668194134}, {\"var1\": \"symboling\", \"var2\": \"horsepower\", \"correlation\": 0.07581028630244302}, {\"var1\": \"normalized-losses\", \"var2\": \"horsepower\", \"correlation\": 0.21729972155682573}, {\"var1\": \"wheel-base\", \"var2\": \"horsepower\", \"correlation\": 0.37117765385823975}, {\"var1\": \"length\", \"var2\": \"horsepower\", \"correlation\": 0.579794691161872}, {\"var1\": \"width\", \"var2\": \"horsepower\", \"correlation\": 0.6150559937086876}, {\"var1\": \"height\", \"var2\": \"horsepower\", \"correlation\": -0.087001000071556}, {\"var1\": \"curb-weight\", \"var2\": \"horsepower\", \"correlation\": 0.7579814112361546}, {\"var1\": \"engine-size\", \"var2\": \"horsepower\", \"correlation\": 0.8226682831048986}, {\"var1\": \"bore\", \"var2\": \"horsepower\", \"correlation\": 0.5669032109801654}, {\"var1\": \"stroke\", \"var2\": \"horsepower\", \"correlation\": 0.09812762318628421}, {\"var1\": \"compression-ratio\", \"var2\": \"horsepower\", \"correlation\": -0.21448935601616712}, {\"var1\": \"horsepower\", \"var2\": \"horsepower\", \"correlation\": 1.0}, {\"var1\": \"peak-rpm\", \"var2\": \"horsepower\", \"correlation\": 0.10788388782391305}, {\"var1\": \"city-mpg\", \"var2\": \"horsepower\", \"correlation\": -0.8221921597112851}, {\"var1\": \"highway-mpg\", \"var2\": \"horsepower\", \"correlation\": -0.8045790029179015}, {\"var1\": \"price\", \"var2\": \"horsepower\", \"correlation\": 0.8096068016571054}, {\"var1\": \"symboling\", \"var2\": \"peak-rpm\", \"correlation\": 0.27973965896374103}, {\"var1\": \"normalized-losses\", \"var2\": \"peak-rpm\", \"correlation\": 0.23954348516348947}, {\"var1\": \"wheel-base\", \"var2\": \"peak-rpm\", \"correlation\": -0.36030452791694473}, {\"var1\": \"length\", \"var2\": \"peak-rpm\", \"correlation\": -0.2859695997007066}, {\"var1\": \"width\", \"var2\": \"peak-rpm\", \"correlation\": -0.24580014375355708}, {\"var1\": \"height\", \"var2\": \"peak-rpm\", \"correlation\": -0.30997400245174733}, {\"var1\": \"curb-weight\", \"var2\": \"peak-rpm\", \"correlation\": -0.27936061978835147}, {\"var1\": \"engine-size\", \"var2\": \"peak-rpm\", \"correlation\": -0.2567329744707591}, {\"var1\": \"bore\", \"var2\": \"peak-rpm\", \"correlation\": -0.2673915985169954}, {\"var1\": \"stroke\", \"var2\": \"peak-rpm\", \"correlation\": -0.06356121255128636}, {\"var1\": \"compression-ratio\", \"var2\": \"peak-rpm\", \"correlation\": -0.435779763301587}, {\"var1\": \"horsepower\", \"var2\": \"peak-rpm\", \"correlation\": 0.10788388782391305}, {\"var1\": \"peak-rpm\", \"var2\": \"peak-rpm\", \"correlation\": 1.0}, {\"var1\": \"city-mpg\", \"var2\": \"peak-rpm\", \"correlation\": -0.11541310622876826}, {\"var1\": \"highway-mpg\", \"var2\": \"peak-rpm\", \"correlation\": -0.058597593083432827}, {\"var1\": \"price\", \"var2\": \"peak-rpm\", \"correlation\": -0.10161587407588185}, {\"var1\": \"symboling\", \"var2\": \"city-mpg\", \"correlation\": -0.035527043332382144}, {\"var1\": \"normalized-losses\", \"var2\": \"city-mpg\", \"correlation\": -0.22501572863445693}, {\"var1\": \"wheel-base\", \"var2\": \"city-mpg\", \"correlation\": -0.4706064088423563}, {\"var1\": \"length\", \"var2\": \"city-mpg\", \"correlation\": -0.6651923947142148}, {\"var1\": \"width\", \"var2\": \"city-mpg\", \"correlation\": -0.633530639341753}, {\"var1\": \"height\", \"var2\": \"city-mpg\", \"correlation\": -0.0497999688181282}, {\"var1\": \"curb-weight\", \"var2\": \"city-mpg\", \"correlation\": -0.7495430863216357}, {\"var1\": \"engine-size\", \"var2\": \"city-mpg\", \"correlation\": -0.6505459759740386}, {\"var1\": \"bore\", \"var2\": \"city-mpg\", \"correlation\": -0.582027049953631}, {\"var1\": \"stroke\", \"var2\": \"city-mpg\", \"correlation\": -0.03395597688437518}, {\"var1\": \"compression-ratio\", \"var2\": \"city-mpg\", \"correlation\": 0.331424838842436}, {\"var1\": \"horsepower\", \"var2\": \"city-mpg\", \"correlation\": -0.8221921597112851}, {\"var1\": \"peak-rpm\", \"var2\": \"city-mpg\", \"correlation\": -0.11541310622876826}, {\"var1\": \"city-mpg\", \"var2\": \"city-mpg\", \"correlation\": 1.0}, {\"var1\": \"highway-mpg\", \"var2\": \"city-mpg\", \"correlation\": 0.9720437058960102}, {\"var1\": \"price\", \"var2\": \"city-mpg\", \"correlation\": -0.6865710067844684}, {\"var1\": \"symboling\", \"var2\": \"highway-mpg\", \"correlation\": 0.03623281072144124}, {\"var1\": \"normalized-losses\", \"var2\": \"highway-mpg\", \"correlation\": -0.18187718191761093}, {\"var1\": \"wheel-base\", \"var2\": \"highway-mpg\", \"correlation\": -0.5433044680377367}, {\"var1\": \"length\", \"var2\": \"highway-mpg\", \"correlation\": -0.6981418469786206}, {\"var1\": \"width\", \"var2\": \"highway-mpg\", \"correlation\": -0.6806352140910521}, {\"var1\": \"height\", \"var2\": \"highway-mpg\", \"correlation\": -0.1048118434126013}, {\"var1\": \"curb-weight\", \"var2\": \"highway-mpg\", \"correlation\": -0.7948889423035673}, {\"var1\": \"engine-size\", \"var2\": \"highway-mpg\", \"correlation\": -0.6795712591220742}, {\"var1\": \"bore\", \"var2\": \"highway-mpg\", \"correlation\": -0.5913092391650798}, {\"var1\": \"stroke\", \"var2\": \"highway-mpg\", \"correlation\": -0.03463573572119051}, {\"var1\": \"compression-ratio\", \"var2\": \"highway-mpg\", \"correlation\": 0.2684648475460542}, {\"var1\": \"horsepower\", \"var2\": \"highway-mpg\", \"correlation\": -0.8045790029179015}, {\"var1\": \"peak-rpm\", \"var2\": \"highway-mpg\", \"correlation\": -0.058597593083432827}, {\"var1\": \"city-mpg\", \"var2\": \"highway-mpg\", \"correlation\": 0.9720437058960102}, {\"var1\": \"highway-mpg\", \"var2\": \"highway-mpg\", \"correlation\": 1.0}, {\"var1\": \"price\", \"var2\": \"highway-mpg\", \"correlation\": -0.7046922650589531}, {\"var1\": \"symboling\", \"var2\": \"price\", \"correlation\": -0.08239118716962376}, {\"var1\": \"normalized-losses\", \"var2\": \"price\", \"correlation\": 0.13399873429274337}, {\"var1\": \"wheel-base\", \"var2\": \"price\", \"correlation\": 0.5846418222655075}, {\"var1\": \"length\", \"var2\": \"price\", \"correlation\": 0.6906283804483633}, {\"var1\": \"width\", \"var2\": \"price\", \"correlation\": 0.7512653440522687}, {\"var1\": \"height\", \"var2\": \"price\", \"correlation\": 0.13548630756806035}, {\"var1\": \"curb-weight\", \"var2\": \"price\", \"correlation\": 0.834414525770285}, {\"var1\": \"engine-size\", \"var2\": \"price\", \"correlation\": 0.8723351674455182}, {\"var1\": \"bore\", \"var2\": \"price\", \"correlation\": 0.5431553832626604}, {\"var1\": \"stroke\", \"var2\": \"price\", \"correlation\": 0.08226928855325767}, {\"var1\": \"compression-ratio\", \"var2\": \"price\", \"correlation\": 0.07110732668194134}, {\"var1\": \"horsepower\", \"var2\": \"price\", \"correlation\": 0.8096068016571054}, {\"var1\": \"peak-rpm\", \"var2\": \"price\", \"correlation\": -0.10161587407588185}, {\"var1\": \"city-mpg\", \"var2\": \"price\", \"correlation\": -0.6865710067844684}, {\"var1\": \"highway-mpg\", \"var2\": \"price\", \"correlation\": -0.7046922650589531}, {\"var1\": \"price\", \"var2\": \"price\", \"correlation\": 1.0}]}}, {\"mode\": \"vega-lite\"});\n",
       "</script>"
      ],
      "text/plain": [
       "alt.LayerChart(...)"
      ]
     },
     "execution_count": 21,
     "metadata": {},
     "output_type": "execute_result"
    }
   ],
   "source": [
    "plot().corr_heatmap(df)\n"
   ]
  },
  {
   "cell_type": "code",
   "execution_count": 22,
   "metadata": {},
   "outputs": [
    {
     "data": {
      "image/png": "[encoded data removed]",
      "text/plain": [
       "<Figure size 432x288 with 1 Axes>"
      ]
     },
     "metadata": {
      "needs_background": "light"
     },
     "output_type": "display_data"
    }
   ],
   "source": [
    "sns.regplot(x=\"engine-size\", y=\"price\", data=df);\n",
    "plt.ylim(0,);"
   ]
  },
  {
   "cell_type": "code",
   "execution_count": 23,
   "metadata": {},
   "outputs": [
    {
     "data": {
      "text/html": [
       "<div>\n",
       "<style scoped>\n",
       "    .dataframe tbody tr th:only-of-type {\n",
       "        vertical-align: middle;\n",
       "    }\n",
       "\n",
       "    .dataframe tbody tr th {\n",
       "        vertical-align: top;\n",
       "    }\n",
       "\n",
       "    .dataframe thead th {\n",
       "        text-align: right;\n",
       "    }\n",
       "</style>\n",
       "<table border=\"1\" class=\"dataframe\">\n",
       "  <thead>\n",
       "    <tr style=\"text-align: right;\">\n",
       "      <th></th>\n",
       "      <th>make</th>\n",
       "      <th>fuel-type</th>\n",
       "      <th>aspiration</th>\n",
       "      <th>num-of-doors</th>\n",
       "      <th>body-style</th>\n",
       "      <th>drive-wheels</th>\n",
       "      <th>engine-location</th>\n",
       "      <th>engine-type</th>\n",
       "      <th>num-of-cylinders</th>\n",
       "      <th>fuel-system</th>\n",
       "    </tr>\n",
       "  </thead>\n",
       "  <tbody>\n",
       "    <tr>\n",
       "      <th>count</th>\n",
       "      <td>201</td>\n",
       "      <td>201</td>\n",
       "      <td>201</td>\n",
       "      <td>201</td>\n",
       "      <td>201</td>\n",
       "      <td>201</td>\n",
       "      <td>201</td>\n",
       "      <td>201</td>\n",
       "      <td>201</td>\n",
       "      <td>201</td>\n",
       "    </tr>\n",
       "    <tr>\n",
       "      <th>unique</th>\n",
       "      <td>22</td>\n",
       "      <td>2</td>\n",
       "      <td>2</td>\n",
       "      <td>2</td>\n",
       "      <td>5</td>\n",
       "      <td>3</td>\n",
       "      <td>2</td>\n",
       "      <td>6</td>\n",
       "      <td>7</td>\n",
       "      <td>8</td>\n",
       "    </tr>\n",
       "    <tr>\n",
       "      <th>top</th>\n",
       "      <td>toyota</td>\n",
       "      <td>gas</td>\n",
       "      <td>std</td>\n",
       "      <td>four</td>\n",
       "      <td>sedan</td>\n",
       "      <td>fwd</td>\n",
       "      <td>front</td>\n",
       "      <td>ohc</td>\n",
       "      <td>four</td>\n",
       "      <td>mpfi</td>\n",
       "    </tr>\n",
       "    <tr>\n",
       "      <th>freq</th>\n",
       "      <td>32</td>\n",
       "      <td>181</td>\n",
       "      <td>165</td>\n",
       "      <td>115</td>\n",
       "      <td>94</td>\n",
       "      <td>118</td>\n",
       "      <td>198</td>\n",
       "      <td>145</td>\n",
       "      <td>157</td>\n",
       "      <td>92</td>\n",
       "    </tr>\n",
       "  </tbody>\n",
       "</table>\n",
       "</div>"
      ],
      "text/plain": [
       "          make fuel-type aspiration num-of-doors body-style drive-wheels  \\\n",
       "count      201       201        201          201        201          201   \n",
       "unique      22         2          2            2          5            3   \n",
       "top     toyota       gas        std         four      sedan          fwd   \n",
       "freq        32       181        165          115         94          118   \n",
       "\n",
       "       engine-location engine-type num-of-cylinders fuel-system  \n",
       "count              201         201              201         201  \n",
       "unique               2           6                7           8  \n",
       "top              front         ohc             four        mpfi  \n",
       "freq               198         145              157          92  "
      ]
     },
     "execution_count": 23,
     "metadata": {},
     "output_type": "execute_result"
    }
   ],
   "source": [
    "df.describe(include=['object'])\n"
   ]
  },
  {
   "cell_type": "code",
   "execution_count": 24,
   "metadata": {},
   "outputs": [
    {
     "data": {
      "text/html": [
       "<div>\n",
       "<style scoped>\n",
       "    .dataframe tbody tr th:only-of-type {\n",
       "        vertical-align: middle;\n",
       "    }\n",
       "\n",
       "    .dataframe tbody tr th {\n",
       "        vertical-align: top;\n",
       "    }\n",
       "\n",
       "    .dataframe thead th {\n",
       "        text-align: right;\n",
       "    }\n",
       "</style>\n",
       "<table border=\"1\" class=\"dataframe\">\n",
       "  <thead>\n",
       "    <tr style=\"text-align: right;\">\n",
       "      <th></th>\n",
       "      <th>value_counts</th>\n",
       "    </tr>\n",
       "    <tr>\n",
       "      <th>engine-location</th>\n",
       "      <th></th>\n",
       "    </tr>\n",
       "  </thead>\n",
       "  <tbody>\n",
       "    <tr>\n",
       "      <th>front</th>\n",
       "      <td>198</td>\n",
       "    </tr>\n",
       "    <tr>\n",
       "      <th>rear</th>\n",
       "      <td>3</td>\n",
       "    </tr>\n",
       "  </tbody>\n",
       "</table>\n",
       "</div>"
      ],
      "text/plain": [
       "                 value_counts\n",
       "engine-location              \n",
       "front                     198\n",
       "rear                        3"
      ]
     },
     "execution_count": 24,
     "metadata": {},
     "output_type": "execute_result"
    }
   ],
   "source": [
    "# engine-location as variable\n",
    "engine_loc_counts = df['engine-location'].value_counts().to_frame()\n",
    "engine_loc_counts.rename(\n",
    "    columns={'engine-location': 'value_counts'}, inplace=True)\n",
    "engine_loc_counts.index.name = 'engine-location'\n",
    "engine_loc_counts.head(10)\n"
   ]
  },
  {
   "cell_type": "code",
   "execution_count": null,
   "metadata": {},
   "outputs": [],
   "source": [
    "engine_loc_counts"
   ]
  },
  {
   "cell_type": "code",
   "execution_count": null,
   "metadata": {},
   "outputs": [],
   "source": [
    "def list_relevant_vars(df) -> list:\n",
    "  var_list = []\n",
    "  for c in df:\n",
    "    if c == 'price':\n",
    "      continue\n",
    "    \n",
    "    if df[c].dtype != 'object':\n",
    "      pearson_coef, p_value = stats.pearsonr(df[c], df['price']);\n",
    "      msg = '{0:15s}: R={1:.3f} (p:{2:.2g})'.format(c, pearson_coef, p_value)\n",
    "      color = 'green'\n",
    "    else:\n",
    "      # print('{0:15s}: ----'.format(c))\n",
    "      grp = df[[c, 'price']].groupby([c])\n",
    "      v = list(map(lambda k: grp.get_group(k)['price'], grp.groups))\n",
    "      r = stats.f_oneway(*v)\n",
    "      p_value = r.pvalue\n",
    "      msg = '{0:15s}: F={1:.3f} (p:{2:.2g})'.format(c, r.statistic, r.pvalue)\n",
    "      color = 'yellow'\n",
    "    \n",
    "    if p_value < 0.001:\n",
    "      msg = style(msg, fg=color)\n",
    "      var_list.append(c)\n",
    "    \n",
    "    print(msg)\n",
    "  return var_list\n",
    "\n",
    "list_relevant_vars(df)\n"
   ]
  },
  {
   "cell_type": "code",
   "execution_count": null,
   "metadata": {},
   "outputs": [],
   "source": [
    "# import statsmodels.api as sm\n",
    "# from statsmodels.formula.api import ols\n",
    "# res = ols('price ~ C(drive_wheels)', data=df).fit()\n",
    "# res.summary()"
   ]
  },
  {
   "cell_type": "code",
   "execution_count": null,
   "metadata": {},
   "outputs": [],
   "source": [
    "df.rename(columns={'drive-wheels':'drive_wheels'}, inplace=True)"
   ]
  },
  {
   "cell_type": "code",
   "execution_count": null,
   "metadata": {},
   "outputs": [],
   "source": [
    "from itertools import combinations\n",
    "c = 'make'\n",
    "grp = df[[c, 'price']].groupby([c])\n",
    "pairwise = list(combinations(grp.groups, 2))\n",
    "result = map(\n",
    "    lambda p: [\n",
    "        p[0], \n",
    "        p[1], \n",
    "        stats.f_oneway(\n",
    "            grp.get_group(p[0])['price'], \n",
    "            grp.get_group(p[1])['price']\n",
    "        ).pvalue],\n",
    "    pairwise\n",
    ")\n",
    "\n",
    "r = pd.DataFrame(result).pivot(\n",
    "    index=1,\n",
    "    columns=0\n",
    ").style.format('{:.2g}', na_rep='---').applymap(lambda x: 'color: royalblue;' if x < 0.001 and x > 0 else None)\n",
    "r\n",
    "# sns.heatmap(r)\n",
    "\n",
    "# for pair in pairwise:\n",
    "#   # v = list(map(lambda k: grp.get_group(k)['price'], grp.groups))\n",
    "#   r = stats.f_oneway(grp.get_group(pair[0])['price'], grp.get_group(pair[1])['price'])\n",
    "#   color = 'green' if r.pvalue < 0.001 else 'white'\n",
    "#   print(style(\n",
    "#     '{0:25s}: F={1:.3f} (p:{2:.2g})'.format('{0}+{1}'.format(*pair), r.statistic, r.pvalue),\n",
    "#     fg=color\n",
    "#   ))\n"
   ]
  },
  {
   "cell_type": "code",
   "execution_count": null,
   "metadata": {},
   "outputs": [],
   "source": [
    "list(grp.groups.keys())"
   ]
  },
  {
   "cell_type": "code",
   "execution_count": null,
   "metadata": {},
   "outputs": [],
   "source": []
  }
 ],
 "metadata": {
  "interpreter": {
   "hash": "ac59ebe37160ed0dfa835113d9b8498d9f09ceb179beaac4002f036b9467c963"
  },
  "kernelspec": {
   "display_name": "Python 3.9.9 64-bit",
   "language": "python",
   "name": "python3"
  },
  "language_info": {
   "codemirror_mode": {
    "name": "ipython",
    "version": 3
   },
   "file_extension": ".py",
   "mimetype": "text/x-python",
   "name": "python",
   "nbconvert_exporter": "python",
   "pygments_lexer": "ipython3",
   "version": "3.9.9"
  },
  "orig_nbformat": 4
 },
 "nbformat": 4,
 "nbformat_minor": 2
}
