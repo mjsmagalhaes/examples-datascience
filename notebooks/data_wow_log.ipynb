{
 "cells": [
  {
   "cell_type": "markdown",
   "metadata": {},
   "source": [
    "# World of Warcraft Log Toy\n",
    "\n",
    "[![Open In Colab](https://colab.research.google.com/assets/colab-badge.svg)](https://colab.research.google.com/github/mjsmagalhaes/examples-datascience/blob/main/data_wow_log.ipynb)\n",
    "\n",
    "This notebook toys with data generated from World of Warcraft (WoW) logs.\n",
    "\n",
    "4 helper classes were created (in the wow folder):\n",
    "- **wow.log.Record**\n",
    "  - *Parses and stores an entry of the log*\n",
    "  - Each line may have differente structure so more classes deriving from this one may be necessary.\n",
    "  - Each record also represent an in game event.\n",
    "- **wow.log.Encounter**\n",
    "  - *A set of records that represents a fight agains a boss in the game*\n",
    "  - Each starts with a ENCOUNTER_START event and go until an ENCOUNTER_END event is found.\n",
    "- **wow.query.Query**\n",
    "  - *An object to help create a chain of iterators to build queries (using filters and map like functions)*\n",
    "- **wow.query.Predicate**\n",
    "  - *A Collection of functions that will be applied to those iterators*\n",
    "\n",
    "There are also another 2 modules in addition to both modules containing classes above:\n",
    "- **ui**\n",
    "  - contain ui elements in this notebook\n",
    "\n",
    "- **fights**\n",
    "  - contains scripts to analyze each fight (only nerzhul for now)\n"
   ]
  },
  {
   "cell_type": "code",
   "execution_count": 1,
   "metadata": {},
   "outputs": [],
   "source": [
    "%load_ext autoreload\n",
    "%autoreload 2\n",
    "\n",
    "# Colab\n",
    "# !git clone https://github.com/mjsmagalhaes/examples-datascience.git repo\n",
    "# %cd repo\n",
    "# %pip install -r requirements.txt"
   ]
  },
  {
   "cell_type": "code",
   "execution_count": 2,
   "metadata": {},
   "outputs": [
    {
     "data": {
      "text/html": [
       "<style type='text/css'>\n",
       ".datatable table.frame { margin-bottom: 0; }\n",
       ".datatable table.frame thead { border-bottom: none; }\n",
       ".datatable table.frame tr.coltypes td {  color: #FFFFFF;  line-height: 6px;  padding: 0 0.5em;}\n",
       ".datatable .bool    { background: #DDDD99; }\n",
       ".datatable .object  { background: #565656; }\n",
       ".datatable .int     { background: #5D9E5D; }\n",
       ".datatable .float   { background: #4040CC; }\n",
       ".datatable .str     { background: #CC4040; }\n",
       ".datatable .time    { background: #40CC40; }\n",
       ".datatable .row_index {  background: var(--jp-border-color3);  border-right: 1px solid var(--jp-border-color0);  color: var(--jp-ui-font-color3);  font-size: 9px;}\n",
       ".datatable .frame tbody td { text-align: left; }\n",
       ".datatable .frame tr.coltypes .row_index {  background: var(--jp-border-color0);}\n",
       ".datatable th:nth-child(2) { padding-left: 12px; }\n",
       ".datatable .hellipsis {  color: var(--jp-cell-editor-border-color);}\n",
       ".datatable .vellipsis {  background: var(--jp-layout-color0);  color: var(--jp-cell-editor-border-color);}\n",
       ".datatable .na {  color: var(--jp-cell-editor-border-color);  font-size: 80%;}\n",
       ".datatable .sp {  opacity: 0.25;}\n",
       ".datatable .footer { font-size: 9px; }\n",
       ".datatable .frame_dimensions {  background: var(--jp-border-color3);  border-top: 1px solid var(--jp-border-color0);  color: var(--jp-ui-font-color3);  display: inline-block;  opacity: 0.6;  padding: 1px 10px 1px 5px;}\n",
       "</style>\n"
      ],
      "text/plain": [
       "<IPython.core.display.HTML object>"
      ]
     },
     "metadata": {},
     "output_type": "display_data"
    }
   ],
   "source": [
    "# Initialize\n",
    "import pandas as pd\n",
    "import wow.ui as ui\n",
    "import wow.helper as help\n",
    "# import wow.fights\n",
    "\n",
    "from wow.query import Predicate\n",
    "from wow.log import Log\n",
    "\n",
    "# (z, f) = ui.import_file()\n"
   ]
  },
  {
   "cell_type": "markdown",
   "metadata": {},
   "source": [
    "# Create Data Structures"
   ]
  },
  {
   "cell_type": "code",
   "execution_count": 3,
   "metadata": {},
   "outputs": [],
   "source": [
    "# help.unzip('WoWCombatLog-012722_214646.zip', 'wow')"
   ]
  },
  {
   "cell_type": "code",
   "execution_count": 6,
   "metadata": {},
   "outputs": [
    {
     "data": {
      "application/vnd.jupyter.widget-view+json": {
       "model_id": "ff74d6910710402f8879d41781cea71c",
       "version_major": 2,
       "version_minor": 0
      },
      "text/plain": [
       "  0%|          | 0/2 [00:00<?, ?it/s]"
      ]
     },
     "metadata": {},
     "output_type": "display_data"
    },
    {
     "data": {
      "application/vnd.jupyter.widget-view+json": {
       "model_id": "910a6e94d4044725b3e13708fea46f64",
       "version_major": 2,
       "version_minor": 0
      },
      "text/plain": [
       "Loading:   0%|          | 0/1086065 [00:00<?, ?it/s]"
      ]
     },
     "metadata": {},
     "output_type": "display_data"
    },
    {
     "name": "stdout",
     "output_type": "stream",
     "text": [
      "Encounters:  11\n"
     ]
    }
   ],
   "source": [
    "# file = r'wow\\WoWCombatLog-012722_214646.txt'\n",
    "# file = r'C:\\Program Files (x86)\\World of Warcraft\\_retail_\\Logs\\RaiderIOLogsArchive\\WoWCombatLog-012722_214646.txt'\n",
    "file = r'C:\\Program Files (x86)\\World of Warcraft\\_retail_\\Logs\\WoWCombatLog-030322_214650.txt'\n",
    "log = Log.parse(file)"
   ]
  },
  {
   "cell_type": "markdown",
   "metadata": {},
   "source": [
    "# Detailed Analysis"
   ]
  },
  {
   "cell_type": "code",
   "execution_count": 7,
   "metadata": {},
   "outputs": [
    {
     "data": {
      "application/vnd.jupyter.widget-view+json": {
       "model_id": "ac64725a46bd4e5c836072d84e214992",
       "version_major": 2,
       "version_minor": 0
      },
      "text/plain": [
       "VBox(children=(HBox(children=(Dropdown(description='Encounter:', options=(('1 \"Halondrus the Reclaimer\" 2:43',…"
      ]
     },
     "metadata": {},
     "output_type": "display_data"
    }
   ],
   "source": [
    "# Define Encounter being Analysed\n",
    "encSelect = ui.pick_encounter(log.encounters)"
   ]
  },
  {
   "cell_type": "code",
   "execution_count": 10,
   "metadata": {},
   "outputs": [],
   "source": [
    "e = log.encounters[encSelect.value]\n",
    "r = e.getReport()\n",
    "\n",
    "# e.timestamp_begin.strftime('encounters_%Y_%m_%d')\n",
    "# log.save_encounters()"
   ]
  },
  {
   "cell_type": "markdown",
   "metadata": {},
   "source": [
    "## Who was in the fight?"
   ]
  },
  {
   "cell_type": "code",
   "execution_count": 11,
   "metadata": {},
   "outputs": [
    {
     "data": {
      "text/html": [
       "<pre style=\"white-space:pre;overflow-x:auto;line-height:normal;font-family:Menlo,'DejaVu Sans Mono',consolas,'Courier New',monospace\"><span style=\"font-style: italic\">                                        Players                                         </span>\n",
       "┏━━━━━━━━━━━━━━━━━━━━━━━┳━━━━━━━━━━━━━━━━━━━━━━┳━━━━━━━━━━━━━━┳━━━━━━━━━━━━━━━┳━━━━━━━━┓\n",
       "┃<span style=\"font-weight: bold\"> Name                  </span>┃<span style=\"font-weight: bold\"> ID                   </span>┃<span style=\"font-weight: bold\"> Class        </span>┃<span style=\"font-weight: bold\"> Spec          </span>┃<span style=\"font-weight: bold\"> Role   </span>┃\n",
       "┡━━━━━━━━━━━━━━━━━━━━━━━╇━━━━━━━━━━━━━━━━━━━━━━╇━━━━━━━━━━━━━━╇━━━━━━━━━━━━━━━╇━━━━━━━━┩\n",
       "│<span style=\"color: #c41e3a; text-decoration-color: #c41e3a\"> \"Blàdèmytsù-Azralon\"  </span>│<span style=\"color: #c41e3a; text-decoration-color: #c41e3a\"> Player-3209-0A77F7F8 </span>│<span style=\"color: #c41e3a; text-decoration-color: #c41e3a\"> Death Knight </span>│<span style=\"color: #c41e3a; text-decoration-color: #c41e3a\"> Unholy        </span>│<span style=\"color: #c41e3a; text-decoration-color: #c41e3a\"> DPS    </span>│\n",
       "│<span style=\"color: #a330c9; text-decoration-color: #a330c9\"> \"Djøw-Azralon\"        </span>│<span style=\"color: #a330c9; text-decoration-color: #a330c9\"> Player-3209-0B560779 </span>│<span style=\"color: #a330c9; text-decoration-color: #a330c9\"> Demon Hunter </span>│<span style=\"color: #a330c9; text-decoration-color: #a330c9\"> Havoc         </span>│<span style=\"color: #a330c9; text-decoration-color: #a330c9\"> DPS    </span>│\n",
       "│<span style=\"color: #a330c9; text-decoration-color: #a330c9\"> \"Demonzera-Azralon\"   </span>│<span style=\"color: #a330c9; text-decoration-color: #a330c9\"> Player-3209-09046953 </span>│<span style=\"color: #a330c9; text-decoration-color: #a330c9\"> Demon Hunter </span>│<span style=\"color: #a330c9; text-decoration-color: #a330c9\"> Havoc         </span>│<span style=\"color: #a330c9; text-decoration-color: #a330c9\"> DPS    </span>│\n",
       "│<span style=\"color: #a330c9; text-decoration-color: #a330c9\"> \"Emilysaeko-Azralon\"  </span>│<span style=\"color: #a330c9; text-decoration-color: #a330c9\"> Player-3209-0A4C1296 </span>│<span style=\"color: #a330c9; text-decoration-color: #a330c9\"> Demon Hunter </span>│<span style=\"color: #a330c9; text-decoration-color: #a330c9\"> Havoc         </span>│<span style=\"color: #a330c9; text-decoration-color: #a330c9\"> DPS    </span>│\n",
       "│<span style=\"color: #a330c9; text-decoration-color: #a330c9\"> \"Dii-Azralon\"         </span>│<span style=\"color: #a330c9; text-decoration-color: #a330c9\"> Player-3209-0B1A3D5B </span>│<span style=\"color: #a330c9; text-decoration-color: #a330c9\"> Demon Hunter </span>│<span style=\"color: #a330c9; text-decoration-color: #a330c9\"> Havoc         </span>│<span style=\"color: #a330c9; text-decoration-color: #a330c9\"> DPS    </span>│\n",
       "│<span style=\"color: #ff7c0a; text-decoration-color: #ff7c0a\"> \"Maulfurionx-Azralon\" </span>│<span style=\"color: #ff7c0a; text-decoration-color: #ff7c0a\"> Player-3209-08518E93 </span>│<span style=\"color: #ff7c0a; text-decoration-color: #ff7c0a\"> Druid        </span>│<span style=\"color: #ff7c0a; text-decoration-color: #ff7c0a\"> Feral         </span>│<span style=\"color: #ff7c0a; text-decoration-color: #ff7c0a\"> DPS    </span>│\n",
       "│<span style=\"color: #ff7c0a; text-decoration-color: #ff7c0a\"> \"Ïppo-Azralon\"        </span>│<span style=\"color: #ff7c0a; text-decoration-color: #ff7c0a\"> Player-3209-078B5B14 </span>│<span style=\"color: #ff7c0a; text-decoration-color: #ff7c0a\"> Druid        </span>│<span style=\"color: #ff7c0a; text-decoration-color: #ff7c0a\"> Balance       </span>│<span style=\"color: #ff7c0a; text-decoration-color: #ff7c0a\"> DPS    </span>│\n",
       "│<span style=\"color: #aad372; text-decoration-color: #aad372\"> \"Garhon-Azralon\"      </span>│<span style=\"color: #aad372; text-decoration-color: #aad372\"> Player-3209-06F245F6 </span>│<span style=\"color: #aad372; text-decoration-color: #aad372\"> Hunter       </span>│<span style=\"color: #aad372; text-decoration-color: #aad372\"> Beast Mastery </span>│<span style=\"color: #aad372; text-decoration-color: #aad372\"> DPS    </span>│\n",
       "│<span style=\"color: #aad372; text-decoration-color: #aad372\"> \"Andreyzinho-Azralon\" </span>│<span style=\"color: #aad372; text-decoration-color: #aad372\"> Player-3209-0A2C485D </span>│<span style=\"color: #aad372; text-decoration-color: #aad372\"> Hunter       </span>│<span style=\"color: #aad372; text-decoration-color: #aad372\"> Beast Mastery </span>│<span style=\"color: #aad372; text-decoration-color: #aad372\"> DPS    </span>│\n",
       "│<span style=\"color: #3fc7eb; text-decoration-color: #3fc7eb\"> \"Akii-Azralon\"        </span>│<span style=\"color: #3fc7eb; text-decoration-color: #3fc7eb\"> Player-3209-0B1B046E </span>│<span style=\"color: #3fc7eb; text-decoration-color: #3fc7eb\"> Mage         </span>│<span style=\"color: #3fc7eb; text-decoration-color: #3fc7eb\"> Fire          </span>│<span style=\"color: #3fc7eb; text-decoration-color: #3fc7eb\"> DPS    </span>│\n",
       "│<span style=\"color: #3fc7eb; text-decoration-color: #3fc7eb\"> \"Jathäl-Azralon\"      </span>│<span style=\"color: #3fc7eb; text-decoration-color: #3fc7eb\"> Player-3209-0B2A1849 </span>│<span style=\"color: #3fc7eb; text-decoration-color: #3fc7eb\"> Mage         </span>│<span style=\"color: #3fc7eb; text-decoration-color: #3fc7eb\"> Fire          </span>│<span style=\"color: #3fc7eb; text-decoration-color: #3fc7eb\"> DPS    </span>│\n",
       "│<span style=\"color: #3fc7eb; text-decoration-color: #3fc7eb\"> \"Zairoz-Azralon\"      </span>│<span style=\"color: #3fc7eb; text-decoration-color: #3fc7eb\"> Player-3209-0B6BEDAB </span>│<span style=\"color: #3fc7eb; text-decoration-color: #3fc7eb\"> Mage         </span>│<span style=\"color: #3fc7eb; text-decoration-color: #3fc7eb\"> Frost         </span>│<span style=\"color: #3fc7eb; text-decoration-color: #3fc7eb\"> DPS    </span>│\n",
       "│<span style=\"color: #f48cba; text-decoration-color: #f48cba\"> \"Spartanovix-Azralon\" </span>│<span style=\"color: #f48cba; text-decoration-color: #f48cba\"> Player-3209-0B588206 </span>│<span style=\"color: #f48cba; text-decoration-color: #f48cba\"> Paladin      </span>│<span style=\"color: #f48cba; text-decoration-color: #f48cba\"> Retribution   </span>│<span style=\"color: #f48cba; text-decoration-color: #f48cba\"> DPS    </span>│\n",
       "│<span style=\"color: #0070dd; text-decoration-color: #0070dd\"> \"Pandamän-Azralon\"    </span>│<span style=\"color: #0070dd; text-decoration-color: #0070dd\"> Player-3209-08F0E8EB </span>│<span style=\"color: #0070dd; text-decoration-color: #0070dd\"> Shaman       </span>│<span style=\"color: #0070dd; text-decoration-color: #0070dd\"> Enhancement   </span>│<span style=\"color: #0070dd; text-decoration-color: #0070dd\"> DPS    </span>│\n",
       "│<span style=\"color: #c69b6d; text-decoration-color: #c69b6d\"> \"Tauryuu-Azralon\"     </span>│<span style=\"color: #c69b6d; text-decoration-color: #c69b6d\"> Player-3209-0B6E68C9 </span>│<span style=\"color: #c69b6d; text-decoration-color: #c69b6d\"> Warrior      </span>│<span style=\"color: #c69b6d; text-decoration-color: #c69b6d\"> Fury          </span>│<span style=\"color: #c69b6d; text-decoration-color: #c69b6d\"> DPS    </span>│\n",
       "│<span style=\"color: #c69b6d; text-decoration-color: #c69b6d\"> \"Flintti-Azralon\"     </span>│<span style=\"color: #c69b6d; text-decoration-color: #c69b6d\"> Player-3209-0B4848EE </span>│<span style=\"color: #c69b6d; text-decoration-color: #c69b6d\"> Warrior      </span>│<span style=\"color: #c69b6d; text-decoration-color: #c69b6d\"> Arms          </span>│<span style=\"color: #c69b6d; text-decoration-color: #c69b6d\"> DPS    </span>│\n",
       "│<span style=\"color: #c69b6d; text-decoration-color: #c69b6d\"> \"Tungão-Azralon\"      </span>│<span style=\"color: #c69b6d; text-decoration-color: #c69b6d\"> Player-3209-09DEF24D </span>│<span style=\"color: #c69b6d; text-decoration-color: #c69b6d\"> Warrior      </span>│<span style=\"color: #c69b6d; text-decoration-color: #c69b6d\"> Arms          </span>│<span style=\"color: #c69b6d; text-decoration-color: #c69b6d\"> DPS    </span>│\n",
       "│<span style=\"color: #ff7c0a; text-decoration-color: #ff7c0a\"> \"Cotiamanca-Azralon\"  </span>│<span style=\"color: #ff7c0a; text-decoration-color: #ff7c0a\"> Player-3209-0B5C0896 </span>│<span style=\"color: #ff7c0a; text-decoration-color: #ff7c0a\"> Druid        </span>│<span style=\"color: #ff7c0a; text-decoration-color: #ff7c0a\"> Restoration   </span>│<span style=\"color: #ff7c0a; text-decoration-color: #ff7c0a\"> Healer </span>│\n",
       "│<span style=\"color: #00ff98; text-decoration-color: #00ff98\"> \"Saos-Azralon\"        </span>│<span style=\"color: #00ff98; text-decoration-color: #00ff98\"> Player-3209-0B66B3C7 </span>│<span style=\"color: #00ff98; text-decoration-color: #00ff98\"> Monk         </span>│<span style=\"color: #00ff98; text-decoration-color: #00ff98\"> Mistweaver    </span>│<span style=\"color: #00ff98; text-decoration-color: #00ff98\"> Healer </span>│\n",
       "│<span style=\"color: #00ff98; text-decoration-color: #00ff98\"> \"Tacaétaca-Azralon\"   </span>│<span style=\"color: #00ff98; text-decoration-color: #00ff98\"> Player-3209-0B103996 </span>│<span style=\"color: #00ff98; text-decoration-color: #00ff98\"> Monk         </span>│<span style=\"color: #00ff98; text-decoration-color: #00ff98\"> Mistweaver    </span>│<span style=\"color: #00ff98; text-decoration-color: #00ff98\"> Healer </span>│\n",
       "│<span style=\"color: #ffffff; text-decoration-color: #ffffff\"> \"Yapriesty-Azralon\"   </span>│<span style=\"color: #ffffff; text-decoration-color: #ffffff\"> Player-3209-0B3A163B </span>│<span style=\"color: #ffffff; text-decoration-color: #ffffff\"> Priest       </span>│<span style=\"color: #ffffff; text-decoration-color: #ffffff\"> Holy          </span>│<span style=\"color: #ffffff; text-decoration-color: #ffffff\"> Healer </span>│\n",
       "│<span style=\"color: #ff7c0a; text-decoration-color: #ff7c0a\"> \"Thilokz-Azralon\"     </span>│<span style=\"color: #ff7c0a; text-decoration-color: #ff7c0a\"> Player-3209-0949ACB4 </span>│<span style=\"color: #ff7c0a; text-decoration-color: #ff7c0a\"> Druid        </span>│<span style=\"color: #ff7c0a; text-decoration-color: #ff7c0a\"> Guardian      </span>│<span style=\"color: #ff7c0a; text-decoration-color: #ff7c0a\"> Tank   </span>│\n",
       "│<span style=\"color: #ff7c0a; text-decoration-color: #ff7c0a\"> \"Theuzín-Azralon\"     </span>│<span style=\"color: #ff7c0a; text-decoration-color: #ff7c0a\"> Player-3209-0B5B6DAC </span>│<span style=\"color: #ff7c0a; text-decoration-color: #ff7c0a\"> Druid        </span>│<span style=\"color: #ff7c0a; text-decoration-color: #ff7c0a\"> Guardian      </span>│<span style=\"color: #ff7c0a; text-decoration-color: #ff7c0a\"> Tank   </span>│\n",
       "└───────────────────────┴──────────────────────┴──────────────┴───────────────┴────────┘\n",
       "</pre>\n"
      ],
      "text/plain": [
       "\u001b[3m                                        Players                                         \u001b[0m\n",
       "┏━━━━━━━━━━━━━━━━━━━━━━━┳━━━━━━━━━━━━━━━━━━━━━━┳━━━━━━━━━━━━━━┳━━━━━━━━━━━━━━━┳━━━━━━━━┓\n",
       "┃\u001b[1m \u001b[0m\u001b[1mName                 \u001b[0m\u001b[1m \u001b[0m┃\u001b[1m \u001b[0m\u001b[1mID                  \u001b[0m\u001b[1m \u001b[0m┃\u001b[1m \u001b[0m\u001b[1mClass       \u001b[0m\u001b[1m \u001b[0m┃\u001b[1m \u001b[0m\u001b[1mSpec         \u001b[0m\u001b[1m \u001b[0m┃\u001b[1m \u001b[0m\u001b[1mRole  \u001b[0m\u001b[1m \u001b[0m┃\n",
       "┡━━━━━━━━━━━━━━━━━━━━━━━╇━━━━━━━━━━━━━━━━━━━━━━╇━━━━━━━━━━━━━━╇━━━━━━━━━━━━━━━╇━━━━━━━━┩\n",
       "│\u001b[38;2;196;30;58m \u001b[0m\u001b[38;2;196;30;58m\"Blàdèmytsù-Azralon\" \u001b[0m\u001b[38;2;196;30;58m \u001b[0m│\u001b[38;2;196;30;58m \u001b[0m\u001b[38;2;196;30;58mPlayer-3209-0A77F7F8\u001b[0m\u001b[38;2;196;30;58m \u001b[0m│\u001b[38;2;196;30;58m \u001b[0m\u001b[38;2;196;30;58mDeath Knight\u001b[0m\u001b[38;2;196;30;58m \u001b[0m│\u001b[38;2;196;30;58m \u001b[0m\u001b[38;2;196;30;58mUnholy       \u001b[0m\u001b[38;2;196;30;58m \u001b[0m│\u001b[38;2;196;30;58m \u001b[0m\u001b[38;2;196;30;58mDPS   \u001b[0m\u001b[38;2;196;30;58m \u001b[0m│\n",
       "│\u001b[38;2;163;48;201m \u001b[0m\u001b[38;2;163;48;201m\"Djøw-Azralon\"       \u001b[0m\u001b[38;2;163;48;201m \u001b[0m│\u001b[38;2;163;48;201m \u001b[0m\u001b[38;2;163;48;201mPlayer-3209-0B560779\u001b[0m\u001b[38;2;163;48;201m \u001b[0m│\u001b[38;2;163;48;201m \u001b[0m\u001b[38;2;163;48;201mDemon Hunter\u001b[0m\u001b[38;2;163;48;201m \u001b[0m│\u001b[38;2;163;48;201m \u001b[0m\u001b[38;2;163;48;201mHavoc        \u001b[0m\u001b[38;2;163;48;201m \u001b[0m│\u001b[38;2;163;48;201m \u001b[0m\u001b[38;2;163;48;201mDPS   \u001b[0m\u001b[38;2;163;48;201m \u001b[0m│\n",
       "│\u001b[38;2;163;48;201m \u001b[0m\u001b[38;2;163;48;201m\"Demonzera-Azralon\"  \u001b[0m\u001b[38;2;163;48;201m \u001b[0m│\u001b[38;2;163;48;201m \u001b[0m\u001b[38;2;163;48;201mPlayer-3209-09046953\u001b[0m\u001b[38;2;163;48;201m \u001b[0m│\u001b[38;2;163;48;201m \u001b[0m\u001b[38;2;163;48;201mDemon Hunter\u001b[0m\u001b[38;2;163;48;201m \u001b[0m│\u001b[38;2;163;48;201m \u001b[0m\u001b[38;2;163;48;201mHavoc        \u001b[0m\u001b[38;2;163;48;201m \u001b[0m│\u001b[38;2;163;48;201m \u001b[0m\u001b[38;2;163;48;201mDPS   \u001b[0m\u001b[38;2;163;48;201m \u001b[0m│\n",
       "│\u001b[38;2;163;48;201m \u001b[0m\u001b[38;2;163;48;201m\"Emilysaeko-Azralon\" \u001b[0m\u001b[38;2;163;48;201m \u001b[0m│\u001b[38;2;163;48;201m \u001b[0m\u001b[38;2;163;48;201mPlayer-3209-0A4C1296\u001b[0m\u001b[38;2;163;48;201m \u001b[0m│\u001b[38;2;163;48;201m \u001b[0m\u001b[38;2;163;48;201mDemon Hunter\u001b[0m\u001b[38;2;163;48;201m \u001b[0m│\u001b[38;2;163;48;201m \u001b[0m\u001b[38;2;163;48;201mHavoc        \u001b[0m\u001b[38;2;163;48;201m \u001b[0m│\u001b[38;2;163;48;201m \u001b[0m\u001b[38;2;163;48;201mDPS   \u001b[0m\u001b[38;2;163;48;201m \u001b[0m│\n",
       "│\u001b[38;2;163;48;201m \u001b[0m\u001b[38;2;163;48;201m\"Dii-Azralon\"        \u001b[0m\u001b[38;2;163;48;201m \u001b[0m│\u001b[38;2;163;48;201m \u001b[0m\u001b[38;2;163;48;201mPlayer-3209-0B1A3D5B\u001b[0m\u001b[38;2;163;48;201m \u001b[0m│\u001b[38;2;163;48;201m \u001b[0m\u001b[38;2;163;48;201mDemon Hunter\u001b[0m\u001b[38;2;163;48;201m \u001b[0m│\u001b[38;2;163;48;201m \u001b[0m\u001b[38;2;163;48;201mHavoc        \u001b[0m\u001b[38;2;163;48;201m \u001b[0m│\u001b[38;2;163;48;201m \u001b[0m\u001b[38;2;163;48;201mDPS   \u001b[0m\u001b[38;2;163;48;201m \u001b[0m│\n",
       "│\u001b[38;2;255;124;10m \u001b[0m\u001b[38;2;255;124;10m\"Maulfurionx-Azralon\"\u001b[0m\u001b[38;2;255;124;10m \u001b[0m│\u001b[38;2;255;124;10m \u001b[0m\u001b[38;2;255;124;10mPlayer-3209-08518E93\u001b[0m\u001b[38;2;255;124;10m \u001b[0m│\u001b[38;2;255;124;10m \u001b[0m\u001b[38;2;255;124;10mDruid       \u001b[0m\u001b[38;2;255;124;10m \u001b[0m│\u001b[38;2;255;124;10m \u001b[0m\u001b[38;2;255;124;10mFeral        \u001b[0m\u001b[38;2;255;124;10m \u001b[0m│\u001b[38;2;255;124;10m \u001b[0m\u001b[38;2;255;124;10mDPS   \u001b[0m\u001b[38;2;255;124;10m \u001b[0m│\n",
       "│\u001b[38;2;255;124;10m \u001b[0m\u001b[38;2;255;124;10m\"Ïppo-Azralon\"       \u001b[0m\u001b[38;2;255;124;10m \u001b[0m│\u001b[38;2;255;124;10m \u001b[0m\u001b[38;2;255;124;10mPlayer-3209-078B5B14\u001b[0m\u001b[38;2;255;124;10m \u001b[0m│\u001b[38;2;255;124;10m \u001b[0m\u001b[38;2;255;124;10mDruid       \u001b[0m\u001b[38;2;255;124;10m \u001b[0m│\u001b[38;2;255;124;10m \u001b[0m\u001b[38;2;255;124;10mBalance      \u001b[0m\u001b[38;2;255;124;10m \u001b[0m│\u001b[38;2;255;124;10m \u001b[0m\u001b[38;2;255;124;10mDPS   \u001b[0m\u001b[38;2;255;124;10m \u001b[0m│\n",
       "│\u001b[38;2;170;211;114m \u001b[0m\u001b[38;2;170;211;114m\"Garhon-Azralon\"     \u001b[0m\u001b[38;2;170;211;114m \u001b[0m│\u001b[38;2;170;211;114m \u001b[0m\u001b[38;2;170;211;114mPlayer-3209-06F245F6\u001b[0m\u001b[38;2;170;211;114m \u001b[0m│\u001b[38;2;170;211;114m \u001b[0m\u001b[38;2;170;211;114mHunter      \u001b[0m\u001b[38;2;170;211;114m \u001b[0m│\u001b[38;2;170;211;114m \u001b[0m\u001b[38;2;170;211;114mBeast Mastery\u001b[0m\u001b[38;2;170;211;114m \u001b[0m│\u001b[38;2;170;211;114m \u001b[0m\u001b[38;2;170;211;114mDPS   \u001b[0m\u001b[38;2;170;211;114m \u001b[0m│\n",
       "│\u001b[38;2;170;211;114m \u001b[0m\u001b[38;2;170;211;114m\"Andreyzinho-Azralon\"\u001b[0m\u001b[38;2;170;211;114m \u001b[0m│\u001b[38;2;170;211;114m \u001b[0m\u001b[38;2;170;211;114mPlayer-3209-0A2C485D\u001b[0m\u001b[38;2;170;211;114m \u001b[0m│\u001b[38;2;170;211;114m \u001b[0m\u001b[38;2;170;211;114mHunter      \u001b[0m\u001b[38;2;170;211;114m \u001b[0m│\u001b[38;2;170;211;114m \u001b[0m\u001b[38;2;170;211;114mBeast Mastery\u001b[0m\u001b[38;2;170;211;114m \u001b[0m│\u001b[38;2;170;211;114m \u001b[0m\u001b[38;2;170;211;114mDPS   \u001b[0m\u001b[38;2;170;211;114m \u001b[0m│\n",
       "│\u001b[38;2;63;199;235m \u001b[0m\u001b[38;2;63;199;235m\"Akii-Azralon\"       \u001b[0m\u001b[38;2;63;199;235m \u001b[0m│\u001b[38;2;63;199;235m \u001b[0m\u001b[38;2;63;199;235mPlayer-3209-0B1B046E\u001b[0m\u001b[38;2;63;199;235m \u001b[0m│\u001b[38;2;63;199;235m \u001b[0m\u001b[38;2;63;199;235mMage        \u001b[0m\u001b[38;2;63;199;235m \u001b[0m│\u001b[38;2;63;199;235m \u001b[0m\u001b[38;2;63;199;235mFire         \u001b[0m\u001b[38;2;63;199;235m \u001b[0m│\u001b[38;2;63;199;235m \u001b[0m\u001b[38;2;63;199;235mDPS   \u001b[0m\u001b[38;2;63;199;235m \u001b[0m│\n",
       "│\u001b[38;2;63;199;235m \u001b[0m\u001b[38;2;63;199;235m\"Jathäl-Azralon\"     \u001b[0m\u001b[38;2;63;199;235m \u001b[0m│\u001b[38;2;63;199;235m \u001b[0m\u001b[38;2;63;199;235mPlayer-3209-0B2A1849\u001b[0m\u001b[38;2;63;199;235m \u001b[0m│\u001b[38;2;63;199;235m \u001b[0m\u001b[38;2;63;199;235mMage        \u001b[0m\u001b[38;2;63;199;235m \u001b[0m│\u001b[38;2;63;199;235m \u001b[0m\u001b[38;2;63;199;235mFire         \u001b[0m\u001b[38;2;63;199;235m \u001b[0m│\u001b[38;2;63;199;235m \u001b[0m\u001b[38;2;63;199;235mDPS   \u001b[0m\u001b[38;2;63;199;235m \u001b[0m│\n",
       "│\u001b[38;2;63;199;235m \u001b[0m\u001b[38;2;63;199;235m\"Zairoz-Azralon\"     \u001b[0m\u001b[38;2;63;199;235m \u001b[0m│\u001b[38;2;63;199;235m \u001b[0m\u001b[38;2;63;199;235mPlayer-3209-0B6BEDAB\u001b[0m\u001b[38;2;63;199;235m \u001b[0m│\u001b[38;2;63;199;235m \u001b[0m\u001b[38;2;63;199;235mMage        \u001b[0m\u001b[38;2;63;199;235m \u001b[0m│\u001b[38;2;63;199;235m \u001b[0m\u001b[38;2;63;199;235mFrost        \u001b[0m\u001b[38;2;63;199;235m \u001b[0m│\u001b[38;2;63;199;235m \u001b[0m\u001b[38;2;63;199;235mDPS   \u001b[0m\u001b[38;2;63;199;235m \u001b[0m│\n",
       "│\u001b[38;2;244;140;186m \u001b[0m\u001b[38;2;244;140;186m\"Spartanovix-Azralon\"\u001b[0m\u001b[38;2;244;140;186m \u001b[0m│\u001b[38;2;244;140;186m \u001b[0m\u001b[38;2;244;140;186mPlayer-3209-0B588206\u001b[0m\u001b[38;2;244;140;186m \u001b[0m│\u001b[38;2;244;140;186m \u001b[0m\u001b[38;2;244;140;186mPaladin     \u001b[0m\u001b[38;2;244;140;186m \u001b[0m│\u001b[38;2;244;140;186m \u001b[0m\u001b[38;2;244;140;186mRetribution  \u001b[0m\u001b[38;2;244;140;186m \u001b[0m│\u001b[38;2;244;140;186m \u001b[0m\u001b[38;2;244;140;186mDPS   \u001b[0m\u001b[38;2;244;140;186m \u001b[0m│\n",
       "│\u001b[38;2;0;112;221m \u001b[0m\u001b[38;2;0;112;221m\"Pandamän-Azralon\"   \u001b[0m\u001b[38;2;0;112;221m \u001b[0m│\u001b[38;2;0;112;221m \u001b[0m\u001b[38;2;0;112;221mPlayer-3209-08F0E8EB\u001b[0m\u001b[38;2;0;112;221m \u001b[0m│\u001b[38;2;0;112;221m \u001b[0m\u001b[38;2;0;112;221mShaman      \u001b[0m\u001b[38;2;0;112;221m \u001b[0m│\u001b[38;2;0;112;221m \u001b[0m\u001b[38;2;0;112;221mEnhancement  \u001b[0m\u001b[38;2;0;112;221m \u001b[0m│\u001b[38;2;0;112;221m \u001b[0m\u001b[38;2;0;112;221mDPS   \u001b[0m\u001b[38;2;0;112;221m \u001b[0m│\n",
       "│\u001b[38;2;198;155;109m \u001b[0m\u001b[38;2;198;155;109m\"Tauryuu-Azralon\"    \u001b[0m\u001b[38;2;198;155;109m \u001b[0m│\u001b[38;2;198;155;109m \u001b[0m\u001b[38;2;198;155;109mPlayer-3209-0B6E68C9\u001b[0m\u001b[38;2;198;155;109m \u001b[0m│\u001b[38;2;198;155;109m \u001b[0m\u001b[38;2;198;155;109mWarrior     \u001b[0m\u001b[38;2;198;155;109m \u001b[0m│\u001b[38;2;198;155;109m \u001b[0m\u001b[38;2;198;155;109mFury         \u001b[0m\u001b[38;2;198;155;109m \u001b[0m│\u001b[38;2;198;155;109m \u001b[0m\u001b[38;2;198;155;109mDPS   \u001b[0m\u001b[38;2;198;155;109m \u001b[0m│\n",
       "│\u001b[38;2;198;155;109m \u001b[0m\u001b[38;2;198;155;109m\"Flintti-Azralon\"    \u001b[0m\u001b[38;2;198;155;109m \u001b[0m│\u001b[38;2;198;155;109m \u001b[0m\u001b[38;2;198;155;109mPlayer-3209-0B4848EE\u001b[0m\u001b[38;2;198;155;109m \u001b[0m│\u001b[38;2;198;155;109m \u001b[0m\u001b[38;2;198;155;109mWarrior     \u001b[0m\u001b[38;2;198;155;109m \u001b[0m│\u001b[38;2;198;155;109m \u001b[0m\u001b[38;2;198;155;109mArms         \u001b[0m\u001b[38;2;198;155;109m \u001b[0m│\u001b[38;2;198;155;109m \u001b[0m\u001b[38;2;198;155;109mDPS   \u001b[0m\u001b[38;2;198;155;109m \u001b[0m│\n",
       "│\u001b[38;2;198;155;109m \u001b[0m\u001b[38;2;198;155;109m\"Tungão-Azralon\"     \u001b[0m\u001b[38;2;198;155;109m \u001b[0m│\u001b[38;2;198;155;109m \u001b[0m\u001b[38;2;198;155;109mPlayer-3209-09DEF24D\u001b[0m\u001b[38;2;198;155;109m \u001b[0m│\u001b[38;2;198;155;109m \u001b[0m\u001b[38;2;198;155;109mWarrior     \u001b[0m\u001b[38;2;198;155;109m \u001b[0m│\u001b[38;2;198;155;109m \u001b[0m\u001b[38;2;198;155;109mArms         \u001b[0m\u001b[38;2;198;155;109m \u001b[0m│\u001b[38;2;198;155;109m \u001b[0m\u001b[38;2;198;155;109mDPS   \u001b[0m\u001b[38;2;198;155;109m \u001b[0m│\n",
       "│\u001b[38;2;255;124;10m \u001b[0m\u001b[38;2;255;124;10m\"Cotiamanca-Azralon\" \u001b[0m\u001b[38;2;255;124;10m \u001b[0m│\u001b[38;2;255;124;10m \u001b[0m\u001b[38;2;255;124;10mPlayer-3209-0B5C0896\u001b[0m\u001b[38;2;255;124;10m \u001b[0m│\u001b[38;2;255;124;10m \u001b[0m\u001b[38;2;255;124;10mDruid       \u001b[0m\u001b[38;2;255;124;10m \u001b[0m│\u001b[38;2;255;124;10m \u001b[0m\u001b[38;2;255;124;10mRestoration  \u001b[0m\u001b[38;2;255;124;10m \u001b[0m│\u001b[38;2;255;124;10m \u001b[0m\u001b[38;2;255;124;10mHealer\u001b[0m\u001b[38;2;255;124;10m \u001b[0m│\n",
       "│\u001b[38;2;0;255;152m \u001b[0m\u001b[38;2;0;255;152m\"Saos-Azralon\"       \u001b[0m\u001b[38;2;0;255;152m \u001b[0m│\u001b[38;2;0;255;152m \u001b[0m\u001b[38;2;0;255;152mPlayer-3209-0B66B3C7\u001b[0m\u001b[38;2;0;255;152m \u001b[0m│\u001b[38;2;0;255;152m \u001b[0m\u001b[38;2;0;255;152mMonk        \u001b[0m\u001b[38;2;0;255;152m \u001b[0m│\u001b[38;2;0;255;152m \u001b[0m\u001b[38;2;0;255;152mMistweaver   \u001b[0m\u001b[38;2;0;255;152m \u001b[0m│\u001b[38;2;0;255;152m \u001b[0m\u001b[38;2;0;255;152mHealer\u001b[0m\u001b[38;2;0;255;152m \u001b[0m│\n",
       "│\u001b[38;2;0;255;152m \u001b[0m\u001b[38;2;0;255;152m\"Tacaétaca-Azralon\"  \u001b[0m\u001b[38;2;0;255;152m \u001b[0m│\u001b[38;2;0;255;152m \u001b[0m\u001b[38;2;0;255;152mPlayer-3209-0B103996\u001b[0m\u001b[38;2;0;255;152m \u001b[0m│\u001b[38;2;0;255;152m \u001b[0m\u001b[38;2;0;255;152mMonk        \u001b[0m\u001b[38;2;0;255;152m \u001b[0m│\u001b[38;2;0;255;152m \u001b[0m\u001b[38;2;0;255;152mMistweaver   \u001b[0m\u001b[38;2;0;255;152m \u001b[0m│\u001b[38;2;0;255;152m \u001b[0m\u001b[38;2;0;255;152mHealer\u001b[0m\u001b[38;2;0;255;152m \u001b[0m│\n",
       "│\u001b[38;2;255;255;255m \u001b[0m\u001b[38;2;255;255;255m\"Yapriesty-Azralon\"  \u001b[0m\u001b[38;2;255;255;255m \u001b[0m│\u001b[38;2;255;255;255m \u001b[0m\u001b[38;2;255;255;255mPlayer-3209-0B3A163B\u001b[0m\u001b[38;2;255;255;255m \u001b[0m│\u001b[38;2;255;255;255m \u001b[0m\u001b[38;2;255;255;255mPriest      \u001b[0m\u001b[38;2;255;255;255m \u001b[0m│\u001b[38;2;255;255;255m \u001b[0m\u001b[38;2;255;255;255mHoly         \u001b[0m\u001b[38;2;255;255;255m \u001b[0m│\u001b[38;2;255;255;255m \u001b[0m\u001b[38;2;255;255;255mHealer\u001b[0m\u001b[38;2;255;255;255m \u001b[0m│\n",
       "│\u001b[38;2;255;124;10m \u001b[0m\u001b[38;2;255;124;10m\"Thilokz-Azralon\"    \u001b[0m\u001b[38;2;255;124;10m \u001b[0m│\u001b[38;2;255;124;10m \u001b[0m\u001b[38;2;255;124;10mPlayer-3209-0949ACB4\u001b[0m\u001b[38;2;255;124;10m \u001b[0m│\u001b[38;2;255;124;10m \u001b[0m\u001b[38;2;255;124;10mDruid       \u001b[0m\u001b[38;2;255;124;10m \u001b[0m│\u001b[38;2;255;124;10m \u001b[0m\u001b[38;2;255;124;10mGuardian     \u001b[0m\u001b[38;2;255;124;10m \u001b[0m│\u001b[38;2;255;124;10m \u001b[0m\u001b[38;2;255;124;10mTank  \u001b[0m\u001b[38;2;255;124;10m \u001b[0m│\n",
       "│\u001b[38;2;255;124;10m \u001b[0m\u001b[38;2;255;124;10m\"Theuzín-Azralon\"    \u001b[0m\u001b[38;2;255;124;10m \u001b[0m│\u001b[38;2;255;124;10m \u001b[0m\u001b[38;2;255;124;10mPlayer-3209-0B5B6DAC\u001b[0m\u001b[38;2;255;124;10m \u001b[0m│\u001b[38;2;255;124;10m \u001b[0m\u001b[38;2;255;124;10mDruid       \u001b[0m\u001b[38;2;255;124;10m \u001b[0m│\u001b[38;2;255;124;10m \u001b[0m\u001b[38;2;255;124;10mGuardian     \u001b[0m\u001b[38;2;255;124;10m \u001b[0m│\u001b[38;2;255;124;10m \u001b[0m\u001b[38;2;255;124;10mTank  \u001b[0m\u001b[38;2;255;124;10m \u001b[0m│\n",
       "└───────────────────────┴──────────────────────┴──────────────┴───────────────┴────────┘\n"
      ]
     },
     "metadata": {},
     "output_type": "display_data"
    }
   ],
   "source": [
    "r.listPlayers();"
   ]
  },
  {
   "cell_type": "code",
   "execution_count": 12,
   "metadata": {},
   "outputs": [],
   "source": [
    "(spDmg, mDmg) = r.getDamage()\n",
    "\n",
    "dmg = pd.merge(\n",
    "  spDmg,\n",
    "  mDmg.drop(['Name'], axis='columns'),\n",
    "  how='outer',\n",
    "  on='Unit ID'\n",
    ")\n",
    "\n",
    "dmg['Player ID'] = dmg['Player ID'].fillna(dmg['Unit ID'])\n",
    "dmg = dmg.fillna(0)\n",
    "\n",
    "t = dmg.join(pd.DataFrame(\n",
    "    dmg['Total (Spell)'] + dmg['Total (Melee)'], \n",
    "    columns=['Total'])\n",
    ").groupby(\n",
    "    ['Player ID', 'Name']\n",
    ").sum()\n"
   ]
  },
  {
   "cell_type": "code",
   "execution_count": null,
   "metadata": {},
   "outputs": [],
   "source": [
    "e.getReport().showMeleeDamage()"
   ]
  },
  {
   "cell_type": "code",
   "execution_count": null,
   "metadata": {},
   "outputs": [],
   "source": [
    "e.q.filter(\n",
    "    Predicate.all([\n",
    "        Predicate.any([Predicate.isPlayerAction(),\n",
    "                       Predicate.isPetAction()]),\n",
    "        Predicate.isTargetHostile(),\n",
    "        Predicate.isEventIn([\n",
    "            'SPELL_DAMAGE',\n",
    "            'SPELL_PERIODIC_DAMAGE',\n",
    "            'RANGE_DAMAGE'\n",
    "        ]),\n",
    "    ])\n",
    ").map((\n",
    "    Predicate.getActorId(),\n",
    "    Predicate.getActor(),\n",
    "    lambda x: int(x[29]),\n",
    "    # Predicate.getData(),\n",
    ")).list()\n"
   ]
  }
 ],
 "metadata": {
  "interpreter": {
   "hash": "ac59ebe37160ed0dfa835113d9b8498d9f09ceb179beaac4002f036b9467c963"
  },
  "kernelspec": {
   "display_name": "Python 3.9.9 64-bit",
   "language": "python",
   "name": "python3"
  },
  "language_info": {
   "codemirror_mode": {
    "name": "ipython",
    "version": 3
   },
   "file_extension": ".py",
   "mimetype": "text/x-python",
   "name": "python",
   "nbconvert_exporter": "python",
   "pygments_lexer": "ipython3",
   "version": "3.9.9"
  },
  "orig_nbformat": 4
 },
 "nbformat": 4,
 "nbformat_minor": 2
}
