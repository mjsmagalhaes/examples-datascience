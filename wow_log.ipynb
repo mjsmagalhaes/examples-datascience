{
 "cells": [
  {
   "cell_type": "code",
   "execution_count": 1,
   "metadata": {},
   "outputs": [],
   "source": [
    "%load_ext autoreload\n",
    "%autoreload 2"
   ]
  },
  {
   "cell_type": "markdown",
   "metadata": {},
   "source": [
    "# World of Warcraft Log Toy\n",
    "\n",
    "This notebook toys with data generated from World of Warcraft (WoW) logs.\n",
    "\n",
    "4 helper classes were created (in the wow folder):\n",
    "- **wow.log.Record**\n",
    "  - *Parses and stores an entry of the log*\n",
    "  - Each line may have differente structure so more classes deriving from this one may be necessary.\n",
    "  - Each record also represent an in game event.\n",
    "- **wow.log.Encounter**\n",
    "  - *A set of records that represents a fight agains a boss in the game*\n",
    "  - Each starts with a ENCOUNTER_START event and go until an ENCOUNTER_END event is found.\n",
    "- **wow.query.Query**\n",
    "  - *An object to help create a chain of iterators to build queries (using filters and map like functions)*\n",
    "- **wow.query.Predicate**\n",
    "  - *A Collection of functions that will be applied to those iterators*\n",
    "\n",
    "There are also another 2 modules in addition to both modules containing classes above:\n",
    "- **ui**\n",
    "  - contain ui elements in this notebook\n",
    "\n",
    "- **fights**\n",
    "  - contains scripts to analyze each fight (only nerzhul for now)\n"
   ]
  },
  {
   "cell_type": "code",
   "execution_count": 2,
   "metadata": {},
   "outputs": [
    {
     "data": {
      "text/html": [
       "<style type='text/css'>\n",
       ".datatable table.frame { margin-bottom: 0; }\n",
       ".datatable table.frame thead { border-bottom: none; }\n",
       ".datatable table.frame tr.coltypes td {  color: #FFFFFF;  line-height: 6px;  padding: 0 0.5em;}\n",
       ".datatable .bool    { background: #DDDD99; }\n",
       ".datatable .object  { background: #565656; }\n",
       ".datatable .int     { background: #5D9E5D; }\n",
       ".datatable .float   { background: #4040CC; }\n",
       ".datatable .str     { background: #CC4040; }\n",
       ".datatable .time    { background: #40CC40; }\n",
       ".datatable .row_index {  background: var(--jp-border-color3);  border-right: 1px solid var(--jp-border-color0);  color: var(--jp-ui-font-color3);  font-size: 9px;}\n",
       ".datatable .frame tbody td { text-align: left; }\n",
       ".datatable .frame tr.coltypes .row_index {  background: var(--jp-border-color0);}\n",
       ".datatable th:nth-child(2) { padding-left: 12px; }\n",
       ".datatable .hellipsis {  color: var(--jp-cell-editor-border-color);}\n",
       ".datatable .vellipsis {  background: var(--jp-layout-color0);  color: var(--jp-cell-editor-border-color);}\n",
       ".datatable .na {  color: var(--jp-cell-editor-border-color);  font-size: 80%;}\n",
       ".datatable .sp {  opacity: 0.25;}\n",
       ".datatable .footer { font-size: 9px; }\n",
       ".datatable .frame_dimensions {  background: var(--jp-border-color3);  border-top: 1px solid var(--jp-border-color0);  color: var(--jp-ui-font-color3);  display: inline-block;  opacity: 0.6;  padding: 1px 10px 1px 5px;}\n",
       "</style>\n"
      ],
      "text/plain": [
       "<IPython.core.display.HTML object>"
      ]
     },
     "metadata": {},
     "output_type": "display_data"
    }
   ],
   "source": [
    "# Initialize\n",
    "import pandas as pd\n",
    "import wow.ui as ui\n",
    "import wow.helper as help\n",
    "import wow.fights\n",
    "\n",
    "from wow.query import Predicate\n",
    "from wow.log import Encounter, Log\n",
    "\n",
    "# (z, f) = ui.import_file()\n"
   ]
  },
  {
   "cell_type": "markdown",
   "metadata": {},
   "source": [
    "# Create Data Structures"
   ]
  },
  {
   "cell_type": "code",
   "execution_count": 3,
   "metadata": {},
   "outputs": [],
   "source": [
    "# help.unzip('WoWCombatLog-012722_214646.zip', 'wow')"
   ]
  },
  {
   "cell_type": "code",
   "execution_count": 4,
   "metadata": {},
   "outputs": [
    {
     "name": "stdout",
     "output_type": "stream",
     "text": [
      "Encounters:  7\n"
     ]
    }
   ],
   "source": [
    "# file = r'wow\\WoWCombatLog-012722_214646.txt'\n",
    "# file = r'C:\\Program Files (x86)\\World of Warcraft\\_retail_\\Logs\\RaiderIOLogsArchive\\WoWCombatLog-012722_214646.txt'\n",
    "file = r'C:\\Program Files (x86)\\World of Warcraft\\_retail_\\Logs\\WoWCombatLog-020122_215917.txt'\n",
    "log = Log.parse(file)"
   ]
  },
  {
   "cell_type": "markdown",
   "metadata": {},
   "source": [
    "# Detailed Analysis"
   ]
  },
  {
   "cell_type": "code",
   "execution_count": 5,
   "metadata": {},
   "outputs": [
    {
     "data": {
      "application/vnd.jupyter.widget-view+json": {
       "model_id": "4d0a2440f7a1406b8b7043507915bde6",
       "version_major": 2,
       "version_minor": 0
      },
      "text/plain": [
       "VBox(children=(HBox(children=(Dropdown(description='Encounter:', options=(('1 \"The Tarragrue\" 6:55', 0), ('2 \"…"
      ]
     },
     "metadata": {},
     "output_type": "display_data"
    }
   ],
   "source": [
    "# Define Encounter being Analysed\n",
    "encSelect = ui.pick_encounter(log.encounters)"
   ]
  },
  {
   "cell_type": "code",
   "execution_count": 6,
   "metadata": {},
   "outputs": [
    {
     "data": {
      "text/markdown": [
       "\n",
       "<style>\n",
       "sb { color: steelblue }\n",
       "o { color: Orange }\n",
       "g { color: Green }\n",
       "</style>\n",
       "\n",
       "## <sb>Mythic \"The Tarragrue\" Wipe (id: 2423)</sb>\n",
       "- 97966 - 2/1 22:30:09.892: ENCOUNTER_START,2423,\"The Tarragrue\",16,20,2450\n",
       "\n",
       "- 114276 entries in **0:06:55.079000** / 0:06:55.149000\n",
       "- 212241 - 2/1 22:37:05.041: ENCOUNTER_END,2423,\"The Tarragrue\",16,20,0,415079\n",
       "\n"
      ],
      "text/plain": [
       "<IPython.core.display.Markdown object>"
      ]
     },
     "metadata": {},
     "output_type": "display_data"
    },
    {
     "data": {
      "text/plain": [
       "None"
      ]
     },
     "metadata": {},
     "output_type": "display_data"
    }
   ],
   "source": [
    "e = log.encounters[encSelect.value]\n",
    "e.getReport().report()"
   ]
  },
  {
   "cell_type": "code",
   "execution_count": 12,
   "metadata": {},
   "outputs": [
    {
     "data": {
      "text/plain": [
       "'encounters_2022_02_01'"
      ]
     },
     "execution_count": 12,
     "metadata": {},
     "output_type": "execute_result"
    }
   ],
   "source": [
    "e.timestamp_begin.strftime('encounters_%Y_%m_%d')"
   ]
  },
  {
   "cell_type": "code",
   "execution_count": null,
   "metadata": {},
   "outputs": [],
   "source": [
    "e.export()"
   ]
  },
  {
   "cell_type": "code",
   "execution_count": 14,
   "metadata": {},
   "outputs": [],
   "source": [
    "log.save_encounters()"
   ]
  },
  {
   "cell_type": "code",
   "execution_count": null,
   "metadata": {},
   "outputs": [],
   "source": [
    "# Full Log Report\n",
    "# NerzhulReport(log).listOrbsDisposed().groupby(\n",
    "#   lambda x: x[1],\n",
    "#   lambda x: x[2],\n",
    "#   lambda x: len(list(x))\n",
    "# ).dict()\n",
    "# r.listEncounters()\n",
    "\n",
    "# Combined Logs\n",
    "# r = EncounterReport(encounters)\n",
    "# r.listEncounters()\n"
   ]
  },
  {
   "cell_type": "code",
   "execution_count": null,
   "metadata": {},
   "outputs": [],
   "source": [
    "# import humanize\n",
    "# from pympler import asizeof\n",
    "# humanize.naturalsize(\n",
    "# )\n",
    "# asizeof.asizeof(log, limit=6, stats=3, cutoff=0)"
   ]
  },
  {
   "cell_type": "code",
   "execution_count": null,
   "metadata": {},
   "outputs": [],
   "source": [
    "(spDmg, mDmg) = e.getReport().getDamage()\n",
    "\n",
    "dmg = pd.merge(\n",
    "  spDmg,\n",
    "  mDmg.drop(['Name'], axis='columns'),\n",
    "  how='outer',\n",
    "  on='Unit ID'\n",
    ")\n",
    "\n"
   ]
  },
  {
   "cell_type": "code",
   "execution_count": null,
   "metadata": {},
   "outputs": [],
   "source": [
    "dmg['Player ID'] = dmg['Player ID'].fillna(dmg['Unit ID'])\n",
    "dmg = dmg.fillna(0)\n",
    "dmg.groupby(['Player ID', 'Name']).sum()"
   ]
  },
  {
   "cell_type": "code",
   "execution_count": null,
   "metadata": {},
   "outputs": [],
   "source": [
    "dmg.join(pd.DataFrame(dmg['Total (Spell)'] + dmg['Total (Melee)'], columns=['Total']) )\n"
   ]
  },
  {
   "cell_type": "code",
   "execution_count": null,
   "metadata": {},
   "outputs": [],
   "source": [
    "e.getReport().showMeleeDamage()"
   ]
  },
  {
   "cell_type": "code",
   "execution_count": null,
   "metadata": {},
   "outputs": [],
   "source": [
    "e.q.filter(\n",
    "    Predicate.all([\n",
    "        Predicate.any([Predicate.isPlayerAction(),\n",
    "                       Predicate.isPetAction()]),\n",
    "        Predicate.isTargetHostile(),\n",
    "        Predicate.isEventIn([\n",
    "            'SPELL_DAMAGE',\n",
    "            'SPELL_PERIODIC_DAMAGE',\n",
    "            'RANGE_DAMAGE'\n",
    "        ]),\n",
    "    ])\n",
    ").map((\n",
    "    Predicate.getActorId(),\n",
    "    Predicate.getActor(),\n",
    "    lambda x: int(x[29]),\n",
    "    # Predicate.getData(),\n",
    ")).list()\n"
   ]
  },
  {
   "cell_type": "code",
   "execution_count": null,
   "metadata": {},
   "outputs": [],
   "source": []
  }
 ],
 "metadata": {
  "interpreter": {
   "hash": "ac59ebe37160ed0dfa835113d9b8498d9f09ceb179beaac4002f036b9467c963"
  },
  "kernelspec": {
   "display_name": "Python 3.9.9 64-bit",
   "language": "python",
   "name": "python3"
  },
  "language_info": {
   "codemirror_mode": {
    "name": "ipython",
    "version": 3
   },
   "file_extension": ".py",
   "mimetype": "text/x-python",
   "name": "python",
   "nbconvert_exporter": "python",
   "pygments_lexer": "ipython3",
   "version": "3.9.9"
  },
  "orig_nbformat": 4
 },
 "nbformat": 4,
 "nbformat_minor": 2
}
