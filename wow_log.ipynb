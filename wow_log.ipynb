{
 "cells": [
  {
   "cell_type": "code",
   "execution_count": 1,
   "metadata": {},
   "outputs": [],
   "source": [
    "%load_ext autoreload\n",
    "%autoreload 2"
   ]
  },
  {
   "cell_type": "markdown",
   "metadata": {},
   "source": [
    "# World of Warcraft Log Toy\n",
    "\n",
    "This notebook toys with data generated from World of Warcraft (WoW) logs.\n",
    "\n",
    "4 helper classes were created:\n",
    "- **Record**\n",
    "  - *Parses and stores an entry of the log*\n",
    "  - Each line may have differente structure so more classes deriving from this one may be necessary.\n",
    "  - Each record also represent an in game event.\n",
    "- **Encounter**\n",
    "  - *A set of records that represents a fight agains a boss in the game*\n",
    "  - Each starts with a ENCOUNTER_START event and go until an ENCOUNTER_END event is found.\n",
    "- **Query**\n",
    "  - *An object to help create a chain of iterators to build queries (using filters and map like functions)*\n",
    "- **Predicate**\n",
    "  - *A Collection of functions that will be applied to those iterators*\n"
   ]
  },
  {
   "cell_type": "code",
   "execution_count": 12,
   "metadata": {},
   "outputs": [
    {
     "data": {
      "application/vnd.jupyter.widget-view+json": {
       "model_id": "e2faf81602a34246b07fa888f7baab8b",
       "version_major": 2,
       "version_minor": 0
      },
      "text/plain": [
       "VBox(children=(FileUpload(value={}, description='Upload'), Output()))"
      ]
     },
     "metadata": {},
     "output_type": "display_data"
    }
   ],
   "source": [
    "# Initialize\n",
    "import pandas as pd\n",
    "import ipywidgets as widgets\n",
    "\n",
    "from wow.query import Query, Predicate\n",
    "from wow.log import Record, Encounter\n",
    "\n",
    "from IPython.display import display\n",
    "\n",
    "# import hashlib\n",
    "\n",
    "out = widgets.Output()\n",
    "\n",
    "def handler(x):\n",
    "  with out:\n",
    "    display('kkk')\n",
    "  \n",
    "file_input = widgets.FileUpload()\n",
    "file_input.observe(handler, names='value')\n",
    "\n",
    "widgets.VBox([\n",
    "  file_input,\n",
    "  out\n",
    "])\n",
    "\n",
    "# myfiles = file_input.get_files()\n",
    "# myfiles[0]\n"
   ]
  },
  {
   "cell_type": "code",
   "execution_count": null,
   "metadata": {},
   "outputs": [],
   "source": [
    "# file = r'wow/WoWCombatLog-012622_215632.txt'\n",
    "file = r'C:\\Program Files (x86)\\World of Warcraft\\_retail_\\Logs\\WoWCombatLog-012722_214646.txt'\n",
    "\n",
    "with open(file, 'r', encoding='utf-8') as filePtr:\n",
    "  raw = filePtr.readlines()\n"
   ]
  },
  {
   "cell_type": "markdown",
   "metadata": {},
   "source": [
    "# Create Data Structures"
   ]
  },
  {
   "cell_type": "code",
   "execution_count": 8,
   "metadata": {},
   "outputs": [],
   "source": [
    "# Create Record List\n",
    "\n",
    "log = Query(enumerate(raw)).map(lambda x: Record(x)).list()\n",
    "\n",
    "# Split Encounters\n",
    "\n",
    "qLog = Query(log)\n",
    "beg = qLog.filter(Predicate.isEncounterStart())\n",
    "end = qLog.filter(Predicate.isEncounterEnd())\n",
    "\n",
    "encounters = Query(zip(beg, end)).map(lambda x: Encounter(log, x[0], x[1]))\n",
    "\n",
    "e = encounters.filter(\n",
    "    lambda x: x.duration.total_seconds() > 60\n",
    ").list()\n",
    "print(len(encounters.list()), ' => ', len(e))\n"
   ]
  },
  {
   "cell_type": "markdown",
   "metadata": {},
   "source": [
    "# Initial Analysis (Commented)"
   ]
  },
  {
   "cell_type": "code",
   "execution_count": null,
   "metadata": {},
   "outputs": [],
   "source": [
    "# Players List\n",
    "\n",
    "# players = e[0].q.filter(\n",
    "#     Predicate.isPlayerAction()\n",
    "# ).map(\n",
    "#     Predicate.getActorInfo()\n",
    "# ).set()\n",
    "# players"
   ]
  },
  {
   "cell_type": "code",
   "execution_count": null,
   "metadata": {},
   "outputs": [],
   "source": [
    "# Hostile NPCs & (some of) Their Actions\n",
    "\n",
    "# e[0].q.filter(\n",
    "#     Predicate.isCreatureAction()\n",
    "# ).filter(\n",
    "#     Predicate.isActorHostile()\n",
    "# ).map(\n",
    "#     [ Predicate.getActor(), Predicate.getEvent()]\n",
    "# ).set()\n"
   ]
  },
  {
   "cell_type": "code",
   "execution_count": null,
   "metadata": {},
   "outputs": [],
   "source": [
    "# Orb of Torment Actions\n",
    "\n",
    "# orb = e[0].q.filter(\n",
    "#     Predicate.isActor('\"Orb of Torment\"')\n",
    "# ).map(\n",
    "#     (\n",
    "#         Predicate.getAction(),\n",
    "#         Predicate.getEvent(),\n",
    "#         Predicate.getTarget()\n",
    "#     )\n",
    "# ).list()\n",
    "# orb\n"
   ]
  },
  {
   "cell_type": "markdown",
   "metadata": {},
   "source": [
    "# Detailed Analysis"
   ]
  },
  {
   "cell_type": "code",
   "execution_count": 64,
   "metadata": {},
   "outputs": [
    {
     "data": {
      "application/vnd.jupyter.widget-view+json": {
       "model_id": "963f86d68d74458abbedb950305110b7",
       "version_major": 2,
       "version_minor": 0
      },
      "text/plain": [
       "VBox(children=(HBox(children=(Dropdown(description='Encounter:', options=(('1 \"Remnant of Ner\\'zhul\" 1:46', 0)…"
      ]
     },
     "metadata": {},
     "output_type": "display_data"
    }
   ],
   "source": [
    "# Define Encounter being Analysed\n",
    "from wow.fights import nerzhul\n",
    "nerzhul.ui(e)"
   ]
  }
 ],
 "metadata": {
  "interpreter": {
   "hash": "ac59ebe37160ed0dfa835113d9b8498d9f09ceb179beaac4002f036b9467c963"
  },
  "kernelspec": {
   "display_name": "Python 3.9.9 64-bit",
   "language": "python",
   "name": "python3"
  },
  "language_info": {
   "codemirror_mode": {
    "name": "ipython",
    "version": 3
   },
   "file_extension": ".py",
   "mimetype": "text/x-python",
   "name": "python",
   "nbconvert_exporter": "python",
   "pygments_lexer": "ipython3",
   "version": "3.9.9"
  },
  "orig_nbformat": 4
 },
 "nbformat": 4,
 "nbformat_minor": 2
}
