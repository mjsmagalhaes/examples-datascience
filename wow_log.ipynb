{
 "cells": [
  {
   "cell_type": "code",
   "execution_count": 1,
   "metadata": {},
   "outputs": [],
   "source": [
    "%load_ext autoreload\n",
    "%autoreload 2"
   ]
  },
  {
   "cell_type": "markdown",
   "metadata": {},
   "source": [
    "# World of Warcraft Log Toy\n",
    "\n",
    "This notebook toys with data generated from World of Warcraft (WoW) logs.\n",
    "\n",
    "4 helper classes were created (in the wow folder):\n",
    "- **wow.log.Record**\n",
    "  - *Parses and stores an entry of the log*\n",
    "  - Each line may have differente structure so more classes deriving from this one may be necessary.\n",
    "  - Each record also represent an in game event.\n",
    "- **wow.log.Encounter**\n",
    "  - *A set of records that represents a fight agains a boss in the game*\n",
    "  - Each starts with a ENCOUNTER_START event and go until an ENCOUNTER_END event is found.\n",
    "- **wow.query.Query**\n",
    "  - *An object to help create a chain of iterators to build queries (using filters and map like functions)*\n",
    "- **wow.query.Predicate**\n",
    "  - *A Collection of functions that will be applied to those iterators*\n",
    "\n",
    "There are also another 2 modules in addition to both modules containing classes above:\n",
    "- **ui**\n",
    "  - contain ui elements in this notebook\n",
    "\n",
    "- **fights**\n",
    "  - contains scripts to analyze each fight (only nerzhul for now)\n"
   ]
  },
  {
   "cell_type": "code",
   "execution_count": 2,
   "metadata": {},
   "outputs": [
    {
     "data": {
      "text/html": [
       "<style type='text/css'>\n",
       ".datatable table.frame { margin-bottom: 0; }\n",
       ".datatable table.frame thead { border-bottom: none; }\n",
       ".datatable table.frame tr.coltypes td {  color: #FFFFFF;  line-height: 6px;  padding: 0 0.5em;}\n",
       ".datatable .bool    { background: #DDDD99; }\n",
       ".datatable .object  { background: #565656; }\n",
       ".datatable .int     { background: #5D9E5D; }\n",
       ".datatable .float   { background: #4040CC; }\n",
       ".datatable .str     { background: #CC4040; }\n",
       ".datatable .time    { background: #40CC40; }\n",
       ".datatable .row_index {  background: var(--jp-border-color3);  border-right: 1px solid var(--jp-border-color0);  color: var(--jp-ui-font-color3);  font-size: 9px;}\n",
       ".datatable .frame tbody td { text-align: left; }\n",
       ".datatable .frame tr.coltypes .row_index {  background: var(--jp-border-color0);}\n",
       ".datatable th:nth-child(2) { padding-left: 12px; }\n",
       ".datatable .hellipsis {  color: var(--jp-cell-editor-border-color);}\n",
       ".datatable .vellipsis {  background: var(--jp-layout-color0);  color: var(--jp-cell-editor-border-color);}\n",
       ".datatable .na {  color: var(--jp-cell-editor-border-color);  font-size: 80%;}\n",
       ".datatable .sp {  opacity: 0.25;}\n",
       ".datatable .footer { font-size: 9px; }\n",
       ".datatable .frame_dimensions {  background: var(--jp-border-color3);  border-top: 1px solid var(--jp-border-color0);  color: var(--jp-ui-font-color3);  display: inline-block;  opacity: 0.6;  padding: 1px 10px 1px 5px;}\n",
       "</style>\n"
      ],
      "text/plain": [
       "<IPython.core.display.HTML object>"
      ]
     },
     "metadata": {},
     "output_type": "display_data"
    }
   ],
   "source": [
    "# Initialize\n",
    "import wow.ui as ui\n",
    "import wow.helper as help\n",
    "\n",
    "from wow.query import Query, Predicate\n",
    "from wow.log import Record, Encounter\n",
    "\n",
    "# (z, f) = ui.import_file()\n"
   ]
  },
  {
   "cell_type": "markdown",
   "metadata": {},
   "source": [
    "# Create Data Structures"
   ]
  },
  {
   "cell_type": "code",
   "execution_count": 3,
   "metadata": {},
   "outputs": [],
   "source": [
    "# help.unzip('WoWCombatLog-012722_214646.zip', 'wow')"
   ]
  },
  {
   "cell_type": "code",
   "execution_count": 4,
   "metadata": {},
   "outputs": [
    {
     "name": "stdout",
     "output_type": "stream",
     "text": [
      "Encounters:  20\n"
     ]
    }
   ],
   "source": [
    "file = r'C:\\Program Files (x86)\\World of Warcraft\\_retail_\\Logs\\RaiderIOLogsArchive\\WoWCombatLog-012722_214646.txt'\n",
    "# file = r'C:\\Program Files (x86)\\World of Warcraft\\_retail_\\Logs\\WoWCombatLog-013122_220632.txt'\n",
    "\n",
    "(log, encounters) = Encounter.parse(file)\n"
   ]
  },
  {
   "cell_type": "markdown",
   "metadata": {},
   "source": [
    "# Detailed Analysis"
   ]
  },
  {
   "cell_type": "code",
   "execution_count": 5,
   "metadata": {},
   "outputs": [
    {
     "data": {
      "application/vnd.jupyter.widget-view+json": {
       "model_id": "cfd1861c7d654b9d9ce19e80b7612b55",
       "version_major": 2,
       "version_minor": 0
      },
      "text/plain": [
       "VBox(children=(HBox(children=(Dropdown(description='Encounter:', options=(('1 \"Remnant of Ner\\'zhul\" 1:46', 0)…"
      ]
     },
     "metadata": {},
     "output_type": "display_data"
    }
   ],
   "source": [
    "# Define Encounter being Analysed\n",
    "encSelect = ui.pick_encounter(encounters)"
   ]
  },
  {
   "cell_type": "code",
   "execution_count": 29,
   "metadata": {},
   "outputs": [],
   "source": [
    "e = encounters[encSelect.value]\n",
    "# Query(e.players).groupby(\n",
    "#   lambda x: x[1],\n",
    "#   lambda x: x[0],\n",
    "# ).list()\n"
   ]
  },
  {
   "cell_type": "code",
   "execution_count": 30,
   "metadata": {},
   "outputs": [
    {
     "data": {
      "text/plain": [
       "{'Creature-0-4216-2450-10260-177117-0000735A55': ['\"Spartanovix-Azralon\"'],\n",
       " 'Creature-0-4216-2450-10260-177117-0000735A56': ['\"Djøw-Azralon\"',\n",
       "  '\"Thilokz-Azralon\"'],\n",
       " 'Creature-0-4216-2450-10260-177117-0000735A7D': ['\"Djøw-Azralon\"'],\n",
       " 'Creature-0-4216-2450-10260-177117-0000735A7E': ['\"Thilokz-Azralon\"'],\n",
       " 'Creature-0-4216-2450-10260-177117-0000735AAB': ['\"Djøw-Azralon\"'],\n",
       " 'Creature-0-4216-2450-10260-177117-0000735AAD': ['\"Thilokz-Azralon\"'],\n",
       " 'Creature-0-4216-2450-10260-177117-0000735AD4': ['\"Spartanovix-Azralon\"'],\n",
       " 'Creature-0-4216-2450-10260-177117-0000735AD6': ['\"Thilokz-Azralon\"'],\n",
       " 'Creature-0-4216-2450-10260-177117-0000735AD7': ['\"Djøw-Azralon\"'],\n",
       " 'Creature-0-4216-2450-10260-177117-0000735AF9': ['\"Jathäl-Azralon\"']}"
      ]
     },
     "execution_count": 30,
     "metadata": {},
     "output_type": "execute_result"
    }
   ],
   "source": [
    "e.actions('SPELL_AURA_APPLIED', '\"Sorrowful Procession\"').groupby(\n",
    "    lambda x: x[1],\n",
    "    lambda x: x[2],\n",
    ").dict()\n"
   ]
  },
  {
   "cell_type": "code",
   "execution_count": 31,
   "metadata": {},
   "outputs": [
    {
     "data": {
      "text/plain": [
       "{'\"Helm of Suffering\"': {'SPELL_ABSORBED',\n",
       "  'SPELL_CAST_START',\n",
       "  'SPELL_CAST_SUCCESS',\n",
       "  'SPELL_DAMAGE',\n",
       "  'SPELL_MISSED'},\n",
       " '\"Malicious Gauntlet\"': {'SPELL_CAST_SUCCESS'},\n",
       " '\"Orb of Torment\"': {'SPELL_ABSORBED',\n",
       "  'SPELL_AURA_APPLIED',\n",
       "  'SPELL_AURA_REFRESH',\n",
       "  'SPELL_AURA_REMOVED',\n",
       "  'SPELL_CAST_START',\n",
       "  'SPELL_CAST_SUCCESS',\n",
       "  'SPELL_PERIODIC_DAMAGE',\n",
       "  'SPELL_PERIODIC_MISSED'},\n",
       " '\"Soulrender Dormazain\"': {'SPELL_AURA_APPLIED'}}"
      ]
     },
     "execution_count": 31,
     "metadata": {},
     "output_type": "execute_result"
    }
   ],
   "source": [
    "e.hostile_action.groupby(\n",
    "    lambda x: x[0],\n",
    "    lambda x: x[1],\n",
    "    set\n",
    ").dict()\n"
   ]
  },
  {
   "cell_type": "code",
   "execution_count": 9,
   "metadata": {},
   "outputs": [],
   "source": [
    "# import humanize\n",
    "# from pympler import asizeof\n",
    "# humanize.naturalsize(\n",
    "# )\n",
    "# asizeof.asizeof(log, limit=6, stats=3, cutoff=0)"
   ]
  },
  {
   "cell_type": "code",
   "execution_count": 32,
   "metadata": {},
   "outputs": [
    {
     "data": {
      "text/plain": [
       "1/27 23:55:33.523: ENCOUNTER_END entry: 1050994\n",
       "ENCOUNTER_END,2432,\"Remnant of Ner'zhul\",16,20,0,219706"
      ]
     },
     "execution_count": 32,
     "metadata": {},
     "output_type": "execute_result"
    }
   ],
   "source": [
    "e.end"
   ]
  },
  {
   "cell_type": "code",
   "execution_count": 36,
   "metadata": {},
   "outputs": [
    {
     "data": {
      "text/plain": [
       "[('355790', '\"Eternal Torment\"', '\"Orb of Torment\"', 'SPELL_CAST_SUCCESS'),\n",
       " ('355790', '\"Eternal Torment\"', '\"Orb of Torment\"', 'SPELL_AURA_REMOVED'),\n",
       " ('355790', '\"Eternal Torment\"', '\"Orb of Torment\"', 'SPELL_AURA_APPLIED'),\n",
       " ('350694', '\"Grasp of Malice\"', '\"Malicious Gauntlet\"', 'SPELL_CAST_SUCCESS'),\n",
       " ('108446', '\"Soul Link\"', '\"Orb of Torment\"', 'SPELL_ABSORBED'),\n",
       " ('357812', '\"Suffering\"', '\"Helm of Suffering\"', 'SPELL_MISSED'),\n",
       " ('349891', '\"Suffering\"', '\"Helm of Suffering\"', 'SPELL_CAST_SUCCESS'),\n",
       " ('349891', '\"Suffering\"', '\"Helm of Suffering\"', 'SPELL_CAST_START'),\n",
       " ('357812', '\"Suffering\"', '\"Helm of Suffering\"', 'SPELL_ABSORBED'),\n",
       " ('357812', '\"Suffering\"', '\"Helm of Suffering\"', 'SPELL_DAMAGE'),\n",
       " ('350073', '\"Torment\"', '\"Orb of Torment\"', 'SPELL_PERIODIC_MISSED'),\n",
       " ('350071', '\"Torment\"', '\"Orb of Torment\"', 'SPELL_CAST_START'),\n",
       " ('350071', '\"Torment\"', '\"Orb of Torment\"', 'SPELL_CAST_SUCCESS'),\n",
       " ('350073', '\"Torment\"', '\"Orb of Torment\"', 'SPELL_AURA_REFRESH'),\n",
       " ('352158', '\"Torment\"', '\"Soulrender Dormazain\"', 'SPELL_AURA_APPLIED'),\n",
       " ('350073', '\"Torment\"', '\"Orb of Torment\"', 'SPELL_AURA_REMOVED'),\n",
       " ('350073', '\"Torment\"', '\"Orb of Torment\"', 'SPELL_ABSORBED'),\n",
       " ('350073', '\"Torment\"', '\"Orb of Torment\"', 'SPELL_AURA_APPLIED'),\n",
       " ('350073', '\"Torment\"', '\"Orb of Torment\"', 'SPELL_PERIODIC_DAMAGE')]"
      ]
     },
     "execution_count": 36,
     "metadata": {},
     "output_type": "execute_result"
    }
   ],
   "source": [
    "e.q.filter(\n",
    "    Predicate.isCreatureAction()\n",
    ").filter(\n",
    "    Predicate.isActorHostile()\n",
    ").map(\n",
    "    ( Predicate.getActionId(), Predicate.getAction(), Predicate.getActor(), Predicate.getEvent())\n",
    ").qset(\n",
    ").sort(\n",
    "    lambda x: x[1]\n",
    ").list()\n"
   ]
  },
  {
   "cell_type": "code",
   "execution_count": null,
   "metadata": {},
   "outputs": [],
   "source": []
  }
 ],
 "metadata": {
  "interpreter": {
   "hash": "ac59ebe37160ed0dfa835113d9b8498d9f09ceb179beaac4002f036b9467c963"
  },
  "kernelspec": {
   "display_name": "Python 3.9.9 64-bit",
   "language": "python",
   "name": "python3"
  },
  "language_info": {
   "codemirror_mode": {
    "name": "ipython",
    "version": 3
   },
   "file_extension": ".py",
   "mimetype": "text/x-python",
   "name": "python",
   "nbconvert_exporter": "python",
   "pygments_lexer": "ipython3",
   "version": "3.9.9"
  },
  "orig_nbformat": 4
 },
 "nbformat": 4,
 "nbformat_minor": 2
}
