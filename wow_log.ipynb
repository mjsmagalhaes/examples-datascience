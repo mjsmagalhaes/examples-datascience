{
 "cells": [
  {
   "cell_type": "code",
   "execution_count": 19,
   "metadata": {},
   "outputs": [
    {
     "name": "stdout",
     "output_type": "stream",
     "text": [
      "The autoreload extension is already loaded. To reload it, use:\n",
      "  %reload_ext autoreload\n"
     ]
    }
   ],
   "source": [
    "%load_ext autoreload\n",
    "%autoreload 2"
   ]
  },
  {
   "cell_type": "markdown",
   "metadata": {},
   "source": [
    "# World of Warcraft Log Toy\n",
    "\n",
    "This notebook toys with data generated from World of Warcraft (WoW) logs.\n",
    "\n",
    "4 helper classes were created (in the wow folder):\n",
    "- **wow.log.Record**\n",
    "  - *Parses and stores an entry of the log*\n",
    "  - Each line may have differente structure so more classes deriving from this one may be necessary.\n",
    "  - Each record also represent an in game event.\n",
    "- **wow.log.Encounter**\n",
    "  - *A set of records that represents a fight agains a boss in the game*\n",
    "  - Each starts with a ENCOUNTER_START event and go until an ENCOUNTER_END event is found.\n",
    "- **wow.query.Query**\n",
    "  - *An object to help create a chain of iterators to build queries (using filters and map like functions)*\n",
    "- **wow.query.Predicate**\n",
    "  - *A Collection of functions that will be applied to those iterators*\n",
    "\n",
    "There are also another 2 modules in addition to both modules containing classes above:\n",
    "- **ui**\n",
    "  - contain ui elements in this notebook\n",
    "\n",
    "- **fights**\n",
    "  - contains scripts to analyze each fight (only nerzhul for now)\n"
   ]
  },
  {
   "cell_type": "code",
   "execution_count": 2,
   "metadata": {},
   "outputs": [
    {
     "data": {
      "text/html": [
       "<style type='text/css'>\n",
       ".datatable table.frame { margin-bottom: 0; }\n",
       ".datatable table.frame thead { border-bottom: none; }\n",
       ".datatable table.frame tr.coltypes td {  color: #FFFFFF;  line-height: 6px;  padding: 0 0.5em;}\n",
       ".datatable .bool    { background: #DDDD99; }\n",
       ".datatable .object  { background: #565656; }\n",
       ".datatable .int     { background: #5D9E5D; }\n",
       ".datatable .float   { background: #4040CC; }\n",
       ".datatable .str     { background: #CC4040; }\n",
       ".datatable .time    { background: #40CC40; }\n",
       ".datatable .row_index {  background: var(--jp-border-color3);  border-right: 1px solid var(--jp-border-color0);  color: var(--jp-ui-font-color3);  font-size: 9px;}\n",
       ".datatable .frame tbody td { text-align: left; }\n",
       ".datatable .frame tr.coltypes .row_index {  background: var(--jp-border-color0);}\n",
       ".datatable th:nth-child(2) { padding-left: 12px; }\n",
       ".datatable .hellipsis {  color: var(--jp-cell-editor-border-color);}\n",
       ".datatable .vellipsis {  background: var(--jp-layout-color0);  color: var(--jp-cell-editor-border-color);}\n",
       ".datatable .na {  color: var(--jp-cell-editor-border-color);  font-size: 80%;}\n",
       ".datatable .sp {  opacity: 0.25;}\n",
       ".datatable .footer { font-size: 9px; }\n",
       ".datatable .frame_dimensions {  background: var(--jp-border-color3);  border-top: 1px solid var(--jp-border-color0);  color: var(--jp-ui-font-color3);  display: inline-block;  opacity: 0.6;  padding: 1px 10px 1px 5px;}\n",
       "</style>\n"
      ],
      "text/plain": [
       "<IPython.core.display.HTML object>"
      ]
     },
     "metadata": {},
     "output_type": "display_data"
    }
   ],
   "source": [
    "# Initialize\n",
    "import pandas as pd\n",
    "import wow.ui as ui\n",
    "import wow.helper as help\n",
    "import wow.fights\n",
    "\n",
    "from wow.query import Predicate\n",
    "from wow.log import Encounter, Log\n",
    "\n",
    "# (z, f) = ui.import_file()\n"
   ]
  },
  {
   "cell_type": "markdown",
   "metadata": {},
   "source": [
    "# Create Data Structures"
   ]
  },
  {
   "cell_type": "code",
   "execution_count": 3,
   "metadata": {},
   "outputs": [],
   "source": [
    "# help.unzip('WoWCombatLog-012722_214646.zip', 'wow')"
   ]
  },
  {
   "cell_type": "code",
   "execution_count": 4,
   "metadata": {},
   "outputs": [
    {
     "name": "stdout",
     "output_type": "stream",
     "text": [
      "Encounters:  7\n"
     ]
    }
   ],
   "source": [
    "# file = r'wow\\WoWCombatLog-012722_214646.txt'\n",
    "# file = r'C:\\Program Files (x86)\\World of Warcraft\\_retail_\\Logs\\RaiderIOLogsArchive\\WoWCombatLog-012722_214646.txt'\n",
    "file = r'C:\\Program Files (x86)\\World of Warcraft\\_retail_\\Logs\\WoWCombatLog-020122_215917.txt'\n",
    "log = Log.parse(file)"
   ]
  },
  {
   "cell_type": "markdown",
   "metadata": {},
   "source": [
    "# Detailed Analysis"
   ]
  },
  {
   "cell_type": "code",
   "execution_count": 5,
   "metadata": {},
   "outputs": [
    {
     "data": {
      "application/vnd.jupyter.widget-view+json": {
       "model_id": "4d0a2440f7a1406b8b7043507915bde6",
       "version_major": 2,
       "version_minor": 0
      },
      "text/plain": [
       "VBox(children=(HBox(children=(Dropdown(description='Encounter:', options=(('1 \"The Tarragrue\" 6:55', 0), ('2 \"…"
      ]
     },
     "metadata": {},
     "output_type": "display_data"
    }
   ],
   "source": [
    "# Define Encounter being Analysed\n",
    "encSelect = ui.pick_encounter(log.encounters)"
   ]
  },
  {
   "cell_type": "code",
   "execution_count": 21,
   "metadata": {},
   "outputs": [
    {
     "data": {
      "text/markdown": [
       "\n",
       "<style>\n",
       "sb { color: steelblue }\n",
       "o { color: Orange }\n",
       "g { color: Green }\n",
       "</style>\n",
       "\n",
       "## <sb>Mythic \"Remnant of Ner'zhul\" Wipe (id: 2432)</sb>\n",
       "- 964752 - 2/1 23:55:40.638: ENCOUNTER_START,2432,\"Remnant of Ner'zhul\",16,20,2450\n",
       "\n",
       "- 69764 entries in **0:03:21.943000** / 0:03:22.216000\n",
       "- 1034515 - 2/1 23:59:02.854: ENCOUNTER_END,2432,\"Remnant of Ner'zhul\",16,20,0,201943\n",
       "\n"
      ],
      "text/plain": [
       "<IPython.core.display.Markdown object>"
      ]
     },
     "metadata": {},
     "output_type": "display_data"
    },
    {
     "data": {
      "text/plain": [
       "None"
      ]
     },
     "metadata": {},
     "output_type": "display_data"
    },
    {
     "data": {
      "text/html": [
       "<style type=\"text/css\">\n",
       "#T_fe82a_ caption {\n",
       "  font-size: 16px;\n",
       "  font-weight: bold;\n",
       "}\n",
       "#T_fe82a_row0_col0, #T_fe82a_row0_col1, #T_fe82a_row0_col2, #T_fe82a_row1_col0, #T_fe82a_row1_col1, #T_fe82a_row1_col2, #T_fe82a_row3_col0, #T_fe82a_row3_col1, #T_fe82a_row3_col2, #T_fe82a_row4_col0, #T_fe82a_row4_col1, #T_fe82a_row4_col2, #T_fe82a_row5_col0, #T_fe82a_row5_col1, #T_fe82a_row5_col2, #T_fe82a_row10_col0, #T_fe82a_row10_col1, #T_fe82a_row10_col2, #T_fe82a_row11_col0, #T_fe82a_row11_col1, #T_fe82a_row11_col2, #T_fe82a_row12_col0, #T_fe82a_row12_col1, #T_fe82a_row12_col2, #T_fe82a_row13_col0, #T_fe82a_row13_col1, #T_fe82a_row13_col2 {\n",
       "  color: yellow;\n",
       "  font-weight: bold;\n",
       "}\n",
       "</style>\n",
       "<table id=\"T_fe82a_\">\n",
       "  <caption>List of Orb Carriers</caption>\n",
       "  <thead>\n",
       "    <tr>\n",
       "      <th class=\"blank level0\" >&nbsp;</th>\n",
       "      <th class=\"col_heading level0 col0\" >TimeStamp</th>\n",
       "      <th class=\"col_heading level0 col1\" >ID</th>\n",
       "      <th class=\"col_heading level0 col2\" >Player</th>\n",
       "    </tr>\n",
       "  </thead>\n",
       "  <tbody>\n",
       "    <tr>\n",
       "      <th id=\"T_fe82a_level0_row0\" class=\"row_heading level0 row0\" >0</th>\n",
       "      <td id=\"T_fe82a_row0_col0\" class=\"data row0 col0\" >2022-02-01 23:56:07.554000</td>\n",
       "      <td id=\"T_fe82a_row0_col1\" class=\"data row0 col1\" >Creature-0-3887-2450-10650-177117-000079F2B6</td>\n",
       "      <td id=\"T_fe82a_row0_col2\" class=\"data row0 col2\" >\"Djøw-Azralon\"</td>\n",
       "    </tr>\n",
       "    <tr>\n",
       "      <th id=\"T_fe82a_level0_row1\" class=\"row_heading level0 row1\" >2</th>\n",
       "      <td id=\"T_fe82a_row1_col0\" class=\"data row1 col0\" >2022-02-01 23:56:12.344000</td>\n",
       "      <td id=\"T_fe82a_row1_col1\" class=\"data row1 col1\" >Creature-0-3887-2450-10650-177117-000079F2B6</td>\n",
       "      <td id=\"T_fe82a_row1_col2\" class=\"data row1 col2\" >\"Thilokz-Azralon\"</td>\n",
       "    </tr>\n",
       "    <tr>\n",
       "      <th id=\"T_fe82a_level0_row2\" class=\"row_heading level0 row2\" >1</th>\n",
       "      <td id=\"T_fe82a_row2_col0\" class=\"data row2 col0\" >2022-02-01 23:56:08.417000</td>\n",
       "      <td id=\"T_fe82a_row2_col1\" class=\"data row2 col1\" >Creature-0-3887-2450-10650-177117-000079F2B7</td>\n",
       "      <td id=\"T_fe82a_row2_col2\" class=\"data row2 col2\" >\"Dii-Azralon\"</td>\n",
       "    </tr>\n",
       "    <tr>\n",
       "      <th id=\"T_fe82a_level0_row3\" class=\"row_heading level0 row3\" >4</th>\n",
       "      <td id=\"T_fe82a_row3_col0\" class=\"data row3 col0\" >2022-02-01 23:56:56.558000</td>\n",
       "      <td id=\"T_fe82a_row3_col1\" class=\"data row3 col1\" >Creature-0-3887-2450-10650-177117-000079F2DC</td>\n",
       "      <td id=\"T_fe82a_row3_col2\" class=\"data row3 col2\" >\"Thilokz-Azralon\"</td>\n",
       "    </tr>\n",
       "    <tr>\n",
       "      <th id=\"T_fe82a_level0_row4\" class=\"row_heading level0 row4\" >5</th>\n",
       "      <td id=\"T_fe82a_row4_col0\" class=\"data row4 col0\" >2022-02-01 23:57:03.899000</td>\n",
       "      <td id=\"T_fe82a_row4_col1\" class=\"data row4 col1\" >Creature-0-3887-2450-10650-177117-000079F2DC</td>\n",
       "      <td id=\"T_fe82a_row4_col2\" class=\"data row4 col2\" >\"Bablowboy-Azralon\"</td>\n",
       "    </tr>\n",
       "    <tr>\n",
       "      <th id=\"T_fe82a_level0_row5\" class=\"row_heading level0 row5\" >6</th>\n",
       "      <td id=\"T_fe82a_row5_col0\" class=\"data row5 col0\" >2022-02-01 23:57:07.358000</td>\n",
       "      <td id=\"T_fe82a_row5_col1\" class=\"data row5 col1\" >Creature-0-3887-2450-10650-177117-000079F2DC</td>\n",
       "      <td id=\"T_fe82a_row5_col2\" class=\"data row5 col2\" >\"Dii-Azralon\"</td>\n",
       "    </tr>\n",
       "    <tr>\n",
       "      <th id=\"T_fe82a_level0_row6\" class=\"row_heading level0 row6\" >3</th>\n",
       "      <td id=\"T_fe82a_row6_col0\" class=\"data row6 col0\" >2022-02-01 23:56:52.516000</td>\n",
       "      <td id=\"T_fe82a_row6_col1\" class=\"data row6 col1\" >Creature-0-3887-2450-10650-177117-000079F2DE</td>\n",
       "      <td id=\"T_fe82a_row6_col2\" class=\"data row6 col2\" >\"Djøw-Azralon\"</td>\n",
       "    </tr>\n",
       "    <tr>\n",
       "      <th id=\"T_fe82a_level0_row7\" class=\"row_heading level0 row7\" >8</th>\n",
       "      <td id=\"T_fe82a_row7_col0\" class=\"data row7 col0\" >2022-02-01 23:57:39.526000</td>\n",
       "      <td id=\"T_fe82a_row7_col1\" class=\"data row7 col1\" >Creature-0-3887-2450-10650-177117-000079F309</td>\n",
       "      <td id=\"T_fe82a_row7_col2\" class=\"data row7 col2\" >\"Maulfurionx-Azralon\"</td>\n",
       "    </tr>\n",
       "    <tr>\n",
       "      <th id=\"T_fe82a_level0_row8\" class=\"row_heading level0 row8\" >7</th>\n",
       "      <td id=\"T_fe82a_row8_col0\" class=\"data row8 col0\" >2022-02-01 23:57:35.681000</td>\n",
       "      <td id=\"T_fe82a_row8_col1\" class=\"data row8 col1\" >Creature-0-3887-2450-10650-177117-000079F30B</td>\n",
       "      <td id=\"T_fe82a_row8_col2\" class=\"data row8 col2\" >\"Djøw-Azralon\"</td>\n",
       "    </tr>\n",
       "    <tr>\n",
       "      <th id=\"T_fe82a_level0_row9\" class=\"row_heading level0 row9\" >10</th>\n",
       "      <td id=\"T_fe82a_row9_col0\" class=\"data row9 col0\" >2022-02-01 23:58:17.634000</td>\n",
       "      <td id=\"T_fe82a_row9_col1\" class=\"data row9 col1\" >Creature-0-3887-2450-10650-177117-000079F338</td>\n",
       "      <td id=\"T_fe82a_row9_col2\" class=\"data row9 col2\" >\"Pandamän-Azralon\"</td>\n",
       "    </tr>\n",
       "    <tr>\n",
       "      <th id=\"T_fe82a_level0_row10\" class=\"row_heading level0 row10\" >9</th>\n",
       "      <td id=\"T_fe82a_row10_col0\" class=\"data row10 col0\" >2022-02-01 23:58:16.127000</td>\n",
       "      <td id=\"T_fe82a_row10_col1\" class=\"data row10 col1\" >Creature-0-3887-2450-10650-177117-000079F33A</td>\n",
       "      <td id=\"T_fe82a_row10_col2\" class=\"data row10 col2\" >\"Bablowboy-Azralon\"</td>\n",
       "    </tr>\n",
       "    <tr>\n",
       "      <th id=\"T_fe82a_level0_row11\" class=\"row_heading level0 row11\" >11</th>\n",
       "      <td id=\"T_fe82a_row11_col0\" class=\"data row11 col0\" >2022-02-01 23:58:21.539000</td>\n",
       "      <td id=\"T_fe82a_row11_col1\" class=\"data row11 col1\" >Creature-0-3887-2450-10650-177117-000079F33A</td>\n",
       "      <td id=\"T_fe82a_row11_col2\" class=\"data row11 col2\" >\"Djøw-Azralon\"</td>\n",
       "    </tr>\n",
       "    <tr>\n",
       "      <th id=\"T_fe82a_level0_row12\" class=\"row_heading level0 row12\" >12</th>\n",
       "      <td id=\"T_fe82a_row12_col0\" class=\"data row12 col0\" >2022-02-01 23:58:23.665000</td>\n",
       "      <td id=\"T_fe82a_row12_col1\" class=\"data row12 col1\" >Creature-0-3887-2450-10650-177117-000079F33B</td>\n",
       "      <td id=\"T_fe82a_row12_col2\" class=\"data row12 col2\" >\"Thilokz-Azralon\"</td>\n",
       "    </tr>\n",
       "    <tr>\n",
       "      <th id=\"T_fe82a_level0_row13\" class=\"row_heading level0 row13\" >13</th>\n",
       "      <td id=\"T_fe82a_row13_col0\" class=\"data row13 col0\" >2022-02-01 23:58:42.196000</td>\n",
       "      <td id=\"T_fe82a_row13_col1\" class=\"data row13 col1\" >Creature-0-3887-2450-10650-177117-000079F33B</td>\n",
       "      <td id=\"T_fe82a_row13_col2\" class=\"data row13 col2\" >\"Zairoz-Azralon\"</td>\n",
       "    </tr>\n",
       "  </tbody>\n",
       "</table>\n"
      ],
      "text/plain": [
       "<pandas.io.formats.style.Styler at 0x1fe418977f0>"
      ]
     },
     "metadata": {},
     "output_type": "display_data"
    },
    {
     "data": {
      "text/html": [
       "<style type=\"text/css\">\n",
       "#T_7d1b0_ caption {\n",
       "  font-size: 16px;\n",
       "  font-weight: bold;\n",
       "}\n",
       "#T_7d1b0_row0_col1, #T_7d1b0_row0_col2, #T_7d1b0_row1_col1, #T_7d1b0_row1_col2, #T_7d1b0_row2_col1, #T_7d1b0_row2_col2, #T_7d1b0_row3_col1, #T_7d1b0_row3_col2, #T_7d1b0_row4_col1, #T_7d1b0_row4_col2, #T_7d1b0_row5_col1, #T_7d1b0_row5_col2, #T_7d1b0_row6_col1, #T_7d1b0_row6_col2, #T_7d1b0_row7_col1, #T_7d1b0_row7_col2, #T_7d1b0_row8_col1, #T_7d1b0_row8_col2 {\n",
       "  color: aqua;\n",
       "}\n",
       "#T_7d1b0_row0_col3, #T_7d1b0_row1_col3, #T_7d1b0_row2_col3, #T_7d1b0_row3_col3, #T_7d1b0_row4_col3, #T_7d1b0_row5_col3, #T_7d1b0_row6_col3, #T_7d1b0_row7_col3, #T_7d1b0_row8_col3 {\n",
       "  color: yellow;\n",
       "  font-weight: bold;\n",
       "}\n",
       "</style>\n",
       "<table id=\"T_7d1b0_\">\n",
       "  <caption>Orb Lifespan Overview</caption>\n",
       "  <thead>\n",
       "    <tr>\n",
       "      <th class=\"blank level0\" >&nbsp;</th>\n",
       "      <th class=\"col_heading level0 col0\" >ID</th>\n",
       "      <th class=\"col_heading level0 col1\" >TimeStamp Spawned</th>\n",
       "      <th class=\"col_heading level0 col2\" >TimeStamp Disposed</th>\n",
       "      <th class=\"col_heading level0 col3\" >Time Elapsed</th>\n",
       "      <th class=\"col_heading level0 col4\" >Player</th>\n",
       "    </tr>\n",
       "  </thead>\n",
       "  <tbody>\n",
       "    <tr>\n",
       "      <th id=\"T_7d1b0_level0_row0\" class=\"row_heading level0 row0\" >0</th>\n",
       "      <td id=\"T_7d1b0_row0_col0\" class=\"data row0 col0\" >Creature-0-3887-2450-10650-177117-000079F2B6</td>\n",
       "      <td id=\"T_7d1b0_row0_col1\" class=\"data row0 col1\" >2022-02-01 23:55:51.555000</td>\n",
       "      <td id=\"T_7d1b0_row0_col2\" class=\"data row0 col2\" >2022-02-01 23:56:12.344000</td>\n",
       "      <td id=\"T_7d1b0_row0_col3\" class=\"data row0 col3\" >0 days 00:00:20.789000</td>\n",
       "      <td id=\"T_7d1b0_row0_col4\" class=\"data row0 col4\" >\"Thilokz-Azralon\"</td>\n",
       "    </tr>\n",
       "    <tr>\n",
       "      <th id=\"T_7d1b0_level0_row1\" class=\"row_heading level0 row1\" >1</th>\n",
       "      <td id=\"T_7d1b0_row1_col0\" class=\"data row1 col0\" >Creature-0-3887-2450-10650-177117-000079F2B7</td>\n",
       "      <td id=\"T_7d1b0_row1_col1\" class=\"data row1 col1\" >2022-02-01 23:55:53.074000</td>\n",
       "      <td id=\"T_7d1b0_row1_col2\" class=\"data row1 col2\" >2022-02-01 23:56:08.417000</td>\n",
       "      <td id=\"T_7d1b0_row1_col3\" class=\"data row1 col3\" >0 days 00:00:15.343000</td>\n",
       "      <td id=\"T_7d1b0_row1_col4\" class=\"data row1 col4\" >\"Dii-Azralon\"</td>\n",
       "    </tr>\n",
       "    <tr>\n",
       "      <th id=\"T_7d1b0_level0_row2\" class=\"row_heading level0 row2\" >2</th>\n",
       "      <td id=\"T_7d1b0_row2_col0\" class=\"data row2 col0\" >Creature-0-3887-2450-10650-177117-000079F2DC</td>\n",
       "      <td id=\"T_7d1b0_row2_col1\" class=\"data row2 col1\" >2022-02-01 23:56:30.027000</td>\n",
       "      <td id=\"T_7d1b0_row2_col2\" class=\"data row2 col2\" >2022-02-01 23:57:07.358000</td>\n",
       "      <td id=\"T_7d1b0_row2_col3\" class=\"data row2 col3\" >0 days 00:00:37.331000</td>\n",
       "      <td id=\"T_7d1b0_row2_col4\" class=\"data row2 col4\" >\"Dii-Azralon\"</td>\n",
       "    </tr>\n",
       "    <tr>\n",
       "      <th id=\"T_7d1b0_level0_row3\" class=\"row_heading level0 row3\" >3</th>\n",
       "      <td id=\"T_7d1b0_row3_col0\" class=\"data row3 col0\" >Creature-0-3887-2450-10650-177117-000079F2DE</td>\n",
       "      <td id=\"T_7d1b0_row3_col1\" class=\"data row3 col1\" >2022-02-01 23:56:31.542000</td>\n",
       "      <td id=\"T_7d1b0_row3_col2\" class=\"data row3 col2\" >2022-02-01 23:56:52.516000</td>\n",
       "      <td id=\"T_7d1b0_row3_col3\" class=\"data row3 col3\" >0 days 00:00:20.974000</td>\n",
       "      <td id=\"T_7d1b0_row3_col4\" class=\"data row3 col4\" >\"Djøw-Azralon\"</td>\n",
       "    </tr>\n",
       "    <tr>\n",
       "      <th id=\"T_7d1b0_level0_row4\" class=\"row_heading level0 row4\" >4</th>\n",
       "      <td id=\"T_7d1b0_row4_col0\" class=\"data row4 col0\" >Creature-0-3887-2450-10650-177117-000079F309</td>\n",
       "      <td id=\"T_7d1b0_row4_col1\" class=\"data row4 col1\" >2022-02-01 23:57:14.934000</td>\n",
       "      <td id=\"T_7d1b0_row4_col2\" class=\"data row4 col2\" >2022-02-01 23:57:39.526000</td>\n",
       "      <td id=\"T_7d1b0_row4_col3\" class=\"data row4 col3\" >0 days 00:00:24.592000</td>\n",
       "      <td id=\"T_7d1b0_row4_col4\" class=\"data row4 col4\" >\"Maulfurionx-Azralon\"</td>\n",
       "    </tr>\n",
       "    <tr>\n",
       "      <th id=\"T_7d1b0_level0_row5\" class=\"row_heading level0 row5\" >5</th>\n",
       "      <td id=\"T_7d1b0_row5_col0\" class=\"data row5 col0\" >Creature-0-3887-2450-10650-177117-000079F30B</td>\n",
       "      <td id=\"T_7d1b0_row5_col1\" class=\"data row5 col1\" >2022-02-01 23:57:16.509000</td>\n",
       "      <td id=\"T_7d1b0_row5_col2\" class=\"data row5 col2\" >2022-02-01 23:57:35.681000</td>\n",
       "      <td id=\"T_7d1b0_row5_col3\" class=\"data row5 col3\" >0 days 00:00:19.172000</td>\n",
       "      <td id=\"T_7d1b0_row5_col4\" class=\"data row5 col4\" >\"Djøw-Azralon\"</td>\n",
       "    </tr>\n",
       "    <tr>\n",
       "      <th id=\"T_7d1b0_level0_row6\" class=\"row_heading level0 row6\" >6</th>\n",
       "      <td id=\"T_7d1b0_row6_col0\" class=\"data row6 col0\" >Creature-0-3887-2450-10650-177117-000079F338</td>\n",
       "      <td id=\"T_7d1b0_row6_col1\" class=\"data row6 col1\" >2022-02-01 23:58:02.041000</td>\n",
       "      <td id=\"T_7d1b0_row6_col2\" class=\"data row6 col2\" >2022-02-01 23:58:17.634000</td>\n",
       "      <td id=\"T_7d1b0_row6_col3\" class=\"data row6 col3\" >0 days 00:00:15.593000</td>\n",
       "      <td id=\"T_7d1b0_row6_col4\" class=\"data row6 col4\" >\"Pandamän-Azralon\"</td>\n",
       "    </tr>\n",
       "    <tr>\n",
       "      <th id=\"T_7d1b0_level0_row7\" class=\"row_heading level0 row7\" >7</th>\n",
       "      <td id=\"T_7d1b0_row7_col0\" class=\"data row7 col0\" >Creature-0-3887-2450-10650-177117-000079F33A</td>\n",
       "      <td id=\"T_7d1b0_row7_col1\" class=\"data row7 col1\" >2022-02-01 23:58:03.493000</td>\n",
       "      <td id=\"T_7d1b0_row7_col2\" class=\"data row7 col2\" >2022-02-01 23:58:21.539000</td>\n",
       "      <td id=\"T_7d1b0_row7_col3\" class=\"data row7 col3\" >0 days 00:00:18.046000</td>\n",
       "      <td id=\"T_7d1b0_row7_col4\" class=\"data row7 col4\" >\"Djøw-Azralon\"</td>\n",
       "    </tr>\n",
       "    <tr>\n",
       "      <th id=\"T_7d1b0_level0_row8\" class=\"row_heading level0 row8\" >8</th>\n",
       "      <td id=\"T_7d1b0_row8_col0\" class=\"data row8 col0\" >Creature-0-3887-2450-10650-177117-000079F33B</td>\n",
       "      <td id=\"T_7d1b0_row8_col1\" class=\"data row8 col1\" >2022-02-01 23:58:05.067000</td>\n",
       "      <td id=\"T_7d1b0_row8_col2\" class=\"data row8 col2\" >2022-02-01 23:58:42.196000</td>\n",
       "      <td id=\"T_7d1b0_row8_col3\" class=\"data row8 col3\" >0 days 00:00:37.129000</td>\n",
       "      <td id=\"T_7d1b0_row8_col4\" class=\"data row8 col4\" >\"Zairoz-Azralon\"</td>\n",
       "    </tr>\n",
       "  </tbody>\n",
       "</table>\n"
      ],
      "text/plain": [
       "<pandas.io.formats.style.Styler at 0x1fe41897820>"
      ]
     },
     "metadata": {},
     "output_type": "display_data"
    }
   ],
   "source": [
    "e = log.encounters[encSelect.value]\n",
    "e.getReport().report()"
   ]
  },
  {
   "cell_type": "code",
   "execution_count": 12,
   "metadata": {},
   "outputs": [
    {
     "data": {
      "text/plain": [
       "'encounters_2022_02_01'"
      ]
     },
     "execution_count": 12,
     "metadata": {},
     "output_type": "execute_result"
    }
   ],
   "source": [
    "e.timestamp_begin.strftime('encounters_%Y_%m_%d')"
   ]
  },
  {
   "cell_type": "code",
   "execution_count": null,
   "metadata": {},
   "outputs": [],
   "source": [
    "e.export()"
   ]
  },
  {
   "cell_type": "code",
   "execution_count": 20,
   "metadata": {},
   "outputs": [],
   "source": [
    "log.save_encounters()"
   ]
  },
  {
   "cell_type": "code",
   "execution_count": null,
   "metadata": {},
   "outputs": [],
   "source": [
    "# Full Log Report\n",
    "# NerzhulReport(log).listOrbsDisposed().groupby(\n",
    "#   lambda x: x[1],\n",
    "#   lambda x: x[2],\n",
    "#   lambda x: len(list(x))\n",
    "# ).dict()\n",
    "# r.listEncounters()\n",
    "\n",
    "# Combined Logs\n",
    "# r = EncounterReport(encounters)\n",
    "# r.listEncounters()\n"
   ]
  },
  {
   "cell_type": "code",
   "execution_count": null,
   "metadata": {},
   "outputs": [],
   "source": [
    "# import humanize\n",
    "# from pympler import asizeof\n",
    "# humanize.naturalsize(\n",
    "# )\n",
    "# asizeof.asizeof(log, limit=6, stats=3, cutoff=0)"
   ]
  },
  {
   "cell_type": "code",
   "execution_count": null,
   "metadata": {},
   "outputs": [],
   "source": [
    "(spDmg, mDmg) = e.getReport().getDamage()\n",
    "\n",
    "dmg = pd.merge(\n",
    "  spDmg,\n",
    "  mDmg.drop(['Name'], axis='columns'),\n",
    "  how='outer',\n",
    "  on='Unit ID'\n",
    ")\n",
    "\n"
   ]
  },
  {
   "cell_type": "code",
   "execution_count": null,
   "metadata": {},
   "outputs": [],
   "source": [
    "dmg['Player ID'] = dmg['Player ID'].fillna(dmg['Unit ID'])\n",
    "dmg = dmg.fillna(0)\n",
    "dmg.groupby(['Player ID', 'Name']).sum()"
   ]
  },
  {
   "cell_type": "code",
   "execution_count": null,
   "metadata": {},
   "outputs": [],
   "source": [
    "dmg.join(pd.DataFrame(dmg['Total (Spell)'] + dmg['Total (Melee)'], columns=['Total']) )\n"
   ]
  },
  {
   "cell_type": "code",
   "execution_count": null,
   "metadata": {},
   "outputs": [],
   "source": [
    "e.getReport().showMeleeDamage()"
   ]
  },
  {
   "cell_type": "code",
   "execution_count": null,
   "metadata": {},
   "outputs": [],
   "source": [
    "e.q.filter(\n",
    "    Predicate.all([\n",
    "        Predicate.any([Predicate.isPlayerAction(),\n",
    "                       Predicate.isPetAction()]),\n",
    "        Predicate.isTargetHostile(),\n",
    "        Predicate.isEventIn([\n",
    "            'SPELL_DAMAGE',\n",
    "            'SPELL_PERIODIC_DAMAGE',\n",
    "            'RANGE_DAMAGE'\n",
    "        ]),\n",
    "    ])\n",
    ").map((\n",
    "    Predicate.getActorId(),\n",
    "    Predicate.getActor(),\n",
    "    lambda x: int(x[29]),\n",
    "    # Predicate.getData(),\n",
    ")).list()\n"
   ]
  },
  {
   "cell_type": "code",
   "execution_count": null,
   "metadata": {},
   "outputs": [],
   "source": []
  }
 ],
 "metadata": {
  "interpreter": {
   "hash": "ac59ebe37160ed0dfa835113d9b8498d9f09ceb179beaac4002f036b9467c963"
  },
  "kernelspec": {
   "display_name": "Python 3.9.9 64-bit",
   "language": "python",
   "name": "python3"
  },
  "language_info": {
   "codemirror_mode": {
    "name": "ipython",
    "version": 3
   },
   "file_extension": ".py",
   "mimetype": "text/x-python",
   "name": "python",
   "nbconvert_exporter": "python",
   "pygments_lexer": "ipython3",
   "version": "3.9.9"
  },
  "orig_nbformat": 4
 },
 "nbformat": 4,
 "nbformat_minor": 2
}
