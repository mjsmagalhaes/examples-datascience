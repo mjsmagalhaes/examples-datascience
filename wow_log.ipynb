{
 "cells": [
  {
   "cell_type": "code",
   "execution_count": 1,
   "metadata": {},
   "outputs": [],
   "source": [
    "%load_ext autoreload\n",
    "%autoreload 2"
   ]
  },
  {
   "cell_type": "markdown",
   "metadata": {},
   "source": [
    "# World of Warcraft Log Toy\n",
    "\n",
    "This notebook toys with data generated from World of Warcraft (WoW) logs.\n",
    "\n",
    "4 helper classes were created:\n",
    "- **Record**\n",
    "  - *Parses and stores an entry of the log*\n",
    "  - Each line may have differente structure so more classes deriving from this one may be necessary.\n",
    "  - Each record also represent an in game event.\n",
    "- **Encounter**\n",
    "  - *A set of records that represents a fight agains a boss in the game*\n",
    "  - Each starts with a ENCOUNTER_START event and go until an ENCOUNTER_END event is found.\n",
    "- **Query**\n",
    "  - *An object to help create a chain of iterators to build queries (using filters and map like functions)*\n",
    "- **Predicate**\n",
    "  - *A Collection of functions that will be applied to those iterators*\n"
   ]
  },
  {
   "cell_type": "code",
   "execution_count": 2,
   "metadata": {},
   "outputs": [
    {
     "data": {
      "text/html": [
       "<style type='text/css'>\n",
       ".datatable table.frame { margin-bottom: 0; }\n",
       ".datatable table.frame thead { border-bottom: none; }\n",
       ".datatable table.frame tr.coltypes td {  color: #FFFFFF;  line-height: 6px;  padding: 0 0.5em;}\n",
       ".datatable .bool    { background: #DDDD99; }\n",
       ".datatable .object  { background: #565656; }\n",
       ".datatable .int     { background: #5D9E5D; }\n",
       ".datatable .float   { background: #4040CC; }\n",
       ".datatable .str     { background: #CC4040; }\n",
       ".datatable .time    { background: #40CC40; }\n",
       ".datatable .row_index {  background: var(--jp-border-color3);  border-right: 1px solid var(--jp-border-color0);  color: var(--jp-ui-font-color3);  font-size: 9px;}\n",
       ".datatable .frame tbody td { text-align: left; }\n",
       ".datatable .frame tr.coltypes .row_index {  background: var(--jp-border-color0);}\n",
       ".datatable th:nth-child(2) { padding-left: 12px; }\n",
       ".datatable .hellipsis {  color: var(--jp-cell-editor-border-color);}\n",
       ".datatable .vellipsis {  background: var(--jp-layout-color0);  color: var(--jp-cell-editor-border-color);}\n",
       ".datatable .na {  color: var(--jp-cell-editor-border-color);  font-size: 80%;}\n",
       ".datatable .sp {  opacity: 0.25;}\n",
       ".datatable .footer { font-size: 9px; }\n",
       ".datatable .frame_dimensions {  background: var(--jp-border-color3);  border-top: 1px solid var(--jp-border-color0);  color: var(--jp-ui-font-color3);  display: inline-block;  opacity: 0.6;  padding: 1px 10px 1px 5px;}\n",
       "</style>\n"
      ],
      "text/plain": [
       "<IPython.core.display.HTML object>"
      ]
     },
     "metadata": {},
     "output_type": "display_data"
    }
   ],
   "source": [
    "# Initialize\n",
    "import pandas as pd\n",
    "\n",
    "from wow.query import Query, Predicate\n",
    "from wow.log import Record, Encounter\n",
    "\n",
    "# file = r'wow/WoWCombatLog-012622_215632.txt'\n",
    "file = r'C:\\Program Files (x86)\\World of Warcraft\\_retail_\\Logs\\WoWCombatLog-012722_214646.txt'\n",
    "\n",
    "with open(file, 'r', encoding='utf-8') as filePtr:\n",
    "  raw = filePtr.readlines()\n"
   ]
  },
  {
   "cell_type": "markdown",
   "metadata": {},
   "source": [
    "# Create Data Structures"
   ]
  },
  {
   "cell_type": "code",
   "execution_count": 3,
   "metadata": {},
   "outputs": [],
   "source": [
    "# Create Record List\n",
    "\n",
    "log = Query(enumerate(raw)).map(lambda x: Record(x)).list()"
   ]
  },
  {
   "cell_type": "code",
   "execution_count": 49,
   "metadata": {},
   "outputs": [
    {
     "name": "stdout",
     "output_type": "stream",
     "text": [
      "0  =>  20\n"
     ]
    }
   ],
   "source": [
    "# Split Encounters\n",
    "\n",
    "qLog = Query(log)\n",
    "beg = qLog.filter(Predicate.isEncounterStart())\n",
    "end = qLog.filter(Predicate.isEncounterEnd())\n",
    "\n",
    "encounters = Query(zip(beg, end)).map(lambda x: Encounter(log, x[0], x[1]))\n",
    "\n",
    "e = encounters.filter(\n",
    "    lambda x: (x.timestamp_end - x.timestamp_begin).total_seconds() > 60\n",
    ").list()\n",
    "print(len(encounters.list()), ' => ', len(e))\n"
   ]
  },
  {
   "cell_type": "markdown",
   "metadata": {},
   "source": [
    "# Initial Analysis (Commented)"
   ]
  },
  {
   "cell_type": "code",
   "execution_count": 6,
   "metadata": {},
   "outputs": [],
   "source": [
    "# Players List\n",
    "\n",
    "# players = e[0].q.filter(\n",
    "#     Predicate.isPlayerAction()\n",
    "# ).map(\n",
    "#     Predicate.getActorInfo()\n",
    "# ).set()\n",
    "# players"
   ]
  },
  {
   "cell_type": "code",
   "execution_count": 7,
   "metadata": {},
   "outputs": [],
   "source": [
    "# Hostile NPCs & (some of) Their Actions\n",
    "\n",
    "# e[0].q.filter(\n",
    "#     Predicate.isCreatureAction()\n",
    "# ).filter(\n",
    "#     Predicate.isActorHostile()\n",
    "# ).map(\n",
    "#     [ Predicate.getActor(), Predicate.getEvent()]\n",
    "# ).set()\n"
   ]
  },
  {
   "cell_type": "code",
   "execution_count": 8,
   "metadata": {},
   "outputs": [],
   "source": [
    "# Orb of Torment Actions\n",
    "\n",
    "# orb = e[0].q.filter(\n",
    "#     Predicate.isActor('\"Orb of Torment\"')\n",
    "# ).map(\n",
    "#     (\n",
    "#         Predicate.getAction(),\n",
    "#         Predicate.getEvent(),\n",
    "#         Predicate.getTarget()\n",
    "#     )\n",
    "# ).list()\n",
    "# orb\n"
   ]
  },
  {
   "cell_type": "markdown",
   "metadata": {},
   "source": [
    "# Detailed Analysis"
   ]
  },
  {
   "cell_type": "code",
   "execution_count": 57,
   "metadata": {},
   "outputs": [
    {
     "data": {
      "text/markdown": [
       "\n",
       "<style>\n",
       "sb { color: steelblue }\n",
       "o { color: Orange }\n",
       "g { color: Green }\n",
       "</style>\n",
       "\n",
       "## <sb>\"Remnant of Ner'zhul\" (id: 2432)</sb>\n",
       "- ENCOUNTER_START (log: 867405)\n",
       "  - *2022-01-27 23:43:12.422000*  \n",
       "- 57365 entries in **0:02:39.537000**\n",
       "- ENCOUNTER_END (log: 924770)\n",
       "  - *2022-01-27 23:45:51.959000*\n",
       "    "
      ],
      "text/plain": [
       "<IPython.core.display.Markdown object>"
      ]
     },
     "execution_count": 57,
     "metadata": {},
     "output_type": "execute_result"
    }
   ],
   "source": [
    "# Define Encounter being Analysed\n",
    "\n",
    "encounter_number = 16\n",
    "e[encounter_number].md()"
   ]
  },
  {
   "cell_type": "code",
   "execution_count": 58,
   "metadata": {},
   "outputs": [],
   "source": [
    "from wow.fights import nerzhul\n",
    "(orbBorn, orbDisposed) = nerzhul.orbs_lifecycle(e[encounter_number])"
   ]
  },
  {
   "cell_type": "code",
   "execution_count": 60,
   "metadata": {},
   "outputs": [
    {
     "data": {
      "text/html": [
       "<style type=\"text/css\">\n",
       "#T_05d08_row5_col0, #T_05d08_row5_col1, #T_05d08_row5_col2, #T_05d08_row6_col0, #T_05d08_row6_col1, #T_05d08_row6_col2 {\n",
       "  color: yellow;\n",
       "}\n",
       "</style>\n",
       "<table id=\"T_05d08_\">\n",
       "  <thead>\n",
       "    <tr>\n",
       "      <th class=\"blank level0\" >&nbsp;</th>\n",
       "      <th class=\"col_heading level0 col0\" >TimeStamp</th>\n",
       "      <th class=\"col_heading level0 col1\" >ID</th>\n",
       "      <th class=\"col_heading level0 col2\" >Player</th>\n",
       "    </tr>\n",
       "  </thead>\n",
       "  <tbody>\n",
       "    <tr>\n",
       "      <th id=\"T_05d08_level0_row0\" class=\"row_heading level0 row0\" >1</th>\n",
       "      <td id=\"T_05d08_row0_col0\" class=\"data row0 col0\" >1/27 23:43:42.527</td>\n",
       "      <td id=\"T_05d08_row0_col1\" class=\"data row0 col1\" >Creature-0-4216-2450-10260-177117-000073584C</td>\n",
       "      <td id=\"T_05d08_row0_col2\" class=\"data row0 col2\" >\"Flintti-Azralon\"</td>\n",
       "    </tr>\n",
       "    <tr>\n",
       "      <th id=\"T_05d08_level0_row1\" class=\"row_heading level0 row1\" >0</th>\n",
       "      <td id=\"T_05d08_row1_col0\" class=\"data row1 col0\" >1/27 23:43:42.243</td>\n",
       "      <td id=\"T_05d08_row1_col1\" class=\"data row1 col1\" >Creature-0-4216-2450-10260-177117-000073584E</td>\n",
       "      <td id=\"T_05d08_row1_col2\" class=\"data row1 col2\" >\"Djøw-Azralon\"</td>\n",
       "    </tr>\n",
       "    <tr>\n",
       "      <th id=\"T_05d08_level0_row2\" class=\"row_heading level0 row2\" >3</th>\n",
       "      <td id=\"T_05d08_row2_col0\" class=\"data row2 col0\" >1/27 23:44:30.527</td>\n",
       "      <td id=\"T_05d08_row2_col1\" class=\"data row2 col1\" >Creature-0-4216-2450-10260-177117-0000735873</td>\n",
       "      <td id=\"T_05d08_row2_col2\" class=\"data row2 col2\" >\"Djøw-Azralon\"</td>\n",
       "    </tr>\n",
       "    <tr>\n",
       "      <th id=\"T_05d08_level0_row3\" class=\"row_heading level0 row3\" >2</th>\n",
       "      <td id=\"T_05d08_row3_col0\" class=\"data row3 col0\" >1/27 23:44:28.073</td>\n",
       "      <td id=\"T_05d08_row3_col1\" class=\"data row3 col1\" >Creature-0-4216-2450-10260-177117-0000735874</td>\n",
       "      <td id=\"T_05d08_row3_col2\" class=\"data row3 col2\" >\"Thilokz-Azralon\"</td>\n",
       "    </tr>\n",
       "    <tr>\n",
       "      <th id=\"T_05d08_level0_row4\" class=\"row_heading level0 row4\" >5</th>\n",
       "      <td id=\"T_05d08_row4_col0\" class=\"data row4 col0\" >1/27 23:45:18.977</td>\n",
       "      <td id=\"T_05d08_row4_col1\" class=\"data row4 col1\" >Creature-0-4216-2450-10260-177117-00007358A1</td>\n",
       "      <td id=\"T_05d08_row4_col2\" class=\"data row4 col2\" >\"Djøw-Azralon\"</td>\n",
       "    </tr>\n",
       "    <tr>\n",
       "      <th id=\"T_05d08_level0_row5\" class=\"row_heading level0 row5\" >4</th>\n",
       "      <td id=\"T_05d08_row5_col0\" class=\"data row5 col0\" >1/27 23:45:18.728</td>\n",
       "      <td id=\"T_05d08_row5_col1\" class=\"data row5 col1\" >Creature-0-4216-2450-10260-177117-00007358A3</td>\n",
       "      <td id=\"T_05d08_row5_col2\" class=\"data row5 col2\" >\"Thilokz-Azralon\"</td>\n",
       "    </tr>\n",
       "    <tr>\n",
       "      <th id=\"T_05d08_level0_row6\" class=\"row_heading level0 row6\" >6</th>\n",
       "      <td id=\"T_05d08_row6_col0\" class=\"data row6 col0\" >1/27 23:45:24.821</td>\n",
       "      <td id=\"T_05d08_row6_col1\" class=\"data row6 col1\" >Creature-0-4216-2450-10260-177117-00007358A3</td>\n",
       "      <td id=\"T_05d08_row6_col2\" class=\"data row6 col2\" >\"Ryuudin-Azralon\"</td>\n",
       "    </tr>\n",
       "  </tbody>\n",
       "</table>\n"
      ],
      "text/plain": [
       "<pandas.io.formats.style.Styler at 0x29e89ed7c10>"
      ]
     },
     "execution_count": 60,
     "metadata": {},
     "output_type": "execute_result"
    }
   ],
   "source": [
    "nerzhul.orbs_carriers(orbDisposed)"
   ]
  },
  {
   "cell_type": "code",
   "execution_count": 61,
   "metadata": {},
   "outputs": [
    {
     "data": {
      "text/html": [
       "<style type=\"text/css\">\n",
       "#T_4652c_row0_col1, #T_4652c_row0_col2, #T_4652c_row1_col1, #T_4652c_row1_col2, #T_4652c_row2_col1, #T_4652c_row2_col2, #T_4652c_row3_col1, #T_4652c_row3_col2, #T_4652c_row4_col1, #T_4652c_row4_col2, #T_4652c_row5_col1, #T_4652c_row5_col2 {\n",
       "  color: aqua;\n",
       "}\n",
       "#T_4652c_row0_col3, #T_4652c_row1_col3, #T_4652c_row2_col3, #T_4652c_row3_col3, #T_4652c_row4_col3, #T_4652c_row5_col3 {\n",
       "  color: yellow;\n",
       "}\n",
       "</style>\n",
       "<table id=\"T_4652c_\">\n",
       "  <thead>\n",
       "    <tr>\n",
       "      <th class=\"blank level0\" >&nbsp;</th>\n",
       "      <th class=\"col_heading level0 col0\" >ID</th>\n",
       "      <th class=\"col_heading level0 col1\" >TimeStamp_x</th>\n",
       "      <th class=\"col_heading level0 col2\" >TimeStamp_y</th>\n",
       "      <th class=\"col_heading level0 col3\" >Time Elapsed</th>\n",
       "      <th class=\"col_heading level0 col4\" >Player</th>\n",
       "    </tr>\n",
       "  </thead>\n",
       "  <tbody>\n",
       "    <tr>\n",
       "      <th id=\"T_4652c_level0_row0\" class=\"row_heading level0 row0\" >0</th>\n",
       "      <td id=\"T_4652c_row0_col0\" class=\"data row0 col0\" >Creature-0-4216-2450-10260-177117-000073584C</td>\n",
       "      <td id=\"T_4652c_row0_col1\" class=\"data row0 col1\" >1900-01-27 23:43:23.358000</td>\n",
       "      <td id=\"T_4652c_row0_col2\" class=\"data row0 col2\" >1900-01-27 23:43:42.527000</td>\n",
       "      <td id=\"T_4652c_row0_col3\" class=\"data row0 col3\" >0 days 00:00:19.169000</td>\n",
       "      <td id=\"T_4652c_row0_col4\" class=\"data row0 col4\" >\"Flintti-Azralon\"</td>\n",
       "    </tr>\n",
       "    <tr>\n",
       "      <th id=\"T_4652c_level0_row1\" class=\"row_heading level0 row1\" >1</th>\n",
       "      <td id=\"T_4652c_row1_col0\" class=\"data row1 col0\" >Creature-0-4216-2450-10260-177117-000073584E</td>\n",
       "      <td id=\"T_4652c_row1_col1\" class=\"data row1 col1\" >1900-01-27 23:43:24.889000</td>\n",
       "      <td id=\"T_4652c_row1_col2\" class=\"data row1 col2\" >1900-01-27 23:43:42.243000</td>\n",
       "      <td id=\"T_4652c_row1_col3\" class=\"data row1 col3\" >0 days 00:00:17.354000</td>\n",
       "      <td id=\"T_4652c_row1_col4\" class=\"data row1 col4\" >\"Djøw-Azralon\"</td>\n",
       "    </tr>\n",
       "    <tr>\n",
       "      <th id=\"T_4652c_level0_row2\" class=\"row_heading level0 row2\" >2</th>\n",
       "      <td id=\"T_4652c_row2_col0\" class=\"data row2 col0\" >Creature-0-4216-2450-10260-177117-0000735873</td>\n",
       "      <td id=\"T_4652c_row2_col1\" class=\"data row2 col1\" >1900-01-27 23:44:02.291000</td>\n",
       "      <td id=\"T_4652c_row2_col2\" class=\"data row2 col2\" >1900-01-27 23:44:30.527000</td>\n",
       "      <td id=\"T_4652c_row2_col3\" class=\"data row2 col3\" >0 days 00:00:28.236000</td>\n",
       "      <td id=\"T_4652c_row2_col4\" class=\"data row2 col4\" >\"Djøw-Azralon\"</td>\n",
       "    </tr>\n",
       "    <tr>\n",
       "      <th id=\"T_4652c_level0_row3\" class=\"row_heading level0 row3\" >3</th>\n",
       "      <td id=\"T_4652c_row3_col0\" class=\"data row3 col0\" >Creature-0-4216-2450-10260-177117-0000735874</td>\n",
       "      <td id=\"T_4652c_row3_col1\" class=\"data row3 col1\" >1900-01-27 23:44:03.698000</td>\n",
       "      <td id=\"T_4652c_row3_col2\" class=\"data row3 col2\" >1900-01-27 23:44:28.073000</td>\n",
       "      <td id=\"T_4652c_row3_col3\" class=\"data row3 col3\" >0 days 00:00:24.375000</td>\n",
       "      <td id=\"T_4652c_row3_col4\" class=\"data row3 col4\" >\"Thilokz-Azralon\"</td>\n",
       "    </tr>\n",
       "    <tr>\n",
       "      <th id=\"T_4652c_level0_row4\" class=\"row_heading level0 row4\" >4</th>\n",
       "      <td id=\"T_4652c_row4_col0\" class=\"data row4 col0\" >Creature-0-4216-2450-10260-177117-00007358A1</td>\n",
       "      <td id=\"T_4652c_row4_col1\" class=\"data row4 col1\" >1900-01-27 23:44:48.420000</td>\n",
       "      <td id=\"T_4652c_row4_col2\" class=\"data row4 col2\" >1900-01-27 23:45:18.977000</td>\n",
       "      <td id=\"T_4652c_row4_col3\" class=\"data row4 col3\" >0 days 00:00:30.557000</td>\n",
       "      <td id=\"T_4652c_row4_col4\" class=\"data row4 col4\" >\"Djøw-Azralon\"</td>\n",
       "    </tr>\n",
       "    <tr>\n",
       "      <th id=\"T_4652c_level0_row5\" class=\"row_heading level0 row5\" >5</th>\n",
       "      <td id=\"T_4652c_row5_col0\" class=\"data row5 col0\" >Creature-0-4216-2450-10260-177117-00007358A3</td>\n",
       "      <td id=\"T_4652c_row5_col1\" class=\"data row5 col1\" >1900-01-27 23:44:49.918000</td>\n",
       "      <td id=\"T_4652c_row5_col2\" class=\"data row5 col2\" >1900-01-27 23:45:24.821000</td>\n",
       "      <td id=\"T_4652c_row5_col3\" class=\"data row5 col3\" >0 days 00:00:34.903000</td>\n",
       "      <td id=\"T_4652c_row5_col4\" class=\"data row5 col4\" >\"Ryuudin-Azralon\"</td>\n",
       "    </tr>\n",
       "  </tbody>\n",
       "</table>\n"
      ],
      "text/plain": [
       "<pandas.io.formats.style.Styler at 0x29e8a20a2e0>"
      ]
     },
     "execution_count": 61,
     "metadata": {},
     "output_type": "execute_result"
    }
   ],
   "source": [
    "nerzhul.orbs_overview(orbBorn, orbDisposed)"
   ]
  },
  {
   "cell_type": "code",
   "execution_count": null,
   "metadata": {},
   "outputs": [],
   "source": []
  }
 ],
 "metadata": {
  "interpreter": {
   "hash": "ac59ebe37160ed0dfa835113d9b8498d9f09ceb179beaac4002f036b9467c963"
  },
  "kernelspec": {
   "display_name": "Python 3.9.9 64-bit",
   "language": "python",
   "name": "python3"
  },
  "language_info": {
   "codemirror_mode": {
    "name": "ipython",
    "version": 3
   },
   "file_extension": ".py",
   "mimetype": "text/x-python",
   "name": "python",
   "nbconvert_exporter": "python",
   "pygments_lexer": "ipython3",
   "version": "3.9.9"
  },
  "orig_nbformat": 4
 },
 "nbformat": 4,
 "nbformat_minor": 2
}
