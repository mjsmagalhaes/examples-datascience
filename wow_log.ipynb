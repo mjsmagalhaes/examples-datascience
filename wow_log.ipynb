{
 "cells": [
  {
   "cell_type": "code",
   "execution_count": 1,
   "metadata": {},
   "outputs": [],
   "source": [
    "%load_ext autoreload\n",
    "%autoreload 2"
   ]
  },
  {
   "cell_type": "markdown",
   "metadata": {},
   "source": [
    "# World of Warcraft Log Toy\n",
    "\n",
    "This notebook toys with data generated from World of Warcraft (WoW) logs.\n",
    "\n",
    "4 helper classes were created:\n",
    "- **Record**\n",
    "  - *Parses and stores an entry of the log*\n",
    "  - Each line may have differente structure so more classes deriving from this one may be necessary.\n",
    "  - Each record also represent an in game event.\n",
    "- **Encounter**\n",
    "  - *A set of records that represents a fight agains a boss in the game*\n",
    "  - Each starts with a ENCOUNTER_START event and go until an ENCOUNTER_END event is found.\n",
    "- **Query**\n",
    "  - *An object to help create a chain of iterators to build queries (using filters and map like functions)*\n",
    "- **Predicate**\n",
    "  - *A Collection of functions that will be applied to those iterators*\n"
   ]
  },
  {
   "cell_type": "code",
   "execution_count": 2,
   "metadata": {},
   "outputs": [
    {
     "data": {
      "text/html": [
       "<style type='text/css'>\n",
       ".datatable table.frame { margin-bottom: 0; }\n",
       ".datatable table.frame thead { border-bottom: none; }\n",
       ".datatable table.frame tr.coltypes td {  color: #FFFFFF;  line-height: 6px;  padding: 0 0.5em;}\n",
       ".datatable .bool    { background: #DDDD99; }\n",
       ".datatable .object  { background: #565656; }\n",
       ".datatable .int     { background: #5D9E5D; }\n",
       ".datatable .float   { background: #4040CC; }\n",
       ".datatable .str     { background: #CC4040; }\n",
       ".datatable .time    { background: #40CC40; }\n",
       ".datatable .row_index {  background: var(--jp-border-color3);  border-right: 1px solid var(--jp-border-color0);  color: var(--jp-ui-font-color3);  font-size: 9px;}\n",
       ".datatable .frame tbody td { text-align: left; }\n",
       ".datatable .frame tr.coltypes .row_index {  background: var(--jp-border-color0);}\n",
       ".datatable th:nth-child(2) { padding-left: 12px; }\n",
       ".datatable .hellipsis {  color: var(--jp-cell-editor-border-color);}\n",
       ".datatable .vellipsis {  background: var(--jp-layout-color0);  color: var(--jp-cell-editor-border-color);}\n",
       ".datatable .na {  color: var(--jp-cell-editor-border-color);  font-size: 80%;}\n",
       ".datatable .sp {  opacity: 0.25;}\n",
       ".datatable .footer { font-size: 9px; }\n",
       ".datatable .frame_dimensions {  background: var(--jp-border-color3);  border-top: 1px solid var(--jp-border-color0);  color: var(--jp-ui-font-color3);  display: inline-block;  opacity: 0.6;  padding: 1px 10px 1px 5px;}\n",
       "</style>\n"
      ],
      "text/plain": [
       "<IPython.core.display.HTML object>"
      ]
     },
     "metadata": {},
     "output_type": "display_data"
    }
   ],
   "source": [
    "# Initialize\n",
    "import pandas as pd\n",
    "\n",
    "from wow.query import Query, Predicate\n",
    "from wow.log import Record, Encounter\n",
    "\n",
    "# file = r'wow/WoWCombatLog-012622_215632.txt'\n",
    "file = r'C:\\Program Files (x86)\\World of Warcraft\\_retail_\\Logs\\WoWCombatLog-012722_214646.txt'\n",
    "\n",
    "with open(file, 'r', encoding='utf-8') as filePtr:\n",
    "  raw = filePtr.readlines()\n"
   ]
  },
  {
   "cell_type": "markdown",
   "metadata": {},
   "source": [
    "# Create Data Structures"
   ]
  },
  {
   "cell_type": "code",
   "execution_count": 3,
   "metadata": {},
   "outputs": [],
   "source": [
    "# Create Record List\n",
    "\n",
    "log = Query(enumerate(raw)).map(lambda x: Record(x)).list()"
   ]
  },
  {
   "cell_type": "code",
   "execution_count": 4,
   "metadata": {},
   "outputs": [
    {
     "name": "stdout",
     "output_type": "stream",
     "text": [
      "0  =>  20\n"
     ]
    }
   ],
   "source": [
    "# Split Encounters\n",
    "\n",
    "qLog = Query(log)\n",
    "beg = qLog.filter(Predicate.isEncounterStart())\n",
    "end = qLog.filter(Predicate.isEncounterEnd())\n",
    "\n",
    "encounters = Query(zip(beg, end)).map(lambda x: Encounter(log, x[0], x[1]))\n",
    "\n",
    "e = encounters.filter(\n",
    "    lambda x: (x.timestamp_end - x.timestamp_begin).total_seconds() > 60\n",
    ").list()\n",
    "print(len(encounters.list()), ' => ', len(e))\n"
   ]
  },
  {
   "cell_type": "markdown",
   "metadata": {},
   "source": [
    "# Initial Analysis (Commented)"
   ]
  },
  {
   "cell_type": "code",
   "execution_count": 5,
   "metadata": {},
   "outputs": [],
   "source": [
    "# Players List\n",
    "\n",
    "# players = e[0].q.filter(\n",
    "#     Predicate.isPlayerAction()\n",
    "# ).map(\n",
    "#     Predicate.getActorInfo()\n",
    "# ).set()\n",
    "# players"
   ]
  },
  {
   "cell_type": "code",
   "execution_count": 6,
   "metadata": {},
   "outputs": [],
   "source": [
    "# Hostile NPCs & (some of) Their Actions\n",
    "\n",
    "# e[0].q.filter(\n",
    "#     Predicate.isCreatureAction()\n",
    "# ).filter(\n",
    "#     Predicate.isActorHostile()\n",
    "# ).map(\n",
    "#     [ Predicate.getActor(), Predicate.getEvent()]\n",
    "# ).set()\n"
   ]
  },
  {
   "cell_type": "code",
   "execution_count": 7,
   "metadata": {},
   "outputs": [],
   "source": [
    "# Orb of Torment Actions\n",
    "\n",
    "# orb = e[0].q.filter(\n",
    "#     Predicate.isActor('\"Orb of Torment\"')\n",
    "# ).map(\n",
    "#     (\n",
    "#         Predicate.getAction(),\n",
    "#         Predicate.getEvent(),\n",
    "#         Predicate.getTarget()\n",
    "#     )\n",
    "# ).list()\n",
    "# orb\n"
   ]
  },
  {
   "cell_type": "markdown",
   "metadata": {},
   "source": [
    "# Detailed Analysis"
   ]
  },
  {
   "cell_type": "code",
   "execution_count": 8,
   "metadata": {},
   "outputs": [
    {
     "data": {
      "text/markdown": [
       "\n",
       "<style>\n",
       "sb { color: steelblue }\n",
       "o { color: Orange }\n",
       "g { color: Green }\n",
       "</style>\n",
       "\n",
       "## <sb>\"Remnant of Ner'zhul\" (id: 2432)</sb>\n",
       "- ENCOUNTER_START (log: 717473)\n",
       "  - *2022-01-27 23:27:26.389000*  \n",
       "- 79351 entries in **0:03:40.339000**\n",
       "- ENCOUNTER_END (log: 796824)\n",
       "  - *2022-01-27 23:31:06.728000*\n",
       "    "
      ],
      "text/plain": [
       "<IPython.core.display.Markdown object>"
      ]
     },
     "execution_count": 8,
     "metadata": {},
     "output_type": "execute_result"
    }
   ],
   "source": [
    "# Define Encounter being Analysed\n",
    "\n",
    "encounter_number = 13\n",
    "e[encounter_number].md()"
   ]
  },
  {
   "cell_type": "code",
   "execution_count": 9,
   "metadata": {},
   "outputs": [],
   "source": [
    "# Find when orbs are spawned and when they get thrown away\n",
    "\n",
    "from wow.fights import nerzhul\n",
    "(orbSpawned, orbDisposed) = nerzhul.orbs_lifecycle(e[encounter_number])\n"
   ]
  },
  {
   "cell_type": "code",
   "execution_count": 10,
   "metadata": {},
   "outputs": [
    {
     "data": {
      "text/html": [
       "<style type=\"text/css\">\n",
       "#T_57a1f_row2_col0, #T_57a1f_row2_col1, #T_57a1f_row2_col2, #T_57a1f_row3_col0, #T_57a1f_row3_col1, #T_57a1f_row3_col2 {\n",
       "  color: yellow;\n",
       "  font-weight: bold;\n",
       "}\n",
       "</style>\n",
       "<table id=\"T_57a1f_\">\n",
       "  <thead>\n",
       "    <tr>\n",
       "      <th class=\"blank level0\" >&nbsp;</th>\n",
       "      <th class=\"col_heading level0 col0\" >TimeStamp</th>\n",
       "      <th class=\"col_heading level0 col1\" >ID</th>\n",
       "      <th class=\"col_heading level0 col2\" >Player</th>\n",
       "    </tr>\n",
       "  </thead>\n",
       "  <tbody>\n",
       "    <tr>\n",
       "      <th id=\"T_57a1f_level0_row0\" class=\"row_heading level0 row0\" >1</th>\n",
       "      <td id=\"T_57a1f_row0_col0\" class=\"data row0 col0\" >2022-01-27 23:27:56.643000</td>\n",
       "      <td id=\"T_57a1f_row0_col1\" class=\"data row0 col1\" >Creature-0-4216-2450-10260-177117-000073549A</td>\n",
       "      <td id=\"T_57a1f_row0_col2\" class=\"data row0 col2\" >\"Thilokz-Azralon\"</td>\n",
       "    </tr>\n",
       "    <tr>\n",
       "      <th id=\"T_57a1f_level0_row1\" class=\"row_heading level0 row1\" >0</th>\n",
       "      <td id=\"T_57a1f_row1_col0\" class=\"data row1 col0\" >2022-01-27 23:27:55.981000</td>\n",
       "      <td id=\"T_57a1f_row1_col1\" class=\"data row1 col1\" >Creature-0-4216-2450-10260-177117-000073549C</td>\n",
       "      <td id=\"T_57a1f_row1_col2\" class=\"data row1 col2\" >\"Zairoz-Azralon\"</td>\n",
       "    </tr>\n",
       "    <tr>\n",
       "      <th id=\"T_57a1f_level0_row2\" class=\"row_heading level0 row2\" >2</th>\n",
       "      <td id=\"T_57a1f_row2_col0\" class=\"data row2 col0\" >2022-01-27 23:28:37.259000</td>\n",
       "      <td id=\"T_57a1f_row2_col1\" class=\"data row2 col1\" >Creature-0-4216-2450-10260-177117-00007354C7</td>\n",
       "      <td id=\"T_57a1f_row2_col2\" class=\"data row2 col2\" >\"Thilokz-Azralon\"</td>\n",
       "    </tr>\n",
       "    <tr>\n",
       "      <th id=\"T_57a1f_level0_row3\" class=\"row_heading level0 row3\" >3</th>\n",
       "      <td id=\"T_57a1f_row3_col0\" class=\"data row3 col0\" >2022-01-27 23:28:43.596000</td>\n",
       "      <td id=\"T_57a1f_row3_col1\" class=\"data row3 col1\" >Creature-0-4216-2450-10260-177117-00007354C7</td>\n",
       "      <td id=\"T_57a1f_row3_col2\" class=\"data row3 col2\" >\"Spartanovix-Azralon\"</td>\n",
       "    </tr>\n",
       "    <tr>\n",
       "      <th id=\"T_57a1f_level0_row4\" class=\"row_heading level0 row4\" >4</th>\n",
       "      <td id=\"T_57a1f_row4_col0\" class=\"data row4 col0\" >2022-01-27 23:28:44.977000</td>\n",
       "      <td id=\"T_57a1f_row4_col1\" class=\"data row4 col1\" >Creature-0-4216-2450-10260-177117-00007354C9</td>\n",
       "      <td id=\"T_57a1f_row4_col2\" class=\"data row4 col2\" >\"Zairoz-Azralon\"</td>\n",
       "    </tr>\n",
       "    <tr>\n",
       "      <th id=\"T_57a1f_level0_row5\" class=\"row_heading level0 row5\" >6</th>\n",
       "      <td id=\"T_57a1f_row5_col0\" class=\"data row5 col0\" >2022-01-27 23:29:19.650000</td>\n",
       "      <td id=\"T_57a1f_row5_col1\" class=\"data row5 col1\" >Creature-0-4216-2450-10260-177117-00007354EA</td>\n",
       "      <td id=\"T_57a1f_row5_col2\" class=\"data row5 col2\" >\"Thilokz-Azralon\"</td>\n",
       "    </tr>\n",
       "    <tr>\n",
       "      <th id=\"T_57a1f_level0_row6\" class=\"row_heading level0 row6\" >5</th>\n",
       "      <td id=\"T_57a1f_row6_col0\" class=\"data row6 col0\" >2022-01-27 23:29:13.844000</td>\n",
       "      <td id=\"T_57a1f_row6_col1\" class=\"data row6 col1\" >Creature-0-4216-2450-10260-177117-00007354EC</td>\n",
       "      <td id=\"T_57a1f_row6_col2\" class=\"data row6 col2\" >\"Djøw-Azralon\"</td>\n",
       "    </tr>\n",
       "    <tr>\n",
       "      <th id=\"T_57a1f_level0_row7\" class=\"row_heading level0 row7\" >9</th>\n",
       "      <td id=\"T_57a1f_row7_col0\" class=\"data row7 col0\" >2022-01-27 23:29:58.905000</td>\n",
       "      <td id=\"T_57a1f_row7_col1\" class=\"data row7 col1\" >Creature-0-4216-2450-10260-177117-0000735514</td>\n",
       "      <td id=\"T_57a1f_row7_col2\" class=\"data row7 col2\" >\"Spartanovix-Azralon\"</td>\n",
       "    </tr>\n",
       "    <tr>\n",
       "      <th id=\"T_57a1f_level0_row8\" class=\"row_heading level0 row8\" >7</th>\n",
       "      <td id=\"T_57a1f_row8_col0\" class=\"data row8 col0\" >2022-01-27 23:29:51.063000</td>\n",
       "      <td id=\"T_57a1f_row8_col1\" class=\"data row8 col1\" >Creature-0-4216-2450-10260-177117-0000735515</td>\n",
       "      <td id=\"T_57a1f_row8_col2\" class=\"data row8 col2\" >\"Thilokz-Azralon\"</td>\n",
       "    </tr>\n",
       "    <tr>\n",
       "      <th id=\"T_57a1f_level0_row9\" class=\"row_heading level0 row9\" >8</th>\n",
       "      <td id=\"T_57a1f_row9_col0\" class=\"data row9 col0\" >2022-01-27 23:29:54.010000</td>\n",
       "      <td id=\"T_57a1f_row9_col1\" class=\"data row9 col1\" >Creature-0-4216-2450-10260-177117-0000735517</td>\n",
       "      <td id=\"T_57a1f_row9_col2\" class=\"data row9 col2\" >\"Flintti-Azralon\"</td>\n",
       "    </tr>\n",
       "    <tr>\n",
       "      <th id=\"T_57a1f_level0_row10\" class=\"row_heading level0 row10\" >12</th>\n",
       "      <td id=\"T_57a1f_row10_col0\" class=\"data row10 col0\" >2022-01-27 23:30:40.347000</td>\n",
       "      <td id=\"T_57a1f_row10_col1\" class=\"data row10 col1\" >Creature-0-4216-2450-10260-177117-0000735538</td>\n",
       "      <td id=\"T_57a1f_row10_col2\" class=\"data row10 col2\" >\"Spartanovix-Azralon\"</td>\n",
       "    </tr>\n",
       "    <tr>\n",
       "      <th id=\"T_57a1f_level0_row11\" class=\"row_heading level0 row11\" >10</th>\n",
       "      <td id=\"T_57a1f_row11_col0\" class=\"data row11 col0\" >2022-01-27 23:30:34.464000</td>\n",
       "      <td id=\"T_57a1f_row11_col1\" class=\"data row11 col1\" >Creature-0-4216-2450-10260-177117-000073553A</td>\n",
       "      <td id=\"T_57a1f_row11_col2\" class=\"data row11 col2\" >\"Thilokz-Azralon\"</td>\n",
       "    </tr>\n",
       "    <tr>\n",
       "      <th id=\"T_57a1f_level0_row12\" class=\"row_heading level0 row12\" >11</th>\n",
       "      <td id=\"T_57a1f_row12_col0\" class=\"data row12 col0\" >2022-01-27 23:30:35.306000</td>\n",
       "      <td id=\"T_57a1f_row12_col1\" class=\"data row12 col1\" >Creature-0-4216-2450-10260-177117-000073553B</td>\n",
       "      <td id=\"T_57a1f_row12_col2\" class=\"data row12 col2\" >\"Shÿranui-Azralon\"</td>\n",
       "    </tr>\n",
       "  </tbody>\n",
       "</table>\n"
      ],
      "text/plain": [
       "<pandas.io.formats.style.Styler at 0x2e08737af10>"
      ]
     },
     "execution_count": 10,
     "metadata": {},
     "output_type": "execute_result"
    }
   ],
   "source": [
    "# People who carried the orbs\n",
    "\n",
    "nerzhul.orbs_carriers(orbDisposed)"
   ]
  },
  {
   "cell_type": "code",
   "execution_count": 11,
   "metadata": {},
   "outputs": [
    {
     "data": {
      "text/html": [
       "<style type=\"text/css\">\n",
       "#T_42aac_row0_col1, #T_42aac_row0_col2, #T_42aac_row1_col1, #T_42aac_row1_col2, #T_42aac_row2_col1, #T_42aac_row2_col2, #T_42aac_row3_col1, #T_42aac_row3_col2, #T_42aac_row4_col1, #T_42aac_row4_col2, #T_42aac_row5_col1, #T_42aac_row5_col2, #T_42aac_row6_col1, #T_42aac_row6_col2, #T_42aac_row7_col1, #T_42aac_row7_col2, #T_42aac_row8_col1, #T_42aac_row8_col2, #T_42aac_row9_col1, #T_42aac_row9_col2, #T_42aac_row10_col1, #T_42aac_row10_col2, #T_42aac_row11_col1, #T_42aac_row11_col2 {\n",
       "  color: aqua;\n",
       "}\n",
       "#T_42aac_row0_col3, #T_42aac_row1_col3, #T_42aac_row2_col3, #T_42aac_row3_col3, #T_42aac_row4_col3, #T_42aac_row5_col3, #T_42aac_row6_col3, #T_42aac_row7_col3, #T_42aac_row8_col3, #T_42aac_row9_col3, #T_42aac_row10_col3, #T_42aac_row11_col3 {\n",
       "  color: yellow;\n",
       "  font-weight: bold;\n",
       "}\n",
       "</style>\n",
       "<table id=\"T_42aac_\">\n",
       "  <thead>\n",
       "    <tr>\n",
       "      <th class=\"blank level0\" >&nbsp;</th>\n",
       "      <th class=\"col_heading level0 col0\" >ID</th>\n",
       "      <th class=\"col_heading level0 col1\" >TimeStamp Spawned</th>\n",
       "      <th class=\"col_heading level0 col2\" >TimeStamp Disposed</th>\n",
       "      <th class=\"col_heading level0 col3\" >Time Elapsed</th>\n",
       "      <th class=\"col_heading level0 col4\" >Player</th>\n",
       "    </tr>\n",
       "  </thead>\n",
       "  <tbody>\n",
       "    <tr>\n",
       "      <th id=\"T_42aac_level0_row0\" class=\"row_heading level0 row0\" >0</th>\n",
       "      <td id=\"T_42aac_row0_col0\" class=\"data row0 col0\" >Creature-0-4216-2450-10260-177117-000073549A</td>\n",
       "      <td id=\"T_42aac_row0_col1\" class=\"data row0 col1\" >2022-01-27 23:27:37.306000</td>\n",
       "      <td id=\"T_42aac_row0_col2\" class=\"data row0 col2\" >2022-01-27 23:27:56.643000</td>\n",
       "      <td id=\"T_42aac_row0_col3\" class=\"data row0 col3\" >0 days 00:00:19.337000</td>\n",
       "      <td id=\"T_42aac_row0_col4\" class=\"data row0 col4\" >\"Thilokz-Azralon\"</td>\n",
       "    </tr>\n",
       "    <tr>\n",
       "      <th id=\"T_42aac_level0_row1\" class=\"row_heading level0 row1\" >1</th>\n",
       "      <td id=\"T_42aac_row1_col0\" class=\"data row1 col0\" >Creature-0-4216-2450-10260-177117-000073549C</td>\n",
       "      <td id=\"T_42aac_row1_col1\" class=\"data row1 col1\" >2022-01-27 23:27:38.817000</td>\n",
       "      <td id=\"T_42aac_row1_col2\" class=\"data row1 col2\" >2022-01-27 23:27:55.981000</td>\n",
       "      <td id=\"T_42aac_row1_col3\" class=\"data row1 col3\" >0 days 00:00:17.164000</td>\n",
       "      <td id=\"T_42aac_row1_col4\" class=\"data row1 col4\" >\"Zairoz-Azralon\"</td>\n",
       "    </tr>\n",
       "    <tr>\n",
       "      <th id=\"T_42aac_level0_row2\" class=\"row_heading level0 row2\" >2</th>\n",
       "      <td id=\"T_42aac_row2_col0\" class=\"data row2 col0\" >Creature-0-4216-2450-10260-177117-00007354C7</td>\n",
       "      <td id=\"T_42aac_row2_col1\" class=\"data row2 col1\" >2022-01-27 23:28:22.275000</td>\n",
       "      <td id=\"T_42aac_row2_col2\" class=\"data row2 col2\" >2022-01-27 23:28:43.596000</td>\n",
       "      <td id=\"T_42aac_row2_col3\" class=\"data row2 col3\" >0 days 00:00:21.321000</td>\n",
       "      <td id=\"T_42aac_row2_col4\" class=\"data row2 col4\" >\"Spartanovix-Azralon\"</td>\n",
       "    </tr>\n",
       "    <tr>\n",
       "      <th id=\"T_42aac_level0_row3\" class=\"row_heading level0 row3\" >3</th>\n",
       "      <td id=\"T_42aac_row3_col0\" class=\"data row3 col0\" >Creature-0-4216-2450-10260-177117-00007354C9</td>\n",
       "      <td id=\"T_42aac_row3_col1\" class=\"data row3 col1\" >2022-01-27 23:28:23.775000</td>\n",
       "      <td id=\"T_42aac_row3_col2\" class=\"data row3 col2\" >2022-01-27 23:28:44.977000</td>\n",
       "      <td id=\"T_42aac_row3_col3\" class=\"data row3 col3\" >0 days 00:00:21.202000</td>\n",
       "      <td id=\"T_42aac_row3_col4\" class=\"data row3 col4\" >\"Zairoz-Azralon\"</td>\n",
       "    </tr>\n",
       "    <tr>\n",
       "      <th id=\"T_42aac_level0_row4\" class=\"row_heading level0 row4\" >4</th>\n",
       "      <td id=\"T_42aac_row4_col0\" class=\"data row4 col0\" >Creature-0-4216-2450-10260-177117-00007354EA</td>\n",
       "      <td id=\"T_42aac_row4_col1\" class=\"data row4 col1\" >2022-01-27 23:28:57.487000</td>\n",
       "      <td id=\"T_42aac_row4_col2\" class=\"data row4 col2\" >2022-01-27 23:29:19.650000</td>\n",
       "      <td id=\"T_42aac_row4_col3\" class=\"data row4 col3\" >0 days 00:00:22.163000</td>\n",
       "      <td id=\"T_42aac_row4_col4\" class=\"data row4 col4\" >\"Thilokz-Azralon\"</td>\n",
       "    </tr>\n",
       "    <tr>\n",
       "      <th id=\"T_42aac_level0_row5\" class=\"row_heading level0 row5\" >5</th>\n",
       "      <td id=\"T_42aac_row5_col0\" class=\"data row5 col0\" >Creature-0-4216-2450-10260-177117-00007354EC</td>\n",
       "      <td id=\"T_42aac_row5_col1\" class=\"data row5 col1\" >2022-01-27 23:28:59.025000</td>\n",
       "      <td id=\"T_42aac_row5_col2\" class=\"data row5 col2\" >2022-01-27 23:29:13.844000</td>\n",
       "      <td id=\"T_42aac_row5_col3\" class=\"data row5 col3\" >0 days 00:00:14.819000</td>\n",
       "      <td id=\"T_42aac_row5_col4\" class=\"data row5 col4\" >\"Djøw-Azralon\"</td>\n",
       "    </tr>\n",
       "    <tr>\n",
       "      <th id=\"T_42aac_level0_row6\" class=\"row_heading level0 row6\" >6</th>\n",
       "      <td id=\"T_42aac_row6_col0\" class=\"data row6 col0\" >Creature-0-4216-2450-10260-177117-0000735514</td>\n",
       "      <td id=\"T_42aac_row6_col1\" class=\"data row6 col1\" >2022-01-27 23:29:38.807000</td>\n",
       "      <td id=\"T_42aac_row6_col2\" class=\"data row6 col2\" >2022-01-27 23:29:58.905000</td>\n",
       "      <td id=\"T_42aac_row6_col3\" class=\"data row6 col3\" >0 days 00:00:20.098000</td>\n",
       "      <td id=\"T_42aac_row6_col4\" class=\"data row6 col4\" >\"Spartanovix-Azralon\"</td>\n",
       "    </tr>\n",
       "    <tr>\n",
       "      <th id=\"T_42aac_level0_row7\" class=\"row_heading level0 row7\" >7</th>\n",
       "      <td id=\"T_42aac_row7_col0\" class=\"data row7 col0\" >Creature-0-4216-2450-10260-177117-0000735515</td>\n",
       "      <td id=\"T_42aac_row7_col1\" class=\"data row7 col1\" >2022-01-27 23:29:40.281000</td>\n",
       "      <td id=\"T_42aac_row7_col2\" class=\"data row7 col2\" >2022-01-27 23:29:51.063000</td>\n",
       "      <td id=\"T_42aac_row7_col3\" class=\"data row7 col3\" >0 days 00:00:10.782000</td>\n",
       "      <td id=\"T_42aac_row7_col4\" class=\"data row7 col4\" >\"Thilokz-Azralon\"</td>\n",
       "    </tr>\n",
       "    <tr>\n",
       "      <th id=\"T_42aac_level0_row8\" class=\"row_heading level0 row8\" >8</th>\n",
       "      <td id=\"T_42aac_row8_col0\" class=\"data row8 col0\" >Creature-0-4216-2450-10260-177117-0000735517</td>\n",
       "      <td id=\"T_42aac_row8_col1\" class=\"data row8 col1\" >2022-01-27 23:29:41.790000</td>\n",
       "      <td id=\"T_42aac_row8_col2\" class=\"data row8 col2\" >2022-01-27 23:29:54.010000</td>\n",
       "      <td id=\"T_42aac_row8_col3\" class=\"data row8 col3\" >0 days 00:00:12.220000</td>\n",
       "      <td id=\"T_42aac_row8_col4\" class=\"data row8 col4\" >\"Flintti-Azralon\"</td>\n",
       "    </tr>\n",
       "    <tr>\n",
       "      <th id=\"T_42aac_level0_row9\" class=\"row_heading level0 row9\" >9</th>\n",
       "      <td id=\"T_42aac_row9_col0\" class=\"data row9 col0\" >Creature-0-4216-2450-10260-177117-0000735538</td>\n",
       "      <td id=\"T_42aac_row9_col1\" class=\"data row9 col1\" >2022-01-27 23:30:15.361000</td>\n",
       "      <td id=\"T_42aac_row9_col2\" class=\"data row9 col2\" >2022-01-27 23:30:40.347000</td>\n",
       "      <td id=\"T_42aac_row9_col3\" class=\"data row9 col3\" >0 days 00:00:24.986000</td>\n",
       "      <td id=\"T_42aac_row9_col4\" class=\"data row9 col4\" >\"Spartanovix-Azralon\"</td>\n",
       "    </tr>\n",
       "    <tr>\n",
       "      <th id=\"T_42aac_level0_row10\" class=\"row_heading level0 row10\" >10</th>\n",
       "      <td id=\"T_42aac_row10_col0\" class=\"data row10 col0\" >Creature-0-4216-2450-10260-177117-000073553A</td>\n",
       "      <td id=\"T_42aac_row10_col1\" class=\"data row10 col1\" >2022-01-27 23:30:16.813000</td>\n",
       "      <td id=\"T_42aac_row10_col2\" class=\"data row10 col2\" >2022-01-27 23:30:34.464000</td>\n",
       "      <td id=\"T_42aac_row10_col3\" class=\"data row10 col3\" >0 days 00:00:17.651000</td>\n",
       "      <td id=\"T_42aac_row10_col4\" class=\"data row10 col4\" >\"Thilokz-Azralon\"</td>\n",
       "    </tr>\n",
       "    <tr>\n",
       "      <th id=\"T_42aac_level0_row11\" class=\"row_heading level0 row11\" >11</th>\n",
       "      <td id=\"T_42aac_row11_col0\" class=\"data row11 col0\" >Creature-0-4216-2450-10260-177117-000073553B</td>\n",
       "      <td id=\"T_42aac_row11_col1\" class=\"data row11 col1\" >2022-01-27 23:30:18.329000</td>\n",
       "      <td id=\"T_42aac_row11_col2\" class=\"data row11 col2\" >2022-01-27 23:30:35.306000</td>\n",
       "      <td id=\"T_42aac_row11_col3\" class=\"data row11 col3\" >0 days 00:00:16.977000</td>\n",
       "      <td id=\"T_42aac_row11_col4\" class=\"data row11 col4\" >\"Shÿranui-Azralon\"</td>\n",
       "    </tr>\n",
       "  </tbody>\n",
       "</table>\n"
      ],
      "text/plain": [
       "<pandas.io.formats.style.Styler at 0x2e089163f10>"
      ]
     },
     "execution_count": 11,
     "metadata": {},
     "output_type": "execute_result"
    }
   ],
   "source": [
    "# Orbs life span and who threw it away (for good)\n",
    "\n",
    "nerzhul.orbs_overview(orbSpawned, orbDisposed)\n"
   ]
  },
  {
   "cell_type": "code",
   "execution_count": null,
   "metadata": {},
   "outputs": [],
   "source": []
  }
 ],
 "metadata": {
  "interpreter": {
   "hash": "ac59ebe37160ed0dfa835113d9b8498d9f09ceb179beaac4002f036b9467c963"
  },
  "kernelspec": {
   "display_name": "Python 3.9.9 64-bit",
   "language": "python",
   "name": "python3"
  },
  "language_info": {
   "codemirror_mode": {
    "name": "ipython",
    "version": 3
   },
   "file_extension": ".py",
   "mimetype": "text/x-python",
   "name": "python",
   "nbconvert_exporter": "python",
   "pygments_lexer": "ipython3",
   "version": "3.9.9"
  },
  "orig_nbformat": 4
 },
 "nbformat": 4,
 "nbformat_minor": 2
}
