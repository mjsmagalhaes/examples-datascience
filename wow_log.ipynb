{
 "cells": [
  {
   "cell_type": "code",
   "execution_count": null,
   "metadata": {},
   "outputs": [],
   "source": [
    "%load_ext autoreload\n",
    "%autoreload 2"
   ]
  },
  {
   "cell_type": "markdown",
   "metadata": {},
   "source": [
    "# World of Warcraft Log Toy\n",
    "\n",
    "This notebook toys with data generated from World of Warcraft (WoW) logs.\n",
    "\n",
    "4 helper classes were created (in the wow folder):\n",
    "- **wow.log.Record**\n",
    "  - *Parses and stores an entry of the log*\n",
    "  - Each line may have differente structure so more classes deriving from this one may be necessary.\n",
    "  - Each record also represent an in game event.\n",
    "- **wow.log.Encounter**\n",
    "  - *A set of records that represents a fight agains a boss in the game*\n",
    "  - Each starts with a ENCOUNTER_START event and go until an ENCOUNTER_END event is found.\n",
    "- **wow.query.Query**\n",
    "  - *An object to help create a chain of iterators to build queries (using filters and map like functions)*\n",
    "- **wow.query.Predicate**\n",
    "  - *A Collection of functions that will be applied to those iterators*\n",
    "\n",
    "There are also another 2 modules in addition to both modules containing classes above:\n",
    "- **ui**\n",
    "  - contain ui elements in this notebook\n",
    "\n",
    "- **fights**\n",
    "  - contains scripts to analyze each fight (only nerzhul for now)\n"
   ]
  },
  {
   "cell_type": "code",
   "execution_count": null,
   "metadata": {},
   "outputs": [],
   "source": [
    "# Initialize\n",
    "import pandas as pd\n",
    "import wow.ui as ui\n",
    "import wow.helper as help\n",
    "import wow.fights\n",
    "\n",
    "from wow.query import Predicate\n",
    "from wow.log import Encounter, Log, EncounterReport\n",
    "\n",
    "# (z, f) = ui.import_file()\n"
   ]
  },
  {
   "cell_type": "markdown",
   "metadata": {},
   "source": [
    "# Create Data Structures"
   ]
  },
  {
   "cell_type": "code",
   "execution_count": null,
   "metadata": {},
   "outputs": [],
   "source": [
    "# help.unzip('WoWCombatLog-012722_214646.zip', 'wow')"
   ]
  },
  {
   "cell_type": "code",
   "execution_count": null,
   "metadata": {},
   "outputs": [],
   "source": [
    "# file = r'wow\\WoWCombatLog-012722_214646.txt'\n",
    "# file = r'C:\\Program Files (x86)\\World of Warcraft\\_retail_\\Logs\\RaiderIOLogsArchive\\WoWCombatLog-012722_214646.txt'\n",
    "file = r'C:\\Program Files (x86)\\World of Warcraft\\_retail_\\Logs\\WoWCombatLog-020322_211902.txt'\n",
    "log = Log.parse(file)\n"
   ]
  },
  {
   "cell_type": "markdown",
   "metadata": {},
   "source": [
    "# Detailed Analysis"
   ]
  },
  {
   "cell_type": "code",
   "execution_count": null,
   "metadata": {},
   "outputs": [],
   "source": [
    "# Define Encounter being Analysed\n",
    "encSelect = ui.pick_encounter(log.encounters)"
   ]
  },
  {
   "cell_type": "code",
   "execution_count": null,
   "metadata": {},
   "outputs": [],
   "source": [
    "e = log.encounters[encSelect.value]\n",
    "e.getReport().report()"
   ]
  },
  {
   "cell_type": "code",
   "execution_count": null,
   "metadata": {},
   "outputs": [],
   "source": [
    "e.timestamp_begin.strftime('encounters_%Y_%m_%d')"
   ]
  },
  {
   "cell_type": "code",
   "execution_count": null,
   "metadata": {},
   "outputs": [],
   "source": [
    "e.export()"
   ]
  },
  {
   "cell_type": "code",
   "execution_count": null,
   "metadata": {},
   "outputs": [],
   "source": [
    "log.save_encounters()"
   ]
  },
  {
   "cell_type": "code",
   "execution_count": null,
   "metadata": {},
   "outputs": [],
   "source": [
    "# Full Log Report\n",
    "# NerzhulReport(log).listOrbsDisposed().groupby(\n",
    "#   lambda x: x[1],\n",
    "#   lambda x: x[2],\n",
    "#   lambda x: len(list(x))\n",
    "# ).dict()\n",
    "# r.listEncounters()\n",
    "\n",
    "# Combined Logs\n",
    "# r = EncounterReport(encounters)\n",
    "# r.listEncounters()\n"
   ]
  },
  {
   "cell_type": "code",
   "execution_count": null,
   "metadata": {},
   "outputs": [],
   "source": [
    "# import humanize\n",
    "# from pympler import asizeof\n",
    "# humanize.naturalsize(\n",
    "# )\n",
    "# asizeof.asizeof(log, limit=6, stats=3, cutoff=0)"
   ]
  },
  {
   "cell_type": "code",
   "execution_count": null,
   "metadata": {},
   "outputs": [],
   "source": [
    "(spDmg, mDmg) = e.getReport().getDamage()\n",
    "\n",
    "dmg = pd.merge(\n",
    "  spDmg,\n",
    "  mDmg.drop(['Name'], axis='columns'),\n",
    "  how='outer',\n",
    "  on='Unit ID'\n",
    ")\n",
    "\n"
   ]
  },
  {
   "cell_type": "code",
   "execution_count": null,
   "metadata": {},
   "outputs": [],
   "source": [
    "dmg['Player ID'] = dmg['Player ID'].fillna(dmg['Unit ID'])\n",
    "dmg = dmg.fillna(0)\n",
    "dmg.groupby(['Player ID', 'Name']).sum()"
   ]
  },
  {
   "cell_type": "code",
   "execution_count": null,
   "metadata": {},
   "outputs": [],
   "source": [
    "dmg.join(pd.DataFrame(dmg['Total (Spell)'] + dmg['Total (Melee)'], columns=['Total']) )\n"
   ]
  },
  {
   "cell_type": "code",
   "execution_count": null,
   "metadata": {},
   "outputs": [],
   "source": [
    "e.getReport().showMeleeDamage()"
   ]
  },
  {
   "cell_type": "code",
   "execution_count": null,
   "metadata": {},
   "outputs": [],
   "source": [
    "e.q.filter(\n",
    "    Predicate.all([\n",
    "        Predicate.any([Predicate.isPlayerAction(),\n",
    "                       Predicate.isPetAction()]),\n",
    "        Predicate.isTargetHostile(),\n",
    "        Predicate.isEventIn([\n",
    "            'SPELL_DAMAGE',\n",
    "            'SPELL_PERIODIC_DAMAGE',\n",
    "            'RANGE_DAMAGE'\n",
    "        ]),\n",
    "    ])\n",
    ").map((\n",
    "    Predicate.getActorId(),\n",
    "    Predicate.getActor(),\n",
    "    lambda x: int(x[29]),\n",
    "    # Predicate.getData(),\n",
    ")).list()\n"
   ]
  },
  {
   "cell_type": "code",
   "execution_count": 86,
   "metadata": {},
   "outputs": [
    {
     "data": {
      "text/html": [
       "<div>\n",
       "<style scoped>\n",
       "    .dataframe tbody tr th:only-of-type {\n",
       "        vertical-align: middle;\n",
       "    }\n",
       "\n",
       "    .dataframe tbody tr th {\n",
       "        vertical-align: top;\n",
       "    }\n",
       "\n",
       "    .dataframe thead th {\n",
       "        text-align: right;\n",
       "    }\n",
       "</style>\n",
       "<table border=\"1\" class=\"dataframe\">\n",
       "  <thead>\n",
       "    <tr style=\"text-align: right;\">\n",
       "      <th></th>\n",
       "      <th>Player</th>\n",
       "      <th>Debuff Applied</th>\n",
       "      <th>Throw Casts</th>\n",
       "      <th>%</th>\n",
       "    </tr>\n",
       "  </thead>\n",
       "  <tbody>\n",
       "    <tr>\n",
       "      <th>0</th>\n",
       "      <td>\"Flintti-Azralon\"</td>\n",
       "      <td>52</td>\n",
       "      <td>51</td>\n",
       "      <td>98.076923</td>\n",
       "    </tr>\n",
       "    <tr>\n",
       "      <th>1</th>\n",
       "      <td>\"Djøw-Azralon\"</td>\n",
       "      <td>38</td>\n",
       "      <td>28</td>\n",
       "      <td>73.684211</td>\n",
       "    </tr>\n",
       "    <tr>\n",
       "      <th>2</th>\n",
       "      <td>\"Dii-Azralon\"</td>\n",
       "      <td>26</td>\n",
       "      <td>23</td>\n",
       "      <td>88.461538</td>\n",
       "    </tr>\n",
       "    <tr>\n",
       "      <th>3</th>\n",
       "      <td>\"Bablowboy-Azralon\"</td>\n",
       "      <td>19</td>\n",
       "      <td>13</td>\n",
       "      <td>68.421053</td>\n",
       "    </tr>\n",
       "    <tr>\n",
       "      <th>4</th>\n",
       "      <td>\"Pandamän-Azralon\"</td>\n",
       "      <td>12</td>\n",
       "      <td>8</td>\n",
       "      <td>66.666667</td>\n",
       "    </tr>\n",
       "    <tr>\n",
       "      <th>5</th>\n",
       "      <td>\"Spartanovix-Azralon\"</td>\n",
       "      <td>8</td>\n",
       "      <td>6</td>\n",
       "      <td>75.000000</td>\n",
       "    </tr>\n",
       "    <tr>\n",
       "      <th>6</th>\n",
       "      <td>\"Jathäl-Azralon\"</td>\n",
       "      <td>4</td>\n",
       "      <td>2</td>\n",
       "      <td>50.000000</td>\n",
       "    </tr>\n",
       "    <tr>\n",
       "      <th>7</th>\n",
       "      <td>\"Zairoz-Azralon\"</td>\n",
       "      <td>3</td>\n",
       "      <td>2</td>\n",
       "      <td>66.666667</td>\n",
       "    </tr>\n",
       "    <tr>\n",
       "      <th>8</th>\n",
       "      <td>\"Ïppo-Azralon\"</td>\n",
       "      <td>3</td>\n",
       "      <td>3</td>\n",
       "      <td>100.000000</td>\n",
       "    </tr>\n",
       "    <tr>\n",
       "      <th>9</th>\n",
       "      <td>\"Maulfurionx-Azralon\"</td>\n",
       "      <td>2</td>\n",
       "      <td>2</td>\n",
       "      <td>100.000000</td>\n",
       "    </tr>\n",
       "    <tr>\n",
       "      <th>10</th>\n",
       "      <td>\"Cotiamanca-Azralon\"</td>\n",
       "      <td>1</td>\n",
       "      <td>1</td>\n",
       "      <td>100.000000</td>\n",
       "    </tr>\n",
       "  </tbody>\n",
       "</table>\n",
       "</div>"
      ],
      "text/plain": [
       "                   Player  Debuff Applied  Throw Casts           %\n",
       "0       \"Flintti-Azralon\"              52           51   98.076923\n",
       "1          \"Djøw-Azralon\"              38           28   73.684211\n",
       "2           \"Dii-Azralon\"              26           23   88.461538\n",
       "3     \"Bablowboy-Azralon\"              19           13   68.421053\n",
       "4      \"Pandamän-Azralon\"              12            8   66.666667\n",
       "5   \"Spartanovix-Azralon\"               8            6   75.000000\n",
       "6        \"Jathäl-Azralon\"               4            2   50.000000\n",
       "7        \"Zairoz-Azralon\"               3            2   66.666667\n",
       "8          \"Ïppo-Azralon\"               3            3  100.000000\n",
       "9   \"Maulfurionx-Azralon\"               2            2  100.000000\n",
       "10   \"Cotiamanca-Azralon\"               1            1  100.000000"
      ]
     },
     "metadata": {},
     "output_type": "display_data"
    }
   ],
   "source": []
  }
 ],
 "metadata": {
  "interpreter": {
   "hash": "ac59ebe37160ed0dfa835113d9b8498d9f09ceb179beaac4002f036b9467c963"
  },
  "kernelspec": {
   "display_name": "Python 3.9.9 64-bit",
   "language": "python",
   "name": "python3"
  },
  "language_info": {
   "codemirror_mode": {
    "name": "ipython",
    "version": 3
   },
   "file_extension": ".py",
   "mimetype": "text/x-python",
   "name": "python",
   "nbconvert_exporter": "python",
   "pygments_lexer": "ipython3",
   "version": "3.9.9"
  },
  "orig_nbformat": 4
 },
 "nbformat": 4,
 "nbformat_minor": 2
}
