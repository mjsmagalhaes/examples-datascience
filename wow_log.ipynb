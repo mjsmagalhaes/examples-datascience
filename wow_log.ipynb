{
 "cells": [
  {
   "cell_type": "code",
   "execution_count": 1,
   "metadata": {},
   "outputs": [],
   "source": [
    "%load_ext autoreload\n",
    "%autoreload 2"
   ]
  },
  {
   "cell_type": "markdown",
   "metadata": {},
   "source": [
    "# World of Warcraft Log Toy\n",
    "\n",
    "This notebook toys with data generated from World of Warcraft (WoW) logs.\n",
    "\n",
    "4 helper classes were created (in the wow folder):\n",
    "- **wow.log.Record**\n",
    "  - *Parses and stores an entry of the log*\n",
    "  - Each line may have differente structure so more classes deriving from this one may be necessary.\n",
    "  - Each record also represent an in game event.\n",
    "- **wow.log.Encounter**\n",
    "  - *A set of records that represents a fight agains a boss in the game*\n",
    "  - Each starts with a ENCOUNTER_START event and go until an ENCOUNTER_END event is found.\n",
    "- **wow.query.Query**\n",
    "  - *An object to help create a chain of iterators to build queries (using filters and map like functions)*\n",
    "- **wow.query.Predicate**\n",
    "  - *A Collection of functions that will be applied to those iterators*\n",
    "\n",
    "There are also another 2 modules in addition to both modules containing classes above:\n",
    "- **ui**\n",
    "  - contain ui elements in this notebook\n",
    "\n",
    "- **fights**\n",
    "  - contains scripts to analyze each fight (only nerzhul for now)\n"
   ]
  },
  {
   "cell_type": "code",
   "execution_count": 2,
   "metadata": {},
   "outputs": [
    {
     "data": {
      "text/html": [
       "<style type='text/css'>\n",
       ".datatable table.frame { margin-bottom: 0; }\n",
       ".datatable table.frame thead { border-bottom: none; }\n",
       ".datatable table.frame tr.coltypes td {  color: #FFFFFF;  line-height: 6px;  padding: 0 0.5em;}\n",
       ".datatable .bool    { background: #DDDD99; }\n",
       ".datatable .object  { background: #565656; }\n",
       ".datatable .int     { background: #5D9E5D; }\n",
       ".datatable .float   { background: #4040CC; }\n",
       ".datatable .str     { background: #CC4040; }\n",
       ".datatable .time    { background: #40CC40; }\n",
       ".datatable .row_index {  background: var(--jp-border-color3);  border-right: 1px solid var(--jp-border-color0);  color: var(--jp-ui-font-color3);  font-size: 9px;}\n",
       ".datatable .frame tbody td { text-align: left; }\n",
       ".datatable .frame tr.coltypes .row_index {  background: var(--jp-border-color0);}\n",
       ".datatable th:nth-child(2) { padding-left: 12px; }\n",
       ".datatable .hellipsis {  color: var(--jp-cell-editor-border-color);}\n",
       ".datatable .vellipsis {  background: var(--jp-layout-color0);  color: var(--jp-cell-editor-border-color);}\n",
       ".datatable .na {  color: var(--jp-cell-editor-border-color);  font-size: 80%;}\n",
       ".datatable .sp {  opacity: 0.25;}\n",
       ".datatable .footer { font-size: 9px; }\n",
       ".datatable .frame_dimensions {  background: var(--jp-border-color3);  border-top: 1px solid var(--jp-border-color0);  color: var(--jp-ui-font-color3);  display: inline-block;  opacity: 0.6;  padding: 1px 10px 1px 5px;}\n",
       "</style>\n"
      ],
      "text/plain": [
       "<IPython.core.display.HTML object>"
      ]
     },
     "metadata": {},
     "output_type": "display_data"
    }
   ],
   "source": [
    "# Initialize\n",
    "import wow.ui as ui\n",
    "import wow.helper as help\n",
    "import wow.fights\n",
    "\n",
    "from wow.query import Query, Predicate\n",
    "from wow.log import Record, Encounter, EncounterReport\n",
    "\n",
    "# (z, f) = ui.import_file()\n"
   ]
  },
  {
   "cell_type": "markdown",
   "metadata": {},
   "source": [
    "# Create Data Structures"
   ]
  },
  {
   "cell_type": "code",
   "execution_count": 3,
   "metadata": {},
   "outputs": [],
   "source": [
    "# help.unzip('WoWCombatLog-012722_214646.zip', 'wow')"
   ]
  },
  {
   "cell_type": "code",
   "execution_count": 4,
   "metadata": {},
   "outputs": [
    {
     "name": "stdout",
     "output_type": "stream",
     "text": [
      "Encounters:  20\n"
     ]
    }
   ],
   "source": [
    "file = r'C:\\Program Files (x86)\\World of Warcraft\\_retail_\\Logs\\RaiderIOLogsArchive\\WoWCombatLog-012722_214646.txt'\n",
    "# file = r'C:\\Program Files (x86)\\World of Warcraft\\_retail_\\Logs\\WoWCombatLog-013122_220632.txt'\n",
    "\n",
    "(log, encounters) = Encounter.parse(file)\n"
   ]
  },
  {
   "cell_type": "markdown",
   "metadata": {},
   "source": [
    "# Detailed Analysis"
   ]
  },
  {
   "cell_type": "code",
   "execution_count": 5,
   "metadata": {},
   "outputs": [
    {
     "data": {
      "application/vnd.jupyter.widget-view+json": {
       "model_id": "9b63889099084b229024dbcf53d21082",
       "version_major": 2,
       "version_minor": 0
      },
      "text/plain": [
       "VBox(children=(HBox(children=(Dropdown(description='Encounter:', options=(('1 \"Remnant of Ner\\'zhul\" 1:46', 0)…"
      ]
     },
     "metadata": {},
     "output_type": "display_data"
    }
   ],
   "source": [
    "# Define Encounter being Analysed\n",
    "encSelect = ui.pick_encounter(encounters)"
   ]
  },
  {
   "cell_type": "code",
   "execution_count": 6,
   "metadata": {},
   "outputs": [
    {
     "data": {
      "text/markdown": [
       "\n",
       "<style>\n",
       "sb { color: steelblue }\n",
       "o { color: Orange }\n",
       "g { color: Green }\n",
       "</style>\n",
       "\n",
       "## <sb>\"Remnant of Ner'zhul\" (id: 2432)</sb>\n",
       "- ENCOUNTER_START (log: 85255)\n",
       "  - *2022-01-27 22:27:20.478000*  \n",
       "- 34463 entries in **0:01:46.772000**\n",
       "- ENCOUNTER_END (log: 119717)\n",
       "  - *2022-01-27 22:29:07.250000*\n",
       "    "
      ],
      "text/plain": [
       "<IPython.core.display.Markdown object>"
      ]
     },
     "metadata": {},
     "output_type": "display_data"
    },
    {
     "data": {
      "text/plain": [
       "None"
      ]
     },
     "metadata": {},
     "output_type": "display_data"
    },
    {
     "data": {
      "text/html": [
       "<style type=\"text/css\">\n",
       "#T_b2315_ caption {\n",
       "  font-size: 16px;\n",
       "  font-weight: bold;\n",
       "}\n",
       "#T_b2315_row3_col0, #T_b2315_row3_col1, #T_b2315_row3_col2, #T_b2315_row4_col0, #T_b2315_row4_col1, #T_b2315_row4_col2, #T_b2315_row5_col0, #T_b2315_row5_col1, #T_b2315_row5_col2 {\n",
       "  color: blue;\n",
       "  font-weight: bold;\n",
       "}\n",
       "</style>\n",
       "<table id=\"T_b2315_\">\n",
       "  <caption>List of Orb Carriers</caption>\n",
       "  <thead>\n",
       "    <tr>\n",
       "      <th class=\"blank level0\" >&nbsp;</th>\n",
       "      <th class=\"col_heading level0 col0\" >TimeStamp</th>\n",
       "      <th class=\"col_heading level0 col1\" >ID</th>\n",
       "      <th class=\"col_heading level0 col2\" >Player</th>\n",
       "    </tr>\n",
       "  </thead>\n",
       "  <tbody>\n",
       "    <tr>\n",
       "      <th id=\"T_b2315_level0_row0\" class=\"row_heading level0 row0\" >0</th>\n",
       "      <td id=\"T_b2315_row0_col0\" class=\"data row0 col0\" >2022-01-27 22:27:46.341000</td>\n",
       "      <td id=\"T_b2315_row0_col1\" class=\"data row0 col1\" >Creature-0-4216-2450-10260-177117-0000734684</td>\n",
       "      <td id=\"T_b2315_row0_col2\" class=\"data row0 col2\" >\"Thilokz-Azralon\"</td>\n",
       "    </tr>\n",
       "    <tr>\n",
       "      <th id=\"T_b2315_level0_row1\" class=\"row_heading level0 row1\" >1</th>\n",
       "      <td id=\"T_b2315_row1_col0\" class=\"data row1 col0\" >2022-01-27 22:27:48.699000</td>\n",
       "      <td id=\"T_b2315_row1_col1\" class=\"data row1 col1\" >Creature-0-4216-2450-10260-177117-0000734685</td>\n",
       "      <td id=\"T_b2315_row1_col2\" class=\"data row1 col2\" >\"Spartanovix-Azralon\"</td>\n",
       "    </tr>\n",
       "    <tr>\n",
       "      <th id=\"T_b2315_level0_row2\" class=\"row_heading level0 row2\" >3</th>\n",
       "      <td id=\"T_b2315_row2_col0\" class=\"data row2 col0\" >2022-01-27 22:28:34.587000</td>\n",
       "      <td id=\"T_b2315_row2_col1\" class=\"data row2 col1\" >Creature-0-4216-2450-10260-177117-00007346AE</td>\n",
       "      <td id=\"T_b2315_row2_col2\" class=\"data row2 col2\" >\"Thilokz-Azralon\"</td>\n",
       "    </tr>\n",
       "    <tr>\n",
       "      <th id=\"T_b2315_level0_row3\" class=\"row_heading level0 row3\" >2</th>\n",
       "      <td id=\"T_b2315_row3_col0\" class=\"data row3 col0\" >2022-01-27 22:28:30.916000</td>\n",
       "      <td id=\"T_b2315_row3_col1\" class=\"data row3 col1\" >Creature-0-4216-2450-10260-177117-00007346B0</td>\n",
       "      <td id=\"T_b2315_row3_col2\" class=\"data row3 col2\" >\"Djøw-Azralon\"</td>\n",
       "    </tr>\n",
       "    <tr>\n",
       "      <th id=\"T_b2315_level0_row4\" class=\"row_heading level0 row4\" >4</th>\n",
       "      <td id=\"T_b2315_row4_col0\" class=\"data row4 col0\" >2022-01-27 22:28:35.563000</td>\n",
       "      <td id=\"T_b2315_row4_col1\" class=\"data row4 col1\" >Creature-0-4216-2450-10260-177117-00007346B0</td>\n",
       "      <td id=\"T_b2315_row4_col2\" class=\"data row4 col2\" >\"Dii-Azralon\"</td>\n",
       "    </tr>\n",
       "    <tr>\n",
       "      <th id=\"T_b2315_level0_row5\" class=\"row_heading level0 row5\" >5</th>\n",
       "      <td id=\"T_b2315_row5_col0\" class=\"data row5 col0\" >2022-01-27 22:28:43.512000</td>\n",
       "      <td id=\"T_b2315_row5_col1\" class=\"data row5 col1\" >Creature-0-4216-2450-10260-177117-00007346B0</td>\n",
       "      <td id=\"T_b2315_row5_col2\" class=\"data row5 col2\" >\"Spartanovix-Azralon\"</td>\n",
       "    </tr>\n",
       "  </tbody>\n",
       "</table>\n"
      ],
      "text/plain": [
       "<pandas.io.formats.style.Styler at 0x2b62c860e20>"
      ]
     },
     "metadata": {},
     "output_type": "display_data"
    },
    {
     "data": {
      "text/html": [
       "<style type=\"text/css\">\n",
       "#T_31ad1_ caption {\n",
       "  font-size: 16px;\n",
       "  font-weight: bold;\n",
       "}\n",
       "#T_31ad1_row0_col1, #T_31ad1_row0_col2, #T_31ad1_row1_col1, #T_31ad1_row1_col2, #T_31ad1_row2_col1, #T_31ad1_row2_col2, #T_31ad1_row3_col1, #T_31ad1_row3_col2 {\n",
       "  color: aqua;\n",
       "}\n",
       "#T_31ad1_row0_col3, #T_31ad1_row1_col3, #T_31ad1_row2_col3, #T_31ad1_row3_col3 {\n",
       "  color: blue;\n",
       "  font-weight: bold;\n",
       "}\n",
       "</style>\n",
       "<table id=\"T_31ad1_\">\n",
       "  <caption>Orb Lifespan Overview</caption>\n",
       "  <thead>\n",
       "    <tr>\n",
       "      <th class=\"blank level0\" >&nbsp;</th>\n",
       "      <th class=\"col_heading level0 col0\" >ID</th>\n",
       "      <th class=\"col_heading level0 col1\" >TimeStamp Spawned</th>\n",
       "      <th class=\"col_heading level0 col2\" >TimeStamp Disposed</th>\n",
       "      <th class=\"col_heading level0 col3\" >Time Elapsed</th>\n",
       "      <th class=\"col_heading level0 col4\" >Player</th>\n",
       "    </tr>\n",
       "  </thead>\n",
       "  <tbody>\n",
       "    <tr>\n",
       "      <th id=\"T_31ad1_level0_row0\" class=\"row_heading level0 row0\" >0</th>\n",
       "      <td id=\"T_31ad1_row0_col0\" class=\"data row0 col0\" >Creature-0-4216-2450-10260-177117-0000734684</td>\n",
       "      <td id=\"T_31ad1_row0_col1\" class=\"data row0 col1\" >2022-01-27 22:27:30.935000</td>\n",
       "      <td id=\"T_31ad1_row0_col2\" class=\"data row0 col2\" >2022-01-27 22:27:46.341000</td>\n",
       "      <td id=\"T_31ad1_row0_col3\" class=\"data row0 col3\" >0 days 00:00:15.406000</td>\n",
       "      <td id=\"T_31ad1_row0_col4\" class=\"data row0 col4\" >\"Thilokz-Azralon\"</td>\n",
       "    </tr>\n",
       "    <tr>\n",
       "      <th id=\"T_31ad1_level0_row1\" class=\"row_heading level0 row1\" >1</th>\n",
       "      <td id=\"T_31ad1_row1_col0\" class=\"data row1 col0\" >Creature-0-4216-2450-10260-177117-0000734685</td>\n",
       "      <td id=\"T_31ad1_row1_col1\" class=\"data row1 col1\" >2022-01-27 22:27:32.369000</td>\n",
       "      <td id=\"T_31ad1_row1_col2\" class=\"data row1 col2\" >2022-01-27 22:27:48.699000</td>\n",
       "      <td id=\"T_31ad1_row1_col3\" class=\"data row1 col3\" >0 days 00:00:16.330000</td>\n",
       "      <td id=\"T_31ad1_row1_col4\" class=\"data row1 col4\" >\"Spartanovix-Azralon\"</td>\n",
       "    </tr>\n",
       "    <tr>\n",
       "      <th id=\"T_31ad1_level0_row2\" class=\"row_heading level0 row2\" >2</th>\n",
       "      <td id=\"T_31ad1_row2_col0\" class=\"data row2 col0\" >Creature-0-4216-2450-10260-177117-00007346AE</td>\n",
       "      <td id=\"T_31ad1_row2_col1\" class=\"data row2 col1\" >2022-01-27 22:28:13.480000</td>\n",
       "      <td id=\"T_31ad1_row2_col2\" class=\"data row2 col2\" >2022-01-27 22:28:34.587000</td>\n",
       "      <td id=\"T_31ad1_row2_col3\" class=\"data row2 col3\" >0 days 00:00:21.107000</td>\n",
       "      <td id=\"T_31ad1_row2_col4\" class=\"data row2 col4\" >\"Thilokz-Azralon\"</td>\n",
       "    </tr>\n",
       "    <tr>\n",
       "      <th id=\"T_31ad1_level0_row3\" class=\"row_heading level0 row3\" >3</th>\n",
       "      <td id=\"T_31ad1_row3_col0\" class=\"data row3 col0\" >Creature-0-4216-2450-10260-177117-00007346B0</td>\n",
       "      <td id=\"T_31ad1_row3_col1\" class=\"data row3 col1\" >2022-01-27 22:28:14.978000</td>\n",
       "      <td id=\"T_31ad1_row3_col2\" class=\"data row3 col2\" >2022-01-27 22:28:43.512000</td>\n",
       "      <td id=\"T_31ad1_row3_col3\" class=\"data row3 col3\" >0 days 00:00:28.534000</td>\n",
       "      <td id=\"T_31ad1_row3_col4\" class=\"data row3 col4\" >\"Spartanovix-Azralon\"</td>\n",
       "    </tr>\n",
       "  </tbody>\n",
       "</table>\n"
      ],
      "text/plain": [
       "<pandas.io.formats.style.Styler at 0x2b63ea440a0>"
      ]
     },
     "metadata": {},
     "output_type": "display_data"
    }
   ],
   "source": [
    "e = encounters[encSelect.value]\n",
    "e.getReport().report()"
   ]
  },
  {
   "cell_type": "code",
   "execution_count": 7,
   "metadata": {},
   "outputs": [],
   "source": [
    "# Full Log Report\n",
    "# NerzhulReport(log).listOrbsDisposed().groupby(\n",
    "#   lambda x: x[1],\n",
    "#   lambda x: x[2],\n",
    "#   lambda x: len(list(x))\n",
    "# ).dict()\n",
    "# r.listEncounters()\n",
    "\n",
    "# Combined Logs\n",
    "# r = EncounterReport(encounters)\n",
    "# r.listEncounters()\n"
   ]
  },
  {
   "cell_type": "code",
   "execution_count": 9,
   "metadata": {},
   "outputs": [],
   "source": [
    "# import humanize\n",
    "# from pympler import asizeof\n",
    "# humanize.naturalsize(\n",
    "# )\n",
    "# asizeof.asizeof(log, limit=6, stats=3, cutoff=0)"
   ]
  },
  {
   "cell_type": "code",
   "execution_count": 13,
   "metadata": {},
   "outputs": [
    {
     "data": {
      "text/markdown": [
       "\n",
       "<style>\n",
       "sb { color: steelblue }\n",
       "o { color: Orange }\n",
       "g { color: Green }\n",
       "</style>\n",
       "\n",
       "## <sb>\"Remnant of Ner'zhul\" (id: 2432)</sb>\n",
       "- ENCOUNTER_START (log: 85255)\n",
       "  - *2022-01-27 22:27:20.478000*  \n",
       "- 34463 entries in **0:01:46.772000**\n",
       "- ENCOUNTER_END (log: 119717)\n",
       "  - *2022-01-27 22:29:07.250000*\n"
      ],
      "text/plain": [
       "<IPython.core.display.Markdown object>"
      ]
     },
     "metadata": {},
     "output_type": "display_data"
    },
    {
     "data": {
      "text/plain": [
       "None"
      ]
     },
     "metadata": {},
     "output_type": "display_data"
    }
   ],
   "source": []
  },
  {
   "cell_type": "code",
   "execution_count": null,
   "metadata": {},
   "outputs": [],
   "source": []
  }
 ],
 "metadata": {
  "interpreter": {
   "hash": "ac59ebe37160ed0dfa835113d9b8498d9f09ceb179beaac4002f036b9467c963"
  },
  "kernelspec": {
   "display_name": "Python 3.9.9 64-bit",
   "language": "python",
   "name": "python3"
  },
  "language_info": {
   "codemirror_mode": {
    "name": "ipython",
    "version": 3
   },
   "file_extension": ".py",
   "mimetype": "text/x-python",
   "name": "python",
   "nbconvert_exporter": "python",
   "pygments_lexer": "ipython3",
   "version": "3.9.9"
  },
  "orig_nbformat": 4
 },
 "nbformat": 4,
 "nbformat_minor": 2
}
