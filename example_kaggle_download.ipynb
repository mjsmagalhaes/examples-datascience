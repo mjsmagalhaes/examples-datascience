{
 "cells": [
  {
   "cell_type": "markdown",
   "id": "d73a456d-0b1e-4751-9821-97a0fc4aa124",
   "metadata": {
    "jp-MarkdownHeadingCollapsed": true,
    "tags": []
   },
   "source": [
    "# Example: Download Kaggle Dataset\n",
    "\n",
    "[![Open In Colab](https://colab.research.google.com/assets/colab-badge.svg)](https://colab.research.google.com/github/mjsmagalhaes/examples-datascience/blob/main/example_kaggle_download.ipynb)"
   ]
  },
  {
   "cell_type": "code",
   "execution_count": 7,
   "id": "93096123-9c3d-4a41-b2a8-b229083932d2",
   "metadata": {},
   "outputs": [],
   "source": [
    "import os\n",
    "import ipywidgets as wdg\n",
    "from functools import partial\n",
    "from kaggle import KaggleApi\n",
    "from zipfile import ZipFile\n",
    "from IPython.display import display"
   ]
  },
  {
   "cell_type": "markdown",
   "id": "7bc0d724",
   "metadata": {},
   "source": [
    "Define UI Elements"
   ]
  },
  {
   "cell_type": "code",
   "execution_count": 8,
   "id": "1664829f-ee9c-4337-8000-a570d15a00af",
   "metadata": {},
   "outputs": [],
   "source": [
    "txtDataset = wdg.Text()\n",
    "txtDataset.value = 'imdevskp/corona-virus-report'\n",
    "\n",
    "txtFile = wdg.Text()\n",
    "txtFile.value = 'covid_19_clean_complete.csv'\n",
    "\n",
    "txtDir = wdg.Text()\n",
    "txtDir.value = 'data'\n",
    "\n",
    "btnDownload = wdg.Button(\n",
    "    description='Download Set',\n",
    "    disabled=False,\n",
    "    button_style='info', # 'success', 'info', 'warning', 'danger' or ''\n",
    "    tooltip='Click to download the set from Kaggle.',\n",
    "    icon='download' # (FontAwesome names without the `fa-` prefix)\n",
    ")\n"
   ]
  },
  {
   "cell_type": "markdown",
   "id": "d25e388d",
   "metadata": {},
   "source": [
    "Define Download Function\n",
    "\n",
    "**This function considers you have the kaggle api key already set.**\n",
    "\n",
    "https://www.kaggle.com/docs/api"
   ]
  },
  {
   "cell_type": "code",
   "execution_count": 9,
   "id": "932a67a7",
   "metadata": {},
   "outputs": [],
   "source": [
    "def download(btn):\n",
    "    kaggleDataset = txtDataset.value\n",
    "    kaggleFile = txtFile.value\n",
    "    kaggleDir = txtDir.value\n",
    "\n",
    "    kaggleZip = kaggleFile + '.zip'\n",
    "    kaggleCSVPath = os.path.join(kaggleDir, kaggleFile)\n",
    "\n",
    "    if not os.path.exists(kaggleCSVPath):\n",
    "        print('Downloading ...')\n",
    "        kaggleApi = KaggleApi()\n",
    "        kaggleApi.authenticate()\n",
    "        kaggleApi.dataset_download_file(kaggleDataset, kaggleFile)\n",
    "\n",
    "        print('Done. Extracting ...')\n",
    "\n",
    "        with ZipFile(kaggleZip) as zf:\n",
    "            zf.extractall(kaggleDir)  # save files in selected folder\n",
    "\n",
    "        print('Done.')\n",
    "    else:\n",
    "        print('File Already Exists.')\n",
    "\n",
    "    btn.disabled = True\n"
   ]
  },
  {
   "cell_type": "markdown",
   "id": "41c56447",
   "metadata": {},
   "source": [
    "Now we put Everything Together!"
   ]
  },
  {
   "cell_type": "code",
   "execution_count": 10,
   "id": "102eb77d",
   "metadata": {},
   "outputs": [
    {
     "data": {
      "application/vnd.jupyter.widget-view+json": {
       "model_id": "4c2b57e8e6db4e92998a6d7332902f46",
       "version_major": 2,
       "version_minor": 0
      },
      "text/plain": [
       "VBox(children=(HBox(children=(VBox(children=(Label(value='Account:'), Text(value='imdevskp/corona-virus-report…"
      ]
     },
     "metadata": {},
     "output_type": "display_data"
    }
   ],
   "source": [
    "hbox = wdg.HBox([\n",
    "    wdg.VBox([wdg.Label('Account:'), txtDataset]),\n",
    "    wdg.VBox([wdg.Label('File:'), txtFile]),\n",
    "    wdg.VBox([wdg.Label('Directory:'), txtDir])\n",
    "])\n",
    "\n",
    "btnDownload.on_click(download)\n",
    "display(wdg.VBox([hbox, btnDownload]))\n"
   ]
  },
  {
   "cell_type": "code",
   "execution_count": null,
   "id": "78b464ad-f6b2-4d4e-8cf7-2f001f09f7b5",
   "metadata": {},
   "outputs": [],
   "source": []
  }
 ],
 "metadata": {
  "kernelspec": {
   "display_name": "Python 3 (ipykernel)",
   "language": "python",
   "name": "python3"
  },
  "language_info": {
   "codemirror_mode": {
    "name": "ipython",
    "version": 3
   },
   "file_extension": ".py",
   "mimetype": "text/x-python",
   "name": "python",
   "nbconvert_exporter": "python",
   "pygments_lexer": "ipython3",
   "version": "3.9.9"
  }
 },
 "nbformat": 4,
 "nbformat_minor": 5
}
