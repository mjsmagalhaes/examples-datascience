{
 "cells": [
  {
   "cell_type": "markdown",
   "metadata": {},
   "source": [
    "# Example: Embedding Dash in Notebook\n",
    "\n",
    "[![Open In Colab](https://colab.research.google.com/assets/colab-badge.svg)](https://colab.research.google.com/github/mjsmagalhaes/examples-datascience/blob/main/example_dash.ipynb)"
   ]
  },
  {
   "cell_type": "code",
   "execution_count": 9,
   "metadata": {},
   "outputs": [
    {
     "name": "stdout",
     "output_type": "stream",
     "text": [
      "The autoreload extension is already loaded. To reload it, use:\n",
      "  %reload_ext autoreload\n"
     ]
    }
   ],
   "source": [
    "%load_ext autoreload\n",
    "%autoreload 2\n",
    "\n",
    "# Colab\n",
    "# !git clone https://github.com/mjsmagalhaes/examples-datascience.git repo\n",
    "# %cd repo\n",
    "# %pip install -r requirements.txt"
   ]
  },
  {
   "cell_type": "code",
   "execution_count": 10,
   "metadata": {},
   "outputs": [],
   "source": [
    "import dash_bootstrap_components as dbc\n",
    "import plotly.express as px\n",
    "\n",
    "from jupyter_dash import JupyterDash\n",
    "from dash import html, dcc, Input, Output\n",
    "from flask import request\n",
    "from dslib.plots import plot\n",
    "\n",
    "data = px.data.iris()"
   ]
  },
  {
   "cell_type": "code",
   "execution_count": 11,
   "metadata": {},
   "outputs": [],
   "source": [
    "app = JupyterDash(__name__, external_stylesheets=[dbc.themes.BOOTSTRAP])\n",
    "\n",
    "# Create server variable with Flask server object for use with gunicorn\n",
    "server = app.server\n"
   ]
  },
  {
   "cell_type": "code",
   "execution_count": 17,
   "metadata": {},
   "outputs": [],
   "source": [
    "def layout():\n",
    "    return dbc.Container([\n",
    "        html.H1('Interactive Histogram!!'),\n",
    "        html.H5('Select Column:'),\n",
    "        dbc.Select(\n",
    "            id='demo-dropdown',\n",
    "            options=list(map(lambda v: {'label': v}, data.columns)),\n",
    "            value=data.columns[0]\n",
    "        ),\n",
    "        html.Br(),\n",
    "        html.H5('Altair:'),\n",
    "        html.Iframe(\n",
    "            id='plot-iframe',\n",
    "            style={'width': '100%', 'height': '500px'}\n",
    "        ),\n",
    "        html.H5('Plotly:'),\n",
    "        dcc.Graph(id='plot-area'),\n",
    "        html.Div(id='dd-output-container')\n",
    "    ])\n",
    "\n",
    "\n",
    "app.layout = layout\n"
   ]
  },
  {
   "cell_type": "code",
   "execution_count": 15,
   "metadata": {},
   "outputs": [
    {
     "name": "stdout",
     "output_type": "stream",
     "text": [
      "Dash app running on http://127.0.0.1:9009/\n"
     ]
    }
   ],
   "source": [
    "@app.callback(\n",
    "    Output('plot-area', 'figure'),\n",
    "    Input('demo-dropdown', 'value')\n",
    ")\n",
    "def update_output(value):\n",
    "    return px.histogram(data, x=value, text_auto=True, nbins=30)\n",
    "\n",
    "\n",
    "@app.callback(\n",
    "    Output('plot-iframe', 'srcDoc'),\n",
    "    Input('demo-dropdown', 'value')\n",
    ")\n",
    "def update_output(value):\n",
    "    return plot().histogram(data, value).to_html()\n",
    "    # return f'You have selected {value}'\n",
    "\n",
    "# def shutdown():\n",
    "#   func = request.environ.get('werkzeug.server.shutdown')\n",
    "#   if func is None:\n",
    "#     raise RuntimeError('Not running with the Werkzeug Server')\n",
    "#   func()\n",
    "\n",
    "\n",
    "# shutdown()\n",
    "app.run_server(port=9009, debug=True)\n"
   ]
  }
 ],
 "metadata": {
  "interpreter": {
   "hash": "ac59ebe37160ed0dfa835113d9b8498d9f09ceb179beaac4002f036b9467c963"
  },
  "kernelspec": {
   "display_name": "Python 3.9.9 64-bit",
   "language": "python",
   "name": "python3"
  },
  "language_info": {
   "codemirror_mode": {
    "name": "ipython",
    "version": 3
   },
   "file_extension": ".py",
   "mimetype": "text/x-python",
   "name": "python",
   "nbconvert_exporter": "python",
   "pygments_lexer": "ipython3",
   "version": "3.9.9"
  },
  "orig_nbformat": 4
 },
 "nbformat": 4,
 "nbformat_minor": 2
}
